{
 "cells": [
  {
   "cell_type": "markdown",
   "id": "90936033-7b0f-4909-93b6-3a971a357d00",
   "metadata": {},
   "source": [
    "https://www.kaggle.com/datasets/gauravtopre/bank-customer-churn-dataset?resource=download"
   ]
  },
  {
   "cell_type": "code",
   "execution_count": 1,
   "id": "286ee85d-1c53-451d-a011-a238d585deeb",
   "metadata": {},
   "outputs": [],
   "source": [
    "import pandas as pd\n",
    "import numpy as np\n",
    "import matplotlib.pyplot as plt\n",
    "import seaborn as sns"
   ]
  },
  {
   "cell_type": "code",
   "execution_count": 2,
   "id": "03c3fe2c-3638-4e6e-ad67-865ed0152cb6",
   "metadata": {},
   "outputs": [
    {
     "data": {
      "text/html": [
       "<div>\n",
       "<style scoped>\n",
       "    .dataframe tbody tr th:only-of-type {\n",
       "        vertical-align: middle;\n",
       "    }\n",
       "\n",
       "    .dataframe tbody tr th {\n",
       "        vertical-align: top;\n",
       "    }\n",
       "\n",
       "    .dataframe thead th {\n",
       "        text-align: right;\n",
       "    }\n",
       "</style>\n",
       "<table border=\"1\" class=\"dataframe\">\n",
       "  <thead>\n",
       "    <tr style=\"text-align: right;\">\n",
       "      <th></th>\n",
       "      <th>customer_id</th>\n",
       "      <th>credit_score</th>\n",
       "      <th>country</th>\n",
       "      <th>gender</th>\n",
       "      <th>age</th>\n",
       "      <th>tenure</th>\n",
       "      <th>balance</th>\n",
       "      <th>products_number</th>\n",
       "      <th>credit_card</th>\n",
       "      <th>active_member</th>\n",
       "      <th>estimated_salary</th>\n",
       "      <th>churn</th>\n",
       "    </tr>\n",
       "  </thead>\n",
       "  <tbody>\n",
       "    <tr>\n",
       "      <th>0</th>\n",
       "      <td>15634602</td>\n",
       "      <td>619</td>\n",
       "      <td>France</td>\n",
       "      <td>Female</td>\n",
       "      <td>42</td>\n",
       "      <td>2</td>\n",
       "      <td>0.00</td>\n",
       "      <td>1</td>\n",
       "      <td>1</td>\n",
       "      <td>1</td>\n",
       "      <td>101348.88</td>\n",
       "      <td>1</td>\n",
       "    </tr>\n",
       "    <tr>\n",
       "      <th>1</th>\n",
       "      <td>15647311</td>\n",
       "      <td>608</td>\n",
       "      <td>Spain</td>\n",
       "      <td>Female</td>\n",
       "      <td>41</td>\n",
       "      <td>1</td>\n",
       "      <td>83807.86</td>\n",
       "      <td>1</td>\n",
       "      <td>0</td>\n",
       "      <td>1</td>\n",
       "      <td>112542.58</td>\n",
       "      <td>0</td>\n",
       "    </tr>\n",
       "    <tr>\n",
       "      <th>2</th>\n",
       "      <td>15619304</td>\n",
       "      <td>502</td>\n",
       "      <td>France</td>\n",
       "      <td>Female</td>\n",
       "      <td>42</td>\n",
       "      <td>8</td>\n",
       "      <td>159660.80</td>\n",
       "      <td>3</td>\n",
       "      <td>1</td>\n",
       "      <td>0</td>\n",
       "      <td>113931.57</td>\n",
       "      <td>1</td>\n",
       "    </tr>\n",
       "    <tr>\n",
       "      <th>3</th>\n",
       "      <td>15701354</td>\n",
       "      <td>699</td>\n",
       "      <td>France</td>\n",
       "      <td>Female</td>\n",
       "      <td>39</td>\n",
       "      <td>1</td>\n",
       "      <td>0.00</td>\n",
       "      <td>2</td>\n",
       "      <td>0</td>\n",
       "      <td>0</td>\n",
       "      <td>93826.63</td>\n",
       "      <td>0</td>\n",
       "    </tr>\n",
       "    <tr>\n",
       "      <th>4</th>\n",
       "      <td>15737888</td>\n",
       "      <td>850</td>\n",
       "      <td>Spain</td>\n",
       "      <td>Female</td>\n",
       "      <td>43</td>\n",
       "      <td>2</td>\n",
       "      <td>125510.82</td>\n",
       "      <td>1</td>\n",
       "      <td>1</td>\n",
       "      <td>1</td>\n",
       "      <td>79084.10</td>\n",
       "      <td>0</td>\n",
       "    </tr>\n",
       "    <tr>\n",
       "      <th>...</th>\n",
       "      <td>...</td>\n",
       "      <td>...</td>\n",
       "      <td>...</td>\n",
       "      <td>...</td>\n",
       "      <td>...</td>\n",
       "      <td>...</td>\n",
       "      <td>...</td>\n",
       "      <td>...</td>\n",
       "      <td>...</td>\n",
       "      <td>...</td>\n",
       "      <td>...</td>\n",
       "      <td>...</td>\n",
       "    </tr>\n",
       "    <tr>\n",
       "      <th>9995</th>\n",
       "      <td>15606229</td>\n",
       "      <td>771</td>\n",
       "      <td>France</td>\n",
       "      <td>Male</td>\n",
       "      <td>39</td>\n",
       "      <td>5</td>\n",
       "      <td>0.00</td>\n",
       "      <td>2</td>\n",
       "      <td>1</td>\n",
       "      <td>0</td>\n",
       "      <td>96270.64</td>\n",
       "      <td>0</td>\n",
       "    </tr>\n",
       "    <tr>\n",
       "      <th>9996</th>\n",
       "      <td>15569892</td>\n",
       "      <td>516</td>\n",
       "      <td>France</td>\n",
       "      <td>Male</td>\n",
       "      <td>35</td>\n",
       "      <td>10</td>\n",
       "      <td>57369.61</td>\n",
       "      <td>1</td>\n",
       "      <td>1</td>\n",
       "      <td>1</td>\n",
       "      <td>101699.77</td>\n",
       "      <td>0</td>\n",
       "    </tr>\n",
       "    <tr>\n",
       "      <th>9997</th>\n",
       "      <td>15584532</td>\n",
       "      <td>709</td>\n",
       "      <td>France</td>\n",
       "      <td>Female</td>\n",
       "      <td>36</td>\n",
       "      <td>7</td>\n",
       "      <td>0.00</td>\n",
       "      <td>1</td>\n",
       "      <td>0</td>\n",
       "      <td>1</td>\n",
       "      <td>42085.58</td>\n",
       "      <td>1</td>\n",
       "    </tr>\n",
       "    <tr>\n",
       "      <th>9998</th>\n",
       "      <td>15682355</td>\n",
       "      <td>772</td>\n",
       "      <td>Germany</td>\n",
       "      <td>Male</td>\n",
       "      <td>42</td>\n",
       "      <td>3</td>\n",
       "      <td>75075.31</td>\n",
       "      <td>2</td>\n",
       "      <td>1</td>\n",
       "      <td>0</td>\n",
       "      <td>92888.52</td>\n",
       "      <td>1</td>\n",
       "    </tr>\n",
       "    <tr>\n",
       "      <th>9999</th>\n",
       "      <td>15628319</td>\n",
       "      <td>792</td>\n",
       "      <td>France</td>\n",
       "      <td>Female</td>\n",
       "      <td>28</td>\n",
       "      <td>4</td>\n",
       "      <td>130142.79</td>\n",
       "      <td>1</td>\n",
       "      <td>1</td>\n",
       "      <td>0</td>\n",
       "      <td>38190.78</td>\n",
       "      <td>0</td>\n",
       "    </tr>\n",
       "  </tbody>\n",
       "</table>\n",
       "<p>10000 rows × 12 columns</p>\n",
       "</div>"
      ],
      "text/plain": [
       "      customer_id  credit_score  country  gender  age  tenure    balance  \\\n",
       "0        15634602           619   France  Female   42       2       0.00   \n",
       "1        15647311           608    Spain  Female   41       1   83807.86   \n",
       "2        15619304           502   France  Female   42       8  159660.80   \n",
       "3        15701354           699   France  Female   39       1       0.00   \n",
       "4        15737888           850    Spain  Female   43       2  125510.82   \n",
       "...           ...           ...      ...     ...  ...     ...        ...   \n",
       "9995     15606229           771   France    Male   39       5       0.00   \n",
       "9996     15569892           516   France    Male   35      10   57369.61   \n",
       "9997     15584532           709   France  Female   36       7       0.00   \n",
       "9998     15682355           772  Germany    Male   42       3   75075.31   \n",
       "9999     15628319           792   France  Female   28       4  130142.79   \n",
       "\n",
       "      products_number  credit_card  active_member  estimated_salary  churn  \n",
       "0                   1            1              1         101348.88      1  \n",
       "1                   1            0              1         112542.58      0  \n",
       "2                   3            1              0         113931.57      1  \n",
       "3                   2            0              0          93826.63      0  \n",
       "4                   1            1              1          79084.10      0  \n",
       "...               ...          ...            ...               ...    ...  \n",
       "9995                2            1              0          96270.64      0  \n",
       "9996                1            1              1         101699.77      0  \n",
       "9997                1            0              1          42085.58      1  \n",
       "9998                2            1              0          92888.52      1  \n",
       "9999                1            1              0          38190.78      0  \n",
       "\n",
       "[10000 rows x 12 columns]"
      ]
     },
     "execution_count": 2,
     "metadata": {},
     "output_type": "execute_result"
    }
   ],
   "source": [
    "dataset = pd.read_csv(r'Bank Customer Churn Prediction.csv')\n",
    "dataset"
   ]
  },
  {
   "cell_type": "code",
   "execution_count": 3,
   "id": "b994bc32-6160-4d9a-86d2-74c788a31ea8",
   "metadata": {},
   "outputs": [
    {
     "data": {
      "text/html": [
       "<div>\n",
       "<style scoped>\n",
       "    .dataframe tbody tr th:only-of-type {\n",
       "        vertical-align: middle;\n",
       "    }\n",
       "\n",
       "    .dataframe tbody tr th {\n",
       "        vertical-align: top;\n",
       "    }\n",
       "\n",
       "    .dataframe thead th {\n",
       "        text-align: right;\n",
       "    }\n",
       "</style>\n",
       "<table border=\"1\" class=\"dataframe\">\n",
       "  <thead>\n",
       "    <tr style=\"text-align: right;\">\n",
       "      <th></th>\n",
       "      <th>customer_id</th>\n",
       "      <th>credit_score</th>\n",
       "      <th>country</th>\n",
       "      <th>gender</th>\n",
       "      <th>age</th>\n",
       "      <th>tenure</th>\n",
       "      <th>balance</th>\n",
       "      <th>products_number</th>\n",
       "      <th>credit_card</th>\n",
       "      <th>active_member</th>\n",
       "      <th>estimated_salary</th>\n",
       "      <th>churn</th>\n",
       "    </tr>\n",
       "  </thead>\n",
       "  <tbody>\n",
       "    <tr>\n",
       "      <th>0</th>\n",
       "      <td>15634602</td>\n",
       "      <td>619</td>\n",
       "      <td>France</td>\n",
       "      <td>Female</td>\n",
       "      <td>42</td>\n",
       "      <td>2</td>\n",
       "      <td>0.00</td>\n",
       "      <td>1</td>\n",
       "      <td>1</td>\n",
       "      <td>1</td>\n",
       "      <td>101348.88</td>\n",
       "      <td>1</td>\n",
       "    </tr>\n",
       "    <tr>\n",
       "      <th>1</th>\n",
       "      <td>15647311</td>\n",
       "      <td>608</td>\n",
       "      <td>Spain</td>\n",
       "      <td>Female</td>\n",
       "      <td>41</td>\n",
       "      <td>1</td>\n",
       "      <td>83807.86</td>\n",
       "      <td>1</td>\n",
       "      <td>0</td>\n",
       "      <td>1</td>\n",
       "      <td>112542.58</td>\n",
       "      <td>0</td>\n",
       "    </tr>\n",
       "    <tr>\n",
       "      <th>2</th>\n",
       "      <td>15619304</td>\n",
       "      <td>502</td>\n",
       "      <td>France</td>\n",
       "      <td>Female</td>\n",
       "      <td>42</td>\n",
       "      <td>8</td>\n",
       "      <td>159660.80</td>\n",
       "      <td>3</td>\n",
       "      <td>1</td>\n",
       "      <td>0</td>\n",
       "      <td>113931.57</td>\n",
       "      <td>1</td>\n",
       "    </tr>\n",
       "    <tr>\n",
       "      <th>3</th>\n",
       "      <td>15701354</td>\n",
       "      <td>699</td>\n",
       "      <td>France</td>\n",
       "      <td>Female</td>\n",
       "      <td>39</td>\n",
       "      <td>1</td>\n",
       "      <td>0.00</td>\n",
       "      <td>2</td>\n",
       "      <td>0</td>\n",
       "      <td>0</td>\n",
       "      <td>93826.63</td>\n",
       "      <td>0</td>\n",
       "    </tr>\n",
       "    <tr>\n",
       "      <th>4</th>\n",
       "      <td>15737888</td>\n",
       "      <td>850</td>\n",
       "      <td>Spain</td>\n",
       "      <td>Female</td>\n",
       "      <td>43</td>\n",
       "      <td>2</td>\n",
       "      <td>125510.82</td>\n",
       "      <td>1</td>\n",
       "      <td>1</td>\n",
       "      <td>1</td>\n",
       "      <td>79084.10</td>\n",
       "      <td>0</td>\n",
       "    </tr>\n",
       "    <tr>\n",
       "      <th>...</th>\n",
       "      <td>...</td>\n",
       "      <td>...</td>\n",
       "      <td>...</td>\n",
       "      <td>...</td>\n",
       "      <td>...</td>\n",
       "      <td>...</td>\n",
       "      <td>...</td>\n",
       "      <td>...</td>\n",
       "      <td>...</td>\n",
       "      <td>...</td>\n",
       "      <td>...</td>\n",
       "      <td>...</td>\n",
       "    </tr>\n",
       "    <tr>\n",
       "      <th>9995</th>\n",
       "      <td>15606229</td>\n",
       "      <td>771</td>\n",
       "      <td>France</td>\n",
       "      <td>Male</td>\n",
       "      <td>39</td>\n",
       "      <td>5</td>\n",
       "      <td>0.00</td>\n",
       "      <td>2</td>\n",
       "      <td>1</td>\n",
       "      <td>0</td>\n",
       "      <td>96270.64</td>\n",
       "      <td>0</td>\n",
       "    </tr>\n",
       "    <tr>\n",
       "      <th>9996</th>\n",
       "      <td>15569892</td>\n",
       "      <td>516</td>\n",
       "      <td>France</td>\n",
       "      <td>Male</td>\n",
       "      <td>35</td>\n",
       "      <td>10</td>\n",
       "      <td>57369.61</td>\n",
       "      <td>1</td>\n",
       "      <td>1</td>\n",
       "      <td>1</td>\n",
       "      <td>101699.77</td>\n",
       "      <td>0</td>\n",
       "    </tr>\n",
       "    <tr>\n",
       "      <th>9997</th>\n",
       "      <td>15584532</td>\n",
       "      <td>709</td>\n",
       "      <td>France</td>\n",
       "      <td>Female</td>\n",
       "      <td>36</td>\n",
       "      <td>7</td>\n",
       "      <td>0.00</td>\n",
       "      <td>1</td>\n",
       "      <td>0</td>\n",
       "      <td>1</td>\n",
       "      <td>42085.58</td>\n",
       "      <td>1</td>\n",
       "    </tr>\n",
       "    <tr>\n",
       "      <th>9998</th>\n",
       "      <td>15682355</td>\n",
       "      <td>772</td>\n",
       "      <td>Germany</td>\n",
       "      <td>Male</td>\n",
       "      <td>42</td>\n",
       "      <td>3</td>\n",
       "      <td>75075.31</td>\n",
       "      <td>2</td>\n",
       "      <td>1</td>\n",
       "      <td>0</td>\n",
       "      <td>92888.52</td>\n",
       "      <td>1</td>\n",
       "    </tr>\n",
       "    <tr>\n",
       "      <th>9999</th>\n",
       "      <td>15628319</td>\n",
       "      <td>792</td>\n",
       "      <td>France</td>\n",
       "      <td>Female</td>\n",
       "      <td>28</td>\n",
       "      <td>4</td>\n",
       "      <td>130142.79</td>\n",
       "      <td>1</td>\n",
       "      <td>1</td>\n",
       "      <td>0</td>\n",
       "      <td>38190.78</td>\n",
       "      <td>0</td>\n",
       "    </tr>\n",
       "  </tbody>\n",
       "</table>\n",
       "<p>10000 rows × 12 columns</p>\n",
       "</div>"
      ],
      "text/plain": [
       "      customer_id  credit_score  country  gender  age  tenure    balance  \\\n",
       "0        15634602           619   France  Female   42       2       0.00   \n",
       "1        15647311           608    Spain  Female   41       1   83807.86   \n",
       "2        15619304           502   France  Female   42       8  159660.80   \n",
       "3        15701354           699   France  Female   39       1       0.00   \n",
       "4        15737888           850    Spain  Female   43       2  125510.82   \n",
       "...           ...           ...      ...     ...  ...     ...        ...   \n",
       "9995     15606229           771   France    Male   39       5       0.00   \n",
       "9996     15569892           516   France    Male   35      10   57369.61   \n",
       "9997     15584532           709   France  Female   36       7       0.00   \n",
       "9998     15682355           772  Germany    Male   42       3   75075.31   \n",
       "9999     15628319           792   France  Female   28       4  130142.79   \n",
       "\n",
       "      products_number  credit_card  active_member  estimated_salary  churn  \n",
       "0                   1            1              1         101348.88      1  \n",
       "1                   1            0              1         112542.58      0  \n",
       "2                   3            1              0         113931.57      1  \n",
       "3                   2            0              0          93826.63      0  \n",
       "4                   1            1              1          79084.10      0  \n",
       "...               ...          ...            ...               ...    ...  \n",
       "9995                2            1              0          96270.64      0  \n",
       "9996                1            1              1         101699.77      0  \n",
       "9997                1            0              1          42085.58      1  \n",
       "9998                2            1              0          92888.52      1  \n",
       "9999                1            1              0          38190.78      0  \n",
       "\n",
       "[10000 rows x 12 columns]"
      ]
     },
     "execution_count": 3,
     "metadata": {},
     "output_type": "execute_result"
    }
   ],
   "source": [
    "df = dataset.copy()\n",
    "df"
   ]
  },
  {
   "cell_type": "markdown",
   "id": "10355ee0-d4dc-458d-b53f-2fc92229b868",
   "metadata": {
    "tags": []
   },
   "source": [
    "# Feature Extraction"
   ]
  },
  {
   "cell_type": "markdown",
   "id": "10678003-42c8-4fcc-9b1e-01f2172e8841",
   "metadata": {
    "id": "8125bda9-4f39-4ede-8695-9ca66d6ee678",
    "tags": []
   },
   "source": [
    "# Split Data"
   ]
  },
  {
   "cell_type": "code",
   "execution_count": 4,
   "id": "ab25537f-8bfc-430c-9607-b2c6e1741101",
   "metadata": {
    "id": "952e5937-5f9a-4ca9-a872-c28470faf336"
   },
   "outputs": [],
   "source": [
    "from sklearn.model_selection import train_test_split"
   ]
  },
  {
   "cell_type": "code",
   "execution_count": 5,
   "id": "f2717539-5384-46d2-aa38-34cd6d63c1f1",
   "metadata": {},
   "outputs": [],
   "source": [
    "from sklearn.model_selection import train_test_split\n",
    "X_train, X_test, y_train, y_test = train_test_split(df.drop('churn', axis=1),df['churn'] ,\n",
    "                                   random_state=42, \n",
    "                                   test_size=0.2, shuffle=False)"
   ]
  },
  {
   "cell_type": "code",
   "execution_count": 6,
   "id": "3dd100eb-5125-4a7d-825e-e9ebca450252",
   "metadata": {},
   "outputs": [
    {
     "data": {
      "text/html": [
       "<div>\n",
       "<style scoped>\n",
       "    .dataframe tbody tr th:only-of-type {\n",
       "        vertical-align: middle;\n",
       "    }\n",
       "\n",
       "    .dataframe tbody tr th {\n",
       "        vertical-align: top;\n",
       "    }\n",
       "\n",
       "    .dataframe thead th {\n",
       "        text-align: right;\n",
       "    }\n",
       "</style>\n",
       "<table border=\"1\" class=\"dataframe\">\n",
       "  <thead>\n",
       "    <tr style=\"text-align: right;\">\n",
       "      <th></th>\n",
       "      <th>customer_id</th>\n",
       "      <th>credit_score</th>\n",
       "      <th>country</th>\n",
       "      <th>gender</th>\n",
       "      <th>age</th>\n",
       "      <th>tenure</th>\n",
       "      <th>balance</th>\n",
       "      <th>products_number</th>\n",
       "      <th>credit_card</th>\n",
       "      <th>active_member</th>\n",
       "      <th>estimated_salary</th>\n",
       "      <th>churn</th>\n",
       "    </tr>\n",
       "  </thead>\n",
       "  <tbody>\n",
       "    <tr>\n",
       "      <th>0</th>\n",
       "      <td>15634602</td>\n",
       "      <td>619</td>\n",
       "      <td>France</td>\n",
       "      <td>Female</td>\n",
       "      <td>42</td>\n",
       "      <td>2</td>\n",
       "      <td>0.00</td>\n",
       "      <td>1</td>\n",
       "      <td>1</td>\n",
       "      <td>1</td>\n",
       "      <td>101348.88</td>\n",
       "      <td>1</td>\n",
       "    </tr>\n",
       "    <tr>\n",
       "      <th>1</th>\n",
       "      <td>15647311</td>\n",
       "      <td>608</td>\n",
       "      <td>Spain</td>\n",
       "      <td>Female</td>\n",
       "      <td>41</td>\n",
       "      <td>1</td>\n",
       "      <td>83807.86</td>\n",
       "      <td>1</td>\n",
       "      <td>0</td>\n",
       "      <td>1</td>\n",
       "      <td>112542.58</td>\n",
       "      <td>0</td>\n",
       "    </tr>\n",
       "    <tr>\n",
       "      <th>2</th>\n",
       "      <td>15619304</td>\n",
       "      <td>502</td>\n",
       "      <td>France</td>\n",
       "      <td>Female</td>\n",
       "      <td>42</td>\n",
       "      <td>8</td>\n",
       "      <td>159660.80</td>\n",
       "      <td>3</td>\n",
       "      <td>1</td>\n",
       "      <td>0</td>\n",
       "      <td>113931.57</td>\n",
       "      <td>1</td>\n",
       "    </tr>\n",
       "    <tr>\n",
       "      <th>3</th>\n",
       "      <td>15701354</td>\n",
       "      <td>699</td>\n",
       "      <td>France</td>\n",
       "      <td>Female</td>\n",
       "      <td>39</td>\n",
       "      <td>1</td>\n",
       "      <td>0.00</td>\n",
       "      <td>2</td>\n",
       "      <td>0</td>\n",
       "      <td>0</td>\n",
       "      <td>93826.63</td>\n",
       "      <td>0</td>\n",
       "    </tr>\n",
       "    <tr>\n",
       "      <th>4</th>\n",
       "      <td>15737888</td>\n",
       "      <td>850</td>\n",
       "      <td>Spain</td>\n",
       "      <td>Female</td>\n",
       "      <td>43</td>\n",
       "      <td>2</td>\n",
       "      <td>125510.82</td>\n",
       "      <td>1</td>\n",
       "      <td>1</td>\n",
       "      <td>1</td>\n",
       "      <td>79084.10</td>\n",
       "      <td>0</td>\n",
       "    </tr>\n",
       "    <tr>\n",
       "      <th>...</th>\n",
       "      <td>...</td>\n",
       "      <td>...</td>\n",
       "      <td>...</td>\n",
       "      <td>...</td>\n",
       "      <td>...</td>\n",
       "      <td>...</td>\n",
       "      <td>...</td>\n",
       "      <td>...</td>\n",
       "      <td>...</td>\n",
       "      <td>...</td>\n",
       "      <td>...</td>\n",
       "      <td>...</td>\n",
       "    </tr>\n",
       "    <tr>\n",
       "      <th>7995</th>\n",
       "      <td>15803479</td>\n",
       "      <td>708</td>\n",
       "      <td>France</td>\n",
       "      <td>Female</td>\n",
       "      <td>67</td>\n",
       "      <td>1</td>\n",
       "      <td>0.00</td>\n",
       "      <td>2</td>\n",
       "      <td>0</td>\n",
       "      <td>1</td>\n",
       "      <td>3837.08</td>\n",
       "      <td>0</td>\n",
       "    </tr>\n",
       "    <tr>\n",
       "      <th>7996</th>\n",
       "      <td>15709639</td>\n",
       "      <td>717</td>\n",
       "      <td>France</td>\n",
       "      <td>Female</td>\n",
       "      <td>22</td>\n",
       "      <td>5</td>\n",
       "      <td>112465.06</td>\n",
       "      <td>1</td>\n",
       "      <td>1</td>\n",
       "      <td>1</td>\n",
       "      <td>92977.75</td>\n",
       "      <td>0</td>\n",
       "    </tr>\n",
       "    <tr>\n",
       "      <th>7997</th>\n",
       "      <td>15601719</td>\n",
       "      <td>465</td>\n",
       "      <td>Germany</td>\n",
       "      <td>Male</td>\n",
       "      <td>24</td>\n",
       "      <td>6</td>\n",
       "      <td>156007.09</td>\n",
       "      <td>1</td>\n",
       "      <td>1</td>\n",
       "      <td>0</td>\n",
       "      <td>191368.37</td>\n",
       "      <td>0</td>\n",
       "    </tr>\n",
       "    <tr>\n",
       "      <th>7998</th>\n",
       "      <td>15772482</td>\n",
       "      <td>829</td>\n",
       "      <td>Germany</td>\n",
       "      <td>Male</td>\n",
       "      <td>28</td>\n",
       "      <td>3</td>\n",
       "      <td>132405.52</td>\n",
       "      <td>3</td>\n",
       "      <td>1</td>\n",
       "      <td>0</td>\n",
       "      <td>104889.20</td>\n",
       "      <td>1</td>\n",
       "    </tr>\n",
       "    <tr>\n",
       "      <th>7999</th>\n",
       "      <td>15591489</td>\n",
       "      <td>826</td>\n",
       "      <td>France</td>\n",
       "      <td>Male</td>\n",
       "      <td>26</td>\n",
       "      <td>5</td>\n",
       "      <td>142662.68</td>\n",
       "      <td>1</td>\n",
       "      <td>0</td>\n",
       "      <td>0</td>\n",
       "      <td>60285.30</td>\n",
       "      <td>0</td>\n",
       "    </tr>\n",
       "  </tbody>\n",
       "</table>\n",
       "<p>8000 rows × 12 columns</p>\n",
       "</div>"
      ],
      "text/plain": [
       "      customer_id  credit_score  country  gender  age  tenure    balance  \\\n",
       "0        15634602           619   France  Female   42       2       0.00   \n",
       "1        15647311           608    Spain  Female   41       1   83807.86   \n",
       "2        15619304           502   France  Female   42       8  159660.80   \n",
       "3        15701354           699   France  Female   39       1       0.00   \n",
       "4        15737888           850    Spain  Female   43       2  125510.82   \n",
       "...           ...           ...      ...     ...  ...     ...        ...   \n",
       "7995     15803479           708   France  Female   67       1       0.00   \n",
       "7996     15709639           717   France  Female   22       5  112465.06   \n",
       "7997     15601719           465  Germany    Male   24       6  156007.09   \n",
       "7998     15772482           829  Germany    Male   28       3  132405.52   \n",
       "7999     15591489           826   France    Male   26       5  142662.68   \n",
       "\n",
       "      products_number  credit_card  active_member  estimated_salary  churn  \n",
       "0                   1            1              1         101348.88      1  \n",
       "1                   1            0              1         112542.58      0  \n",
       "2                   3            1              0         113931.57      1  \n",
       "3                   2            0              0          93826.63      0  \n",
       "4                   1            1              1          79084.10      0  \n",
       "...               ...          ...            ...               ...    ...  \n",
       "7995                2            0              1           3837.08      0  \n",
       "7996                1            1              1          92977.75      0  \n",
       "7997                1            1              0         191368.37      0  \n",
       "7998                3            1              0         104889.20      1  \n",
       "7999                1            0              0          60285.30      0  \n",
       "\n",
       "[8000 rows x 12 columns]"
      ]
     },
     "execution_count": 6,
     "metadata": {},
     "output_type": "execute_result"
    }
   ],
   "source": [
    "train = X_train.join(y_train)\n",
    "train=train\n",
    "train"
   ]
  },
  {
   "cell_type": "code",
   "execution_count": 7,
   "id": "d63d013b-2399-4418-b153-6d02f1a34b46",
   "metadata": {},
   "outputs": [
    {
     "data": {
      "text/html": [
       "<div>\n",
       "<style scoped>\n",
       "    .dataframe tbody tr th:only-of-type {\n",
       "        vertical-align: middle;\n",
       "    }\n",
       "\n",
       "    .dataframe tbody tr th {\n",
       "        vertical-align: top;\n",
       "    }\n",
       "\n",
       "    .dataframe thead th {\n",
       "        text-align: right;\n",
       "    }\n",
       "</style>\n",
       "<table border=\"1\" class=\"dataframe\">\n",
       "  <thead>\n",
       "    <tr style=\"text-align: right;\">\n",
       "      <th></th>\n",
       "      <th>customer_id</th>\n",
       "      <th>credit_score</th>\n",
       "      <th>country</th>\n",
       "      <th>gender</th>\n",
       "      <th>age</th>\n",
       "      <th>tenure</th>\n",
       "      <th>balance</th>\n",
       "      <th>products_number</th>\n",
       "      <th>credit_card</th>\n",
       "      <th>active_member</th>\n",
       "      <th>estimated_salary</th>\n",
       "      <th>churn</th>\n",
       "    </tr>\n",
       "  </thead>\n",
       "  <tbody>\n",
       "    <tr>\n",
       "      <th>8000</th>\n",
       "      <td>15629002</td>\n",
       "      <td>747</td>\n",
       "      <td>Germany</td>\n",
       "      <td>Male</td>\n",
       "      <td>36</td>\n",
       "      <td>8</td>\n",
       "      <td>102603.30</td>\n",
       "      <td>2</td>\n",
       "      <td>1</td>\n",
       "      <td>1</td>\n",
       "      <td>180693.61</td>\n",
       "      <td>0</td>\n",
       "    </tr>\n",
       "    <tr>\n",
       "      <th>8001</th>\n",
       "      <td>15798053</td>\n",
       "      <td>707</td>\n",
       "      <td>Spain</td>\n",
       "      <td>Male</td>\n",
       "      <td>32</td>\n",
       "      <td>9</td>\n",
       "      <td>0.00</td>\n",
       "      <td>2</td>\n",
       "      <td>1</td>\n",
       "      <td>0</td>\n",
       "      <td>126475.79</td>\n",
       "      <td>0</td>\n",
       "    </tr>\n",
       "    <tr>\n",
       "      <th>8002</th>\n",
       "      <td>15753895</td>\n",
       "      <td>590</td>\n",
       "      <td>Spain</td>\n",
       "      <td>Male</td>\n",
       "      <td>37</td>\n",
       "      <td>1</td>\n",
       "      <td>0.00</td>\n",
       "      <td>2</td>\n",
       "      <td>0</td>\n",
       "      <td>0</td>\n",
       "      <td>133535.99</td>\n",
       "      <td>0</td>\n",
       "    </tr>\n",
       "    <tr>\n",
       "      <th>8003</th>\n",
       "      <td>15595426</td>\n",
       "      <td>603</td>\n",
       "      <td>Spain</td>\n",
       "      <td>Male</td>\n",
       "      <td>57</td>\n",
       "      <td>6</td>\n",
       "      <td>105000.85</td>\n",
       "      <td>2</td>\n",
       "      <td>1</td>\n",
       "      <td>1</td>\n",
       "      <td>87412.24</td>\n",
       "      <td>1</td>\n",
       "    </tr>\n",
       "    <tr>\n",
       "      <th>8004</th>\n",
       "      <td>15645815</td>\n",
       "      <td>615</td>\n",
       "      <td>France</td>\n",
       "      <td>Male</td>\n",
       "      <td>45</td>\n",
       "      <td>5</td>\n",
       "      <td>0.00</td>\n",
       "      <td>2</td>\n",
       "      <td>1</td>\n",
       "      <td>1</td>\n",
       "      <td>164886.64</td>\n",
       "      <td>0</td>\n",
       "    </tr>\n",
       "    <tr>\n",
       "      <th>...</th>\n",
       "      <td>...</td>\n",
       "      <td>...</td>\n",
       "      <td>...</td>\n",
       "      <td>...</td>\n",
       "      <td>...</td>\n",
       "      <td>...</td>\n",
       "      <td>...</td>\n",
       "      <td>...</td>\n",
       "      <td>...</td>\n",
       "      <td>...</td>\n",
       "      <td>...</td>\n",
       "      <td>...</td>\n",
       "    </tr>\n",
       "    <tr>\n",
       "      <th>9995</th>\n",
       "      <td>15606229</td>\n",
       "      <td>771</td>\n",
       "      <td>France</td>\n",
       "      <td>Male</td>\n",
       "      <td>39</td>\n",
       "      <td>5</td>\n",
       "      <td>0.00</td>\n",
       "      <td>2</td>\n",
       "      <td>1</td>\n",
       "      <td>0</td>\n",
       "      <td>96270.64</td>\n",
       "      <td>0</td>\n",
       "    </tr>\n",
       "    <tr>\n",
       "      <th>9996</th>\n",
       "      <td>15569892</td>\n",
       "      <td>516</td>\n",
       "      <td>France</td>\n",
       "      <td>Male</td>\n",
       "      <td>35</td>\n",
       "      <td>10</td>\n",
       "      <td>57369.61</td>\n",
       "      <td>1</td>\n",
       "      <td>1</td>\n",
       "      <td>1</td>\n",
       "      <td>101699.77</td>\n",
       "      <td>0</td>\n",
       "    </tr>\n",
       "    <tr>\n",
       "      <th>9997</th>\n",
       "      <td>15584532</td>\n",
       "      <td>709</td>\n",
       "      <td>France</td>\n",
       "      <td>Female</td>\n",
       "      <td>36</td>\n",
       "      <td>7</td>\n",
       "      <td>0.00</td>\n",
       "      <td>1</td>\n",
       "      <td>0</td>\n",
       "      <td>1</td>\n",
       "      <td>42085.58</td>\n",
       "      <td>1</td>\n",
       "    </tr>\n",
       "    <tr>\n",
       "      <th>9998</th>\n",
       "      <td>15682355</td>\n",
       "      <td>772</td>\n",
       "      <td>Germany</td>\n",
       "      <td>Male</td>\n",
       "      <td>42</td>\n",
       "      <td>3</td>\n",
       "      <td>75075.31</td>\n",
       "      <td>2</td>\n",
       "      <td>1</td>\n",
       "      <td>0</td>\n",
       "      <td>92888.52</td>\n",
       "      <td>1</td>\n",
       "    </tr>\n",
       "    <tr>\n",
       "      <th>9999</th>\n",
       "      <td>15628319</td>\n",
       "      <td>792</td>\n",
       "      <td>France</td>\n",
       "      <td>Female</td>\n",
       "      <td>28</td>\n",
       "      <td>4</td>\n",
       "      <td>130142.79</td>\n",
       "      <td>1</td>\n",
       "      <td>1</td>\n",
       "      <td>0</td>\n",
       "      <td>38190.78</td>\n",
       "      <td>0</td>\n",
       "    </tr>\n",
       "  </tbody>\n",
       "</table>\n",
       "<p>2000 rows × 12 columns</p>\n",
       "</div>"
      ],
      "text/plain": [
       "      customer_id  credit_score  country  gender  age  tenure    balance  \\\n",
       "8000     15629002           747  Germany    Male   36       8  102603.30   \n",
       "8001     15798053           707    Spain    Male   32       9       0.00   \n",
       "8002     15753895           590    Spain    Male   37       1       0.00   \n",
       "8003     15595426           603    Spain    Male   57       6  105000.85   \n",
       "8004     15645815           615   France    Male   45       5       0.00   \n",
       "...           ...           ...      ...     ...  ...     ...        ...   \n",
       "9995     15606229           771   France    Male   39       5       0.00   \n",
       "9996     15569892           516   France    Male   35      10   57369.61   \n",
       "9997     15584532           709   France  Female   36       7       0.00   \n",
       "9998     15682355           772  Germany    Male   42       3   75075.31   \n",
       "9999     15628319           792   France  Female   28       4  130142.79   \n",
       "\n",
       "      products_number  credit_card  active_member  estimated_salary  churn  \n",
       "8000                2            1              1         180693.61      0  \n",
       "8001                2            1              0         126475.79      0  \n",
       "8002                2            0              0         133535.99      0  \n",
       "8003                2            1              1          87412.24      1  \n",
       "8004                2            1              1         164886.64      0  \n",
       "...               ...          ...            ...               ...    ...  \n",
       "9995                2            1              0          96270.64      0  \n",
       "9996                1            1              1         101699.77      0  \n",
       "9997                1            0              1          42085.58      1  \n",
       "9998                2            1              0          92888.52      1  \n",
       "9999                1            1              0          38190.78      0  \n",
       "\n",
       "[2000 rows x 12 columns]"
      ]
     },
     "execution_count": 7,
     "metadata": {},
     "output_type": "execute_result"
    }
   ],
   "source": [
    "test = X_test.join(y_test)\n",
    "test"
   ]
  },
  {
   "cell_type": "markdown",
   "id": "b375f4c2-9d33-4b92-a50b-6f90f3dfbc7d",
   "metadata": {},
   "source": [
    "# Handle Outliers"
   ]
  },
  {
   "cell_type": "code",
   "execution_count": 8,
   "id": "21de74de-2ed9-404f-b9f1-b336f61cc484",
   "metadata": {},
   "outputs": [
    {
     "name": "stdout",
     "output_type": "stream",
     "text": [
      "Jumlah baris sebelum memfilter outlier: 8000\n",
      "Jumlah baris setelah memfilter outlier: 7991\n",
      "persen yang dibuang : 0.11250000000001137\n"
     ]
    }
   ],
   "source": [
    "Q1 = train['credit_score'].quantile(.25)\n",
    "Q3 = train['credit_score'].quantile(.75)\n",
    "IQR = Q3 - Q1\n",
    "Batas_Atas = Q3 + 1.5*IQR\n",
    "Batas_Bawah = Q1 - 1.5*IQR\n",
    "print(f'Jumlah baris sebelum memfilter outlier:', len(train))\n",
    "a = len(train)\n",
    "train=train[(train['credit_score']<=Batas_Atas)&\n",
    "            (train['credit_score']>=Batas_Bawah)]\n",
    "\n",
    "print(f'Jumlah baris setelah memfilter outlier:', len(train))\n",
    "b = len(train)\n",
    "print (f'persen yang dibuang : {100-((b/a)*100)}')"
   ]
  },
  {
   "cell_type": "code",
   "execution_count": 9,
   "id": "a1e99b91-bb33-41d0-9196-ff9fd22913dc",
   "metadata": {},
   "outputs": [
    {
     "name": "stdout",
     "output_type": "stream",
     "text": [
      "Jumlah baris sebelum memfilter age outlier: 7991\n",
      "Jumlah baris setelah memfilter age outlier: 7955\n",
      "persen yang dibuang : 0.4505068201726914\n"
     ]
    }
   ],
   "source": [
    "for i in ['age']:\n",
    "  print(f'Jumlah baris sebelum memfilter',i, 'outlier:', len(train))\n",
    "  a = len(train)\n",
    "  train=train[train[i]<=75]\n",
    "  print(f'Jumlah baris setelah memfilter',i, 'outlier:', len(train))\n",
    "  b = len(train)\n",
    "  print (f'persen yang dibuang : {100-((b/a)*100)}')"
   ]
  },
  {
   "cell_type": "code",
   "execution_count": 10,
   "id": "92a9a771-e093-4a5d-9e74-e219a4c5d622",
   "metadata": {},
   "outputs": [
    {
     "data": {
      "text/html": [
       "<div>\n",
       "<style scoped>\n",
       "    .dataframe tbody tr th:only-of-type {\n",
       "        vertical-align: middle;\n",
       "    }\n",
       "\n",
       "    .dataframe tbody tr th {\n",
       "        vertical-align: top;\n",
       "    }\n",
       "\n",
       "    .dataframe thead th {\n",
       "        text-align: right;\n",
       "    }\n",
       "</style>\n",
       "<table border=\"1\" class=\"dataframe\">\n",
       "  <thead>\n",
       "    <tr style=\"text-align: right;\">\n",
       "      <th></th>\n",
       "      <th>customer_id</th>\n",
       "      <th>credit_score</th>\n",
       "      <th>country</th>\n",
       "      <th>gender</th>\n",
       "      <th>age</th>\n",
       "      <th>tenure</th>\n",
       "      <th>balance</th>\n",
       "      <th>products_number</th>\n",
       "      <th>credit_card</th>\n",
       "      <th>active_member</th>\n",
       "      <th>estimated_salary</th>\n",
       "      <th>churn</th>\n",
       "    </tr>\n",
       "  </thead>\n",
       "  <tbody>\n",
       "    <tr>\n",
       "      <th>3</th>\n",
       "      <td>15701354</td>\n",
       "      <td>699</td>\n",
       "      <td>France</td>\n",
       "      <td>Female</td>\n",
       "      <td>39</td>\n",
       "      <td>1</td>\n",
       "      <td>0.0</td>\n",
       "      <td>2</td>\n",
       "      <td>0</td>\n",
       "      <td>0</td>\n",
       "      <td>93826.63</td>\n",
       "      <td>0</td>\n",
       "    </tr>\n",
       "    <tr>\n",
       "      <th>6</th>\n",
       "      <td>15592531</td>\n",
       "      <td>822</td>\n",
       "      <td>France</td>\n",
       "      <td>Male</td>\n",
       "      <td>50</td>\n",
       "      <td>7</td>\n",
       "      <td>0.0</td>\n",
       "      <td>2</td>\n",
       "      <td>1</td>\n",
       "      <td>1</td>\n",
       "      <td>10062.80</td>\n",
       "      <td>0</td>\n",
       "    </tr>\n",
       "    <tr>\n",
       "      <th>11</th>\n",
       "      <td>15737173</td>\n",
       "      <td>497</td>\n",
       "      <td>Spain</td>\n",
       "      <td>Male</td>\n",
       "      <td>24</td>\n",
       "      <td>3</td>\n",
       "      <td>0.0</td>\n",
       "      <td>2</td>\n",
       "      <td>1</td>\n",
       "      <td>0</td>\n",
       "      <td>76390.01</td>\n",
       "      <td>0</td>\n",
       "    </tr>\n",
       "    <tr>\n",
       "      <th>12</th>\n",
       "      <td>15632264</td>\n",
       "      <td>476</td>\n",
       "      <td>France</td>\n",
       "      <td>Female</td>\n",
       "      <td>34</td>\n",
       "      <td>10</td>\n",
       "      <td>0.0</td>\n",
       "      <td>2</td>\n",
       "      <td>1</td>\n",
       "      <td>0</td>\n",
       "      <td>26260.98</td>\n",
       "      <td>0</td>\n",
       "    </tr>\n",
       "    <tr>\n",
       "      <th>13</th>\n",
       "      <td>15691483</td>\n",
       "      <td>549</td>\n",
       "      <td>France</td>\n",
       "      <td>Female</td>\n",
       "      <td>25</td>\n",
       "      <td>5</td>\n",
       "      <td>0.0</td>\n",
       "      <td>2</td>\n",
       "      <td>0</td>\n",
       "      <td>0</td>\n",
       "      <td>190857.79</td>\n",
       "      <td>0</td>\n",
       "    </tr>\n",
       "    <tr>\n",
       "      <th>...</th>\n",
       "      <td>...</td>\n",
       "      <td>...</td>\n",
       "      <td>...</td>\n",
       "      <td>...</td>\n",
       "      <td>...</td>\n",
       "      <td>...</td>\n",
       "      <td>...</td>\n",
       "      <td>...</td>\n",
       "      <td>...</td>\n",
       "      <td>...</td>\n",
       "      <td>...</td>\n",
       "      <td>...</td>\n",
       "    </tr>\n",
       "    <tr>\n",
       "      <th>7986</th>\n",
       "      <td>15678067</td>\n",
       "      <td>667</td>\n",
       "      <td>Spain</td>\n",
       "      <td>Male</td>\n",
       "      <td>45</td>\n",
       "      <td>3</td>\n",
       "      <td>0.0</td>\n",
       "      <td>2</td>\n",
       "      <td>0</td>\n",
       "      <td>0</td>\n",
       "      <td>163655.01</td>\n",
       "      <td>0</td>\n",
       "    </tr>\n",
       "    <tr>\n",
       "      <th>7989</th>\n",
       "      <td>15605827</td>\n",
       "      <td>645</td>\n",
       "      <td>France</td>\n",
       "      <td>Male</td>\n",
       "      <td>39</td>\n",
       "      <td>8</td>\n",
       "      <td>0.0</td>\n",
       "      <td>2</td>\n",
       "      <td>0</td>\n",
       "      <td>0</td>\n",
       "      <td>96864.36</td>\n",
       "      <td>0</td>\n",
       "    </tr>\n",
       "    <tr>\n",
       "      <th>7991</th>\n",
       "      <td>15787710</td>\n",
       "      <td>427</td>\n",
       "      <td>Spain</td>\n",
       "      <td>Female</td>\n",
       "      <td>39</td>\n",
       "      <td>9</td>\n",
       "      <td>0.0</td>\n",
       "      <td>2</td>\n",
       "      <td>1</td>\n",
       "      <td>0</td>\n",
       "      <td>28368.37</td>\n",
       "      <td>0</td>\n",
       "    </tr>\n",
       "    <tr>\n",
       "      <th>7992</th>\n",
       "      <td>15614137</td>\n",
       "      <td>685</td>\n",
       "      <td>France</td>\n",
       "      <td>Female</td>\n",
       "      <td>40</td>\n",
       "      <td>7</td>\n",
       "      <td>0.0</td>\n",
       "      <td>2</td>\n",
       "      <td>1</td>\n",
       "      <td>0</td>\n",
       "      <td>103898.59</td>\n",
       "      <td>0</td>\n",
       "    </tr>\n",
       "    <tr>\n",
       "      <th>7995</th>\n",
       "      <td>15803479</td>\n",
       "      <td>708</td>\n",
       "      <td>France</td>\n",
       "      <td>Female</td>\n",
       "      <td>67</td>\n",
       "      <td>1</td>\n",
       "      <td>0.0</td>\n",
       "      <td>2</td>\n",
       "      <td>0</td>\n",
       "      <td>1</td>\n",
       "      <td>3837.08</td>\n",
       "      <td>0</td>\n",
       "    </tr>\n",
       "  </tbody>\n",
       "</table>\n",
       "<p>2458 rows × 12 columns</p>\n",
       "</div>"
      ],
      "text/plain": [
       "      customer_id  credit_score country  gender  age  tenure  balance  \\\n",
       "3        15701354           699  France  Female   39       1      0.0   \n",
       "6        15592531           822  France    Male   50       7      0.0   \n",
       "11       15737173           497   Spain    Male   24       3      0.0   \n",
       "12       15632264           476  France  Female   34      10      0.0   \n",
       "13       15691483           549  France  Female   25       5      0.0   \n",
       "...           ...           ...     ...     ...  ...     ...      ...   \n",
       "7986     15678067           667   Spain    Male   45       3      0.0   \n",
       "7989     15605827           645  France    Male   39       8      0.0   \n",
       "7991     15787710           427   Spain  Female   39       9      0.0   \n",
       "7992     15614137           685  France  Female   40       7      0.0   \n",
       "7995     15803479           708  France  Female   67       1      0.0   \n",
       "\n",
       "      products_number  credit_card  active_member  estimated_salary  churn  \n",
       "3                   2            0              0          93826.63      0  \n",
       "6                   2            1              1          10062.80      0  \n",
       "11                  2            1              0          76390.01      0  \n",
       "12                  2            1              0          26260.98      0  \n",
       "13                  2            0              0         190857.79      0  \n",
       "...               ...          ...            ...               ...    ...  \n",
       "7986                2            0              0         163655.01      0  \n",
       "7989                2            0              0          96864.36      0  \n",
       "7991                2            1              0          28368.37      0  \n",
       "7992                2            1              0         103898.59      0  \n",
       "7995                2            0              1           3837.08      0  \n",
       "\n",
       "[2458 rows x 12 columns]"
      ]
     },
     "execution_count": 10,
     "metadata": {},
     "output_type": "execute_result"
    }
   ],
   "source": [
    "dff = train[(train['balance']==0)&\n",
    "        (train['churn'].isin([0]))]\n",
    "        # (df['index']<=100)]\n",
    "dff"
   ]
  },
  {
   "cell_type": "code",
   "execution_count": 11,
   "id": "a102a304-ced4-4d00-91c8-0628177d6f94",
   "metadata": {},
   "outputs": [
    {
     "data": {
      "text/plain": [
       "Int64Index([   3,    6,   11,   12,   13,   14,   17,   18,   19,   20,\n",
       "            ...\n",
       "            7960, 7963, 7966, 7971, 7979, 7986, 7989, 7991, 7992, 7995],\n",
       "           dtype='int64', length=2458)"
      ]
     },
     "execution_count": 11,
     "metadata": {},
     "output_type": "execute_result"
    }
   ],
   "source": [
    "dff.index.sort_values()"
   ]
  },
  {
   "cell_type": "code",
   "execution_count": 12,
   "id": "32a2a3e0-0a07-4923-8d69-59be51aac34b",
   "metadata": {},
   "outputs": [
    {
     "name": "stdout",
     "output_type": "stream",
     "text": [
      "Jumlah baris sebelum memfilter outlier: 7955\n",
      "Jumlah baris setelah memfilter outlier: 7855\n",
      "persen yang dibuang : 1.2570710245128964\n"
     ]
    }
   ],
   "source": [
    "print(f'Jumlah baris sebelum memfilter outlier:', len(train))\n",
    "a = len(train)\n",
    "train=train.drop(index=[3,    6,   11,   12,   13,   14,   17,   18,   19,   20,\n",
    "                        21,   23,   24,   25,   27,   33,   34,   38,   40,   52,\n",
    "                        71,   74,   76,   77,   82,   84,   85,   87,   92,   93,\n",
    "                        94,   98,   99,  100,  101,  103,  117,  122,  124,  128,\n",
    "                        130,  133,  141,  149,  150,  152,  154,  156,  157,  161,\n",
    "                        7820, 7823, 7827, 7830, 7836, 7839, 7844, 7845, 7848, 7850,\n",
    "                        7854, 7864, 7865, 7867, 7870, 7880, 7881, 7883, 7886, 7890,\n",
    "                        7892, 7896, 7899, 7902, 7903, 7908, 7914, 7916, 7918, 7921,\n",
    "                        7922, 7924, 7925, 7930, 7935, 7936, 7938, 7945, 7951, 7959,\n",
    "                        7960, 7963, 7966, 7971, 7979, 7986, 7989, 7991, 7992, 7995])\n",
    "print(f'Jumlah baris setelah memfilter outlier:', len(train))\n",
    "b = len(train)\n",
    "print (f'persen yang dibuang : {100-((b/a)*100)}')"
   ]
  },
  {
   "cell_type": "markdown",
   "id": "09954ed3-9bc1-4319-b25f-58f56078c386",
   "metadata": {
    "tags": []
   },
   "source": [
    "# Feature Transformation "
   ]
  },
  {
   "cell_type": "markdown",
   "id": "49c10c9c-d4c5-433a-a05a-d1ec0f1a0036",
   "metadata": {},
   "source": [
    "https://www.analyticsvidhya.com/blog/2020/07/types-of-feature-transformation-and-scaling/"
   ]
  },
  {
   "cell_type": "code",
   "execution_count": 13,
   "id": "beac96c8-2e38-4eb3-abd2-7e3ca8110c6c",
   "metadata": {},
   "outputs": [],
   "source": [
    "from sklearn.preprocessing import RobustScaler\n",
    "from sklearn.preprocessing import QuantileTransformer\n",
    "from sklearn.preprocessing import PowerTransformer\n",
    "from sklearn.preprocessing import MinMaxScaler, StandardScaler\n",
    "from sklearn.preprocessing import MaxAbsScaler\n",
    "from sklearn.preprocessing import Normalizer\n",
    "from sklearn.preprocessing import FunctionTransformer\n",
    "# FT = FunctionTransformer(np.log2, validate = True)\n",
    "# N = Normalizer(norm = 'l1')\n",
    "# MAS = MaxAbsScaler()\n",
    "MMS = MinMaxScaler()\n",
    "# SS = StandardScaler()\n",
    "# PT= PowerTransformer(method = 'yeo-johnson')\n",
    "train['balance'] = MMS.fit_transform(train['balance'].values.reshape(len(train),1))\n",
    "test['balance'] = MMS.fit_transform(test['balance'].values.reshape(len(test),1))"
   ]
  },
  {
   "cell_type": "code",
   "execution_count": 14,
   "id": "2d4ca4db-5637-4113-8c46-8f45208c95ad",
   "metadata": {},
   "outputs": [],
   "source": [
    "from sklearn.preprocessing import MinMaxScaler, StandardScaler\n",
    "from sklearn.preprocessing import PowerTransformer\n",
    "# MMS = MinMaxScaler()\n",
    "PT= PowerTransformer(method = 'box-cox')\n",
    "train['credit_score'] = PT.fit_transform(train['credit_score'].values.reshape(len(train),1))\n",
    "test['credit_score'] = PT.fit_transform(test['credit_score'].values.reshape(len(test),1))"
   ]
  },
  {
   "cell_type": "code",
   "execution_count": 15,
   "id": "9b59e7aa-f22f-46ee-8d80-2fb6891adcbf",
   "metadata": {},
   "outputs": [],
   "source": [
    "from sklearn.preprocessing import MinMaxScaler, StandardScaler\n",
    "from sklearn.preprocessing import PowerTransformer\n",
    "# MMS = MinMaxScaler()\n",
    "PT= PowerTransformer(method = 'box-cox')\n",
    "train['age'] = PT.fit_transform(train['age'].values.reshape(len(train),1))\n",
    "test['age'] = PT.fit_transform(test['age'].values.reshape(len(test),1))"
   ]
  },
  {
   "cell_type": "code",
   "execution_count": 16,
   "id": "79c3122e-0a47-41ae-980b-0c8fcfea76a6",
   "metadata": {},
   "outputs": [],
   "source": [
    "from sklearn.preprocessing import MinMaxScaler, StandardScaler\n",
    "from sklearn.preprocessing import RobustScaler\n",
    "# MMS = MinMaxScaler()\n",
    "RS = RobustScaler()\n",
    "train['tenure'] = RS.fit_transform(train['tenure'].values.reshape(len(train),1))\n",
    "test['tenure'] = RS.fit_transform(test['tenure'].values.reshape(len(test),1))"
   ]
  },
  {
   "cell_type": "code",
   "execution_count": 17,
   "id": "13bfc485-414b-42b9-97b5-7ce56ff4284d",
   "metadata": {},
   "outputs": [],
   "source": [
    "from sklearn.preprocessing import MinMaxScaler, StandardScaler\n",
    "from sklearn.preprocessing import QuantileTransformer\n",
    "# MMS = MinMaxScaler()\n",
    "QT = QuantileTransformer()\n",
    "train['estimated_salary'] = QT.fit_transform(train['estimated_salary'].values.reshape(len(train),1))\n",
    "test['estimated_salary'] = QT.fit_transform(test['estimated_salary'].values.reshape(len(test),1))"
   ]
  },
  {
   "cell_type": "code",
   "execution_count": 18,
   "id": "9bf43cd2-cb18-407c-8525-e0db72541534",
   "metadata": {},
   "outputs": [
    {
     "name": "stderr",
     "output_type": "stream",
     "text": [
      "C:\\Users\\sihom\\AppData\\Local\\Temp\\ipykernel_5400\\3669847969.py:1: UserWarning: \n",
      "\n",
      "`distplot` is a deprecated function and will be removed in seaborn v0.14.0.\n",
      "\n",
      "Please adapt your code to use either `displot` (a figure-level function with\n",
      "similar flexibility) or `histplot` (an axes-level function for histograms).\n",
      "\n",
      "For a guide to updating your code to use the new functions, please see\n",
      "https://gist.github.com/mwaskom/de44147ed2974457ad6372750bbe5751\n",
      "\n",
      "  sns.distplot(x=train.tenure)\n"
     ]
    },
    {
     "data": {
      "text/plain": [
       "<AxesSubplot:ylabel='Density'>"
      ]
     },
     "execution_count": 18,
     "metadata": {},
     "output_type": "execute_result"
    },
    {
     "data": {
      "image/png": "[encoded data removed]",
      "text/plain": [
       "<Figure size 432x288 with 1 Axes>"
      ]
     },
     "metadata": {
      "needs_background": "light"
     },
     "output_type": "display_data"
    }
   ],
   "source": [
    "sns.distplot(x=train.tenure)"
   ]
  },
  {
   "cell_type": "markdown",
   "id": "642e7b63-28d2-4f5c-b537-570d2ae027a4",
   "metadata": {},
   "source": [
    "# Feature Encoding"
   ]
  },
  {
   "cell_type": "code",
   "execution_count": 19,
   "id": "52d48720-be22-4d49-9e93-98a924b0198e",
   "metadata": {},
   "outputs": [
    {
     "data": {
      "text/plain": [
       "1    1114\n",
       "0     886\n",
       "Name: gender, dtype: int64"
      ]
     },
     "execution_count": 19,
     "metadata": {},
     "output_type": "execute_result"
    }
   ],
   "source": [
    "mapping_status = {'Male':1,\n",
    "                  'Female':0}\n",
    "train['gender']=train['gender'].map(mapping_status)\n",
    "train['gender'].value_counts()\n",
    "test['gender']=test['gender'].map(mapping_status)\n",
    "test['gender'].value_counts()"
   ]
  },
  {
   "cell_type": "code",
   "execution_count": 20,
   "id": "fbcb1a10-8fa0-4430-a92f-19589d70ee40",
   "metadata": {},
   "outputs": [
    {
     "data": {
      "text/plain": [
       "2    1004\n",
       "1     514\n",
       "0     482\n",
       "Name: country, dtype: int64"
      ]
     },
     "execution_count": 20,
     "metadata": {},
     "output_type": "execute_result"
    }
   ],
   "source": [
    "mapping_status = {'France':2,\n",
    "                  'Germany':1,\n",
    "                 'Spain':0}\n",
    "train['country']=train['country'].map(mapping_status)\n",
    "train['country'].value_counts()\n",
    "test['country']=test['country'].map(mapping_status)\n",
    "test['country'].value_counts()"
   ]
  },
  {
   "cell_type": "code",
   "execution_count": 21,
   "id": "702d48f3-e57a-41fd-b52c-34e907f50a53",
   "metadata": {},
   "outputs": [],
   "source": [
    "# traino = pd.get_dummies(train['country'], prefix = 'country')\n",
    "# train = train.join(traino)"
   ]
  },
  {
   "cell_type": "code",
   "execution_count": 22,
   "id": "251298ef-0fc3-4f73-9317-15501cc90cff",
   "metadata": {},
   "outputs": [],
   "source": [
    "# testo = pd.get_dummies(test['country'], prefix = 'country')\n",
    "# test = test.join(testo)"
   ]
  },
  {
   "cell_type": "markdown",
   "id": "f6316c51-8e8a-46d2-9d28-67f033660c2d",
   "metadata": {
    "tags": []
   },
   "source": [
    "# Class Imbalance"
   ]
  },
  {
   "cell_type": "code",
   "execution_count": 23,
   "id": "f2cc2255-8e0c-43b9-8a98-169415d28be1",
   "metadata": {},
   "outputs": [],
   "source": [
    "X_train = train.drop('churn', axis=1)\n",
    "y_train = train.churn\n",
    "X_test = test.drop('churn', axis=1)\n",
    "y_test = test.churn"
   ]
  },
  {
   "cell_type": "code",
   "execution_count": 24,
   "id": "a187499a-9ee9-43d6-b3c8-1004852db61f",
   "metadata": {},
   "outputs": [
    {
     "name": "stdout",
     "output_type": "stream",
     "text": [
      "[(0, 6218), (1, 6218)] (12436,)\n"
     ]
    }
   ],
   "source": [
    "from imblearn.over_sampling import RandomOverSampler\n",
    "from collections import Counter\n",
    "ros = RandomOverSampler(random_state=42)\n",
    "X_resampled, y_resampled = ros.fit_resample(X_train,y_train)\n",
    "# y.value_counts()\n",
    "print(sorted(Counter(y_resampled).items()),y_resampled.shape)"
   ]
  },
  {
   "cell_type": "markdown",
   "id": "dc30d3d7-1370-408f-8b90-cfccb7219cea",
   "metadata": {},
   "source": [
    "# Feature Selection"
   ]
  },
  {
   "cell_type": "code",
   "execution_count": 25,
   "id": "82e266f3-f4d7-4495-b0ed-a1ce1963491c",
   "metadata": {},
   "outputs": [
    {
     "name": "stdout",
     "output_type": "stream",
     "text": [
      "<class 'pandas.core.frame.DataFrame'>\n",
      "Int64Index: 7855 entries, 0 to 7999\n",
      "Data columns (total 11 columns):\n",
      " #   Column            Non-Null Count  Dtype  \n",
      "---  ------            --------------  -----  \n",
      " 0   customer_id       7855 non-null   int64  \n",
      " 1   credit_score      7855 non-null   float64\n",
      " 2   country           7855 non-null   int64  \n",
      " 3   gender            7855 non-null   int64  \n",
      " 4   age               7855 non-null   float64\n",
      " 5   tenure            7855 non-null   float64\n",
      " 6   balance           7855 non-null   float64\n",
      " 7   products_number   7855 non-null   int64  \n",
      " 8   credit_card       7855 non-null   int64  \n",
      " 9   active_member     7855 non-null   int64  \n",
      " 10  estimated_salary  7855 non-null   float64\n",
      "dtypes: float64(5), int64(6)\n",
      "memory usage: 736.4 KB\n"
     ]
    }
   ],
   "source": [
    "X_train.info()"
   ]
  },
  {
   "cell_type": "code",
   "execution_count": 26,
   "id": "cc5a9a14-202d-431e-b354-1771b2e0a734",
   "metadata": {},
   "outputs": [],
   "source": [
    "X_train = X_resampled[['credit_score', 'age', 'tenure','balance',\n",
    "                       'products_number','credit_card', 'active_member','estimated_salary',\n",
    "                       'country']]\n",
    "X_test = test[['credit_score', 'age', 'tenure','balance',\n",
    "                       'products_number','credit_card', 'active_member','estimated_salary',\n",
    "                       'country']]\n",
    "y_test = test.churn\n",
    "y_train = y_resampled"
   ]
  },
  {
   "cell_type": "markdown",
   "id": "b505e5a2-80e9-4c9b-b17f-630d676c275a",
   "metadata": {
    "id": "WOA_veMNXeBS"
   },
   "source": [
    "# Modeling"
   ]
  },
  {
   "cell_type": "code",
   "execution_count": 27,
   "id": "6ef1ed04-824c-42cd-ba90-64c5b384bd4b",
   "metadata": {
    "id": "604fb20e-3c6c-43f1-8f2d-1f7885348e61"
   },
   "outputs": [],
   "source": [
    "from sklearn.metrics import accuracy_score\n",
    "from sklearn.metrics import precision_score\n",
    "from sklearn.metrics import average_precision_score\n",
    "from sklearn.metrics import recall_score\n",
    "from sklearn.metrics import roc_auc_score\n",
    "from sklearn.metrics import f1_score"
   ]
  },
  {
   "cell_type": "markdown",
   "id": "0b6512f2-36ba-4380-88c3-6ff724a453de",
   "metadata": {
    "id": "OPXPac7xfBoQ"
   },
   "source": [
    "# Model Evaluation"
   ]
  },
  {
   "cell_type": "code",
   "execution_count": 28,
   "id": "975c1704-36a2-4961-9706-283f0973ebc9",
   "metadata": {
    "id": "f22e60ad-21c7-4106-b5df-f773664fe385"
   },
   "outputs": [],
   "source": [
    "import warnings\n",
    "warnings.filterwarnings('ignore')\n",
    "from sklearn.model_selection import cross_validate\n",
    "# from sklearn.linear_model import LinearRegression\n",
    "from sklearn.metrics import confusion_matrix\n",
    "def eval_classification(model):\n",
    "  y_pred = model.predict(X_test)\n",
    "  y_pred_train = model.predict(X_train)\n",
    "  y_pred_proba = model.predict_proba(X_test)\n",
    "  y_pred_proba_train = model.predict_proba(X_train)\n",
    "     \n",
    "  print('Accuracy Test:', round(accuracy_score(y_test, y_pred),3))\n",
    "  print('Precision Train:', round(precision_score(y_train, y_pred_train),3))\n",
    "  print('Precision Test:', round(precision_score(y_test, y_pred),3))    \n",
    "  print('Recall Train:', round(recall_score(y_train, y_pred_train),10))\n",
    "  print('Recall Test:', round(recall_score(y_test, y_pred),10))\n",
    "\n",
    "  # score1 = cross_validate(model, X_train,y_train, cv=5, scoring='recall', return_train_score=True)\n",
    "  # print(\"roc_auc (crossval train):\" +str(score1['train_score'].mean()))\n",
    "  # print(\"roc_auc (crossval test):\" +str(score1['test_score'].mean()))\n",
    "\n",
    "  print('F1-Score Train:', round(f1_score(y_train, y_pred_train),3))\n",
    "  print('F1-Score Test:', round(f1_score(y_test, y_pred),3))\n",
    "  print('AUC (Train):', round(roc_auc_score(y_train, y_pred_proba_train[:,1]),3))\n",
    "  print('AUC (Test):', round(roc_auc_score(y_test, y_pred_proba[:,1]),3))\n",
    " \n",
    "  score = cross_validate(model, X_train,y_train, cv=5, scoring='roc_auc', return_train_score=True)\n",
    "  print(\"roc_auc (crossval train):\" +str(score['train_score'].mean()))\n",
    "  print(\"roc_auc (crossval test):\" +str(score['test_score'].mean()))"
   ]
  },
  {
   "cell_type": "markdown",
   "id": "7e91832c-5802-4d14-a9a1-cb40c71bd72f",
   "metadata": {
    "id": "LpO6AvzDfHcv"
   },
   "source": [
    "# Modeling Algorithm"
   ]
  },
  {
   "cell_type": "markdown",
   "id": "4e1ae062-3a84-482d-8f6a-62ccf4d05d5f",
   "metadata": {
    "id": "CHeLnN4_Cw73"
   },
   "source": [
    "## Logistic Regression"
   ]
  },
  {
   "cell_type": "code",
   "execution_count": 29,
   "id": "1beeee2d-f92a-45f9-97f2-a389151d0498",
   "metadata": {
    "colab": {
     "base_uri": "https://localhost:8080/"
    },
    "id": "ziG3dGTuC25J",
    "outputId": "ca3c39d6-236b-4dac-a807-f9d0abe1b7c5"
   },
   "outputs": [
    {
     "name": "stdout",
     "output_type": "stream",
     "text": [
      "Accuracy Test: 0.667\n",
      "Precision Train: 0.701\n",
      "Precision Test: 0.328\n",
      "Recall Train: 0.7211321968\n",
      "Recall Test: 0.6769230769\n",
      "F1-Score Train: 0.711\n",
      "F1-Score Test: 0.442\n",
      "AUC (Train): 0.767\n",
      "AUC (Test): 0.736\n",
      "roc_auc (crossval train):0.7668964785581339\n",
      "roc_auc (crossval test):0.7661629439123834\n"
     ]
    }
   ],
   "source": [
    "from sklearn.linear_model import LogisticRegression\n",
    "from sklearn.model_selection import RandomizedSearchCV, GridSearchCV\n",
    "lr_lbfgs = LogisticRegression()\n",
    "lr_lbfgs.fit(X_train, y_train)\n",
    "lr_pred_lbfgs = lr_lbfgs.predict(X_test)\n",
    "lr_pred_lbfgs_train = lr_lbfgs.predict(X_train)\n",
    "eval_classification(lr_lbfgs)"
   ]
  },
  {
   "cell_type": "code",
   "execution_count": 30,
   "id": "df733002-780f-476a-b1db-34ebef6349e5",
   "metadata": {
    "colab": {
     "base_uri": "https://localhost:8080/"
    },
    "id": "QllUNU5qZpFB",
    "outputId": "d5684905-e40a-4380-a2ca-0563270e699f"
   },
   "outputs": [
    {
     "name": "stdout",
     "output_type": "stream",
     "text": [
      "              precision    recall  f1-score   support\n",
      "\n",
      "           0       0.89      0.66      0.76      1610\n",
      "           1       0.33      0.68      0.44       390\n",
      "\n",
      "    accuracy                           0.67      2000\n",
      "   macro avg       0.61      0.67      0.60      2000\n",
      "weighted avg       0.78      0.67      0.70      2000\n",
      "\n",
      "              precision    recall  f1-score   support\n",
      "\n",
      "           0       0.71      0.69      0.70      6218\n",
      "           1       0.70      0.72      0.71      6218\n",
      "\n",
      "    accuracy                           0.71     12436\n",
      "   macro avg       0.71      0.71      0.71     12436\n",
      "weighted avg       0.71      0.71      0.71     12436\n",
      "\n"
     ]
    }
   ],
   "source": [
    "from sklearn.metrics import classification_report\n",
    "print(classification_report(y_test, lr_pred_lbfgs))#classification report for logistic model prediction\n",
    "print(classification_report(y_train, lr_pred_lbfgs_train))#classification report for logistic model prediction"
   ]
  },
  {
   "cell_type": "code",
   "execution_count": 31,
   "id": "e2fb12eb-ef3c-456c-83c3-9719c50718f5",
   "metadata": {
    "colab": {
     "base_uri": "https://localhost:8080/"
    },
    "id": "Z4ZHSPfYELNJ",
    "outputId": "931c36f7-eb84-4c6d-e893-e57c8751e470"
   },
   "outputs": [
    {
     "name": "stdout",
     "output_type": "stream",
     "text": [
      "[[1070  540]\n",
      " [ 126  264]]\n"
     ]
    }
   ],
   "source": [
    "from sklearn.metrics import confusion_matrix\n",
    "lr_lbfgs_cm = confusion_matrix(y_test, lr_pred_lbfgs)\n",
    "print(lr_lbfgs_cm)"
   ]
  },
  {
   "cell_type": "code",
   "execution_count": 32,
   "id": "85e096f1-f20b-4841-bc3e-de77696ed203",
   "metadata": {
    "colab": {
     "base_uri": "https://localhost:8080/",
     "height": 394
    },
    "id": "uB0p_X8eJXp2",
    "outputId": "ab52432a-e721-4b49-c503-d095aec2ef34",
    "tags": []
   },
   "outputs": [
    {
     "data": {
      "image/png": "[encoded data removed]",
      "text/plain": [
       "<Figure size 576x432 with 2 Axes>"
      ]
     },
     "metadata": {
      "needs_background": "light"
     },
     "output_type": "display_data"
    }
   ],
   "source": [
    "import seaborn as sns\n",
    "group_names = ['True Neg','False Pos','False Neg','True Pos']\n",
    "group_counts = ['{0:0.0f}'.format(value) for value in\n",
    "                lr_lbfgs_cm.flatten()]\n",
    "labels = [f\"{v1}\\n{v2}\" for v1, v2 in\n",
    "          zip(group_names,group_counts)]\n",
    "labels = np.asarray(labels).reshape(2,2)\n",
    "plt.figure(figsize=(8,6))\n",
    "plt.title('LogReg Default')\n",
    "sns.heatmap(lr_lbfgs_cm, annot=labels, annot_kws={'size':13}, fmt='', cmap='Blues')\n",
    "plt.show()"
   ]
  },
  {
   "cell_type": "markdown",
   "id": "3cf89510-2f9b-4129-a0e6-3842a2f41187",
   "metadata": {},
   "source": [
    "1. True Negative artinya kita prediksi tidak churn dan benar tidak churn,\n",
    "2. False Positive artinya kita prediksi churn ternyata tidak churn\n",
    "3. False Negative artinya kita prediksi tidak churn ternyata churn\n",
    "4. True Positive artinya kita prediksi churn dan benar churn"
   ]
  },
  {
   "cell_type": "code",
   "execution_count": 33,
   "id": "fb4aff22-b9d8-4fa3-a416-b81e1f5976a7",
   "metadata": {
    "id": "ihkmDdUfFC1U"
   },
   "outputs": [],
   "source": [
    "# mencari manual\n",
    "# Coding untuk men tuning manual, satu variabel di tuning.\n",
    "# dalam model logistic regresion di coding ini, yg dituning adalah variabel C, diambil dari nilai param_values\n",
    "import numpy as np\n",
    "from matplotlib import pyplot as plt\n",
    "from sklearn.linear_model import LogisticRegression\n",
    "from sklearn.neighbors import KNeighborsClassifier\n",
    "from sklearn.tree import DecisionTreeClassifier\n",
    "\n",
    "def draw_learning_curve_5(param_values, solver):\n",
    "    train_recal_score = []\n",
    "    train_accuracy_score = []\n",
    "    train_precision_score = []\n",
    "    test_recal_score = []\n",
    "    test_accuracy_score = []\n",
    "    test_precision_score = []\n",
    "\n",
    "    data = [train_recal_score, train_accuracy_score, train_precision_score, test_recal_score, test_accuracy_score, test_precision_score]\n",
    "    \n",
    "    for c in param_values:\n",
    "        model = LogisticRegression(C=c, solver = solver, class_weight='balanced') # , multi_class='multinomial'\n",
    "        model.fit(X_train, y_train)\n",
    "        y_pred = model.predict(X_test)\n",
    "        y_pred_train = model.predict(X_train)\n",
    "        y_pred_proba = model.predict_proba(X_test)\n",
    "        y_pred_proba_train = model.predict_proba(X_train)\n",
    "\n",
    "        # eval on train\n",
    "        train_recal = recall_score(y_train, y_pred_train)\n",
    "        train_accuracy = accuracy_score(y_train, y_pred_train)\n",
    "        train_precision = precision_score(y_train, y_pred_train)\n",
    "        \n",
    "        train_recal_score.append(train_recal)\n",
    "        train_accuracy_score.append(train_accuracy)\n",
    "        train_precision_score.append(train_precision)\n",
    "\n",
    "        # eval on test\n",
    "        test_recal = recall_score(y_test, y_pred)\n",
    "        test_accuracy = accuracy_score(y_test, y_pred)\n",
    "        test_precision = precision_score(y_test, y_pred)\n",
    "        \n",
    "        test_recal_score.append(test_recal)\n",
    "        test_accuracy_score.append(test_accuracy)\n",
    "        test_precision_score.append(test_precision)\n",
    "\n",
    "    fig = plt.figure(figsize=(10, 10))\n",
    "    ax = fig.add_subplot(3, 1, 1)\n",
    "    plt.plot(param_values, train_recal_score, label='Train')\n",
    "    plt.plot(param_values, test_recal_score, label='Test')\n",
    "    plt.xlabel('C')\n",
    "    plt.ylabel('Recall')\n",
    "    plt.title('Learning Curve - Hyperparameter C - Logistic Regression' + solver)\n",
    "    plt.legend()\n",
    "    \n",
    "    ax = fig.add_subplot(3, 1, 2)\n",
    "    plt.plot(param_values, train_accuracy_score, label='Train')\n",
    "    plt.plot(param_values, test_accuracy_score, label='Test')\n",
    "    plt.xlabel('C')\n",
    "    plt.ylabel('Accuracy')\n",
    "    plt.title('Learning Curve - Hyperparameter C - Logistic Regression' + solver)\n",
    "    plt.legend()\n",
    "    \n",
    "    ax = fig.add_subplot(3, 1, 3)\n",
    "    plt.plot(param_values, train_precision_score, label='Train')\n",
    "    plt.plot(param_values, test_precision_score, label='Test')\n",
    "    plt.xlabel('C')\n",
    "    plt.ylabel('Precision')\n",
    "    plt.title('Learning Curve - Hyperparameter C - Logistic Regression' + solver)\n",
    "    plt.legend()\n",
    "#     plt.savefig('Learning Curve - Hyperparameter C - Logistic Regression' + solver + '.png')\n",
    "    plt.show()"
   ]
  },
  {
   "cell_type": "code",
   "execution_count": 34,
   "id": "8c195b38-1d7d-44d5-a806-1a5dfa6204f6",
   "metadata": {
    "colab": {
     "base_uri": "https://localhost:8080/",
     "height": 625
    },
    "id": "ooTiuxVRFe9n",
    "outputId": "6cb53b03-4ac4-4a5d-a24f-7b5292ba484a"
   },
   "outputs": [
    {
     "data": {
      "image/png": "[encoded data removed]",
      "text/plain": [
       "<Figure size 720x720 with 3 Axes>"
      ]
     },
     "metadata": {
      "needs_background": "light"
     },
     "output_type": "display_data"
    }
   ],
   "source": [
    "# learning curve\n",
    "import numpy as np\n",
    "param_values = [float(x) for x in np.linspace(0.01, 1)]\n",
    "draw_learning_curve_5(param_values, 'lbfgs') # solver : saga"
   ]
  },
  {
   "cell_type": "code",
   "execution_count": 35,
   "id": "9c4c77b5-9837-401d-a76c-c4ceaf8739a9",
   "metadata": {},
   "outputs": [
    {
     "name": "stdout",
     "output_type": "stream",
     "text": [
      "Accuracy Test: 0.667\n",
      "Precision Train: 0.701\n",
      "Precision Test: 0.328\n",
      "Recall Train: 0.7211321968\n",
      "Recall Test: 0.6769230769\n",
      "F1-Score Train: 0.711\n",
      "F1-Score Test: 0.442\n",
      "AUC (Train): 0.767\n",
      "AUC (Test): 0.736\n",
      "roc_auc (crossval train):0.7669046176271858\n",
      "roc_auc (crossval test):0.766167985950383\n"
     ]
    }
   ],
   "source": [
    "# terbaik\n",
    "from sklearn.linear_model import LogisticRegression\n",
    "from sklearn.model_selection import RandomizedSearchCV, GridSearchCV\n",
    "lr_lbfgs = LogisticRegression(solver='lbfgs', C=0.81, class_weight='balanced') # C = 0.01 solver : saga , multi_class='multinomial'\n",
    "lr_lbfgs.fit(X_train, y_train)\n",
    "lr_pred_lbfgs = lr_lbfgs.predict(X_test)\n",
    "lr_pred_lbfgs_train = lr_lbfgs.predict(X_train)\n",
    "# print('Prediction:', lr_pred_lbfgs)\n",
    "eval_classification(lr_lbfgs)"
   ]
  },
  {
   "cell_type": "code",
   "execution_count": 36,
   "id": "549ae24c-bf12-46cb-81d7-a4dcff93a1aa",
   "metadata": {
    "colab": {
     "base_uri": "https://localhost:8080/"
    },
    "id": "Z4ZHSPfYELNJ",
    "outputId": "931c36f7-eb84-4c6d-e893-e57c8751e470"
   },
   "outputs": [
    {
     "name": "stdout",
     "output_type": "stream",
     "text": [
      "[[1070  540]\n",
      " [ 126  264]]\n"
     ]
    }
   ],
   "source": [
    "from sklearn.metrics import confusion_matrix\n",
    "lr_lbfgs_cm = confusion_matrix(y_test, lr_pred_lbfgs)\n",
    "print(lr_lbfgs_cm)"
   ]
  },
  {
   "cell_type": "code",
   "execution_count": 37,
   "id": "5002ed83-8161-4b37-9c80-5c489fcaf33a",
   "metadata": {
    "colab": {
     "base_uri": "https://localhost:8080/",
     "height": 394
    },
    "id": "uB0p_X8eJXp2",
    "outputId": "ab52432a-e721-4b49-c503-d095aec2ef34",
    "tags": []
   },
   "outputs": [
    {
     "data": {
      "image/png": "[encoded data removed]",
      "text/plain": [
       "<Figure size 576x432 with 2 Axes>"
      ]
     },
     "metadata": {
      "needs_background": "light"
     },
     "output_type": "display_data"
    }
   ],
   "source": [
    "import seaborn as sns\n",
    "group_names = ['True Neg','False Pos','False Neg','True Pos']\n",
    "group_counts = ['{0:0.0f}'.format(value) for value in\n",
    "                lr_lbfgs_cm.flatten()]\n",
    "labels = [f\"{v1}\\n{v2}\" for v1, v2 in\n",
    "          zip(group_names,group_counts)]\n",
    "labels = np.asarray(labels).reshape(2,2)\n",
    "plt.figure(figsize=(8,6))\n",
    "plt.title('LogReg Default')\n",
    "sns.heatmap(lr_lbfgs_cm, annot=labels, fmt='', cmap='Blues')\n",
    "plt.show()"
   ]
  },
  {
   "cell_type": "code",
   "execution_count": 38,
   "id": "a0f8f5b6-93b4-40e1-bec8-ac8753df9c82",
   "metadata": {},
   "outputs": [
    {
     "data": {
      "image/png": "[encoded data removed]",
      "text/plain": [
       "<Figure size 720x720 with 1 Axes>"
      ]
     },
     "metadata": {
      "needs_background": "light"
     },
     "output_type": "display_data"
    }
   ],
   "source": [
    "fig = plt.figure(figsize=(10, 10))\n",
    "ftimp = pd.Series(lr_lbfgs.coef_[0], index=X_train.columns)\n",
    "# ax = fig.add_subplot(3, 3, i+1)\n",
    "ax = ftimp.nlargest(20).plot(kind='barh')\n",
    "plt.title('Feature Importance LogReg')\n",
    "# plt.ylim()\n",
    "plt.tight_layout()\n",
    "# plt.savefig('Feature Importance LogReg.png')"
   ]
  },
  {
   "cell_type": "markdown",
   "id": "54c1b805-380e-45e5-aa96-c647889b7d8d",
   "metadata": {
    "id": "E8OOVxCswPU5"
   },
   "source": [
    "## XGboost"
   ]
  },
  {
   "cell_type": "code",
   "execution_count": 39,
   "id": "cd5f29fa-0b95-4956-917f-27eb1323151b",
   "metadata": {
    "id": "ZR1Wfx-iwqaq",
    "tags": []
   },
   "outputs": [
    {
     "name": "stdout",
     "output_type": "stream",
     "text": [
      "Accuracy Test: 0.667\n",
      "Precision Train: 0.701\n",
      "Precision Test: 0.329\n",
      "Recall Train: 0.7217754905\n",
      "Recall Test: 0.6794871795\n",
      "F1-Score Train: 0.711\n",
      "F1-Score Test: 0.443\n",
      "AUC (Train): 0.767\n",
      "AUC (Test): 0.736\n",
      "roc_auc (crossval train):0.7668767329181032\n",
      "roc_auc (crossval test):0.7661418654819447\n"
     ]
    }
   ],
   "source": [
    "from xgboost import XGBClassifier\n",
    "from sklearn.ensemble import GradientBoostingClassifier\n",
    "xgb= XGBClassifier(booster='gblinear', random_state=42)\n",
    "xgb.fit(X_train, y_train)\n",
    "eval_classification(xgb)"
   ]
  },
  {
   "cell_type": "code",
   "execution_count": 40,
   "id": "465496d2-a6ff-42bc-a967-1469597f8c34",
   "metadata": {
    "id": "82K6H0IdwwQG"
   },
   "outputs": [],
   "source": [
    "xgb_pred = xgb.predict(X_test)\n",
    "xgb_pred_train = xgb.predict(X_train)\n",
    "# xgb_pred"
   ]
  },
  {
   "cell_type": "code",
   "execution_count": 41,
   "id": "01eb0c72-700f-45a6-98ef-b4987300118d",
   "metadata": {
    "id": "dh-MCz5MZpFT"
   },
   "outputs": [
    {
     "name": "stdout",
     "output_type": "stream",
     "text": [
      "              precision    recall  f1-score   support\n",
      "\n",
      "           0       0.90      0.66      0.76      1610\n",
      "           1       0.33      0.68      0.44       390\n",
      "\n",
      "    accuracy                           0.67      2000\n",
      "   macro avg       0.61      0.67      0.60      2000\n",
      "weighted avg       0.78      0.67      0.70      2000\n",
      "\n",
      "              precision    recall  f1-score   support\n",
      "\n",
      "           0       0.71      0.69      0.70      6218\n",
      "           1       0.70      0.72      0.71      6218\n",
      "\n",
      "    accuracy                           0.71     12436\n",
      "   macro avg       0.71      0.71      0.71     12436\n",
      "weighted avg       0.71      0.71      0.71     12436\n",
      "\n"
     ]
    }
   ],
   "source": [
    "from sklearn.metrics import classification_report\n",
    "print(classification_report(y_test, xgb_pred))#classification report for logistic model prediction\n",
    "print(classification_report(y_train, xgb_pred_train))#classification report for logistic model prediction"
   ]
  },
  {
   "cell_type": "code",
   "execution_count": 42,
   "id": "da93a602-850d-447b-9c3a-60192997d62b",
   "metadata": {
    "id": "X2Pnup9jw4U5"
   },
   "outputs": [
    {
     "name": "stdout",
     "output_type": "stream",
     "text": [
      "[[1069  541]\n",
      " [ 125  265]]\n"
     ]
    }
   ],
   "source": [
    "from sklearn.metrics import confusion_matrix\n",
    "xgb_cm = confusion_matrix(y_test, xgb_pred)\n",
    "print(xgb_cm)"
   ]
  },
  {
   "cell_type": "code",
   "execution_count": 43,
   "id": "83d84bc0-a8b1-43eb-a851-febfcf493897",
   "metadata": {},
   "outputs": [
    {
     "data": {
      "image/png": "[encoded data removed]",
      "text/plain": [
       "<Figure size 576x432 with 2 Axes>"
      ]
     },
     "metadata": {
      "needs_background": "light"
     },
     "output_type": "display_data"
    }
   ],
   "source": [
    "import seaborn as sns\n",
    "group_names = ['True Neg','False Pos','False Neg','True Pos']\n",
    "group_counts = ['{0:0.0f}'.format(value) for value in\n",
    "                xgb_cm.flatten()]\n",
    "labels = [f\"{v1}\\n{v2}\" for v1, v2 in\n",
    "          zip(group_names,group_counts)]\n",
    "labels = np.asarray(labels).reshape(2,2)\n",
    "plt.figure(figsize=(8,6))\n",
    "plt.title('XGBoost Before Tunning')\n",
    "sns.heatmap(xgb_cm, annot=labels, fmt='', cmap='Blues') #Blues , Crest\n",
    "plt.xlabel('Predicted')\n",
    "plt.ylabel('Actual')\n",
    "plt.show()"
   ]
  },
  {
   "cell_type": "code",
   "execution_count": 44,
   "id": "0921ee43-f8cc-4912-9958-e519489ef3e2",
   "metadata": {},
   "outputs": [
    {
     "name": "stdout",
     "output_type": "stream",
     "text": [
      "Fitting 5 folds for each of 18 candidates, totalling 90 fits\n",
      "[CV 1/5] END booster=gblinear, eval_metric=auc, objective=binary:logistic;, score=0.719 total time=   0.7s\n",
      "[CV 2/5] END booster=gblinear, eval_metric=auc, objective=binary:logistic;, score=0.708 total time=   0.2s\n",
      "[CV 3/5] END booster=gblinear, eval_metric=auc, objective=binary:logistic;, score=0.739 total time=   0.3s\n",
      "[CV 4/5] END booster=gblinear, eval_metric=auc, objective=binary:logistic;, score=0.739 total time=   0.9s\n",
      "[CV 5/5] END booster=gblinear, eval_metric=auc, objective=binary:logistic;, score=0.701 total time=   0.3s\n",
      "[CV 1/5] END booster=gblinear, eval_metric=auc, objective=binary:logitraw;, score=0.514 total time=   0.4s\n",
      "[CV 2/5] END booster=gblinear, eval_metric=auc, objective=binary:logitraw;, score=0.516 total time=   0.3s\n",
      "[CV 3/5] END booster=gblinear, eval_metric=auc, objective=binary:logitraw;, score=0.547 total time=   0.2s\n",
      "[CV 4/5] END booster=gblinear, eval_metric=auc, objective=binary:logitraw;, score=0.554 total time=   0.2s\n",
      "[CV 5/5] END booster=gblinear, eval_metric=auc, objective=binary:logitraw;, score=0.508 total time=   0.2s\n",
      "[CV 1/5] END booster=gblinear, eval_metric=auc, objective=binary:hinge;, score=0.717 total time=   0.2s\n",
      "[CV 2/5] END booster=gblinear, eval_metric=auc, objective=binary:hinge;, score=0.716 total time=   0.2s\n",
      "[CV 3/5] END booster=gblinear, eval_metric=auc, objective=binary:hinge;, score=0.736 total time=   0.2s\n",
      "[CV 4/5] END booster=gblinear, eval_metric=auc, objective=binary:hinge;, score=0.747 total time=   0.2s\n",
      "[CV 5/5] END booster=gblinear, eval_metric=auc, objective=binary:hinge;, score=0.691 total time=   0.4s\n",
      "[CV 1/5] END booster=gblinear, eval_metric=error, objective=binary:logistic;, score=0.719 total time=   0.1s\n",
      "[CV 2/5] END booster=gblinear, eval_metric=error, objective=binary:logistic;, score=0.708 total time=   0.2s\n",
      "[CV 3/5] END booster=gblinear, eval_metric=error, objective=binary:logistic;, score=0.739 total time=   0.2s\n",
      "[CV 4/5] END booster=gblinear, eval_metric=error, objective=binary:logistic;, score=0.741 total time=   0.2s\n",
      "[CV 5/5] END booster=gblinear, eval_metric=error, objective=binary:logistic;, score=0.701 total time=   0.2s\n",
      "[CV 1/5] END booster=gblinear, eval_metric=error, objective=binary:logitraw;, score=0.514 total time=   0.2s\n",
      "[CV 2/5] END booster=gblinear, eval_metric=error, objective=binary:logitraw;, score=0.516 total time=   0.2s\n",
      "[CV 3/5] END booster=gblinear, eval_metric=error, objective=binary:logitraw;, score=0.544 total time=   0.2s\n",
      "[CV 4/5] END booster=gblinear, eval_metric=error, objective=binary:logitraw;, score=0.554 total time=   0.2s\n",
      "[CV 5/5] END booster=gblinear, eval_metric=error, objective=binary:logitraw;, score=0.508 total time=   0.2s\n",
      "[CV 1/5] END booster=gblinear, eval_metric=error, objective=binary:hinge;, score=0.715 total time=   0.2s\n",
      "[CV 2/5] END booster=gblinear, eval_metric=error, objective=binary:hinge;, score=0.713 total time=   0.2s\n",
      "[CV 3/5] END booster=gblinear, eval_metric=error, objective=binary:hinge;, score=0.736 total time=   0.2s\n",
      "[CV 4/5] END booster=gblinear, eval_metric=error, objective=binary:hinge;, score=0.745 total time=   0.3s\n",
      "[CV 5/5] END booster=gblinear, eval_metric=error, objective=binary:hinge;, score=0.691 total time=   0.2s\n",
      "[CV 1/5] END booster=gblinear, eval_metric=merror, objective=binary:logistic;, score=0.719 total time=   0.2s\n",
      "[CV 2/5] END booster=gblinear, eval_metric=merror, objective=binary:logistic;, score=0.708 total time=   0.2s\n",
      "[CV 3/5] END booster=gblinear, eval_metric=merror, objective=binary:logistic;, score=0.740 total time=   0.2s\n",
      "[CV 4/5] END booster=gblinear, eval_metric=merror, objective=binary:logistic;, score=0.741 total time=   0.2s\n",
      "[CV 5/5] END booster=gblinear, eval_metric=merror, objective=binary:logistic;, score=0.701 total time=   0.2s\n",
      "[CV 1/5] END booster=gblinear, eval_metric=merror, objective=binary:logitraw;, score=0.514 total time=   0.2s\n",
      "[CV 2/5] END booster=gblinear, eval_metric=merror, objective=binary:logitraw;, score=0.516 total time=   0.2s\n",
      "[CV 3/5] END booster=gblinear, eval_metric=merror, objective=binary:logitraw;, score=0.547 total time=   0.2s\n",
      "[CV 4/5] END booster=gblinear, eval_metric=merror, objective=binary:logitraw;, score=0.554 total time=   0.2s\n",
      "[CV 5/5] END booster=gblinear, eval_metric=merror, objective=binary:logitraw;, score=0.508 total time=   0.2s\n",
      "[CV 1/5] END booster=gblinear, eval_metric=merror, objective=binary:hinge;, score=0.715 total time=   0.2s\n",
      "[CV 2/5] END booster=gblinear, eval_metric=merror, objective=binary:hinge;, score=0.713 total time=   0.2s\n",
      "[CV 3/5] END booster=gblinear, eval_metric=merror, objective=binary:hinge;, score=0.736 total time=   0.2s\n",
      "[CV 4/5] END booster=gblinear, eval_metric=merror, objective=binary:hinge;, score=0.746 total time=   0.2s\n",
      "[CV 5/5] END booster=gblinear, eval_metric=merror, objective=binary:hinge;, score=0.691 total time=   0.2s\n",
      "[CV 1/5] END booster=gbtree, eval_metric=auc, objective=binary:logistic;, score=0.920 total time=   2.8s\n",
      "[CV 2/5] END booster=gbtree, eval_metric=auc, objective=binary:logistic;, score=0.907 total time=   1.3s\n",
      "[CV 3/5] END booster=gbtree, eval_metric=auc, objective=binary:logistic;, score=0.942 total time=   1.0s\n",
      "[CV 4/5] END booster=gbtree, eval_metric=auc, objective=binary:logistic;, score=0.944 total time=   1.1s\n",
      "[CV 5/5] END booster=gbtree, eval_metric=auc, objective=binary:logistic;, score=0.939 total time=   1.5s\n",
      "[CV 1/5] END booster=gbtree, eval_metric=auc, objective=binary:logitraw;, score=0.855 total time=   1.4s\n",
      "[CV 2/5] END booster=gbtree, eval_metric=auc, objective=binary:logitraw;, score=0.862 total time=   1.5s\n",
      "[CV 3/5] END booster=gbtree, eval_metric=auc, objective=binary:logitraw;, score=0.883 total time=   1.5s\n",
      "[CV 4/5] END booster=gbtree, eval_metric=auc, objective=binary:logitraw;, score=0.895 total time=   1.7s\n",
      "[CV 5/5] END booster=gbtree, eval_metric=auc, objective=binary:logitraw;, score=0.887 total time=   1.2s\n",
      "[CV 1/5] END booster=gbtree, eval_metric=auc, objective=binary:hinge;, score=0.880 total time=   1.3s\n",
      "[CV 2/5] END booster=gbtree, eval_metric=auc, objective=binary:hinge;, score=0.868 total time=   2.4s\n",
      "[CV 3/5] END booster=gbtree, eval_metric=auc, objective=binary:hinge;, score=0.889 total time=   1.6s\n",
      "[CV 4/5] END booster=gbtree, eval_metric=auc, objective=binary:hinge;, score=0.881 total time=   1.2s\n",
      "[CV 5/5] END booster=gbtree, eval_metric=auc, objective=binary:hinge;, score=0.891 total time=   1.6s\n",
      "[CV 1/5] END booster=gbtree, eval_metric=error, objective=binary:logistic;, score=0.920 total time=   2.9s\n",
      "[CV 2/5] END booster=gbtree, eval_metric=error, objective=binary:logistic;, score=0.907 total time=   2.1s\n",
      "[CV 3/5] END booster=gbtree, eval_metric=error, objective=binary:logistic;, score=0.942 total time=   3.1s\n",
      "[CV 4/5] END booster=gbtree, eval_metric=error, objective=binary:logistic;, score=0.944 total time=   1.3s\n",
      "[CV 5/5] END booster=gbtree, eval_metric=error, objective=binary:logistic;, score=0.939 total time=   1.2s\n",
      "[CV 1/5] END booster=gbtree, eval_metric=error, objective=binary:logitraw;, score=0.855 total time=   1.5s\n",
      "[CV 2/5] END booster=gbtree, eval_metric=error, objective=binary:logitraw;, score=0.862 total time=   3.0s\n",
      "[CV 3/5] END booster=gbtree, eval_metric=error, objective=binary:logitraw;, score=0.883 total time=   3.4s\n",
      "[CV 4/5] END booster=gbtree, eval_metric=error, objective=binary:logitraw;, score=0.895 total time=   1.8s\n",
      "[CV 5/5] END booster=gbtree, eval_metric=error, objective=binary:logitraw;, score=0.887 total time=   1.5s\n",
      "[CV 1/5] END booster=gbtree, eval_metric=error, objective=binary:hinge;, score=0.880 total time=   1.4s\n",
      "[CV 2/5] END booster=gbtree, eval_metric=error, objective=binary:hinge;, score=0.868 total time=   1.5s\n",
      "[CV 3/5] END booster=gbtree, eval_metric=error, objective=binary:hinge;, score=0.889 total time=   1.2s\n",
      "[CV 4/5] END booster=gbtree, eval_metric=error, objective=binary:hinge;, score=0.881 total time=   1.0s\n",
      "[CV 5/5] END booster=gbtree, eval_metric=error, objective=binary:hinge;, score=0.891 total time=   1.1s\n",
      "[CV 1/5] END booster=gbtree, eval_metric=merror, objective=binary:logistic;, score=0.920 total time=   1.1s\n",
      "[CV 2/5] END booster=gbtree, eval_metric=merror, objective=binary:logistic;, score=0.907 total time=   1.4s\n",
      "[CV 3/5] END booster=gbtree, eval_metric=merror, objective=binary:logistic;, score=0.942 total time=   1.5s\n",
      "[CV 4/5] END booster=gbtree, eval_metric=merror, objective=binary:logistic;, score=0.944 total time=   1.4s\n",
      "[CV 5/5] END booster=gbtree, eval_metric=merror, objective=binary:logistic;, score=0.939 total time=   1.6s\n",
      "[CV 1/5] END booster=gbtree, eval_metric=merror, objective=binary:logitraw;, score=0.855 total time=   1.4s\n",
      "[CV 2/5] END booster=gbtree, eval_metric=merror, objective=binary:logitraw;, score=0.862 total time=   1.5s\n",
      "[CV 3/5] END booster=gbtree, eval_metric=merror, objective=binary:logitraw;, score=0.883 total time=   1.1s\n",
      "[CV 4/5] END booster=gbtree, eval_metric=merror, objective=binary:logitraw;, score=0.895 total time=   1.1s\n",
      "[CV 5/5] END booster=gbtree, eval_metric=merror, objective=binary:logitraw;, score=0.887 total time=   1.1s\n",
      "[CV 1/5] END booster=gbtree, eval_metric=merror, objective=binary:hinge;, score=0.880 total time=   1.2s\n",
      "[CV 2/5] END booster=gbtree, eval_metric=merror, objective=binary:hinge;, score=0.868 total time=   1.0s\n",
      "[CV 3/5] END booster=gbtree, eval_metric=merror, objective=binary:hinge;, score=0.889 total time=   1.3s\n",
      "[CV 4/5] END booster=gbtree, eval_metric=merror, objective=binary:hinge;, score=0.881 total time=   1.4s\n",
      "[CV 5/5] END booster=gbtree, eval_metric=merror, objective=binary:hinge;, score=0.891 total time=   1.4s\n"
     ]
    },
    {
     "data": {
      "text/plain": [
       "RandomizedSearchCV(cv=5,\n",
       "                   estimator=XGBClassifier(base_score=None, booster=None,\n",
       "                                           callbacks=None,\n",
       "                                           colsample_bylevel=None,\n",
       "                                           colsample_bynode=None,\n",
       "                                           colsample_bytree=None,\n",
       "                                           early_stopping_rounds=None,\n",
       "                                           enable_categorical=False,\n",
       "                                           eval_metric=None, feature_types=None,\n",
       "                                           gamma=None, gpu_id=None,\n",
       "                                           grow_policy=None,\n",
       "                                           importance_type=None,\n",
       "                                           interaction_constraints=None,\n",
       "                                           learning_rate...\n",
       "                                           max_leaves=None,\n",
       "                                           min_child_weight=None, missing=nan,\n",
       "                                           monotone_constraints=None,\n",
       "                                           n_estimators=100, n_jobs=None,\n",
       "                                           num_parallel_tree=None,\n",
       "                                           predictor=None, random_state=None, ...),\n",
       "                   n_iter=20,\n",
       "                   param_distributions={'booster': ['gblinear', 'gbtree'],\n",
       "                                        'eval_metric': ['auc', 'error',\n",
       "                                                        'merror'],\n",
       "                                        'objective': ['binary:logistic',\n",
       "                                                      'binary:logitraw',\n",
       "                                                      'binary:hinge']},\n",
       "                   scoring='recall', verbose=3)"
      ]
     },
     "execution_count": 44,
     "metadata": {},
     "output_type": "execute_result"
    }
   ],
   "source": [
    "from sklearn.model_selection import RandomizedSearchCV\n",
    "from xgboost import XGBClassifier\n",
    "# defining parameter range\n",
    "param_grid = {'booster': ['gblinear','gbtree'], \n",
    "              'eval_metric': ['auc','error','merror'],\n",
    "              'objective': ['binary:logistic','binary:logitraw','binary:hinge']}\n",
    "  \n",
    "random = RandomizedSearchCV(XGBClassifier(), param_grid, refit = True, verbose = 3, scoring='recall', cv=5,n_iter=20)\n",
    "# random = RandomizedSearchCV(XGBClassifier(), param_grid, scoring='recall',\n",
    "                            # random_state=42, n_iter=10, cv=5, verbose=1, n_jobs=1, return_train_score=True)\n",
    " \n",
    "# fitting the model for grid search\n",
    "random.fit(X_train, y_train)"
   ]
  },
  {
   "cell_type": "code",
   "execution_count": 45,
   "id": "083f0aac-ccb3-4ef2-9f69-7d80ac37276c",
   "metadata": {},
   "outputs": [
    {
     "name": "stdout",
     "output_type": "stream",
     "text": [
      "XGBClassifier(base_score=0.5, booster='gbtree', callbacks=None,\n",
      "              colsample_bylevel=1, colsample_bynode=1, colsample_bytree=1,\n",
      "              early_stopping_rounds=None, enable_categorical=False,\n",
      "              eval_metric='auc', feature_types=None, gamma=0, gpu_id=-1,\n",
      "              grow_policy='depthwise', importance_type=None,\n",
      "              interaction_constraints='', learning_rate=0.300000012,\n",
      "              max_bin=256, max_cat_threshold=64, max_cat_to_onehot=4,\n",
      "              max_delta_step=0, max_depth=6, max_leaves=0, min_child_weight=1,\n",
      "              missing=nan, monotone_constraints='()', n_estimators=100,\n",
      "              n_jobs=0, num_parallel_tree=1, predictor='auto', random_state=0, ...) {'booster': ['gblinear', 'gbtree'], 'eval_metric': ['auc', 'error', 'merror'], 'objective': ['binary:logistic', 'binary:logitraw', 'binary:hinge']}\n"
     ]
    }
   ],
   "source": [
    "print(random.best_estimator_, param_grid)"
   ]
  },
  {
   "cell_type": "code",
   "execution_count": 46,
   "id": "809d75b2-8b62-4f0a-8ba2-c3a53c23a014",
   "metadata": {},
   "outputs": [
    {
     "name": "stdout",
     "output_type": "stream",
     "text": [
      "{'objective': 'binary:logistic', 'eval_metric': 'auc', 'booster': 'gbtree'}\n"
     ]
    }
   ],
   "source": [
    "print(random.best_params_)"
   ]
  },
  {
   "cell_type": "code",
   "execution_count": 47,
   "id": "f5513cfb-e9f1-4acf-a2ae-39d74020acba",
   "metadata": {},
   "outputs": [
    {
     "name": "stdout",
     "output_type": "stream",
     "text": [
      "Accuracy Test: 0.82\n",
      "Precision Train: 0.951\n",
      "Precision Test: 0.535\n",
      "Recall Train: 0.9704084915\n",
      "Recall Test: 0.6\n",
      "F1-Score Train: 0.961\n",
      "F1-Score Test: 0.566\n",
      "AUC (Train): 0.993\n",
      "AUC (Test): 0.819\n",
      "roc_auc (crossval train):0.9935304285746895\n",
      "roc_auc (crossval test):0.9589056847397025\n"
     ]
    }
   ],
   "source": [
    "from xgboost import XGBClassifier\n",
    "from sklearn.ensemble import GradientBoostingClassifier\n",
    "xgb= XGBClassifier(objective=\"binary:logistic\", random_state=42, booster='gbtree',\n",
    "                  eval_metric='auc')#booster='gblinear', 'gbtree', 'gbdart'\n",
    "# setelah dilakukan percobaan trial and error booster terbaik adalah 'gblinear' karna gap nilai recall train test tidak jauh\n",
    "xgb.fit(X_train, y_train)\n",
    "eval_classification(xgb)"
   ]
  },
  {
   "cell_type": "code",
   "execution_count": 48,
   "id": "cc9fe215-43f2-4dc8-9d08-93df01f6e121",
   "metadata": {},
   "outputs": [
    {
     "data": {
      "image/png": "[encoded data removed]",
      "text/plain": [
       "<Figure size 432x288 with 1 Axes>"
      ]
     },
     "metadata": {
      "needs_background": "light"
     },
     "output_type": "display_data"
    }
   ],
   "source": [
    "from xgboost import plot_importance\n",
    "from matplotlib import pyplot\n",
    "from xgboost import XGBClassifier\n",
    "from sklearn.ensemble import GradientBoostingClassifier\n",
    "xgb = XGBClassifier(objective=\"binary:logistic\", random_state=42, booster='gbtree',\n",
    "                  eval_metric='auc')\n",
    "xgb.fit(X_train, y_train)\n",
    "# plot feature importance\n",
    "plot_importance(xgb)\n",
    "# left, bottom, width, height = (0, 12.7, 3.3 , 2.7)\n",
    "# rect = mpatches.Rectangle((left,bottom),width,height, fill=True, \n",
    "                          # alpha=0.2, facecolor='red', edgecolor='black')\n",
    "# plt.gca().add_patch(rect);\n",
    "# plt.text(2.76, 13.4, 'These feature can\\n be an opportunity\\n to increase our\\n business !', fontsize=14, fontstyle='italic',\n",
    "        # color='blue', fontweight='bold')\n",
    "plt.title('Feature Importance',fontsize=22, fontweight='bold', fontname=\"Comic Sans MS\")\n",
    "# plt.ylim(6.5, 16)\n",
    "# plt.xlim(0,4)\n",
    "pyplot.show()"
   ]
  },
  {
   "cell_type": "markdown",
   "id": "925f0784-6b90-436e-94e8-88df5567cfdb",
   "metadata": {
    "id": "PDBAVfkFwtnZ"
   },
   "source": [
    "## SVM"
   ]
  },
  {
   "cell_type": "code",
   "execution_count": 49,
   "id": "360c11cc-4bbf-46f3-98d7-bff22c3c272b",
   "metadata": {
    "id": "90d1sbk35REY"
   },
   "outputs": [
    {
     "name": "stdout",
     "output_type": "stream",
     "text": [
      "Accuracy Test: 0.68\n",
      "Precision Train: 0.709\n",
      "Precision Test: 0.338\n",
      "Recall Train: 0.7193631393\n",
      "Recall Test: 0.6666666667\n",
      "F1-Score Train: 0.714\n",
      "F1-Score Test: 0.449\n",
      "AUC (Train): 0.768\n",
      "AUC (Test): 0.737\n",
      "roc_auc (crossval train):0.7676890484594445\n",
      "roc_auc (crossval test):0.7669690493810136\n"
     ]
    }
   ],
   "source": [
    "from sklearn import svm\n",
    "clf = svm.SVC(probability=True,  kernel='linear') #parameter hyper C=0.9990990001\n",
    "clf.fit(X_train, y_train)\n",
    "eval_classification(clf)"
   ]
  },
  {
   "cell_type": "code",
   "execution_count": 58,
   "id": "2101848e-8a10-4476-b2b8-72b3e5c4729d",
   "metadata": {
    "id": "VGIUtTAo6KXw"
   },
   "outputs": [
    {
     "name": "stdout",
     "output_type": "stream",
     "text": [
      "Predicton: [0 0 0 ... 0 1 0]\n"
     ]
    }
   ],
   "source": [
    "from sklearn import svm\n",
    "from sklearn.model_selection import RandomizedSearchCV, GridSearchCV\n",
    "clf = svm.SVC(probability=True,kernel='linear')\n",
    "clf.fit(X_train, y_train)\n",
    "clf_pred = clf.predict(X_test)\n",
    "clf_pred_train = clf.predict(X_train)\n",
    "print('Predicton:', clf_pred)"
   ]
  },
  {
   "cell_type": "code",
   "execution_count": 55,
   "id": "49b506ef-15a9-4146-8a99-e33044d475b8",
   "metadata": {
    "id": "HHbcyE-tZpFn"
   },
   "outputs": [
    {
     "name": "stdout",
     "output_type": "stream",
     "text": [
      "              precision    recall  f1-score   support\n",
      "\n",
      "           0       0.89      0.68      0.78      1610\n",
      "           1       0.34      0.67      0.45       390\n",
      "\n",
      "    accuracy                           0.68      2000\n",
      "   macro avg       0.62      0.68      0.61      2000\n",
      "weighted avg       0.79      0.68      0.71      2000\n",
      "\n",
      "              precision    recall  f1-score   support\n",
      "\n",
      "           0       0.72      0.70      0.71      6218\n",
      "           1       0.71      0.72      0.71      6218\n",
      "\n",
      "    accuracy                           0.71     12436\n",
      "   macro avg       0.71      0.71      0.71     12436\n",
      "weighted avg       0.71      0.71      0.71     12436\n",
      "\n"
     ]
    }
   ],
   "source": [
    "from sklearn.metrics import classification_report\n",
    "print(classification_report(y_test, clf_pred))#classification report for logistic model prediction\n",
    "print(classification_report(y_train, clf_pred_train))#classification report for logistic model prediction"
   ]
  },
  {
   "cell_type": "code",
   "execution_count": 56,
   "id": "79cfe23b-30ef-487d-870a-aaa813066015",
   "metadata": {
    "id": "3Ehqc03L6K6n"
   },
   "outputs": [
    {
     "name": "stdout",
     "output_type": "stream",
     "text": [
      "[[1101  509]\n",
      " [ 130  260]]\n"
     ]
    }
   ],
   "source": [
    "from sklearn.metrics import confusion_matrix\n",
    "clf_cm = confusion_matrix(y_test, clf_pred)\n",
    "print(clf_cm)"
   ]
  },
  {
   "cell_type": "code",
   "execution_count": 57,
   "id": "6b7753c1-99c5-429e-8cf6-b678dc5ef539",
   "metadata": {
    "id": "876Ns8ze6OII"
   },
   "outputs": [
    {
     "data": {
      "image/png": "[encoded data removed]",
      "text/plain": [
       "<Figure size 576x432 with 2 Axes>"
      ]
     },
     "metadata": {
      "needs_background": "light"
     },
     "output_type": "display_data"
    }
   ],
   "source": [
    "import seaborn as sns\n",
    "group_names = ['True Neg','False Pos','False Neg','True Pos']\n",
    "group_counts = ['{0:0.0f}'.format(value) for value in\n",
    "                clf_cm.flatten()]\n",
    "labels = [f\"{v1}\\n{v2}\" for v1, v2 in\n",
    "          zip(group_names,group_counts)]\n",
    "labels = np.asarray(labels).reshape(2,2)\n",
    "plt.figure(figsize=(8,6))\n",
    "plt.title('SVM Kernel=Linear After Tunning')\n",
    "sns.heatmap(clf_cm, annot=labels, fmt='', cmap='Blues')\n",
    "plt.show()"
   ]
  },
  {
   "cell_type": "code",
   "execution_count": 59,
   "id": "d6686de7-b4fd-4b1d-b5d6-b287fed40540",
   "metadata": {
    "id": "90d1sbk35REY"
   },
   "outputs": [
    {
     "name": "stdout",
     "output_type": "stream",
     "text": [
      "Accuracy Test: 0.806\n",
      "Precision Train: 0.82\n",
      "Precision Test: 0.502\n",
      "Recall Train: 0.7510453522\n",
      "Recall Test: 0.6743589744\n",
      "F1-Score Train: 0.784\n",
      "F1-Score Test: 0.575\n",
      "AUC (Train): 0.87\n",
      "AUC (Test): 0.838\n",
      "roc_auc (crossval train):0.8687084915708047\n",
      "roc_auc (crossval test):0.8596142163654019\n"
     ]
    }
   ],
   "source": [
    "from sklearn import svm\n",
    "clf = svm.SVC(probability=True,  kernel='rbf') #parameter hyper C=0.9990990001\n",
    "clf.fit(X_train, y_train)\n",
    "eval_classification(clf)"
   ]
  },
  {
   "cell_type": "code",
   "execution_count": 60,
   "id": "b745922e-d5d4-4825-9817-31e12c9441ce",
   "metadata": {
    "id": "VGIUtTAo6KXw"
   },
   "outputs": [
    {
     "name": "stdout",
     "output_type": "stream",
     "text": [
      "Predicton: [0 0 0 ... 0 0 0]\n"
     ]
    }
   ],
   "source": [
    "from sklearn import svm\n",
    "from sklearn.model_selection import RandomizedSearchCV, GridSearchCV\n",
    "clf = svm.SVC(probability=True,kernel='rbf')\n",
    "clf.fit(X_train, y_train)\n",
    "clf_pred = clf.predict(X_test)\n",
    "clf_pred_train = clf.predict(X_train)\n",
    "print('Predicton:', clf_pred)"
   ]
  },
  {
   "cell_type": "code",
   "execution_count": 61,
   "id": "64a1518a-b009-4049-a168-0246fb1b99bb",
   "metadata": {
    "id": "HHbcyE-tZpFn"
   },
   "outputs": [
    {
     "name": "stdout",
     "output_type": "stream",
     "text": [
      "              precision    recall  f1-score   support\n",
      "\n",
      "           0       0.91      0.84      0.87      1610\n",
      "           1       0.50      0.67      0.58       390\n",
      "\n",
      "    accuracy                           0.81      2000\n",
      "   macro avg       0.71      0.76      0.72      2000\n",
      "weighted avg       0.83      0.81      0.82      2000\n",
      "\n",
      "              precision    recall  f1-score   support\n",
      "\n",
      "           0       0.77      0.84      0.80      6218\n",
      "           1       0.82      0.75      0.78      6218\n",
      "\n",
      "    accuracy                           0.79     12436\n",
      "   macro avg       0.80      0.79      0.79     12436\n",
      "weighted avg       0.80      0.79      0.79     12436\n",
      "\n"
     ]
    }
   ],
   "source": [
    "from sklearn.metrics import classification_report\n",
    "print(classification_report(y_test, clf_pred))#classification report for logistic model prediction\n",
    "print(classification_report(y_train, clf_pred_train))#classification report for logistic model prediction"
   ]
  },
  {
   "cell_type": "code",
   "execution_count": 62,
   "id": "24b11c8b-fb0a-408e-8bde-ef1e8fc7446c",
   "metadata": {
    "id": "3Ehqc03L6K6n"
   },
   "outputs": [
    {
     "name": "stdout",
     "output_type": "stream",
     "text": [
      "[[1349  261]\n",
      " [ 127  263]]\n"
     ]
    }
   ],
   "source": [
    "from sklearn.metrics import confusion_matrix\n",
    "clf_cm = confusion_matrix(y_test, clf_pred)\n",
    "print(clf_cm)"
   ]
  },
  {
   "cell_type": "code",
   "execution_count": 64,
   "id": "b8f10cd9-62d5-4f8d-b15a-526ee37af498",
   "metadata": {
    "id": "876Ns8ze6OII"
   },
   "outputs": [
    {
     "data": {
      "image/png": "[encoded data removed]",
      "text/plain": [
       "<Figure size 576x432 with 2 Axes>"
      ]
     },
     "metadata": {
      "needs_background": "light"
     },
     "output_type": "display_data"
    }
   ],
   "source": [
    "import seaborn as sns\n",
    "group_names = ['True Neg','False Pos','False Neg','True Pos']\n",
    "group_counts = ['{0:0.0f}'.format(value) for value in\n",
    "                clf_cm.flatten()]\n",
    "labels = [f\"{v1}\\n{v2}\" for v1, v2 in\n",
    "          zip(group_names,group_counts)]\n",
    "labels = np.asarray(labels).reshape(2,2)\n",
    "plt.figure(figsize=(8,6))\n",
    "plt.title('SVM Kernel=RBF')\n",
    "sns.heatmap(clf_cm, annot=labels, fmt='', cmap='Blues')\n",
    "plt.show()"
   ]
  },
  {
   "cell_type": "code",
   "execution_count": 65,
   "id": "480fc2f6-3f20-4b0e-ab6b-38e3e5e36afd",
   "metadata": {},
   "outputs": [
    {
     "data": {
      "image/png": "[encoded data removed]",
      "text/plain": [
       "<Figure size 936x720 with 1 Axes>"
      ]
     },
     "metadata": {
      "needs_background": "light"
     },
     "output_type": "display_data"
    }
   ],
   "source": [
    "from sklearn.svm import SVC\n",
    "from sklearn.inspection import permutation_importance\n",
    "import numpy as np\n",
    "import matplotlib.pyplot as plt\n",
    "\n",
    "\n",
    "svm = SVC(probability=True, kernel='linear')\n",
    "svm.fit(X_train, y_train)\n",
    "\n",
    "perm_importance = permutation_importance(svm, X_train, y_train)\n",
    "\n",
    "# Making the sum of feature importance being equal to 1.0,\n",
    "# so feature importance can be understood as percentage\n",
    "perm_importance_normalized = perm_importance.importances_mean/perm_importance.importances_mean.sum()\n",
    "\n",
    "# Feature's name (considering your X a DataFrame)\n",
    "feature_names = X_train.columns\n",
    "features = np.array(feature_names)\n",
    "\n",
    "# Sort to plot in order of importance\n",
    "sorted_idx = perm_importance_normalized.argsort()\n",
    "\n",
    "# Plotting\n",
    "plt.figure(figsize=(13,10))\n",
    "plt.title(\"Feature Importance SVM\",fontsize=20)\n",
    "plt.barh(features[sorted_idx], perm_importance_normalized[sorted_idx], align='center', edgecolor='black')\n",
    "# ax=sns.barplot(features[sorted_idx], perm_importance_normalized[sorted_idx], align='center')\n",
    "plt.xlabel('Relative Importance', fontsize=15)\n",
    "plt.xticks(fontsize=15)\n",
    "plt.yticks(fontsize=15)\n",
    "\n",
    "for index, value in enumerate(perm_importance_normalized[sorted_idx]):\n",
    "    plt.text(value, index,\n",
    "             str(round(value,4)), fontsize=12,fontweight='bold')\n",
    "\n",
    "plt.show()"
   ]
  },
  {
   "cell_type": "markdown",
   "id": "361a7a6e-281f-4c03-8774-6f108afa95c9",
   "metadata": {
    "id": "GIgd9xeyHU3V"
   },
   "source": [
    "## AdaBoost"
   ]
  },
  {
   "cell_type": "code",
   "execution_count": 91,
   "id": "ba407f27-4dd8-470c-8601-c5f8a38135d7",
   "metadata": {
    "id": "-zfnWMjmHYfz"
   },
   "outputs": [
    {
     "name": "stdout",
     "output_type": "stream",
     "text": [
      "Accuracy Test: 0.77\n",
      "Precision Train: 0.775\n",
      "Precision Test: 0.445\n",
      "Recall Train: 0.7537793503\n",
      "Recall Test: 0.7358974359\n",
      "F1-Score Train: 0.764\n",
      "F1-Score Test: 0.555\n",
      "AUC (Train): 0.855\n",
      "AUC (Test): 0.831\n",
      "roc_auc (crossval train):0.8553616138555059\n",
      "roc_auc (crossval test):0.8509764936329003\n"
     ]
    }
   ],
   "source": [
    "from sklearn.ensemble import AdaBoostClassifier\n",
    "\n",
    "abc = AdaBoostClassifier()\n",
    "abc.fit(X_train, y_train)\n",
    "abc_pred = abc.predict(X_test)\n",
    "abc_pred_train = abc.predict(X_train)\n",
    "eval_classification(abc)"
   ]
  },
  {
   "cell_type": "code",
   "execution_count": 92,
   "id": "cd6e77e0-9ab7-41b3-bf80-3677d07120a8",
   "metadata": {
    "id": "9DRHef0SZpFe"
   },
   "outputs": [
    {
     "name": "stdout",
     "output_type": "stream",
     "text": [
      "              precision    recall  f1-score   support\n",
      "\n",
      "           0       0.92      0.78      0.84      1610\n",
      "           1       0.44      0.74      0.55       390\n",
      "\n",
      "    accuracy                           0.77      2000\n",
      "   macro avg       0.68      0.76      0.70      2000\n",
      "weighted avg       0.83      0.77      0.79      2000\n",
      "\n",
      "              precision    recall  f1-score   support\n",
      "\n",
      "           0       0.76      0.78      0.77      6218\n",
      "           1       0.78      0.75      0.76      6218\n",
      "\n",
      "    accuracy                           0.77     12436\n",
      "   macro avg       0.77      0.77      0.77     12436\n",
      "weighted avg       0.77      0.77      0.77     12436\n",
      "\n"
     ]
    }
   ],
   "source": [
    "from sklearn.metrics import classification_report\n",
    "print(classification_report(y_test, abc_pred))#classification report for logistic model prediction\n",
    "print(classification_report(y_train, abc_pred_train))#classification report for logistic model prediction"
   ]
  },
  {
   "cell_type": "code",
   "execution_count": 93,
   "id": "af26e29b-b457-46a2-9ed6-879e0270b57c",
   "metadata": {
    "id": "J0bBbb-dHl86"
   },
   "outputs": [
    {
     "name": "stdout",
     "output_type": "stream",
     "text": [
      "[[1252  358]\n",
      " [ 103  287]]\n"
     ]
    }
   ],
   "source": [
    "from sklearn.metrics import confusion_matrix\n",
    "abc_cm = confusion_matrix(y_test, clf_pred)\n",
    "print(abc_cm)"
   ]
  },
  {
   "cell_type": "code",
   "execution_count": 94,
   "id": "15bf5a9b-d25e-4502-b0d0-2d9c3e326508",
   "metadata": {
    "id": "q-DV2OpZKP2-"
   },
   "outputs": [
    {
     "data": {
      "image/png": "[encoded data removed]",
      "text/plain": [
       "<Figure size 576x432 with 2 Axes>"
      ]
     },
     "metadata": {
      "needs_background": "light"
     },
     "output_type": "display_data"
    }
   ],
   "source": [
    "import seaborn as sns\n",
    "group_names = ['True Neg','False Pos','False Neg','True Pos']\n",
    "group_counts = ['{0:0.0f}'.format(value) for value in\n",
    "                clf_cm.flatten()]\n",
    "labels = [f\"{v1}\\n{v2}\" for v1, v2 in\n",
    "          zip(group_names,group_counts)]\n",
    "labels = np.asarray(labels).reshape(2,2)\n",
    "plt.figure(figsize=(8,6))\n",
    "plt.title('AdaBoost Default')\n",
    "sns.heatmap(abc_cm, annot=labels, fmt='', cmap='Blues')\n",
    "plt.show()"
   ]
  },
  {
   "cell_type": "code",
   "execution_count": 74,
   "id": "e25fec9b-0f8c-4b27-8543-3bbe042389c7",
   "metadata": {},
   "outputs": [
    {
     "name": "stdout",
     "output_type": "stream",
     "text": [
      "Fitting 5 folds for each of 30 candidates, totalling 150 fits\n",
      "[CV 1/5] END algorithm=SAMME, learning_rate=0.01;, score=0.594 total time=   1.2s\n",
      "[CV 2/5] END algorithm=SAMME, learning_rate=0.01;, score=0.609 total time=   1.0s\n",
      "[CV 3/5] END algorithm=SAMME, learning_rate=0.01;, score=0.599 total time=   0.8s\n",
      "[CV 4/5] END algorithm=SAMME, learning_rate=0.01;, score=0.623 total time=   1.2s\n",
      "[CV 5/5] END algorithm=SAMME, learning_rate=0.01;, score=0.593 total time=   1.1s\n",
      "[CV 1/5] END algorithm=SAMME, learning_rate=0.08071428571428571;, score=0.620 total time=   1.3s\n",
      "[CV 2/5] END algorithm=SAMME, learning_rate=0.08071428571428571;, score=0.637 total time=   0.9s\n",
      "[CV 3/5] END algorithm=SAMME, learning_rate=0.08071428571428571;, score=0.628 total time=   0.9s\n",
      "[CV 4/5] END algorithm=SAMME, learning_rate=0.08071428571428571;, score=0.636 total time=   1.2s\n",
      "[CV 5/5] END algorithm=SAMME, learning_rate=0.08071428571428571;, score=0.611 total time=   1.0s\n",
      "[CV 1/5] END algorithm=SAMME, learning_rate=0.15142857142857144;, score=0.666 total time=   1.2s\n",
      "[CV 2/5] END algorithm=SAMME, learning_rate=0.15142857142857144;, score=0.681 total time=   0.7s\n",
      "[CV 3/5] END algorithm=SAMME, learning_rate=0.15142857142857144;, score=0.641 total time=   0.7s\n",
      "[CV 4/5] END algorithm=SAMME, learning_rate=0.15142857142857144;, score=0.660 total time=   1.1s\n",
      "[CV 5/5] END algorithm=SAMME, learning_rate=0.15142857142857144;, score=0.647 total time=   1.0s\n",
      "[CV 1/5] END algorithm=SAMME, learning_rate=0.22214285714285714;, score=0.696 total time=   0.7s\n",
      "[CV 2/5] END algorithm=SAMME, learning_rate=0.22214285714285714;, score=0.682 total time=   0.8s\n",
      "[CV 3/5] END algorithm=SAMME, learning_rate=0.22214285714285714;, score=0.719 total time=   0.8s\n",
      "[CV 4/5] END algorithm=SAMME, learning_rate=0.22214285714285714;, score=0.732 total time=   1.0s\n",
      "[CV 5/5] END algorithm=SAMME, learning_rate=0.22214285714285714;, score=0.671 total time=   1.3s\n",
      "[CV 1/5] END algorithm=SAMME, learning_rate=0.29285714285714287;, score=0.696 total time=   1.1s\n",
      "[CV 2/5] END algorithm=SAMME, learning_rate=0.29285714285714287;, score=0.678 total time=   1.1s\n",
      "[CV 3/5] END algorithm=SAMME, learning_rate=0.29285714285714287;, score=0.687 total time=   1.0s\n",
      "[CV 4/5] END algorithm=SAMME, learning_rate=0.29285714285714287;, score=0.686 total time=   1.1s\n",
      "[CV 5/5] END algorithm=SAMME, learning_rate=0.29285714285714287;, score=0.679 total time=   1.2s\n",
      "[CV 1/5] END algorithm=SAMME, learning_rate=0.3635714285714286;, score=0.686 total time=   1.0s\n",
      "[CV 2/5] END algorithm=SAMME, learning_rate=0.3635714285714286;, score=0.654 total time=   0.8s\n",
      "[CV 3/5] END algorithm=SAMME, learning_rate=0.3635714285714286;, score=0.695 total time=   0.7s\n",
      "[CV 4/5] END algorithm=SAMME, learning_rate=0.3635714285714286;, score=0.694 total time=   0.7s\n",
      "[CV 5/5] END algorithm=SAMME, learning_rate=0.3635714285714286;, score=0.661 total time=   0.7s\n",
      "[CV 1/5] END algorithm=SAMME, learning_rate=0.4342857142857143;, score=0.715 total time=   0.7s\n",
      "[CV 2/5] END algorithm=SAMME, learning_rate=0.4342857142857143;, score=0.683 total time=   0.7s\n",
      "[CV 3/5] END algorithm=SAMME, learning_rate=0.4342857142857143;, score=0.695 total time=   0.7s\n",
      "[CV 4/5] END algorithm=SAMME, learning_rate=0.4342857142857143;, score=0.709 total time=   0.7s\n",
      "[CV 5/5] END algorithm=SAMME, learning_rate=0.4342857142857143;, score=0.661 total time=   0.8s\n",
      "[CV 1/5] END algorithm=SAMME, learning_rate=0.505;, score=0.719 total time=   0.8s\n",
      "[CV 2/5] END algorithm=SAMME, learning_rate=0.505;, score=0.715 total time=   0.8s\n",
      "[CV 3/5] END algorithm=SAMME, learning_rate=0.505;, score=0.710 total time=   0.8s\n",
      "[CV 4/5] END algorithm=SAMME, learning_rate=0.505;, score=0.743 total time=   0.9s\n",
      "[CV 5/5] END algorithm=SAMME, learning_rate=0.505;, score=0.689 total time=   0.9s\n",
      "[CV 1/5] END algorithm=SAMME, learning_rate=0.5757142857142857;, score=0.702 total time=   1.0s\n",
      "[CV 2/5] END algorithm=SAMME, learning_rate=0.5757142857142857;, score=0.713 total time=   1.0s\n",
      "[CV 3/5] END algorithm=SAMME, learning_rate=0.5757142857142857;, score=0.710 total time=   0.7s\n",
      "[CV 4/5] END algorithm=SAMME, learning_rate=0.5757142857142857;, score=0.729 total time=   0.7s\n",
      "[CV 5/5] END algorithm=SAMME, learning_rate=0.5757142857142857;, score=0.675 total time=   0.7s\n",
      "[CV 1/5] END algorithm=SAMME, learning_rate=0.6464285714285715;, score=0.693 total time=   0.8s\n",
      "[CV 2/5] END algorithm=SAMME, learning_rate=0.6464285714285715;, score=0.683 total time=   0.7s\n",
      "[CV 3/5] END algorithm=SAMME, learning_rate=0.6464285714285715;, score=0.744 total time=   0.7s\n",
      "[CV 4/5] END algorithm=SAMME, learning_rate=0.6464285714285715;, score=0.729 total time=   0.7s\n",
      "[CV 5/5] END algorithm=SAMME, learning_rate=0.6464285714285715;, score=0.720 total time=   0.7s\n",
      "[CV 1/5] END algorithm=SAMME, learning_rate=0.7171428571428572;, score=0.742 total time=   0.7s\n",
      "[CV 2/5] END algorithm=SAMME, learning_rate=0.7171428571428572;, score=0.723 total time=   0.7s\n",
      "[CV 3/5] END algorithm=SAMME, learning_rate=0.7171428571428572;, score=0.744 total time=   1.0s\n",
      "[CV 4/5] END algorithm=SAMME, learning_rate=0.7171428571428572;, score=0.770 total time=   1.1s\n",
      "[CV 5/5] END algorithm=SAMME, learning_rate=0.7171428571428572;, score=0.718 total time=   1.0s\n",
      "[CV 1/5] END algorithm=SAMME, learning_rate=0.7878571428571429;, score=0.743 total time=   1.0s\n",
      "[CV 2/5] END algorithm=SAMME, learning_rate=0.7878571428571429;, score=0.744 total time=   1.0s\n",
      "[CV 3/5] END algorithm=SAMME, learning_rate=0.7878571428571429;, score=0.744 total time=   1.2s\n",
      "[CV 4/5] END algorithm=SAMME, learning_rate=0.7878571428571429;, score=0.756 total time=   1.0s\n",
      "[CV 5/5] END algorithm=SAMME, learning_rate=0.7878571428571429;, score=0.721 total time=   1.1s\n",
      "[CV 1/5] END algorithm=SAMME, learning_rate=0.8585714285714285;, score=0.740 total time=   1.0s\n",
      "[CV 2/5] END algorithm=SAMME, learning_rate=0.8585714285714285;, score=0.740 total time=   0.8s\n",
      "[CV 3/5] END algorithm=SAMME, learning_rate=0.8585714285714285;, score=0.740 total time=   0.7s\n",
      "[CV 4/5] END algorithm=SAMME, learning_rate=0.8585714285714285;, score=0.776 total time=   0.7s\n",
      "[CV 5/5] END algorithm=SAMME, learning_rate=0.8585714285714285;, score=0.714 total time=   0.7s\n",
      "[CV 1/5] END algorithm=SAMME, learning_rate=0.9292857142857143;, score=0.717 total time=   0.7s\n",
      "[CV 2/5] END algorithm=SAMME, learning_rate=0.9292857142857143;, score=0.721 total time=   0.7s\n",
      "[CV 3/5] END algorithm=SAMME, learning_rate=0.9292857142857143;, score=0.743 total time=   0.7s\n",
      "[CV 4/5] END algorithm=SAMME, learning_rate=0.9292857142857143;, score=0.779 total time=   0.9s\n",
      "[CV 5/5] END algorithm=SAMME, learning_rate=0.9292857142857143;, score=0.749 total time=   1.2s\n",
      "[CV 1/5] END algorithm=SAMME, learning_rate=1.0;, score=0.735 total time=   0.8s\n",
      "[CV 2/5] END algorithm=SAMME, learning_rate=1.0;, score=0.719 total time=   0.8s\n",
      "[CV 3/5] END algorithm=SAMME, learning_rate=1.0;, score=0.733 total time=   0.9s\n",
      "[CV 4/5] END algorithm=SAMME, learning_rate=1.0;, score=0.779 total time=   1.0s\n",
      "[CV 5/5] END algorithm=SAMME, learning_rate=1.0;, score=0.715 total time=   1.1s\n",
      "[CV 1/5] END algorithm=SAMME.R, learning_rate=0.01;, score=0.630 total time=   1.2s\n",
      "[CV 2/5] END algorithm=SAMME.R, learning_rate=0.01;, score=0.609 total time=   0.9s\n",
      "[CV 3/5] END algorithm=SAMME.R, learning_rate=0.01;, score=0.599 total time=   0.8s\n",
      "[CV 4/5] END algorithm=SAMME.R, learning_rate=0.01;, score=0.650 total time=   0.8s\n",
      "[CV 5/5] END algorithm=SAMME.R, learning_rate=0.01;, score=0.593 total time=   1.2s\n",
      "[CV 1/5] END algorithm=SAMME.R, learning_rate=0.08071428571428571;, score=0.723 total time=   0.9s\n",
      "[CV 2/5] END algorithm=SAMME.R, learning_rate=0.08071428571428571;, score=0.714 total time=   0.9s\n",
      "[CV 3/5] END algorithm=SAMME.R, learning_rate=0.08071428571428571;, score=0.717 total time=   1.0s\n",
      "[CV 4/5] END algorithm=SAMME.R, learning_rate=0.08071428571428571;, score=0.722 total time=   1.1s\n",
      "[CV 5/5] END algorithm=SAMME.R, learning_rate=0.08071428571428571;, score=0.685 total time=   1.2s\n",
      "[CV 1/5] END algorithm=SAMME.R, learning_rate=0.15142857142857144;, score=0.717 total time=   1.3s\n",
      "[CV 2/5] END algorithm=SAMME.R, learning_rate=0.15142857142857144;, score=0.710 total time=   1.3s\n",
      "[CV 3/5] END algorithm=SAMME.R, learning_rate=0.15142857142857144;, score=0.732 total time=   1.3s\n",
      "[CV 4/5] END algorithm=SAMME.R, learning_rate=0.15142857142857144;, score=0.747 total time=   1.4s\n",
      "[CV 5/5] END algorithm=SAMME.R, learning_rate=0.15142857142857144;, score=0.698 total time=   1.3s\n",
      "[CV 1/5] END algorithm=SAMME.R, learning_rate=0.22214285714285714;, score=0.718 total time=   1.2s\n",
      "[CV 2/5] END algorithm=SAMME.R, learning_rate=0.22214285714285714;, score=0.706 total time=   0.9s\n",
      "[CV 3/5] END algorithm=SAMME.R, learning_rate=0.22214285714285714;, score=0.740 total time=   1.0s\n",
      "[CV 4/5] END algorithm=SAMME.R, learning_rate=0.22214285714285714;, score=0.743 total time=   0.8s\n",
      "[CV 5/5] END algorithm=SAMME.R, learning_rate=0.22214285714285714;, score=0.712 total time=   0.9s\n",
      "[CV 1/5] END algorithm=SAMME.R, learning_rate=0.29285714285714287;, score=0.745 total time=   1.0s\n",
      "[CV 2/5] END algorithm=SAMME.R, learning_rate=0.29285714285714287;, score=0.732 total time=   1.0s\n",
      "[CV 3/5] END algorithm=SAMME.R, learning_rate=0.29285714285714287;, score=0.752 total time=   1.3s\n",
      "[CV 4/5] END algorithm=SAMME.R, learning_rate=0.29285714285714287;, score=0.772 total time=   1.4s\n",
      "[CV 5/5] END algorithm=SAMME.R, learning_rate=0.29285714285714287;, score=0.725 total time=   1.3s\n",
      "[CV 1/5] END algorithm=SAMME.R, learning_rate=0.3635714285714286;, score=0.744 total time=   1.3s\n",
      "[CV 2/5] END algorithm=SAMME.R, learning_rate=0.3635714285714286;, score=0.724 total time=   1.6s\n",
      "[CV 3/5] END algorithm=SAMME.R, learning_rate=0.3635714285714286;, score=0.752 total time=   1.6s\n",
      "[CV 4/5] END algorithm=SAMME.R, learning_rate=0.3635714285714286;, score=0.764 total time=   1.2s\n",
      "[CV 5/5] END algorithm=SAMME.R, learning_rate=0.3635714285714286;, score=0.735 total time=   0.9s\n",
      "[CV 1/5] END algorithm=SAMME.R, learning_rate=0.4342857142857143;, score=0.743 total time=   0.8s\n",
      "[CV 2/5] END algorithm=SAMME.R, learning_rate=0.4342857142857143;, score=0.734 total time=   0.8s\n",
      "[CV 3/5] END algorithm=SAMME.R, learning_rate=0.4342857142857143;, score=0.755 total time=   0.8s\n",
      "[CV 4/5] END algorithm=SAMME.R, learning_rate=0.4342857142857143;, score=0.772 total time=   0.8s\n",
      "[CV 5/5] END algorithm=SAMME.R, learning_rate=0.4342857142857143;, score=0.739 total time=   0.9s\n",
      "[CV 1/5] END algorithm=SAMME.R, learning_rate=0.505;, score=0.746 total time=   1.0s\n",
      "[CV 2/5] END algorithm=SAMME.R, learning_rate=0.505;, score=0.732 total time=   1.1s\n",
      "[CV 3/5] END algorithm=SAMME.R, learning_rate=0.505;, score=0.752 total time=   1.1s\n",
      "[CV 4/5] END algorithm=SAMME.R, learning_rate=0.505;, score=0.772 total time=   1.3s\n",
      "[CV 5/5] END algorithm=SAMME.R, learning_rate=0.505;, score=0.747 total time=   1.3s\n",
      "[CV 1/5] END algorithm=SAMME.R, learning_rate=0.5757142857142857;, score=0.752 total time=   1.2s\n",
      "[CV 2/5] END algorithm=SAMME.R, learning_rate=0.5757142857142857;, score=0.732 total time=   1.1s\n",
      "[CV 3/5] END algorithm=SAMME.R, learning_rate=0.5757142857142857;, score=0.754 total time=   1.1s\n",
      "[CV 4/5] END algorithm=SAMME.R, learning_rate=0.5757142857142857;, score=0.778 total time=   1.1s\n",
      "[CV 5/5] END algorithm=SAMME.R, learning_rate=0.5757142857142857;, score=0.747 total time=   1.2s\n",
      "[CV 1/5] END algorithm=SAMME.R, learning_rate=0.6464285714285715;, score=0.748 total time=   0.9s\n",
      "[CV 2/5] END algorithm=SAMME.R, learning_rate=0.6464285714285715;, score=0.736 total time=   0.9s\n",
      "[CV 3/5] END algorithm=SAMME.R, learning_rate=0.6464285714285715;, score=0.747 total time=   0.9s\n",
      "[CV 4/5] END algorithm=SAMME.R, learning_rate=0.6464285714285715;, score=0.775 total time=   1.1s\n",
      "[CV 5/5] END algorithm=SAMME.R, learning_rate=0.6464285714285715;, score=0.749 total time=   1.0s\n",
      "[CV 1/5] END algorithm=SAMME.R, learning_rate=0.7171428571428572;, score=0.752 total time=   0.9s\n",
      "[CV 2/5] END algorithm=SAMME.R, learning_rate=0.7171428571428572;, score=0.734 total time=   1.0s\n",
      "[CV 3/5] END algorithm=SAMME.R, learning_rate=0.7171428571428572;, score=0.759 total time=   1.2s\n",
      "[CV 4/5] END algorithm=SAMME.R, learning_rate=0.7171428571428572;, score=0.774 total time=   1.4s\n",
      "[CV 5/5] END algorithm=SAMME.R, learning_rate=0.7171428571428572;, score=0.759 total time=   1.1s\n",
      "[CV 1/5] END algorithm=SAMME.R, learning_rate=0.7878571428571429;, score=0.751 total time=   1.0s\n",
      "[CV 2/5] END algorithm=SAMME.R, learning_rate=0.7878571428571429;, score=0.729 total time=   0.8s\n",
      "[CV 3/5] END algorithm=SAMME.R, learning_rate=0.7878571428571429;, score=0.759 total time=   0.8s\n",
      "[CV 4/5] END algorithm=SAMME.R, learning_rate=0.7878571428571429;, score=0.772 total time=   0.8s\n",
      "[CV 5/5] END algorithm=SAMME.R, learning_rate=0.7878571428571429;, score=0.751 total time=   0.9s\n",
      "[CV 1/5] END algorithm=SAMME.R, learning_rate=0.8585714285714285;, score=0.748 total time=   1.0s\n",
      "[CV 2/5] END algorithm=SAMME.R, learning_rate=0.8585714285714285;, score=0.732 total time=   0.8s\n",
      "[CV 3/5] END algorithm=SAMME.R, learning_rate=0.8585714285714285;, score=0.758 total time=   0.9s\n",
      "[CV 4/5] END algorithm=SAMME.R, learning_rate=0.8585714285714285;, score=0.777 total time=   1.3s\n",
      "[CV 5/5] END algorithm=SAMME.R, learning_rate=0.8585714285714285;, score=0.759 total time=   1.2s\n",
      "[CV 1/5] END algorithm=SAMME.R, learning_rate=0.9292857142857143;, score=0.748 total time=   1.2s\n",
      "[CV 2/5] END algorithm=SAMME.R, learning_rate=0.9292857142857143;, score=0.733 total time=   1.3s\n",
      "[CV 3/5] END algorithm=SAMME.R, learning_rate=0.9292857142857143;, score=0.747 total time=   1.2s\n",
      "[CV 4/5] END algorithm=SAMME.R, learning_rate=0.9292857142857143;, score=0.772 total time=   1.3s\n",
      "[CV 5/5] END algorithm=SAMME.R, learning_rate=0.9292857142857143;, score=0.747 total time=   1.2s\n",
      "[CV 1/5] END algorithm=SAMME.R, learning_rate=1.0;, score=0.743 total time=   1.1s\n",
      "[CV 2/5] END algorithm=SAMME.R, learning_rate=1.0;, score=0.727 total time=   0.9s\n",
      "[CV 3/5] END algorithm=SAMME.R, learning_rate=1.0;, score=0.754 total time=   0.8s\n",
      "[CV 4/5] END algorithm=SAMME.R, learning_rate=1.0;, score=0.776 total time=   0.8s\n",
      "[CV 5/5] END algorithm=SAMME.R, learning_rate=1.0;, score=0.743 total time=   0.8s\n"
     ]
    },
    {
     "data": {
      "text/plain": [
       "GridSearchCV(estimator=AdaBoostClassifier(),\n",
       "             param_grid={'algorithm': ['SAMME', 'SAMME.R'],\n",
       "                         'learning_rate': array([0.01      , 0.08071429, 0.15142857, 0.22214286, 0.29285714,\n",
       "       0.36357143, 0.43428571, 0.505     , 0.57571429, 0.64642857,\n",
       "       0.71714286, 0.78785714, 0.85857143, 0.92928571, 1.        ])},\n",
       "             scoring='recall', verbose=3)"
      ]
     },
     "execution_count": 74,
     "metadata": {},
     "output_type": "execute_result"
    }
   ],
   "source": [
    "from sklearn.model_selection import GridSearchCV\n",
    "from sklearn.ensemble import AdaBoostClassifier\n",
    "# defining parameter range\n",
    "param_grid = {\n",
    "              'learning_rate': np.linspace(0.01, 1, 15),\n",
    "              'algorithm' : ['SAMME', 'SAMME.R']\n",
    "             } \n",
    "  \n",
    "grid = GridSearchCV(AdaBoostClassifier(), param_grid, refit = True, verbose = 3, scoring='recall')\n",
    "# random = RandomizedSearchCV  \n",
    "# fitting the model for grid search\n",
    "grid.fit(X_train, y_train)"
   ]
  },
  {
   "cell_type": "code",
   "execution_count": 75,
   "id": "901cd24f-990d-443d-be72-30579e112c80",
   "metadata": {},
   "outputs": [
    {
     "name": "stdout",
     "output_type": "stream",
     "text": [
      "{'algorithm': 'SAMME.R', 'learning_rate': 0.7171428571428572}\n",
      "AdaBoostClassifier(learning_rate=0.7171428571428572)\n"
     ]
    }
   ],
   "source": [
    "# print best parameter after tuning\n",
    "print(grid.best_params_)\n",
    "  \n",
    "# print how our model looks after hyper-parameter tuning\n",
    "print(grid.best_estimator_)"
   ]
  },
  {
   "cell_type": "code",
   "execution_count": 86,
   "id": "bd27ff87-c202-4d5a-8a8c-7bbd0a584563",
   "metadata": {},
   "outputs": [
    {
     "name": "stdout",
     "output_type": "stream",
     "text": [
      "Accuracy Test: 0.761\n",
      "Precision Train: 0.774\n",
      "Precision Test: 0.435\n",
      "Recall Train: 0.7550659376\n",
      "Recall Test: 0.758974359\n",
      "F1-Score Train: 0.764\n",
      "F1-Score Test: 0.553\n",
      "AUC (Train): 0.853\n",
      "AUC (Test): 0.832\n",
      "roc_auc (crossval train):0.853244841985773\n",
      "roc_auc (crossval test):0.8494727244105749\n"
     ]
    }
   ],
   "source": [
    "from sklearn.ensemble import AdaBoostClassifier\n",
    "\n",
    "abc = AdaBoostClassifier(algorithm='SAMME.R', learning_rate=0.7171428571428572)\n",
    "abc.fit(X_train, y_train)\n",
    "abc_pred = abc.predict(X_test)\n",
    "abc_pred_train = abc.predict(X_train)\n",
    "eval_classification(abc)"
   ]
  },
  {
   "cell_type": "code",
   "execution_count": 87,
   "id": "b98752f9-f5dd-42e7-82bf-e0f202cd4b59",
   "metadata": {
    "id": "Dby0n9VmZpFh"
   },
   "outputs": [
    {
     "name": "stdout",
     "output_type": "stream",
     "text": [
      "              precision    recall  f1-score   support\n",
      "\n",
      "           0       0.93      0.76      0.84      1610\n",
      "           1       0.44      0.76      0.55       390\n",
      "\n",
      "    accuracy                           0.76      2000\n",
      "   macro avg       0.68      0.76      0.70      2000\n",
      "weighted avg       0.83      0.76      0.78      2000\n",
      "\n",
      "              precision    recall  f1-score   support\n",
      "\n",
      "           0       0.76      0.78      0.77      6218\n",
      "           1       0.77      0.76      0.76      6218\n",
      "\n",
      "    accuracy                           0.77     12436\n",
      "   macro avg       0.77      0.77      0.77     12436\n",
      "weighted avg       0.77      0.77      0.77     12436\n",
      "\n"
     ]
    }
   ],
   "source": [
    "from sklearn.metrics import classification_report\n",
    "print(classification_report(y_test, abc_pred))#classification report for logistic model prediction\n",
    "print(classification_report(y_train, abc_pred_train))#classification report for logistic model prediction"
   ]
  },
  {
   "cell_type": "code",
   "execution_count": 88,
   "id": "932c351a-5269-4721-8044-5d9727e79ff1",
   "metadata": {
    "id": "TOgkMUEjH3rn"
   },
   "outputs": [
    {
     "name": "stdout",
     "output_type": "stream",
     "text": [
      "[[1226  384]\n",
      " [  94  296]]\n"
     ]
    }
   ],
   "source": [
    "from sklearn.metrics import confusion_matrix\n",
    "abc_cm = confusion_matrix(y_test, abc_pred)\n",
    "print(abc_cm)"
   ]
  },
  {
   "cell_type": "code",
   "execution_count": 89,
   "id": "65dfa476-ab04-4569-a7ec-cd34cb895e1f",
   "metadata": {
    "id": "OaDpPxoTKcAa"
   },
   "outputs": [
    {
     "data": {
      "image/png": "[encoded data removed]",
      "text/plain": [
       "<Figure size 576x432 with 2 Axes>"
      ]
     },
     "metadata": {
      "needs_background": "light"
     },
     "output_type": "display_data"
    }
   ],
   "source": [
    "import seaborn as sns\n",
    "group_names = ['True Neg','False Pos','False Neg','True Pos']\n",
    "group_counts = ['{0:0.0f}'.format(value) for value in\n",
    "                clf_cm.flatten()]\n",
    "labels = [f\"{v1}\\n{v2}\" for v1, v2 in\n",
    "          zip(group_names,group_counts)]\n",
    "labels = np.asarray(labels).reshape(2,2)\n",
    "plt.figure(figsize=(8,6))\n",
    "plt.title('AdaBoost Hyperparam')\n",
    "sns.heatmap(abc_cm, annot=labels, fmt='', cmap='Blues')\n",
    "plt.show()"
   ]
  },
  {
   "cell_type": "code",
   "execution_count": 95,
   "id": "85669235-7fe3-441d-ac52-dca17c5beb15",
   "metadata": {},
   "outputs": [
    {
     "data": {
      "image/png": "[encoded data removed]",
      "text/plain": [
       "<Figure size 576x576 with 1 Axes>"
      ]
     },
     "metadata": {
      "needs_background": "light"
     },
     "output_type": "display_data"
    }
   ],
   "source": [
    "plt.figure(figsize=(8,8))\n",
    "ftimp = pd.Series(abc.feature_importances_, index=X_train.columns)\n",
    "ax = ftimp.nlargest(20).plot(kind='barh')\n",
    "plt.title('Feature Importance - AdaBoost')\n",
    "plt.xlim(-0.4, 0.4)\n",
    "plt.tight_layout()\n",
    "# plt.savefig('Feature Importance - AdaBoost.png')"
   ]
  },
  {
   "cell_type": "code",
   "execution_count": null,
   "id": "9a01c724-9a1e-48c0-b26c-74d06235302a",
   "metadata": {},
   "outputs": [],
   "source": []
  }
 ],
 "metadata": {
  "kernelspec": {
   "display_name": "Python 3 (ipykernel)",
   "language": "python",
   "name": "python3"
  },
  "language_info": {
   "codemirror_mode": {
    "name": "ipython",
    "version": 3
   },
   "file_extension": ".py",
   "mimetype": "text/x-python",
   "name": "python",
   "nbconvert_exporter": "python",
   "pygments_lexer": "ipython3",
   "version": "3.9.12"
  }
 },
 "nbformat": 4,
 "nbformat_minor": 5
}
