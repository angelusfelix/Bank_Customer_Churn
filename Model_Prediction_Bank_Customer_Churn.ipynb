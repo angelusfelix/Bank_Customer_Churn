{
 "cells": [
  {
   "cell_type": "markdown",
   "id": "90936033-7b0f-4909-93b6-3a971a357d00",
   "metadata": {},
   "source": [
    "https://www.kaggle.com/datasets/gauravtopre/bank-customer-churn-dataset?resource=download"
   ]
  },
  {
   "cell_type": "code",
   "execution_count": 1,
   "id": "286ee85d-1c53-451d-a011-a238d585deeb",
   "metadata": {},
   "outputs": [],
   "source": [
    "import pandas as pd\n",
    "import numpy as np\n",
    "import matplotlib.pyplot as plt\n",
    "import seaborn as sns"
   ]
  },
  {
   "cell_type": "code",
   "execution_count": 2,
   "id": "03c3fe2c-3638-4e6e-ad67-865ed0152cb6",
   "metadata": {},
   "outputs": [
    {
     "data": {
      "text/html": [
       "<div>\n",
       "<style scoped>\n",
       "    .dataframe tbody tr th:only-of-type {\n",
       "        vertical-align: middle;\n",
       "    }\n",
       "\n",
       "    .dataframe tbody tr th {\n",
       "        vertical-align: top;\n",
       "    }\n",
       "\n",
       "    .dataframe thead th {\n",
       "        text-align: right;\n",
       "    }\n",
       "</style>\n",
       "<table border=\"1\" class=\"dataframe\">\n",
       "  <thead>\n",
       "    <tr style=\"text-align: right;\">\n",
       "      <th></th>\n",
       "      <th>customer_id</th>\n",
       "      <th>credit_score</th>\n",
       "      <th>country</th>\n",
       "      <th>gender</th>\n",
       "      <th>age</th>\n",
       "      <th>tenure</th>\n",
       "      <th>balance</th>\n",
       "      <th>products_number</th>\n",
       "      <th>credit_card</th>\n",
       "      <th>active_member</th>\n",
       "      <th>estimated_salary</th>\n",
       "      <th>churn</th>\n",
       "    </tr>\n",
       "  </thead>\n",
       "  <tbody>\n",
       "    <tr>\n",
       "      <th>0</th>\n",
       "      <td>15634602</td>\n",
       "      <td>619</td>\n",
       "      <td>France</td>\n",
       "      <td>Female</td>\n",
       "      <td>42</td>\n",
       "      <td>2</td>\n",
       "      <td>0.00</td>\n",
       "      <td>1</td>\n",
       "      <td>1</td>\n",
       "      <td>1</td>\n",
       "      <td>101348.88</td>\n",
       "      <td>1</td>\n",
       "    </tr>\n",
       "    <tr>\n",
       "      <th>1</th>\n",
       "      <td>15647311</td>\n",
       "      <td>608</td>\n",
       "      <td>Spain</td>\n",
       "      <td>Female</td>\n",
       "      <td>41</td>\n",
       "      <td>1</td>\n",
       "      <td>83807.86</td>\n",
       "      <td>1</td>\n",
       "      <td>0</td>\n",
       "      <td>1</td>\n",
       "      <td>112542.58</td>\n",
       "      <td>0</td>\n",
       "    </tr>\n",
       "    <tr>\n",
       "      <th>2</th>\n",
       "      <td>15619304</td>\n",
       "      <td>502</td>\n",
       "      <td>France</td>\n",
       "      <td>Female</td>\n",
       "      <td>42</td>\n",
       "      <td>8</td>\n",
       "      <td>159660.80</td>\n",
       "      <td>3</td>\n",
       "      <td>1</td>\n",
       "      <td>0</td>\n",
       "      <td>113931.57</td>\n",
       "      <td>1</td>\n",
       "    </tr>\n",
       "    <tr>\n",
       "      <th>3</th>\n",
       "      <td>15701354</td>\n",
       "      <td>699</td>\n",
       "      <td>France</td>\n",
       "      <td>Female</td>\n",
       "      <td>39</td>\n",
       "      <td>1</td>\n",
       "      <td>0.00</td>\n",
       "      <td>2</td>\n",
       "      <td>0</td>\n",
       "      <td>0</td>\n",
       "      <td>93826.63</td>\n",
       "      <td>0</td>\n",
       "    </tr>\n",
       "    <tr>\n",
       "      <th>4</th>\n",
       "      <td>15737888</td>\n",
       "      <td>850</td>\n",
       "      <td>Spain</td>\n",
       "      <td>Female</td>\n",
       "      <td>43</td>\n",
       "      <td>2</td>\n",
       "      <td>125510.82</td>\n",
       "      <td>1</td>\n",
       "      <td>1</td>\n",
       "      <td>1</td>\n",
       "      <td>79084.10</td>\n",
       "      <td>0</td>\n",
       "    </tr>\n",
       "    <tr>\n",
       "      <th>...</th>\n",
       "      <td>...</td>\n",
       "      <td>...</td>\n",
       "      <td>...</td>\n",
       "      <td>...</td>\n",
       "      <td>...</td>\n",
       "      <td>...</td>\n",
       "      <td>...</td>\n",
       "      <td>...</td>\n",
       "      <td>...</td>\n",
       "      <td>...</td>\n",
       "      <td>...</td>\n",
       "      <td>...</td>\n",
       "    </tr>\n",
       "    <tr>\n",
       "      <th>9995</th>\n",
       "      <td>15606229</td>\n",
       "      <td>771</td>\n",
       "      <td>France</td>\n",
       "      <td>Male</td>\n",
       "      <td>39</td>\n",
       "      <td>5</td>\n",
       "      <td>0.00</td>\n",
       "      <td>2</td>\n",
       "      <td>1</td>\n",
       "      <td>0</td>\n",
       "      <td>96270.64</td>\n",
       "      <td>0</td>\n",
       "    </tr>\n",
       "    <tr>\n",
       "      <th>9996</th>\n",
       "      <td>15569892</td>\n",
       "      <td>516</td>\n",
       "      <td>France</td>\n",
       "      <td>Male</td>\n",
       "      <td>35</td>\n",
       "      <td>10</td>\n",
       "      <td>57369.61</td>\n",
       "      <td>1</td>\n",
       "      <td>1</td>\n",
       "      <td>1</td>\n",
       "      <td>101699.77</td>\n",
       "      <td>0</td>\n",
       "    </tr>\n",
       "    <tr>\n",
       "      <th>9997</th>\n",
       "      <td>15584532</td>\n",
       "      <td>709</td>\n",
       "      <td>France</td>\n",
       "      <td>Female</td>\n",
       "      <td>36</td>\n",
       "      <td>7</td>\n",
       "      <td>0.00</td>\n",
       "      <td>1</td>\n",
       "      <td>0</td>\n",
       "      <td>1</td>\n",
       "      <td>42085.58</td>\n",
       "      <td>1</td>\n",
       "    </tr>\n",
       "    <tr>\n",
       "      <th>9998</th>\n",
       "      <td>15682355</td>\n",
       "      <td>772</td>\n",
       "      <td>Germany</td>\n",
       "      <td>Male</td>\n",
       "      <td>42</td>\n",
       "      <td>3</td>\n",
       "      <td>75075.31</td>\n",
       "      <td>2</td>\n",
       "      <td>1</td>\n",
       "      <td>0</td>\n",
       "      <td>92888.52</td>\n",
       "      <td>1</td>\n",
       "    </tr>\n",
       "    <tr>\n",
       "      <th>9999</th>\n",
       "      <td>15628319</td>\n",
       "      <td>792</td>\n",
       "      <td>France</td>\n",
       "      <td>Female</td>\n",
       "      <td>28</td>\n",
       "      <td>4</td>\n",
       "      <td>130142.79</td>\n",
       "      <td>1</td>\n",
       "      <td>1</td>\n",
       "      <td>0</td>\n",
       "      <td>38190.78</td>\n",
       "      <td>0</td>\n",
       "    </tr>\n",
       "  </tbody>\n",
       "</table>\n",
       "<p>10000 rows × 12 columns</p>\n",
       "</div>"
      ],
      "text/plain": [
       "      customer_id  credit_score  country  gender  age  tenure    balance  \\\n",
       "0        15634602           619   France  Female   42       2       0.00   \n",
       "1        15647311           608    Spain  Female   41       1   83807.86   \n",
       "2        15619304           502   France  Female   42       8  159660.80   \n",
       "3        15701354           699   France  Female   39       1       0.00   \n",
       "4        15737888           850    Spain  Female   43       2  125510.82   \n",
       "...           ...           ...      ...     ...  ...     ...        ...   \n",
       "9995     15606229           771   France    Male   39       5       0.00   \n",
       "9996     15569892           516   France    Male   35      10   57369.61   \n",
       "9997     15584532           709   France  Female   36       7       0.00   \n",
       "9998     15682355           772  Germany    Male   42       3   75075.31   \n",
       "9999     15628319           792   France  Female   28       4  130142.79   \n",
       "\n",
       "      products_number  credit_card  active_member  estimated_salary  churn  \n",
       "0                   1            1              1         101348.88      1  \n",
       "1                   1            0              1         112542.58      0  \n",
       "2                   3            1              0         113931.57      1  \n",
       "3                   2            0              0          93826.63      0  \n",
       "4                   1            1              1          79084.10      0  \n",
       "...               ...          ...            ...               ...    ...  \n",
       "9995                2            1              0          96270.64      0  \n",
       "9996                1            1              1         101699.77      0  \n",
       "9997                1            0              1          42085.58      1  \n",
       "9998                2            1              0          92888.52      1  \n",
       "9999                1            1              0          38190.78      0  \n",
       "\n",
       "[10000 rows x 12 columns]"
      ]
     },
     "execution_count": 2,
     "metadata": {},
     "output_type": "execute_result"
    }
   ],
   "source": [
    "dataset = pd.read_csv(r'Bank Customer Churn Prediction.csv')\n",
    "dataset"
   ]
  },
  {
   "cell_type": "code",
   "execution_count": 3,
   "id": "b994bc32-6160-4d9a-86d2-74c788a31ea8",
   "metadata": {},
   "outputs": [
    {
     "data": {
      "text/html": [
       "<div>\n",
       "<style scoped>\n",
       "    .dataframe tbody tr th:only-of-type {\n",
       "        vertical-align: middle;\n",
       "    }\n",
       "\n",
       "    .dataframe tbody tr th {\n",
       "        vertical-align: top;\n",
       "    }\n",
       "\n",
       "    .dataframe thead th {\n",
       "        text-align: right;\n",
       "    }\n",
       "</style>\n",
       "<table border=\"1\" class=\"dataframe\">\n",
       "  <thead>\n",
       "    <tr style=\"text-align: right;\">\n",
       "      <th></th>\n",
       "      <th>customer_id</th>\n",
       "      <th>credit_score</th>\n",
       "      <th>country</th>\n",
       "      <th>gender</th>\n",
       "      <th>age</th>\n",
       "      <th>tenure</th>\n",
       "      <th>balance</th>\n",
       "      <th>products_number</th>\n",
       "      <th>credit_card</th>\n",
       "      <th>active_member</th>\n",
       "      <th>estimated_salary</th>\n",
       "      <th>churn</th>\n",
       "    </tr>\n",
       "  </thead>\n",
       "  <tbody>\n",
       "    <tr>\n",
       "      <th>0</th>\n",
       "      <td>15634602</td>\n",
       "      <td>619</td>\n",
       "      <td>France</td>\n",
       "      <td>Female</td>\n",
       "      <td>42</td>\n",
       "      <td>2</td>\n",
       "      <td>0.00</td>\n",
       "      <td>1</td>\n",
       "      <td>1</td>\n",
       "      <td>1</td>\n",
       "      <td>101348.88</td>\n",
       "      <td>1</td>\n",
       "    </tr>\n",
       "    <tr>\n",
       "      <th>1</th>\n",
       "      <td>15647311</td>\n",
       "      <td>608</td>\n",
       "      <td>Spain</td>\n",
       "      <td>Female</td>\n",
       "      <td>41</td>\n",
       "      <td>1</td>\n",
       "      <td>83807.86</td>\n",
       "      <td>1</td>\n",
       "      <td>0</td>\n",
       "      <td>1</td>\n",
       "      <td>112542.58</td>\n",
       "      <td>0</td>\n",
       "    </tr>\n",
       "    <tr>\n",
       "      <th>2</th>\n",
       "      <td>15619304</td>\n",
       "      <td>502</td>\n",
       "      <td>France</td>\n",
       "      <td>Female</td>\n",
       "      <td>42</td>\n",
       "      <td>8</td>\n",
       "      <td>159660.80</td>\n",
       "      <td>3</td>\n",
       "      <td>1</td>\n",
       "      <td>0</td>\n",
       "      <td>113931.57</td>\n",
       "      <td>1</td>\n",
       "    </tr>\n",
       "    <tr>\n",
       "      <th>3</th>\n",
       "      <td>15701354</td>\n",
       "      <td>699</td>\n",
       "      <td>France</td>\n",
       "      <td>Female</td>\n",
       "      <td>39</td>\n",
       "      <td>1</td>\n",
       "      <td>0.00</td>\n",
       "      <td>2</td>\n",
       "      <td>0</td>\n",
       "      <td>0</td>\n",
       "      <td>93826.63</td>\n",
       "      <td>0</td>\n",
       "    </tr>\n",
       "    <tr>\n",
       "      <th>4</th>\n",
       "      <td>15737888</td>\n",
       "      <td>850</td>\n",
       "      <td>Spain</td>\n",
       "      <td>Female</td>\n",
       "      <td>43</td>\n",
       "      <td>2</td>\n",
       "      <td>125510.82</td>\n",
       "      <td>1</td>\n",
       "      <td>1</td>\n",
       "      <td>1</td>\n",
       "      <td>79084.10</td>\n",
       "      <td>0</td>\n",
       "    </tr>\n",
       "    <tr>\n",
       "      <th>...</th>\n",
       "      <td>...</td>\n",
       "      <td>...</td>\n",
       "      <td>...</td>\n",
       "      <td>...</td>\n",
       "      <td>...</td>\n",
       "      <td>...</td>\n",
       "      <td>...</td>\n",
       "      <td>...</td>\n",
       "      <td>...</td>\n",
       "      <td>...</td>\n",
       "      <td>...</td>\n",
       "      <td>...</td>\n",
       "    </tr>\n",
       "    <tr>\n",
       "      <th>9995</th>\n",
       "      <td>15606229</td>\n",
       "      <td>771</td>\n",
       "      <td>France</td>\n",
       "      <td>Male</td>\n",
       "      <td>39</td>\n",
       "      <td>5</td>\n",
       "      <td>0.00</td>\n",
       "      <td>2</td>\n",
       "      <td>1</td>\n",
       "      <td>0</td>\n",
       "      <td>96270.64</td>\n",
       "      <td>0</td>\n",
       "    </tr>\n",
       "    <tr>\n",
       "      <th>9996</th>\n",
       "      <td>15569892</td>\n",
       "      <td>516</td>\n",
       "      <td>France</td>\n",
       "      <td>Male</td>\n",
       "      <td>35</td>\n",
       "      <td>10</td>\n",
       "      <td>57369.61</td>\n",
       "      <td>1</td>\n",
       "      <td>1</td>\n",
       "      <td>1</td>\n",
       "      <td>101699.77</td>\n",
       "      <td>0</td>\n",
       "    </tr>\n",
       "    <tr>\n",
       "      <th>9997</th>\n",
       "      <td>15584532</td>\n",
       "      <td>709</td>\n",
       "      <td>France</td>\n",
       "      <td>Female</td>\n",
       "      <td>36</td>\n",
       "      <td>7</td>\n",
       "      <td>0.00</td>\n",
       "      <td>1</td>\n",
       "      <td>0</td>\n",
       "      <td>1</td>\n",
       "      <td>42085.58</td>\n",
       "      <td>1</td>\n",
       "    </tr>\n",
       "    <tr>\n",
       "      <th>9998</th>\n",
       "      <td>15682355</td>\n",
       "      <td>772</td>\n",
       "      <td>Germany</td>\n",
       "      <td>Male</td>\n",
       "      <td>42</td>\n",
       "      <td>3</td>\n",
       "      <td>75075.31</td>\n",
       "      <td>2</td>\n",
       "      <td>1</td>\n",
       "      <td>0</td>\n",
       "      <td>92888.52</td>\n",
       "      <td>1</td>\n",
       "    </tr>\n",
       "    <tr>\n",
       "      <th>9999</th>\n",
       "      <td>15628319</td>\n",
       "      <td>792</td>\n",
       "      <td>France</td>\n",
       "      <td>Female</td>\n",
       "      <td>28</td>\n",
       "      <td>4</td>\n",
       "      <td>130142.79</td>\n",
       "      <td>1</td>\n",
       "      <td>1</td>\n",
       "      <td>0</td>\n",
       "      <td>38190.78</td>\n",
       "      <td>0</td>\n",
       "    </tr>\n",
       "  </tbody>\n",
       "</table>\n",
       "<p>10000 rows × 12 columns</p>\n",
       "</div>"
      ],
      "text/plain": [
       "      customer_id  credit_score  country  gender  age  tenure    balance  \\\n",
       "0        15634602           619   France  Female   42       2       0.00   \n",
       "1        15647311           608    Spain  Female   41       1   83807.86   \n",
       "2        15619304           502   France  Female   42       8  159660.80   \n",
       "3        15701354           699   France  Female   39       1       0.00   \n",
       "4        15737888           850    Spain  Female   43       2  125510.82   \n",
       "...           ...           ...      ...     ...  ...     ...        ...   \n",
       "9995     15606229           771   France    Male   39       5       0.00   \n",
       "9996     15569892           516   France    Male   35      10   57369.61   \n",
       "9997     15584532           709   France  Female   36       7       0.00   \n",
       "9998     15682355           772  Germany    Male   42       3   75075.31   \n",
       "9999     15628319           792   France  Female   28       4  130142.79   \n",
       "\n",
       "      products_number  credit_card  active_member  estimated_salary  churn  \n",
       "0                   1            1              1         101348.88      1  \n",
       "1                   1            0              1         112542.58      0  \n",
       "2                   3            1              0         113931.57      1  \n",
       "3                   2            0              0          93826.63      0  \n",
       "4                   1            1              1          79084.10      0  \n",
       "...               ...          ...            ...               ...    ...  \n",
       "9995                2            1              0          96270.64      0  \n",
       "9996                1            1              1         101699.77      0  \n",
       "9997                1            0              1          42085.58      1  \n",
       "9998                2            1              0          92888.52      1  \n",
       "9999                1            1              0          38190.78      0  \n",
       "\n",
       "[10000 rows x 12 columns]"
      ]
     },
     "execution_count": 3,
     "metadata": {},
     "output_type": "execute_result"
    }
   ],
   "source": [
    "df = dataset.copy()\n",
    "df"
   ]
  },
  {
   "cell_type": "markdown",
   "id": "10355ee0-d4dc-458d-b53f-2fc92229b868",
   "metadata": {
    "tags": []
   },
   "source": [
    "# Feature Extraction"
   ]
  },
  {
   "cell_type": "markdown",
   "id": "10678003-42c8-4fcc-9b1e-01f2172e8841",
   "metadata": {
    "id": "8125bda9-4f39-4ede-8695-9ca66d6ee678",
    "tags": []
   },
   "source": [
    "# Split Data"
   ]
  },
  {
   "cell_type": "code",
   "execution_count": 4,
   "id": "ab25537f-8bfc-430c-9607-b2c6e1741101",
   "metadata": {
    "id": "952e5937-5f9a-4ca9-a872-c28470faf336"
   },
   "outputs": [],
   "source": [
    "from sklearn.model_selection import train_test_split"
   ]
  },
  {
   "cell_type": "code",
   "execution_count": 5,
   "id": "f2717539-5384-46d2-aa38-34cd6d63c1f1",
   "metadata": {},
   "outputs": [],
   "source": [
    "from sklearn.model_selection import train_test_split\n",
    "X_train, X_test, y_train, y_test = train_test_split(df.drop('churn', axis=1),df['churn'] ,\n",
    "                                   random_state=42, \n",
    "                                   test_size=0.2, shuffle=False)"
   ]
  },
  {
   "cell_type": "code",
   "execution_count": 6,
   "id": "3dd100eb-5125-4a7d-825e-e9ebca450252",
   "metadata": {},
   "outputs": [
    {
     "data": {
      "text/html": [
       "<div>\n",
       "<style scoped>\n",
       "    .dataframe tbody tr th:only-of-type {\n",
       "        vertical-align: middle;\n",
       "    }\n",
       "\n",
       "    .dataframe tbody tr th {\n",
       "        vertical-align: top;\n",
       "    }\n",
       "\n",
       "    .dataframe thead th {\n",
       "        text-align: right;\n",
       "    }\n",
       "</style>\n",
       "<table border=\"1\" class=\"dataframe\">\n",
       "  <thead>\n",
       "    <tr style=\"text-align: right;\">\n",
       "      <th></th>\n",
       "      <th>customer_id</th>\n",
       "      <th>credit_score</th>\n",
       "      <th>country</th>\n",
       "      <th>gender</th>\n",
       "      <th>age</th>\n",
       "      <th>tenure</th>\n",
       "      <th>balance</th>\n",
       "      <th>products_number</th>\n",
       "      <th>credit_card</th>\n",
       "      <th>active_member</th>\n",
       "      <th>estimated_salary</th>\n",
       "      <th>churn</th>\n",
       "    </tr>\n",
       "  </thead>\n",
       "  <tbody>\n",
       "    <tr>\n",
       "      <th>0</th>\n",
       "      <td>15634602</td>\n",
       "      <td>619</td>\n",
       "      <td>France</td>\n",
       "      <td>Female</td>\n",
       "      <td>42</td>\n",
       "      <td>2</td>\n",
       "      <td>0.00</td>\n",
       "      <td>1</td>\n",
       "      <td>1</td>\n",
       "      <td>1</td>\n",
       "      <td>101348.88</td>\n",
       "      <td>1</td>\n",
       "    </tr>\n",
       "    <tr>\n",
       "      <th>1</th>\n",
       "      <td>15647311</td>\n",
       "      <td>608</td>\n",
       "      <td>Spain</td>\n",
       "      <td>Female</td>\n",
       "      <td>41</td>\n",
       "      <td>1</td>\n",
       "      <td>83807.86</td>\n",
       "      <td>1</td>\n",
       "      <td>0</td>\n",
       "      <td>1</td>\n",
       "      <td>112542.58</td>\n",
       "      <td>0</td>\n",
       "    </tr>\n",
       "    <tr>\n",
       "      <th>2</th>\n",
       "      <td>15619304</td>\n",
       "      <td>502</td>\n",
       "      <td>France</td>\n",
       "      <td>Female</td>\n",
       "      <td>42</td>\n",
       "      <td>8</td>\n",
       "      <td>159660.80</td>\n",
       "      <td>3</td>\n",
       "      <td>1</td>\n",
       "      <td>0</td>\n",
       "      <td>113931.57</td>\n",
       "      <td>1</td>\n",
       "    </tr>\n",
       "    <tr>\n",
       "      <th>3</th>\n",
       "      <td>15701354</td>\n",
       "      <td>699</td>\n",
       "      <td>France</td>\n",
       "      <td>Female</td>\n",
       "      <td>39</td>\n",
       "      <td>1</td>\n",
       "      <td>0.00</td>\n",
       "      <td>2</td>\n",
       "      <td>0</td>\n",
       "      <td>0</td>\n",
       "      <td>93826.63</td>\n",
       "      <td>0</td>\n",
       "    </tr>\n",
       "    <tr>\n",
       "      <th>4</th>\n",
       "      <td>15737888</td>\n",
       "      <td>850</td>\n",
       "      <td>Spain</td>\n",
       "      <td>Female</td>\n",
       "      <td>43</td>\n",
       "      <td>2</td>\n",
       "      <td>125510.82</td>\n",
       "      <td>1</td>\n",
       "      <td>1</td>\n",
       "      <td>1</td>\n",
       "      <td>79084.10</td>\n",
       "      <td>0</td>\n",
       "    </tr>\n",
       "    <tr>\n",
       "      <th>...</th>\n",
       "      <td>...</td>\n",
       "      <td>...</td>\n",
       "      <td>...</td>\n",
       "      <td>...</td>\n",
       "      <td>...</td>\n",
       "      <td>...</td>\n",
       "      <td>...</td>\n",
       "      <td>...</td>\n",
       "      <td>...</td>\n",
       "      <td>...</td>\n",
       "      <td>...</td>\n",
       "      <td>...</td>\n",
       "    </tr>\n",
       "    <tr>\n",
       "      <th>7995</th>\n",
       "      <td>15803479</td>\n",
       "      <td>708</td>\n",
       "      <td>France</td>\n",
       "      <td>Female</td>\n",
       "      <td>67</td>\n",
       "      <td>1</td>\n",
       "      <td>0.00</td>\n",
       "      <td>2</td>\n",
       "      <td>0</td>\n",
       "      <td>1</td>\n",
       "      <td>3837.08</td>\n",
       "      <td>0</td>\n",
       "    </tr>\n",
       "    <tr>\n",
       "      <th>7996</th>\n",
       "      <td>15709639</td>\n",
       "      <td>717</td>\n",
       "      <td>France</td>\n",
       "      <td>Female</td>\n",
       "      <td>22</td>\n",
       "      <td>5</td>\n",
       "      <td>112465.06</td>\n",
       "      <td>1</td>\n",
       "      <td>1</td>\n",
       "      <td>1</td>\n",
       "      <td>92977.75</td>\n",
       "      <td>0</td>\n",
       "    </tr>\n",
       "    <tr>\n",
       "      <th>7997</th>\n",
       "      <td>15601719</td>\n",
       "      <td>465</td>\n",
       "      <td>Germany</td>\n",
       "      <td>Male</td>\n",
       "      <td>24</td>\n",
       "      <td>6</td>\n",
       "      <td>156007.09</td>\n",
       "      <td>1</td>\n",
       "      <td>1</td>\n",
       "      <td>0</td>\n",
       "      <td>191368.37</td>\n",
       "      <td>0</td>\n",
       "    </tr>\n",
       "    <tr>\n",
       "      <th>7998</th>\n",
       "      <td>15772482</td>\n",
       "      <td>829</td>\n",
       "      <td>Germany</td>\n",
       "      <td>Male</td>\n",
       "      <td>28</td>\n",
       "      <td>3</td>\n",
       "      <td>132405.52</td>\n",
       "      <td>3</td>\n",
       "      <td>1</td>\n",
       "      <td>0</td>\n",
       "      <td>104889.20</td>\n",
       "      <td>1</td>\n",
       "    </tr>\n",
       "    <tr>\n",
       "      <th>7999</th>\n",
       "      <td>15591489</td>\n",
       "      <td>826</td>\n",
       "      <td>France</td>\n",
       "      <td>Male</td>\n",
       "      <td>26</td>\n",
       "      <td>5</td>\n",
       "      <td>142662.68</td>\n",
       "      <td>1</td>\n",
       "      <td>0</td>\n",
       "      <td>0</td>\n",
       "      <td>60285.30</td>\n",
       "      <td>0</td>\n",
       "    </tr>\n",
       "  </tbody>\n",
       "</table>\n",
       "<p>8000 rows × 12 columns</p>\n",
       "</div>"
      ],
      "text/plain": [
       "      customer_id  credit_score  country  gender  age  tenure    balance  \\\n",
       "0        15634602           619   France  Female   42       2       0.00   \n",
       "1        15647311           608    Spain  Female   41       1   83807.86   \n",
       "2        15619304           502   France  Female   42       8  159660.80   \n",
       "3        15701354           699   France  Female   39       1       0.00   \n",
       "4        15737888           850    Spain  Female   43       2  125510.82   \n",
       "...           ...           ...      ...     ...  ...     ...        ...   \n",
       "7995     15803479           708   France  Female   67       1       0.00   \n",
       "7996     15709639           717   France  Female   22       5  112465.06   \n",
       "7997     15601719           465  Germany    Male   24       6  156007.09   \n",
       "7998     15772482           829  Germany    Male   28       3  132405.52   \n",
       "7999     15591489           826   France    Male   26       5  142662.68   \n",
       "\n",
       "      products_number  credit_card  active_member  estimated_salary  churn  \n",
       "0                   1            1              1         101348.88      1  \n",
       "1                   1            0              1         112542.58      0  \n",
       "2                   3            1              0         113931.57      1  \n",
       "3                   2            0              0          93826.63      0  \n",
       "4                   1            1              1          79084.10      0  \n",
       "...               ...          ...            ...               ...    ...  \n",
       "7995                2            0              1           3837.08      0  \n",
       "7996                1            1              1          92977.75      0  \n",
       "7997                1            1              0         191368.37      0  \n",
       "7998                3            1              0         104889.20      1  \n",
       "7999                1            0              0          60285.30      0  \n",
       "\n",
       "[8000 rows x 12 columns]"
      ]
     },
     "execution_count": 6,
     "metadata": {},
     "output_type": "execute_result"
    }
   ],
   "source": [
    "train = X_train.join(y_train)\n",
    "train=train\n",
    "train"
   ]
  },
  {
   "cell_type": "code",
   "execution_count": 7,
   "id": "d63d013b-2399-4418-b153-6d02f1a34b46",
   "metadata": {},
   "outputs": [
    {
     "data": {
      "text/html": [
       "<div>\n",
       "<style scoped>\n",
       "    .dataframe tbody tr th:only-of-type {\n",
       "        vertical-align: middle;\n",
       "    }\n",
       "\n",
       "    .dataframe tbody tr th {\n",
       "        vertical-align: top;\n",
       "    }\n",
       "\n",
       "    .dataframe thead th {\n",
       "        text-align: right;\n",
       "    }\n",
       "</style>\n",
       "<table border=\"1\" class=\"dataframe\">\n",
       "  <thead>\n",
       "    <tr style=\"text-align: right;\">\n",
       "      <th></th>\n",
       "      <th>customer_id</th>\n",
       "      <th>credit_score</th>\n",
       "      <th>country</th>\n",
       "      <th>gender</th>\n",
       "      <th>age</th>\n",
       "      <th>tenure</th>\n",
       "      <th>balance</th>\n",
       "      <th>products_number</th>\n",
       "      <th>credit_card</th>\n",
       "      <th>active_member</th>\n",
       "      <th>estimated_salary</th>\n",
       "      <th>churn</th>\n",
       "    </tr>\n",
       "  </thead>\n",
       "  <tbody>\n",
       "    <tr>\n",
       "      <th>8000</th>\n",
       "      <td>15629002</td>\n",
       "      <td>747</td>\n",
       "      <td>Germany</td>\n",
       "      <td>Male</td>\n",
       "      <td>36</td>\n",
       "      <td>8</td>\n",
       "      <td>102603.30</td>\n",
       "      <td>2</td>\n",
       "      <td>1</td>\n",
       "      <td>1</td>\n",
       "      <td>180693.61</td>\n",
       "      <td>0</td>\n",
       "    </tr>\n",
       "    <tr>\n",
       "      <th>8001</th>\n",
       "      <td>15798053</td>\n",
       "      <td>707</td>\n",
       "      <td>Spain</td>\n",
       "      <td>Male</td>\n",
       "      <td>32</td>\n",
       "      <td>9</td>\n",
       "      <td>0.00</td>\n",
       "      <td>2</td>\n",
       "      <td>1</td>\n",
       "      <td>0</td>\n",
       "      <td>126475.79</td>\n",
       "      <td>0</td>\n",
       "    </tr>\n",
       "    <tr>\n",
       "      <th>8002</th>\n",
       "      <td>15753895</td>\n",
       "      <td>590</td>\n",
       "      <td>Spain</td>\n",
       "      <td>Male</td>\n",
       "      <td>37</td>\n",
       "      <td>1</td>\n",
       "      <td>0.00</td>\n",
       "      <td>2</td>\n",
       "      <td>0</td>\n",
       "      <td>0</td>\n",
       "      <td>133535.99</td>\n",
       "      <td>0</td>\n",
       "    </tr>\n",
       "    <tr>\n",
       "      <th>8003</th>\n",
       "      <td>15595426</td>\n",
       "      <td>603</td>\n",
       "      <td>Spain</td>\n",
       "      <td>Male</td>\n",
       "      <td>57</td>\n",
       "      <td>6</td>\n",
       "      <td>105000.85</td>\n",
       "      <td>2</td>\n",
       "      <td>1</td>\n",
       "      <td>1</td>\n",
       "      <td>87412.24</td>\n",
       "      <td>1</td>\n",
       "    </tr>\n",
       "    <tr>\n",
       "      <th>8004</th>\n",
       "      <td>15645815</td>\n",
       "      <td>615</td>\n",
       "      <td>France</td>\n",
       "      <td>Male</td>\n",
       "      <td>45</td>\n",
       "      <td>5</td>\n",
       "      <td>0.00</td>\n",
       "      <td>2</td>\n",
       "      <td>1</td>\n",
       "      <td>1</td>\n",
       "      <td>164886.64</td>\n",
       "      <td>0</td>\n",
       "    </tr>\n",
       "    <tr>\n",
       "      <th>...</th>\n",
       "      <td>...</td>\n",
       "      <td>...</td>\n",
       "      <td>...</td>\n",
       "      <td>...</td>\n",
       "      <td>...</td>\n",
       "      <td>...</td>\n",
       "      <td>...</td>\n",
       "      <td>...</td>\n",
       "      <td>...</td>\n",
       "      <td>...</td>\n",
       "      <td>...</td>\n",
       "      <td>...</td>\n",
       "    </tr>\n",
       "    <tr>\n",
       "      <th>9995</th>\n",
       "      <td>15606229</td>\n",
       "      <td>771</td>\n",
       "      <td>France</td>\n",
       "      <td>Male</td>\n",
       "      <td>39</td>\n",
       "      <td>5</td>\n",
       "      <td>0.00</td>\n",
       "      <td>2</td>\n",
       "      <td>1</td>\n",
       "      <td>0</td>\n",
       "      <td>96270.64</td>\n",
       "      <td>0</td>\n",
       "    </tr>\n",
       "    <tr>\n",
       "      <th>9996</th>\n",
       "      <td>15569892</td>\n",
       "      <td>516</td>\n",
       "      <td>France</td>\n",
       "      <td>Male</td>\n",
       "      <td>35</td>\n",
       "      <td>10</td>\n",
       "      <td>57369.61</td>\n",
       "      <td>1</td>\n",
       "      <td>1</td>\n",
       "      <td>1</td>\n",
       "      <td>101699.77</td>\n",
       "      <td>0</td>\n",
       "    </tr>\n",
       "    <tr>\n",
       "      <th>9997</th>\n",
       "      <td>15584532</td>\n",
       "      <td>709</td>\n",
       "      <td>France</td>\n",
       "      <td>Female</td>\n",
       "      <td>36</td>\n",
       "      <td>7</td>\n",
       "      <td>0.00</td>\n",
       "      <td>1</td>\n",
       "      <td>0</td>\n",
       "      <td>1</td>\n",
       "      <td>42085.58</td>\n",
       "      <td>1</td>\n",
       "    </tr>\n",
       "    <tr>\n",
       "      <th>9998</th>\n",
       "      <td>15682355</td>\n",
       "      <td>772</td>\n",
       "      <td>Germany</td>\n",
       "      <td>Male</td>\n",
       "      <td>42</td>\n",
       "      <td>3</td>\n",
       "      <td>75075.31</td>\n",
       "      <td>2</td>\n",
       "      <td>1</td>\n",
       "      <td>0</td>\n",
       "      <td>92888.52</td>\n",
       "      <td>1</td>\n",
       "    </tr>\n",
       "    <tr>\n",
       "      <th>9999</th>\n",
       "      <td>15628319</td>\n",
       "      <td>792</td>\n",
       "      <td>France</td>\n",
       "      <td>Female</td>\n",
       "      <td>28</td>\n",
       "      <td>4</td>\n",
       "      <td>130142.79</td>\n",
       "      <td>1</td>\n",
       "      <td>1</td>\n",
       "      <td>0</td>\n",
       "      <td>38190.78</td>\n",
       "      <td>0</td>\n",
       "    </tr>\n",
       "  </tbody>\n",
       "</table>\n",
       "<p>2000 rows × 12 columns</p>\n",
       "</div>"
      ],
      "text/plain": [
       "      customer_id  credit_score  country  gender  age  tenure    balance  \\\n",
       "8000     15629002           747  Germany    Male   36       8  102603.30   \n",
       "8001     15798053           707    Spain    Male   32       9       0.00   \n",
       "8002     15753895           590    Spain    Male   37       1       0.00   \n",
       "8003     15595426           603    Spain    Male   57       6  105000.85   \n",
       "8004     15645815           615   France    Male   45       5       0.00   \n",
       "...           ...           ...      ...     ...  ...     ...        ...   \n",
       "9995     15606229           771   France    Male   39       5       0.00   \n",
       "9996     15569892           516   France    Male   35      10   57369.61   \n",
       "9997     15584532           709   France  Female   36       7       0.00   \n",
       "9998     15682355           772  Germany    Male   42       3   75075.31   \n",
       "9999     15628319           792   France  Female   28       4  130142.79   \n",
       "\n",
       "      products_number  credit_card  active_member  estimated_salary  churn  \n",
       "8000                2            1              1         180693.61      0  \n",
       "8001                2            1              0         126475.79      0  \n",
       "8002                2            0              0         133535.99      0  \n",
       "8003                2            1              1          87412.24      1  \n",
       "8004                2            1              1         164886.64      0  \n",
       "...               ...          ...            ...               ...    ...  \n",
       "9995                2            1              0          96270.64      0  \n",
       "9996                1            1              1         101699.77      0  \n",
       "9997                1            0              1          42085.58      1  \n",
       "9998                2            1              0          92888.52      1  \n",
       "9999                1            1              0          38190.78      0  \n",
       "\n",
       "[2000 rows x 12 columns]"
      ]
     },
     "execution_count": 7,
     "metadata": {},
     "output_type": "execute_result"
    }
   ],
   "source": [
    "test = X_test.join(y_test)\n",
    "test"
   ]
  },
  {
   "cell_type": "markdown",
   "id": "b375f4c2-9d33-4b92-a50b-6f90f3dfbc7d",
   "metadata": {},
   "source": [
    "# Handle Outliers"
   ]
  },
  {
   "cell_type": "code",
   "execution_count": 8,
   "id": "21de74de-2ed9-404f-b9f1-b336f61cc484",
   "metadata": {},
   "outputs": [
    {
     "name": "stdout",
     "output_type": "stream",
     "text": [
      "Jumlah baris sebelum memfilter outlier: 8000\n",
      "Jumlah baris setelah memfilter outlier: 7991\n",
      "persen yang dibuang : 0.11250000000001137\n"
     ]
    }
   ],
   "source": [
    "Q1 = train['credit_score'].quantile(.25)\n",
    "Q3 = train['credit_score'].quantile(.75)\n",
    "IQR = Q3 - Q1\n",
    "Batas_Atas = Q3 + 1.5*IQR\n",
    "Batas_Bawah = Q1 - 1.5*IQR\n",
    "print(f'Jumlah baris sebelum memfilter outlier:', len(train))\n",
    "a = len(train)\n",
    "train=train[(train['credit_score']<=Batas_Atas)&\n",
    "            (train['credit_score']>=Batas_Bawah)]\n",
    "\n",
    "print(f'Jumlah baris setelah memfilter outlier:', len(train))\n",
    "b = len(train)\n",
    "print (f'persen yang dibuang : {100-((b/a)*100)}')"
   ]
  },
  {
   "cell_type": "code",
   "execution_count": 9,
   "id": "a1e99b91-bb33-41d0-9196-ff9fd22913dc",
   "metadata": {},
   "outputs": [
    {
     "name": "stdout",
     "output_type": "stream",
     "text": [
      "Jumlah baris sebelum memfilter age outlier: 7991\n",
      "Jumlah baris setelah memfilter age outlier: 7955\n",
      "persen yang dibuang : 0.4505068201726914\n"
     ]
    }
   ],
   "source": [
    "for i in ['age']:\n",
    "  print(f'Jumlah baris sebelum memfilter',i, 'outlier:', len(train))\n",
    "  a = len(train)\n",
    "  train=train[train[i]<=75]\n",
    "  print(f'Jumlah baris setelah memfilter',i, 'outlier:', len(train))\n",
    "  b = len(train)\n",
    "  print (f'persen yang dibuang : {100-((b/a)*100)}')"
   ]
  },
  {
   "cell_type": "code",
   "execution_count": 10,
   "id": "92a9a771-e093-4a5d-9e74-e219a4c5d622",
   "metadata": {},
   "outputs": [
    {
     "data": {
      "text/html": [
       "<div>\n",
       "<style scoped>\n",
       "    .dataframe tbody tr th:only-of-type {\n",
       "        vertical-align: middle;\n",
       "    }\n",
       "\n",
       "    .dataframe tbody tr th {\n",
       "        vertical-align: top;\n",
       "    }\n",
       "\n",
       "    .dataframe thead th {\n",
       "        text-align: right;\n",
       "    }\n",
       "</style>\n",
       "<table border=\"1\" class=\"dataframe\">\n",
       "  <thead>\n",
       "    <tr style=\"text-align: right;\">\n",
       "      <th></th>\n",
       "      <th>customer_id</th>\n",
       "      <th>credit_score</th>\n",
       "      <th>country</th>\n",
       "      <th>gender</th>\n",
       "      <th>age</th>\n",
       "      <th>tenure</th>\n",
       "      <th>balance</th>\n",
       "      <th>products_number</th>\n",
       "      <th>credit_card</th>\n",
       "      <th>active_member</th>\n",
       "      <th>estimated_salary</th>\n",
       "      <th>churn</th>\n",
       "    </tr>\n",
       "  </thead>\n",
       "  <tbody>\n",
       "    <tr>\n",
       "      <th>3</th>\n",
       "      <td>15701354</td>\n",
       "      <td>699</td>\n",
       "      <td>France</td>\n",
       "      <td>Female</td>\n",
       "      <td>39</td>\n",
       "      <td>1</td>\n",
       "      <td>0.0</td>\n",
       "      <td>2</td>\n",
       "      <td>0</td>\n",
       "      <td>0</td>\n",
       "      <td>93826.63</td>\n",
       "      <td>0</td>\n",
       "    </tr>\n",
       "    <tr>\n",
       "      <th>6</th>\n",
       "      <td>15592531</td>\n",
       "      <td>822</td>\n",
       "      <td>France</td>\n",
       "      <td>Male</td>\n",
       "      <td>50</td>\n",
       "      <td>7</td>\n",
       "      <td>0.0</td>\n",
       "      <td>2</td>\n",
       "      <td>1</td>\n",
       "      <td>1</td>\n",
       "      <td>10062.80</td>\n",
       "      <td>0</td>\n",
       "    </tr>\n",
       "    <tr>\n",
       "      <th>11</th>\n",
       "      <td>15737173</td>\n",
       "      <td>497</td>\n",
       "      <td>Spain</td>\n",
       "      <td>Male</td>\n",
       "      <td>24</td>\n",
       "      <td>3</td>\n",
       "      <td>0.0</td>\n",
       "      <td>2</td>\n",
       "      <td>1</td>\n",
       "      <td>0</td>\n",
       "      <td>76390.01</td>\n",
       "      <td>0</td>\n",
       "    </tr>\n",
       "    <tr>\n",
       "      <th>12</th>\n",
       "      <td>15632264</td>\n",
       "      <td>476</td>\n",
       "      <td>France</td>\n",
       "      <td>Female</td>\n",
       "      <td>34</td>\n",
       "      <td>10</td>\n",
       "      <td>0.0</td>\n",
       "      <td>2</td>\n",
       "      <td>1</td>\n",
       "      <td>0</td>\n",
       "      <td>26260.98</td>\n",
       "      <td>0</td>\n",
       "    </tr>\n",
       "    <tr>\n",
       "      <th>13</th>\n",
       "      <td>15691483</td>\n",
       "      <td>549</td>\n",
       "      <td>France</td>\n",
       "      <td>Female</td>\n",
       "      <td>25</td>\n",
       "      <td>5</td>\n",
       "      <td>0.0</td>\n",
       "      <td>2</td>\n",
       "      <td>0</td>\n",
       "      <td>0</td>\n",
       "      <td>190857.79</td>\n",
       "      <td>0</td>\n",
       "    </tr>\n",
       "    <tr>\n",
       "      <th>...</th>\n",
       "      <td>...</td>\n",
       "      <td>...</td>\n",
       "      <td>...</td>\n",
       "      <td>...</td>\n",
       "      <td>...</td>\n",
       "      <td>...</td>\n",
       "      <td>...</td>\n",
       "      <td>...</td>\n",
       "      <td>...</td>\n",
       "      <td>...</td>\n",
       "      <td>...</td>\n",
       "      <td>...</td>\n",
       "    </tr>\n",
       "    <tr>\n",
       "      <th>7986</th>\n",
       "      <td>15678067</td>\n",
       "      <td>667</td>\n",
       "      <td>Spain</td>\n",
       "      <td>Male</td>\n",
       "      <td>45</td>\n",
       "      <td>3</td>\n",
       "      <td>0.0</td>\n",
       "      <td>2</td>\n",
       "      <td>0</td>\n",
       "      <td>0</td>\n",
       "      <td>163655.01</td>\n",
       "      <td>0</td>\n",
       "    </tr>\n",
       "    <tr>\n",
       "      <th>7989</th>\n",
       "      <td>15605827</td>\n",
       "      <td>645</td>\n",
       "      <td>France</td>\n",
       "      <td>Male</td>\n",
       "      <td>39</td>\n",
       "      <td>8</td>\n",
       "      <td>0.0</td>\n",
       "      <td>2</td>\n",
       "      <td>0</td>\n",
       "      <td>0</td>\n",
       "      <td>96864.36</td>\n",
       "      <td>0</td>\n",
       "    </tr>\n",
       "    <tr>\n",
       "      <th>7991</th>\n",
       "      <td>15787710</td>\n",
       "      <td>427</td>\n",
       "      <td>Spain</td>\n",
       "      <td>Female</td>\n",
       "      <td>39</td>\n",
       "      <td>9</td>\n",
       "      <td>0.0</td>\n",
       "      <td>2</td>\n",
       "      <td>1</td>\n",
       "      <td>0</td>\n",
       "      <td>28368.37</td>\n",
       "      <td>0</td>\n",
       "    </tr>\n",
       "    <tr>\n",
       "      <th>7992</th>\n",
       "      <td>15614137</td>\n",
       "      <td>685</td>\n",
       "      <td>France</td>\n",
       "      <td>Female</td>\n",
       "      <td>40</td>\n",
       "      <td>7</td>\n",
       "      <td>0.0</td>\n",
       "      <td>2</td>\n",
       "      <td>1</td>\n",
       "      <td>0</td>\n",
       "      <td>103898.59</td>\n",
       "      <td>0</td>\n",
       "    </tr>\n",
       "    <tr>\n",
       "      <th>7995</th>\n",
       "      <td>15803479</td>\n",
       "      <td>708</td>\n",
       "      <td>France</td>\n",
       "      <td>Female</td>\n",
       "      <td>67</td>\n",
       "      <td>1</td>\n",
       "      <td>0.0</td>\n",
       "      <td>2</td>\n",
       "      <td>0</td>\n",
       "      <td>1</td>\n",
       "      <td>3837.08</td>\n",
       "      <td>0</td>\n",
       "    </tr>\n",
       "  </tbody>\n",
       "</table>\n",
       "<p>2458 rows × 12 columns</p>\n",
       "</div>"
      ],
      "text/plain": [
       "      customer_id  credit_score country  gender  age  tenure  balance  \\\n",
       "3        15701354           699  France  Female   39       1      0.0   \n",
       "6        15592531           822  France    Male   50       7      0.0   \n",
       "11       15737173           497   Spain    Male   24       3      0.0   \n",
       "12       15632264           476  France  Female   34      10      0.0   \n",
       "13       15691483           549  France  Female   25       5      0.0   \n",
       "...           ...           ...     ...     ...  ...     ...      ...   \n",
       "7986     15678067           667   Spain    Male   45       3      0.0   \n",
       "7989     15605827           645  France    Male   39       8      0.0   \n",
       "7991     15787710           427   Spain  Female   39       9      0.0   \n",
       "7992     15614137           685  France  Female   40       7      0.0   \n",
       "7995     15803479           708  France  Female   67       1      0.0   \n",
       "\n",
       "      products_number  credit_card  active_member  estimated_salary  churn  \n",
       "3                   2            0              0          93826.63      0  \n",
       "6                   2            1              1          10062.80      0  \n",
       "11                  2            1              0          76390.01      0  \n",
       "12                  2            1              0          26260.98      0  \n",
       "13                  2            0              0         190857.79      0  \n",
       "...               ...          ...            ...               ...    ...  \n",
       "7986                2            0              0         163655.01      0  \n",
       "7989                2            0              0          96864.36      0  \n",
       "7991                2            1              0          28368.37      0  \n",
       "7992                2            1              0         103898.59      0  \n",
       "7995                2            0              1           3837.08      0  \n",
       "\n",
       "[2458 rows x 12 columns]"
      ]
     },
     "execution_count": 10,
     "metadata": {},
     "output_type": "execute_result"
    }
   ],
   "source": [
    "dff = train[(train['balance']==0)&\n",
    "        (train['churn'].isin([0]))]\n",
    "        # (df['index']<=100)]\n",
    "dff"
   ]
  },
  {
   "cell_type": "code",
   "execution_count": 11,
   "id": "a102a304-ced4-4d00-91c8-0628177d6f94",
   "metadata": {},
   "outputs": [
    {
     "data": {
      "text/plain": [
       "Int64Index([   3,    6,   11,   12,   13,   14,   17,   18,   19,   20,\n",
       "            ...\n",
       "            7960, 7963, 7966, 7971, 7979, 7986, 7989, 7991, 7992, 7995],\n",
       "           dtype='int64', length=2458)"
      ]
     },
     "execution_count": 11,
     "metadata": {},
     "output_type": "execute_result"
    }
   ],
   "source": [
    "dff.index.sort_values()"
   ]
  },
  {
   "cell_type": "code",
   "execution_count": 12,
   "id": "32a2a3e0-0a07-4923-8d69-59be51aac34b",
   "metadata": {},
   "outputs": [
    {
     "name": "stdout",
     "output_type": "stream",
     "text": [
      "Jumlah baris sebelum memfilter outlier: 7955\n",
      "Jumlah baris setelah memfilter outlier: 7855\n",
      "persen yang dibuang : 1.2570710245128964\n"
     ]
    }
   ],
   "source": [
    "print(f'Jumlah baris sebelum memfilter outlier:', len(train))\n",
    "a = len(train)\n",
    "train=train.drop(index=[3,    6,   11,   12,   13,   14,   17,   18,   19,   20,\n",
    "                        21,   23,   24,   25,   27,   33,   34,   38,   40,   52,\n",
    "                        71,   74,   76,   77,   82,   84,   85,   87,   92,   93,\n",
    "                        94,   98,   99,  100,  101,  103,  117,  122,  124,  128,\n",
    "                        130,  133,  141,  149,  150,  152,  154,  156,  157,  161,\n",
    "                        7820, 7823, 7827, 7830, 7836, 7839, 7844, 7845, 7848, 7850,\n",
    "                        7854, 7864, 7865, 7867, 7870, 7880, 7881, 7883, 7886, 7890,\n",
    "                        7892, 7896, 7899, 7902, 7903, 7908, 7914, 7916, 7918, 7921,\n",
    "                        7922, 7924, 7925, 7930, 7935, 7936, 7938, 7945, 7951, 7959,\n",
    "                        7960, 7963, 7966, 7971, 7979, 7986, 7989, 7991, 7992, 7995])\n",
    "print(f'Jumlah baris setelah memfilter outlier:', len(train))\n",
    "b = len(train)\n",
    "print (f'persen yang dibuang : {100-((b/a)*100)}')"
   ]
  },
  {
   "cell_type": "markdown",
   "id": "09954ed3-9bc1-4319-b25f-58f56078c386",
   "metadata": {
    "tags": []
   },
   "source": [
    "# Feature Transformation "
   ]
  },
  {
   "cell_type": "markdown",
   "id": "49c10c9c-d4c5-433a-a05a-d1ec0f1a0036",
   "metadata": {},
   "source": [
    "https://www.analyticsvidhya.com/blog/2020/07/types-of-feature-transformation-and-scaling/"
   ]
  },
  {
   "cell_type": "code",
   "execution_count": 13,
   "id": "beac96c8-2e38-4eb3-abd2-7e3ca8110c6c",
   "metadata": {},
   "outputs": [],
   "source": [
    "from sklearn.preprocessing import RobustScaler\n",
    "from sklearn.preprocessing import QuantileTransformer\n",
    "from sklearn.preprocessing import PowerTransformer\n",
    "from sklearn.preprocessing import MinMaxScaler, StandardScaler\n",
    "from sklearn.preprocessing import MaxAbsScaler\n",
    "from sklearn.preprocessing import Normalizer\n",
    "from sklearn.preprocessing import FunctionTransformer\n",
    "# FT = FunctionTransformer(np.log2, validate = True)\n",
    "# N = Normalizer(norm = 'l1')\n",
    "# MAS = MaxAbsScaler()\n",
    "MMS = MinMaxScaler()\n",
    "# SS = StandardScaler()\n",
    "# PT= PowerTransformer(method = 'yeo-johnson')\n",
    "train['balance'] = MMS.fit_transform(train['balance'].values.reshape(len(train),1))\n",
    "test['balance'] = MMS.fit_transform(test['balance'].values.reshape(len(test),1))"
   ]
  },
  {
   "cell_type": "code",
   "execution_count": 14,
   "id": "2d4ca4db-5637-4113-8c46-8f45208c95ad",
   "metadata": {},
   "outputs": [],
   "source": [
    "from sklearn.preprocessing import MinMaxScaler, StandardScaler\n",
    "from sklearn.preprocessing import PowerTransformer\n",
    "# MMS = MinMaxScaler()\n",
    "PT= PowerTransformer(method = 'box-cox')\n",
    "train['credit_score'] = PT.fit_transform(train['credit_score'].values.reshape(len(train),1))\n",
    "test['credit_score'] = PT.fit_transform(test['credit_score'].values.reshape(len(test),1))"
   ]
  },
  {
   "cell_type": "code",
   "execution_count": 15,
   "id": "9b59e7aa-f22f-46ee-8d80-2fb6891adcbf",
   "metadata": {},
   "outputs": [],
   "source": [
    "from sklearn.preprocessing import MinMaxScaler, StandardScaler\n",
    "from sklearn.preprocessing import PowerTransformer\n",
    "# MMS = MinMaxScaler()\n",
    "PT= PowerTransformer(method = 'box-cox')\n",
    "train['age'] = PT.fit_transform(train['age'].values.reshape(len(train),1))\n",
    "test['age'] = PT.fit_transform(test['age'].values.reshape(len(test),1))"
   ]
  },
  {
   "cell_type": "code",
   "execution_count": 16,
   "id": "79c3122e-0a47-41ae-980b-0c8fcfea76a6",
   "metadata": {},
   "outputs": [],
   "source": [
    "from sklearn.preprocessing import MinMaxScaler, StandardScaler\n",
    "from sklearn.preprocessing import RobustScaler\n",
    "# MMS = MinMaxScaler()\n",
    "RS = RobustScaler()\n",
    "train['tenure'] = RS.fit_transform(train['tenure'].values.reshape(len(train),1))\n",
    "test['tenure'] = RS.fit_transform(test['tenure'].values.reshape(len(test),1))"
   ]
  },
  {
   "cell_type": "code",
   "execution_count": 17,
   "id": "13bfc485-414b-42b9-97b5-7ce56ff4284d",
   "metadata": {},
   "outputs": [],
   "source": [
    "from sklearn.preprocessing import MinMaxScaler, StandardScaler\n",
    "from sklearn.preprocessing import QuantileTransformer\n",
    "# MMS = MinMaxScaler()\n",
    "QT = QuantileTransformer()\n",
    "train['estimated_salary'] = QT.fit_transform(train['estimated_salary'].values.reshape(len(train),1))\n",
    "test['estimated_salary'] = QT.fit_transform(test['estimated_salary'].values.reshape(len(test),1))"
   ]
  },
  {
   "cell_type": "code",
   "execution_count": 18,
   "id": "9bf43cd2-cb18-407c-8525-e0db72541534",
   "metadata": {},
   "outputs": [
    {
     "name": "stderr",
     "output_type": "stream",
     "text": [
      "C:\\Users\\sihom\\AppData\\Local\\Temp\\ipykernel_692\\3669847969.py:1: UserWarning: \n",
      "\n",
      "`distplot` is a deprecated function and will be removed in seaborn v0.14.0.\n",
      "\n",
      "Please adapt your code to use either `displot` (a figure-level function with\n",
      "similar flexibility) or `histplot` (an axes-level function for histograms).\n",
      "\n",
      "For a guide to updating your code to use the new functions, please see\n",
      "https://gist.github.com/mwaskom/de44147ed2974457ad6372750bbe5751\n",
      "\n",
      "  sns.distplot(x=train.tenure)\n"
     ]
    },
    {
     "data": {
      "text/plain": [
       "<AxesSubplot:ylabel='Density'>"
      ]
     },
     "execution_count": 18,
     "metadata": {},
     "output_type": "execute_result"
    },
    {
     "data": {
      "image/png": "[encoded data removed]",
      "text/plain": [
       "<Figure size 432x288 with 1 Axes>"
      ]
     },
     "metadata": {
      "needs_background": "light"
     },
     "output_type": "display_data"
    }
   ],
   "source": [
    "sns.distplot(x=train.tenure)"
   ]
  },
  {
   "cell_type": "markdown",
   "id": "642e7b63-28d2-4f5c-b537-570d2ae027a4",
   "metadata": {},
   "source": [
    "# Feature Encoding"
   ]
  },
  {
   "cell_type": "code",
   "execution_count": 19,
   "id": "52d48720-be22-4d49-9e93-98a924b0198e",
   "metadata": {},
   "outputs": [
    {
     "data": {
      "text/plain": [
       "1    1114\n",
       "0     886\n",
       "Name: gender, dtype: int64"
      ]
     },
     "execution_count": 19,
     "metadata": {},
     "output_type": "execute_result"
    }
   ],
   "source": [
    "mapping_status = {'Male':1,\n",
    "                  'Female':0}\n",
    "train['gender']=train['gender'].map(mapping_status)\n",
    "train['gender'].value_counts()\n",
    "test['gender']=test['gender'].map(mapping_status)\n",
    "test['gender'].value_counts()"
   ]
  },
  {
   "cell_type": "code",
   "execution_count": 20,
   "id": "fbcb1a10-8fa0-4430-a92f-19589d70ee40",
   "metadata": {},
   "outputs": [
    {
     "data": {
      "text/plain": [
       "2    1004\n",
       "1     514\n",
       "0     482\n",
       "Name: country, dtype: int64"
      ]
     },
     "execution_count": 20,
     "metadata": {},
     "output_type": "execute_result"
    }
   ],
   "source": [
    "mapping_status = {'France':2,\n",
    "                  'Germany':1,\n",
    "                 'Spain':0}\n",
    "train['country']=train['country'].map(mapping_status)\n",
    "train['country'].value_counts()\n",
    "test['country']=test['country'].map(mapping_status)\n",
    "test['country'].value_counts()"
   ]
  },
  {
   "cell_type": "code",
   "execution_count": 21,
   "id": "702d48f3-e57a-41fd-b52c-34e907f50a53",
   "metadata": {},
   "outputs": [],
   "source": [
    "# traino = pd.get_dummies(train['country'], prefix = 'country')\n",
    "# train = train.join(traino)"
   ]
  },
  {
   "cell_type": "code",
   "execution_count": 22,
   "id": "251298ef-0fc3-4f73-9317-15501cc90cff",
   "metadata": {},
   "outputs": [],
   "source": [
    "# testo = pd.get_dummies(test['country'], prefix = 'country')\n",
    "# test = test.join(testo)"
   ]
  },
  {
   "cell_type": "markdown",
   "id": "f6316c51-8e8a-46d2-9d28-67f033660c2d",
   "metadata": {
    "tags": []
   },
   "source": [
    "# Class Imbalance"
   ]
  },
  {
   "cell_type": "code",
   "execution_count": 23,
   "id": "f2cc2255-8e0c-43b9-8a98-169415d28be1",
   "metadata": {},
   "outputs": [],
   "source": [
    "X_train = train.drop('churn', axis=1)\n",
    "y_train = train.churn\n",
    "X_test = test.drop('churn', axis=1)\n",
    "y_test = test.churn"
   ]
  },
  {
   "cell_type": "code",
   "execution_count": 24,
   "id": "a187499a-9ee9-43d6-b3c8-1004852db61f",
   "metadata": {},
   "outputs": [
    {
     "name": "stdout",
     "output_type": "stream",
     "text": [
      "[(0, 6218), (1, 6218)] (12436,)\n"
     ]
    }
   ],
   "source": [
    "from imblearn.over_sampling import RandomOverSampler\n",
    "from collections import Counter\n",
    "ros = RandomOverSampler(random_state=42)\n",
    "X_resampled, y_resampled = ros.fit_resample(X_train,y_train)\n",
    "# y.value_counts()\n",
    "print(sorted(Counter(y_resampled).items()),y_resampled.shape)"
   ]
  },
  {
   "cell_type": "markdown",
   "id": "dc30d3d7-1370-408f-8b90-cfccb7219cea",
   "metadata": {},
   "source": [
    "# Feature Selection"
   ]
  },
  {
   "cell_type": "code",
   "execution_count": 25,
   "id": "82e266f3-f4d7-4495-b0ed-a1ce1963491c",
   "metadata": {},
   "outputs": [
    {
     "name": "stdout",
     "output_type": "stream",
     "text": [
      "<class 'pandas.core.frame.DataFrame'>\n",
      "Int64Index: 7855 entries, 0 to 7999\n",
      "Data columns (total 11 columns):\n",
      " #   Column            Non-Null Count  Dtype  \n",
      "---  ------            --------------  -----  \n",
      " 0   customer_id       7855 non-null   int64  \n",
      " 1   credit_score      7855 non-null   float64\n",
      " 2   country           7855 non-null   int64  \n",
      " 3   gender            7855 non-null   int64  \n",
      " 4   age               7855 non-null   float64\n",
      " 5   tenure            7855 non-null   float64\n",
      " 6   balance           7855 non-null   float64\n",
      " 7   products_number   7855 non-null   int64  \n",
      " 8   credit_card       7855 non-null   int64  \n",
      " 9   active_member     7855 non-null   int64  \n",
      " 10  estimated_salary  7855 non-null   float64\n",
      "dtypes: float64(5), int64(6)\n",
      "memory usage: 736.4 KB\n"
     ]
    }
   ],
   "source": [
    "X_train.info()"
   ]
  },
  {
   "cell_type": "code",
   "execution_count": 26,
   "id": "cc5a9a14-202d-431e-b354-1771b2e0a734",
   "metadata": {},
   "outputs": [],
   "source": [
    "X_train = X_resampled[['credit_score', 'age', 'tenure','balance',\n",
    "                       'products_number','credit_card', 'active_member','estimated_salary',\n",
    "                       'country']]\n",
    "X_test = test[['credit_score', 'age', 'tenure','balance',\n",
    "                       'products_number','credit_card', 'active_member','estimated_salary',\n",
    "                       'country']]\n",
    "y_test = test.churn\n",
    "y_train = y_resampled"
   ]
  },
  {
   "cell_type": "markdown",
   "id": "b505e5a2-80e9-4c9b-b17f-630d676c275a",
   "metadata": {
    "id": "WOA_veMNXeBS"
   },
   "source": [
    "# Modeling"
   ]
  },
  {
   "cell_type": "code",
   "execution_count": 27,
   "id": "6ef1ed04-824c-42cd-ba90-64c5b384bd4b",
   "metadata": {
    "id": "604fb20e-3c6c-43f1-8f2d-1f7885348e61"
   },
   "outputs": [],
   "source": [
    "from sklearn.metrics import accuracy_score\n",
    "from sklearn.metrics import precision_score\n",
    "from sklearn.metrics import average_precision_score\n",
    "from sklearn.metrics import recall_score\n",
    "from sklearn.metrics import roc_auc_score\n",
    "from sklearn.metrics import f1_score"
   ]
  },
  {
   "cell_type": "markdown",
   "id": "0b6512f2-36ba-4380-88c3-6ff724a453de",
   "metadata": {
    "id": "OPXPac7xfBoQ"
   },
   "source": [
    "# Model Evaluation"
   ]
  },
  {
   "cell_type": "code",
   "execution_count": 28,
   "id": "975c1704-36a2-4961-9706-283f0973ebc9",
   "metadata": {
    "id": "f22e60ad-21c7-4106-b5df-f773664fe385"
   },
   "outputs": [],
   "source": [
    "import warnings\n",
    "warnings.filterwarnings('ignore')\n",
    "from sklearn.model_selection import cross_validate\n",
    "# from sklearn.linear_model import LinearRegression\n",
    "from sklearn.metrics import confusion_matrix\n",
    "def eval_classification(model):\n",
    "  y_pred = model.predict(X_test)\n",
    "  y_pred_train = model.predict(X_train)\n",
    "  y_pred_proba = model.predict_proba(X_test)\n",
    "  y_pred_proba_train = model.predict_proba(X_train)\n",
    "     \n",
    "  print('Accuracy Test:', round(accuracy_score(y_test, y_pred),3))\n",
    "  print('Precision Train:', round(precision_score(y_train, y_pred_train),3))\n",
    "  print('Precision Test:', round(precision_score(y_test, y_pred),3))    \n",
    "  print('Recall Train:', round(recall_score(y_train, y_pred_train),10))\n",
    "  print('Recall Test:', round(recall_score(y_test, y_pred),10))\n",
    "\n",
    "  # score1 = cross_validate(model, X_train,y_train, cv=5, scoring='recall', return_train_score=True)\n",
    "  # print(\"roc_auc (crossval train):\" +str(score1['train_score'].mean()))\n",
    "  # print(\"roc_auc (crossval test):\" +str(score1['test_score'].mean()))\n",
    "\n",
    "  print('F1-Score Train:', round(f1_score(y_train, y_pred_train),3))\n",
    "  print('F1-Score Test:', round(f1_score(y_test, y_pred),3))\n",
    "  print('AUC (Train):', round(roc_auc_score(y_train, y_pred_proba_train[:,1]),3))\n",
    "  print('AUC (Test):', round(roc_auc_score(y_test, y_pred_proba[:,1]),3))\n",
    " \n",
    "  score = cross_validate(model, X_train,y_train, cv=5, scoring='roc_auc', return_train_score=True)\n",
    "  print(\"roc_auc (crossval train):\" +str(score['train_score'].mean()))\n",
    "  print(\"roc_auc (crossval test):\" +str(score['test_score'].mean()))"
   ]
  },
  {
   "cell_type": "markdown",
   "id": "7e91832c-5802-4d14-a9a1-cb40c71bd72f",
   "metadata": {
    "id": "LpO6AvzDfHcv"
   },
   "source": [
    "# Modeling Algorithm"
   ]
  },
  {
   "cell_type": "markdown",
   "id": "4e1ae062-3a84-482d-8f6a-62ccf4d05d5f",
   "metadata": {
    "id": "CHeLnN4_Cw73"
   },
   "source": [
    "## Logistic Regression"
   ]
  },
  {
   "cell_type": "code",
   "execution_count": 29,
   "id": "1beeee2d-f92a-45f9-97f2-a389151d0498",
   "metadata": {
    "colab": {
     "base_uri": "https://localhost:8080/"
    },
    "id": "ziG3dGTuC25J",
    "outputId": "ca3c39d6-236b-4dac-a807-f9d0abe1b7c5"
   },
   "outputs": [
    {
     "name": "stdout",
     "output_type": "stream",
     "text": [
      "Accuracy Test: 0.667\n",
      "Precision Train: 0.701\n",
      "Precision Test: 0.328\n",
      "Recall Train: 0.7211321968\n",
      "Recall Test: 0.6769230769\n",
      "F1-Score Train: 0.711\n",
      "F1-Score Test: 0.442\n",
      "AUC (Train): 0.767\n",
      "AUC (Test): 0.736\n",
      "roc_auc (crossval train):0.7668964785581339\n",
      "roc_auc (crossval test):0.7661629439123834\n"
     ]
    }
   ],
   "source": [
    "from sklearn.linear_model import LogisticRegression\n",
    "from sklearn.model_selection import RandomizedSearchCV, GridSearchCV\n",
    "lr_lbfgs = LogisticRegression()\n",
    "lr_lbfgs.fit(X_train, y_train)\n",
    "lr_pred_lbfgs = lr_lbfgs.predict(X_test)\n",
    "lr_pred_lbfgs_train = lr_lbfgs.predict(X_train)\n",
    "eval_classification(lr_lbfgs)"
   ]
  },
  {
   "cell_type": "code",
   "execution_count": 30,
   "id": "df733002-780f-476a-b1db-34ebef6349e5",
   "metadata": {
    "colab": {
     "base_uri": "https://localhost:8080/"
    },
    "id": "QllUNU5qZpFB",
    "outputId": "d5684905-e40a-4380-a2ca-0563270e699f"
   },
   "outputs": [
    {
     "name": "stdout",
     "output_type": "stream",
     "text": [
      "              precision    recall  f1-score   support\n",
      "\n",
      "           0       0.89      0.66      0.76      1610\n",
      "           1       0.33      0.68      0.44       390\n",
      "\n",
      "    accuracy                           0.67      2000\n",
      "   macro avg       0.61      0.67      0.60      2000\n",
      "weighted avg       0.78      0.67      0.70      2000\n",
      "\n",
      "              precision    recall  f1-score   support\n",
      "\n",
      "           0       0.71      0.69      0.70      6218\n",
      "           1       0.70      0.72      0.71      6218\n",
      "\n",
      "    accuracy                           0.71     12436\n",
      "   macro avg       0.71      0.71      0.71     12436\n",
      "weighted avg       0.71      0.71      0.71     12436\n",
      "\n"
     ]
    }
   ],
   "source": [
    "from sklearn.metrics import classification_report\n",
    "print(classification_report(y_test, lr_pred_lbfgs))#classification report for logistic model prediction\n",
    "print(classification_report(y_train, lr_pred_lbfgs_train))#classification report for logistic model prediction"
   ]
  },
  {
   "cell_type": "code",
   "execution_count": 31,
   "id": "e2fb12eb-ef3c-456c-83c3-9719c50718f5",
   "metadata": {
    "colab": {
     "base_uri": "https://localhost:8080/"
    },
    "id": "Z4ZHSPfYELNJ",
    "outputId": "931c36f7-eb84-4c6d-e893-e57c8751e470"
   },
   "outputs": [
    {
     "name": "stdout",
     "output_type": "stream",
     "text": [
      "[[1070  540]\n",
      " [ 126  264]]\n"
     ]
    }
   ],
   "source": [
    "from sklearn.metrics import confusion_matrix\n",
    "lr_lbfgs_cm = confusion_matrix(y_test, lr_pred_lbfgs)\n",
    "print(lr_lbfgs_cm)"
   ]
  },
  {
   "cell_type": "code",
   "execution_count": 32,
   "id": "85e096f1-f20b-4841-bc3e-de77696ed203",
   "metadata": {
    "colab": {
     "base_uri": "https://localhost:8080/",
     "height": 394
    },
    "id": "uB0p_X8eJXp2",
    "outputId": "ab52432a-e721-4b49-c503-d095aec2ef34",
    "tags": []
   },
   "outputs": [
    {
     "data": {
      "image/png": "[encoded data removed]",
      "text/plain": [
       "<Figure size 576x432 with 2 Axes>"
      ]
     },
     "metadata": {
      "needs_background": "light"
     },
     "output_type": "display_data"
    }
   ],
   "source": [
    "import seaborn as sns\n",
    "group_names = ['True Neg','False Pos','False Neg','True Pos']\n",
    "group_counts = ['{0:0.0f}'.format(value) for value in\n",
    "                lr_lbfgs_cm.flatten()]\n",
    "labels = [f\"{v1}\\n{v2}\" for v1, v2 in\n",
    "          zip(group_names,group_counts)]\n",
    "labels = np.asarray(labels).reshape(2,2)\n",
    "plt.figure(figsize=(8,6))\n",
    "plt.title('LogReg Default')\n",
    "sns.heatmap(lr_lbfgs_cm, annot=labels, annot_kws={'size':13}, fmt='', cmap='Blues')\n",
    "plt.show()"
   ]
  },
  {
   "cell_type": "markdown",
   "id": "3cf89510-2f9b-4129-a0e6-3842a2f41187",
   "metadata": {},
   "source": [
    "1. True Negative artinya kita prediksi tidak churn dan benar tidak churn,\n",
    "2. False Positive artinya kita prediksi churn ternyata tidak churn\n",
    "3. False Negative artinya kita prediksi tidak churn ternyata churn\n",
    "4. True Positive artinya kita prediksi churn dan benar churn"
   ]
  },
  {
   "cell_type": "code",
   "execution_count": 33,
   "id": "fb4aff22-b9d8-4fa3-a416-b81e1f5976a7",
   "metadata": {
    "id": "ihkmDdUfFC1U"
   },
   "outputs": [],
   "source": [
    "# mencari manual\n",
    "# Coding untuk men tuning manual, satu variabel di tuning.\n",
    "# dalam model logistic regresion di coding ini, yg dituning adalah variabel C, diambil dari nilai param_values\n",
    "import numpy as np\n",
    "from matplotlib import pyplot as plt\n",
    "from sklearn.linear_model import LogisticRegression\n",
    "from sklearn.neighbors import KNeighborsClassifier\n",
    "from sklearn.tree import DecisionTreeClassifier\n",
    "\n",
    "def draw_learning_curve_5(param_values, solver):\n",
    "    train_recal_score = []\n",
    "    train_accuracy_score = []\n",
    "    train_precision_score = []\n",
    "    test_recal_score = []\n",
    "    test_accuracy_score = []\n",
    "    test_precision_score = []\n",
    "\n",
    "    data = [train_recal_score, train_accuracy_score, train_precision_score, test_recal_score, test_accuracy_score, test_precision_score]\n",
    "    \n",
    "    for c in param_values:\n",
    "        model = LogisticRegression(C=c, solver = solver, class_weight='balanced') # , multi_class='multinomial'\n",
    "        model.fit(X_train, y_train)\n",
    "        y_pred = model.predict(X_test)\n",
    "        y_pred_train = model.predict(X_train)\n",
    "        y_pred_proba = model.predict_proba(X_test)\n",
    "        y_pred_proba_train = model.predict_proba(X_train)\n",
    "\n",
    "        # eval on train\n",
    "        train_recal = recall_score(y_train, y_pred_train)\n",
    "        train_accuracy = accuracy_score(y_train, y_pred_train)\n",
    "        train_precision = precision_score(y_train, y_pred_train)\n",
    "        \n",
    "        train_recal_score.append(train_recal)\n",
    "        train_accuracy_score.append(train_accuracy)\n",
    "        train_precision_score.append(train_precision)\n",
    "\n",
    "        # eval on test\n",
    "        test_recal = recall_score(y_test, y_pred)\n",
    "        test_accuracy = accuracy_score(y_test, y_pred)\n",
    "        test_precision = precision_score(y_test, y_pred)\n",
    "        \n",
    "        test_recal_score.append(test_recal)\n",
    "        test_accuracy_score.append(test_accuracy)\n",
    "        test_precision_score.append(test_precision)\n",
    "\n",
    "    fig = plt.figure(figsize=(10, 10))\n",
    "    ax = fig.add_subplot(3, 1, 1)\n",
    "    plt.plot(param_values, train_recal_score, label='Train')\n",
    "    plt.plot(param_values, test_recal_score, label='Test')\n",
    "    plt.xlabel('C')\n",
    "    plt.ylabel('Recall')\n",
    "    plt.title('Learning Curve - Hyperparameter C - Logistic Regression' + solver)\n",
    "    plt.legend()\n",
    "    \n",
    "    ax = fig.add_subplot(3, 1, 2)\n",
    "    plt.plot(param_values, train_accuracy_score, label='Train')\n",
    "    plt.plot(param_values, test_accuracy_score, label='Test')\n",
    "    plt.xlabel('C')\n",
    "    plt.ylabel('Accuracy')\n",
    "    plt.title('Learning Curve - Hyperparameter C - Logistic Regression' + solver)\n",
    "    plt.legend()\n",
    "    \n",
    "    ax = fig.add_subplot(3, 1, 3)\n",
    "    plt.plot(param_values, train_precision_score, label='Train')\n",
    "    plt.plot(param_values, test_precision_score, label='Test')\n",
    "    plt.xlabel('C')\n",
    "    plt.ylabel('Precision')\n",
    "    plt.title('Learning Curve - Hyperparameter C - Logistic Regression' + solver)\n",
    "    plt.legend()\n",
    "#     plt.savefig('Learning Curve - Hyperparameter C - Logistic Regression' + solver + '.png')\n",
    "    plt.show()"
   ]
  },
  {
   "cell_type": "code",
   "execution_count": 34,
   "id": "8c195b38-1d7d-44d5-a806-1a5dfa6204f6",
   "metadata": {
    "colab": {
     "base_uri": "https://localhost:8080/",
     "height": 625
    },
    "id": "ooTiuxVRFe9n",
    "outputId": "6cb53b03-4ac4-4a5d-a24f-7b5292ba484a"
   },
   "outputs": [
    {
     "data": {
      "image/png": "[encoded data removed]",
      "text/plain": [
       "<Figure size 720x720 with 3 Axes>"
      ]
     },
     "metadata": {
      "needs_background": "light"
     },
     "output_type": "display_data"
    }
   ],
   "source": [
    "# learning curve\n",
    "import numpy as np\n",
    "param_values = [float(x) for x in np.linspace(0.01, 1)]\n",
    "draw_learning_curve_5(param_values, 'lbfgs') # solver : saga"
   ]
  },
  {
   "cell_type": "code",
   "execution_count": 35,
   "id": "9c4c77b5-9837-401d-a76c-c4ceaf8739a9",
   "metadata": {},
   "outputs": [
    {
     "name": "stdout",
     "output_type": "stream",
     "text": [
      "Accuracy Test: 0.667\n",
      "Precision Train: 0.701\n",
      "Precision Test: 0.328\n",
      "Recall Train: 0.7211321968\n",
      "Recall Test: 0.6769230769\n",
      "F1-Score Train: 0.711\n",
      "F1-Score Test: 0.442\n",
      "AUC (Train): 0.767\n",
      "AUC (Test): 0.736\n",
      "roc_auc (crossval train):0.7669046176271858\n",
      "roc_auc (crossval test):0.766167985950383\n"
     ]
    }
   ],
   "source": [
    "# terbaik\n",
    "from sklearn.linear_model import LogisticRegression\n",
    "from sklearn.model_selection import RandomizedSearchCV, GridSearchCV\n",
    "lr_lbfgs = LogisticRegression(solver='lbfgs', C=0.81, class_weight='balanced') # C = 0.01 solver : saga , multi_class='multinomial'\n",
    "lr_lbfgs.fit(X_train, y_train)\n",
    "lr_pred_lbfgs = lr_lbfgs.predict(X_test)\n",
    "lr_pred_lbfgs_train = lr_lbfgs.predict(X_train)\n",
    "# print('Prediction:', lr_pred_lbfgs)\n",
    "eval_classification(lr_lbfgs)"
   ]
  },
  {
   "cell_type": "code",
   "execution_count": 36,
   "id": "549ae24c-bf12-46cb-81d7-a4dcff93a1aa",
   "metadata": {
    "colab": {
     "base_uri": "https://localhost:8080/"
    },
    "id": "Z4ZHSPfYELNJ",
    "outputId": "931c36f7-eb84-4c6d-e893-e57c8751e470"
   },
   "outputs": [
    {
     "name": "stdout",
     "output_type": "stream",
     "text": [
      "[[1070  540]\n",
      " [ 126  264]]\n"
     ]
    }
   ],
   "source": [
    "from sklearn.metrics import confusion_matrix\n",
    "lr_lbfgs_cm = confusion_matrix(y_test, lr_pred_lbfgs)\n",
    "print(lr_lbfgs_cm)"
   ]
  },
  {
   "cell_type": "code",
   "execution_count": 37,
   "id": "5002ed83-8161-4b37-9c80-5c489fcaf33a",
   "metadata": {
    "colab": {
     "base_uri": "https://localhost:8080/",
     "height": 394
    },
    "id": "uB0p_X8eJXp2",
    "outputId": "ab52432a-e721-4b49-c503-d095aec2ef34",
    "tags": []
   },
   "outputs": [
    {
     "data": {
      "image/png": "[encoded data removed]",
      "text/plain": [
       "<Figure size 576x432 with 2 Axes>"
      ]
     },
     "metadata": {
      "needs_background": "light"
     },
     "output_type": "display_data"
    }
   ],
   "source": [
    "import seaborn as sns\n",
    "group_names = ['True Neg','False Pos','False Neg','True Pos']\n",
    "group_counts = ['{0:0.0f}'.format(value) for value in\n",
    "                lr_lbfgs_cm.flatten()]\n",
    "labels = [f\"{v1}\\n{v2}\" for v1, v2 in\n",
    "          zip(group_names,group_counts)]\n",
    "labels = np.asarray(labels).reshape(2,2)\n",
    "plt.figure(figsize=(8,6))\n",
    "plt.title('LogReg Default')\n",
    "sns.heatmap(lr_lbfgs_cm, annot=labels, fmt='', cmap='Blues')\n",
    "plt.show()"
   ]
  },
  {
   "cell_type": "code",
   "execution_count": 38,
   "id": "a0f8f5b6-93b4-40e1-bec8-ac8753df9c82",
   "metadata": {},
   "outputs": [
    {
     "data": {
      "image/png": "[encoded data removed]",
      "text/plain": [
       "<Figure size 720x720 with 1 Axes>"
      ]
     },
     "metadata": {
      "needs_background": "light"
     },
     "output_type": "display_data"
    }
   ],
   "source": [
    "fig = plt.figure(figsize=(10, 10))\n",
    "ftimp = pd.Series(lr_lbfgs.coef_[0], index=X_train.columns)\n",
    "# ax = fig.add_subplot(3, 3, i+1)\n",
    "ax = ftimp.nlargest(20).plot(kind='barh')\n",
    "plt.title('Feature Importance LogReg')\n",
    "# plt.ylim()\n",
    "plt.tight_layout()\n",
    "# plt.savefig('Feature Importance LogReg.png')"
   ]
  },
  {
   "cell_type": "markdown",
   "id": "54c1b805-380e-45e5-aa96-c647889b7d8d",
   "metadata": {
    "id": "E8OOVxCswPU5"
   },
   "source": [
    "## XGboost"
   ]
  },
  {
   "cell_type": "code",
   "execution_count": 39,
   "id": "cd5f29fa-0b95-4956-917f-27eb1323151b",
   "metadata": {
    "id": "ZR1Wfx-iwqaq",
    "tags": []
   },
   "outputs": [
    {
     "name": "stdout",
     "output_type": "stream",
     "text": [
      "Accuracy Test: 0.667\n",
      "Precision Train: 0.701\n",
      "Precision Test: 0.329\n",
      "Recall Train: 0.7217754905\n",
      "Recall Test: 0.6794871795\n",
      "F1-Score Train: 0.711\n",
      "F1-Score Test: 0.443\n",
      "AUC (Train): 0.767\n",
      "AUC (Test): 0.736\n",
      "roc_auc (crossval train):0.7668749788405135\n",
      "roc_auc (crossval test):0.7661449710338275\n"
     ]
    }
   ],
   "source": [
    "from xgboost import XGBClassifier\n",
    "from sklearn.ensemble import GradientBoostingClassifier\n",
    "xgb= XGBClassifier(booster='gblinear', random_state=42)\n",
    "xgb.fit(X_train, y_train)\n",
    "eval_classification(xgb)"
   ]
  },
  {
   "cell_type": "code",
   "execution_count": 40,
   "id": "465496d2-a6ff-42bc-a967-1469597f8c34",
   "metadata": {
    "id": "82K6H0IdwwQG"
   },
   "outputs": [],
   "source": [
    "xgb_pred = xgb.predict(X_test)\n",
    "xgb_pred_train = xgb.predict(X_train)\n",
    "# xgb_pred"
   ]
  },
  {
   "cell_type": "code",
   "execution_count": 41,
   "id": "01eb0c72-700f-45a6-98ef-b4987300118d",
   "metadata": {
    "id": "dh-MCz5MZpFT"
   },
   "outputs": [
    {
     "name": "stdout",
     "output_type": "stream",
     "text": [
      "              precision    recall  f1-score   support\n",
      "\n",
      "           0       0.90      0.66      0.76      1610\n",
      "           1       0.33      0.68      0.44       390\n",
      "\n",
      "    accuracy                           0.67      2000\n",
      "   macro avg       0.61      0.67      0.60      2000\n",
      "weighted avg       0.78      0.67      0.70      2000\n",
      "\n",
      "              precision    recall  f1-score   support\n",
      "\n",
      "           0       0.71      0.69      0.70      6218\n",
      "           1       0.70      0.72      0.71      6218\n",
      "\n",
      "    accuracy                           0.71     12436\n",
      "   macro avg       0.71      0.71      0.71     12436\n",
      "weighted avg       0.71      0.71      0.71     12436\n",
      "\n"
     ]
    }
   ],
   "source": [
    "from sklearn.metrics import classification_report\n",
    "print(classification_report(y_test, xgb_pred))#classification report for logistic model prediction\n",
    "print(classification_report(y_train, xgb_pred_train))#classification report for logistic model prediction"
   ]
  },
  {
   "cell_type": "code",
   "execution_count": 42,
   "id": "da93a602-850d-447b-9c3a-60192997d62b",
   "metadata": {
    "id": "X2Pnup9jw4U5"
   },
   "outputs": [
    {
     "name": "stdout",
     "output_type": "stream",
     "text": [
      "[[1069  541]\n",
      " [ 125  265]]\n"
     ]
    }
   ],
   "source": [
    "from sklearn.metrics import confusion_matrix\n",
    "xgb_cm = confusion_matrix(y_test, xgb_pred)\n",
    "print(xgb_cm)"
   ]
  },
  {
   "cell_type": "code",
   "execution_count": 43,
   "id": "83d84bc0-a8b1-43eb-a851-febfcf493897",
   "metadata": {},
   "outputs": [
    {
     "data": {
      "image/png": "[encoded data removed]",
      "text/plain": [
       "<Figure size 576x432 with 2 Axes>"
      ]
     },
     "metadata": {
      "needs_background": "light"
     },
     "output_type": "display_data"
    }
   ],
   "source": [
    "import seaborn as sns\n",
    "group_names = ['True Neg','False Pos','False Neg','True Pos']\n",
    "group_counts = ['{0:0.0f}'.format(value) for value in\n",
    "                xgb_cm.flatten()]\n",
    "labels = [f\"{v1}\\n{v2}\" for v1, v2 in\n",
    "          zip(group_names,group_counts)]\n",
    "labels = np.asarray(labels).reshape(2,2)\n",
    "plt.figure(figsize=(8,6))\n",
    "plt.title('XGBoost Before Tunning')\n",
    "sns.heatmap(xgb_cm, annot=labels, fmt='', cmap='Blues') #Blues , Crest\n",
    "plt.xlabel('Predicted')\n",
    "plt.ylabel('Actual')\n",
    "plt.show()"
   ]
  },
  {
   "cell_type": "code",
   "execution_count": 44,
   "id": "0921ee43-f8cc-4912-9958-e519489ef3e2",
   "metadata": {},
   "outputs": [
    {
     "name": "stdout",
     "output_type": "stream",
     "text": [
      "Fitting 5 folds for each of 18 candidates, totalling 90 fits\n",
      "[CV 1/5] END booster=gblinear, eval_metric=auc, objective=binary:logistic;, score=0.719 total time=   0.4s\n",
      "[CV 2/5] END booster=gblinear, eval_metric=auc, objective=binary:logistic;, score=0.709 total time=   0.3s\n",
      "[CV 3/5] END booster=gblinear, eval_metric=auc, objective=binary:logistic;, score=0.739 total time=   0.3s\n",
      "[CV 4/5] END booster=gblinear, eval_metric=auc, objective=binary:logistic;, score=0.741 total time=   0.4s\n",
      "[CV 5/5] END booster=gblinear, eval_metric=auc, objective=binary:logistic;, score=0.701 total time=   0.8s\n",
      "[CV 1/5] END booster=gblinear, eval_metric=auc, objective=binary:logitraw;, score=0.514 total time=   0.2s\n",
      "[CV 2/5] END booster=gblinear, eval_metric=auc, objective=binary:logitraw;, score=0.516 total time=   0.3s\n",
      "[CV 3/5] END booster=gblinear, eval_metric=auc, objective=binary:logitraw;, score=0.544 total time=   0.7s\n",
      "[CV 4/5] END booster=gblinear, eval_metric=auc, objective=binary:logitraw;, score=0.554 total time=   0.2s\n",
      "[CV 5/5] END booster=gblinear, eval_metric=auc, objective=binary:logitraw;, score=0.508 total time=   0.2s\n",
      "[CV 1/5] END booster=gblinear, eval_metric=auc, objective=binary:hinge;, score=0.717 total time=   0.2s\n",
      "[CV 2/5] END booster=gblinear, eval_metric=auc, objective=binary:hinge;, score=0.715 total time=   0.3s\n",
      "[CV 3/5] END booster=gblinear, eval_metric=auc, objective=binary:hinge;, score=0.734 total time=   0.2s\n",
      "[CV 4/5] END booster=gblinear, eval_metric=auc, objective=binary:hinge;, score=0.747 total time=   0.2s\n",
      "[CV 5/5] END booster=gblinear, eval_metric=auc, objective=binary:hinge;, score=0.692 total time=   0.2s\n",
      "[CV 1/5] END booster=gblinear, eval_metric=error, objective=binary:logistic;, score=0.719 total time=   0.4s\n",
      "[CV 2/5] END booster=gblinear, eval_metric=error, objective=binary:logistic;, score=0.708 total time=   0.2s\n",
      "[CV 3/5] END booster=gblinear, eval_metric=error, objective=binary:logistic;, score=0.740 total time=   0.2s\n",
      "[CV 4/5] END booster=gblinear, eval_metric=error, objective=binary:logistic;, score=0.741 total time=   0.2s\n",
      "[CV 5/5] END booster=gblinear, eval_metric=error, objective=binary:logistic;, score=0.701 total time=   0.2s\n",
      "[CV 1/5] END booster=gblinear, eval_metric=error, objective=binary:logitraw;, score=0.514 total time=   0.2s\n",
      "[CV 2/5] END booster=gblinear, eval_metric=error, objective=binary:logitraw;, score=0.516 total time=   0.2s\n",
      "[CV 3/5] END booster=gblinear, eval_metric=error, objective=binary:logitraw;, score=0.544 total time=   0.2s\n",
      "[CV 4/5] END booster=gblinear, eval_metric=error, objective=binary:logitraw;, score=0.554 total time=   0.2s\n",
      "[CV 5/5] END booster=gblinear, eval_metric=error, objective=binary:logitraw;, score=0.508 total time=   0.4s\n",
      "[CV 1/5] END booster=gblinear, eval_metric=error, objective=binary:hinge;, score=0.715 total time=   0.2s\n",
      "[CV 2/5] END booster=gblinear, eval_metric=error, objective=binary:hinge;, score=0.716 total time=   0.2s\n",
      "[CV 3/5] END booster=gblinear, eval_metric=error, objective=binary:hinge;, score=0.736 total time=   0.2s\n",
      "[CV 4/5] END booster=gblinear, eval_metric=error, objective=binary:hinge;, score=0.746 total time=   0.2s\n",
      "[CV 5/5] END booster=gblinear, eval_metric=error, objective=binary:hinge;, score=0.691 total time=   0.2s\n",
      "[CV 1/5] END booster=gblinear, eval_metric=merror, objective=binary:logistic;, score=0.719 total time=   0.2s\n",
      "[CV 2/5] END booster=gblinear, eval_metric=merror, objective=binary:logistic;, score=0.708 total time=   0.2s\n",
      "[CV 3/5] END booster=gblinear, eval_metric=merror, objective=binary:logistic;, score=0.739 total time=   0.2s\n",
      "[CV 4/5] END booster=gblinear, eval_metric=merror, objective=binary:logistic;, score=0.741 total time=   0.2s\n",
      "[CV 5/5] END booster=gblinear, eval_metric=merror, objective=binary:logistic;, score=0.701 total time=   0.2s\n",
      "[CV 1/5] END booster=gblinear, eval_metric=merror, objective=binary:logitraw;, score=0.514 total time=   0.2s\n",
      "[CV 2/5] END booster=gblinear, eval_metric=merror, objective=binary:logitraw;, score=0.516 total time=   0.2s\n",
      "[CV 3/5] END booster=gblinear, eval_metric=merror, objective=binary:logitraw;, score=0.544 total time=   0.2s\n",
      "[CV 4/5] END booster=gblinear, eval_metric=merror, objective=binary:logitraw;, score=0.554 total time=   0.2s\n",
      "[CV 5/5] END booster=gblinear, eval_metric=merror, objective=binary:logitraw;, score=0.508 total time=   0.2s\n",
      "[CV 1/5] END booster=gblinear, eval_metric=merror, objective=binary:hinge;, score=0.715 total time=   0.2s\n",
      "[CV 2/5] END booster=gblinear, eval_metric=merror, objective=binary:hinge;, score=0.713 total time=   0.2s\n",
      "[CV 3/5] END booster=gblinear, eval_metric=merror, objective=binary:hinge;, score=0.735 total time=   0.2s\n",
      "[CV 4/5] END booster=gblinear, eval_metric=merror, objective=binary:hinge;, score=0.746 total time=   0.2s\n",
      "[CV 5/5] END booster=gblinear, eval_metric=merror, objective=binary:hinge;, score=0.691 total time=   0.2s\n",
      "[CV 1/5] END booster=gbtree, eval_metric=auc, objective=binary:logistic;, score=0.920 total time=   1.5s\n",
      "[CV 2/5] END booster=gbtree, eval_metric=auc, objective=binary:logistic;, score=0.907 total time=   1.4s\n",
      "[CV 3/5] END booster=gbtree, eval_metric=auc, objective=binary:logistic;, score=0.942 total time=   1.5s\n",
      "[CV 4/5] END booster=gbtree, eval_metric=auc, objective=binary:logistic;, score=0.944 total time=   1.1s\n",
      "[CV 5/5] END booster=gbtree, eval_metric=auc, objective=binary:logistic;, score=0.939 total time=   1.0s\n",
      "[CV 1/5] END booster=gbtree, eval_metric=auc, objective=binary:logitraw;, score=0.855 total time=   1.1s\n",
      "[CV 2/5] END booster=gbtree, eval_metric=auc, objective=binary:logitraw;, score=0.862 total time=   1.0s\n",
      "[CV 3/5] END booster=gbtree, eval_metric=auc, objective=binary:logitraw;, score=0.883 total time=   1.1s\n",
      "[CV 4/5] END booster=gbtree, eval_metric=auc, objective=binary:logitraw;, score=0.895 total time=   1.0s\n",
      "[CV 5/5] END booster=gbtree, eval_metric=auc, objective=binary:logitraw;, score=0.887 total time=   1.1s\n",
      "[CV 1/5] END booster=gbtree, eval_metric=auc, objective=binary:hinge;, score=0.880 total time=   1.3s\n",
      "[CV 2/5] END booster=gbtree, eval_metric=auc, objective=binary:hinge;, score=0.868 total time=   1.4s\n",
      "[CV 3/5] END booster=gbtree, eval_metric=auc, objective=binary:hinge;, score=0.889 total time=   1.3s\n",
      "[CV 4/5] END booster=gbtree, eval_metric=auc, objective=binary:hinge;, score=0.881 total time=   1.3s\n",
      "[CV 5/5] END booster=gbtree, eval_metric=auc, objective=binary:hinge;, score=0.891 total time=   1.4s\n",
      "[CV 1/5] END booster=gbtree, eval_metric=error, objective=binary:logistic;, score=0.920 total time=   1.0s\n",
      "[CV 2/5] END booster=gbtree, eval_metric=error, objective=binary:logistic;, score=0.907 total time=   1.0s\n",
      "[CV 3/5] END booster=gbtree, eval_metric=error, objective=binary:logistic;, score=0.942 total time=   1.0s\n",
      "[CV 4/5] END booster=gbtree, eval_metric=error, objective=binary:logistic;, score=0.944 total time=   1.0s\n",
      "[CV 5/5] END booster=gbtree, eval_metric=error, objective=binary:logistic;, score=0.939 total time=   1.0s\n",
      "[CV 1/5] END booster=gbtree, eval_metric=error, objective=binary:logitraw;, score=0.855 total time=   1.1s\n",
      "[CV 2/5] END booster=gbtree, eval_metric=error, objective=binary:logitraw;, score=0.862 total time=   1.0s\n",
      "[CV 3/5] END booster=gbtree, eval_metric=error, objective=binary:logitraw;, score=0.883 total time=   1.3s\n",
      "[CV 4/5] END booster=gbtree, eval_metric=error, objective=binary:logitraw;, score=0.895 total time=   1.8s\n",
      "[CV 5/5] END booster=gbtree, eval_metric=error, objective=binary:logitraw;, score=0.887 total time=   1.4s\n",
      "[CV 1/5] END booster=gbtree, eval_metric=error, objective=binary:hinge;, score=0.880 total time=   1.4s\n",
      "[CV 2/5] END booster=gbtree, eval_metric=error, objective=binary:hinge;, score=0.868 total time=   1.5s\n",
      "[CV 3/5] END booster=gbtree, eval_metric=error, objective=binary:hinge;, score=0.889 total time=   1.3s\n",
      "[CV 4/5] END booster=gbtree, eval_metric=error, objective=binary:hinge;, score=0.881 total time=   1.1s\n",
      "[CV 5/5] END booster=gbtree, eval_metric=error, objective=binary:hinge;, score=0.891 total time=   1.1s\n",
      "[CV 1/5] END booster=gbtree, eval_metric=merror, objective=binary:logistic;, score=0.920 total time=   1.0s\n",
      "[CV 2/5] END booster=gbtree, eval_metric=merror, objective=binary:logistic;, score=0.907 total time=   1.3s\n",
      "[CV 3/5] END booster=gbtree, eval_metric=merror, objective=binary:logistic;, score=0.942 total time=   1.3s\n",
      "[CV 4/5] END booster=gbtree, eval_metric=merror, objective=binary:logistic;, score=0.944 total time=   1.1s\n",
      "[CV 5/5] END booster=gbtree, eval_metric=merror, objective=binary:logistic;, score=0.939 total time=   1.4s\n",
      "[CV 1/5] END booster=gbtree, eval_metric=merror, objective=binary:logitraw;, score=0.855 total time=   1.5s\n",
      "[CV 2/5] END booster=gbtree, eval_metric=merror, objective=binary:logitraw;, score=0.862 total time=   1.3s\n",
      "[CV 3/5] END booster=gbtree, eval_metric=merror, objective=binary:logitraw;, score=0.883 total time=   1.6s\n",
      "[CV 4/5] END booster=gbtree, eval_metric=merror, objective=binary:logitraw;, score=0.895 total time=   1.3s\n",
      "[CV 5/5] END booster=gbtree, eval_metric=merror, objective=binary:logitraw;, score=0.887 total time=   1.0s\n",
      "[CV 1/5] END booster=gbtree, eval_metric=merror, objective=binary:hinge;, score=0.880 total time=   1.0s\n",
      "[CV 2/5] END booster=gbtree, eval_metric=merror, objective=binary:hinge;, score=0.868 total time=   1.6s\n",
      "[CV 3/5] END booster=gbtree, eval_metric=merror, objective=binary:hinge;, score=0.889 total time=   1.6s\n",
      "[CV 4/5] END booster=gbtree, eval_metric=merror, objective=binary:hinge;, score=0.881 total time=   1.1s\n",
      "[CV 5/5] END booster=gbtree, eval_metric=merror, objective=binary:hinge;, score=0.891 total time=   1.1s\n"
     ]
    },
    {
     "data": {
      "text/plain": [
       "RandomizedSearchCV(cv=5,\n",
       "                   estimator=XGBClassifier(base_score=None, booster=None,\n",
       "                                           callbacks=None,\n",
       "                                           colsample_bylevel=None,\n",
       "                                           colsample_bynode=None,\n",
       "                                           colsample_bytree=None,\n",
       "                                           early_stopping_rounds=None,\n",
       "                                           enable_categorical=False,\n",
       "                                           eval_metric=None, feature_types=None,\n",
       "                                           gamma=None, gpu_id=None,\n",
       "                                           grow_policy=None,\n",
       "                                           importance_type=None,\n",
       "                                           interaction_constraints=None,\n",
       "                                           learning_rate...\n",
       "                                           max_leaves=None,\n",
       "                                           min_child_weight=None, missing=nan,\n",
       "                                           monotone_constraints=None,\n",
       "                                           n_estimators=100, n_jobs=None,\n",
       "                                           num_parallel_tree=None,\n",
       "                                           predictor=None, random_state=None, ...),\n",
       "                   n_iter=20,\n",
       "                   param_distributions={'booster': ['gblinear', 'gbtree'],\n",
       "                                        'eval_metric': ['auc', 'error',\n",
       "                                                        'merror'],\n",
       "                                        'objective': ['binary:logistic',\n",
       "                                                      'binary:logitraw',\n",
       "                                                      'binary:hinge']},\n",
       "                   scoring='recall', verbose=3)"
      ]
     },
     "execution_count": 44,
     "metadata": {},
     "output_type": "execute_result"
    }
   ],
   "source": [
    "from sklearn.model_selection import RandomizedSearchCV\n",
    "from xgboost import XGBClassifier\n",
    "# defining parameter range\n",
    "param_grid = {'booster': ['gblinear','gbtree'], \n",
    "              'eval_metric': ['auc','error','merror'],\n",
    "              'objective': ['binary:logistic','binary:logitraw','binary:hinge']}\n",
    "  \n",
    "random = RandomizedSearchCV(XGBClassifier(), param_grid, refit = True, verbose = 3, scoring='recall', cv=5,n_iter=20)\n",
    "# random = RandomizedSearchCV(XGBClassifier(), param_grid, scoring='recall',\n",
    "                            # random_state=42, n_iter=10, cv=5, verbose=1, n_jobs=1, return_train_score=True)\n",
    " \n",
    "# fitting the model for grid search\n",
    "random.fit(X_train, y_train)"
   ]
  },
  {
   "cell_type": "code",
   "execution_count": 45,
   "id": "083f0aac-ccb3-4ef2-9f69-7d80ac37276c",
   "metadata": {},
   "outputs": [
    {
     "name": "stdout",
     "output_type": "stream",
     "text": [
      "XGBClassifier(base_score=0.5, booster='gbtree', callbacks=None,\n",
      "              colsample_bylevel=1, colsample_bynode=1, colsample_bytree=1,\n",
      "              early_stopping_rounds=None, enable_categorical=False,\n",
      "              eval_metric='auc', feature_types=None, gamma=0, gpu_id=-1,\n",
      "              grow_policy='depthwise', importance_type=None,\n",
      "              interaction_constraints='', learning_rate=0.300000012,\n",
      "              max_bin=256, max_cat_threshold=64, max_cat_to_onehot=4,\n",
      "              max_delta_step=0, max_depth=6, max_leaves=0, min_child_weight=1,\n",
      "              missing=nan, monotone_constraints='()', n_estimators=100,\n",
      "              n_jobs=0, num_parallel_tree=1, predictor='auto', random_state=0, ...) {'booster': ['gblinear', 'gbtree'], 'eval_metric': ['auc', 'error', 'merror'], 'objective': ['binary:logistic', 'binary:logitraw', 'binary:hinge']}\n"
     ]
    }
   ],
   "source": [
    "print(random.best_estimator_, param_grid)"
   ]
  },
  {
   "cell_type": "code",
   "execution_count": 46,
   "id": "809d75b2-8b62-4f0a-8ba2-c3a53c23a014",
   "metadata": {},
   "outputs": [
    {
     "name": "stdout",
     "output_type": "stream",
     "text": [
      "{'objective': 'binary:logistic', 'eval_metric': 'auc', 'booster': 'gbtree'}\n"
     ]
    }
   ],
   "source": [
    "print(random.best_params_)"
   ]
  },
  {
   "cell_type": "code",
   "execution_count": 47,
   "id": "f5513cfb-e9f1-4acf-a2ae-39d74020acba",
   "metadata": {},
   "outputs": [
    {
     "name": "stdout",
     "output_type": "stream",
     "text": [
      "Accuracy Test: 0.82\n",
      "Precision Train: 0.951\n",
      "Precision Test: 0.535\n",
      "Recall Train: 0.9704084915\n",
      "Recall Test: 0.6\n",
      "F1-Score Train: 0.961\n",
      "F1-Score Test: 0.566\n",
      "AUC (Train): 0.993\n",
      "AUC (Test): 0.819\n",
      "roc_auc (crossval train):0.9935304285746895\n",
      "roc_auc (crossval test):0.9589056847397025\n"
     ]
    }
   ],
   "source": [
    "from xgboost import XGBClassifier\n",
    "from sklearn.ensemble import GradientBoostingClassifier\n",
    "xgb= XGBClassifier(objective=\"binary:logistic\", random_state=42, booster='gbtree',\n",
    "                  eval_metric='auc')#booster='gblinear', 'gbtree', 'gbdart'\n",
    "# setelah dilakukan percobaan trial and error booster terbaik adalah 'gblinear' karna gap nilai recall train test tidak jauh\n",
    "xgb.fit(X_train, y_train)\n",
    "eval_classification(xgb)"
   ]
  },
  {
   "cell_type": "code",
   "execution_count": 48,
   "id": "cc9fe215-43f2-4dc8-9d08-93df01f6e121",
   "metadata": {},
   "outputs": [
    {
     "data": {
      "image/png": "[encoded data removed]",
      "text/plain": [
       "<Figure size 432x288 with 1 Axes>"
      ]
     },
     "metadata": {
      "needs_background": "light"
     },
     "output_type": "display_data"
    }
   ],
   "source": [
    "from xgboost import plot_importance\n",
    "from matplotlib import pyplot\n",
    "from xgboost import XGBClassifier\n",
    "from sklearn.ensemble import GradientBoostingClassifier\n",
    "xgb = XGBClassifier(objective=\"binary:logistic\", random_state=42, booster='gbtree',\n",
    "                  eval_metric='auc')\n",
    "xgb.fit(X_train, y_train)\n",
    "# plot feature importance\n",
    "plot_importance(xgb)\n",
    "# left, bottom, width, height = (0, 12.7, 3.3 , 2.7)\n",
    "# rect = mpatches.Rectangle((left,bottom),width,height, fill=True, \n",
    "                          # alpha=0.2, facecolor='red', edgecolor='black')\n",
    "# plt.gca().add_patch(rect);\n",
    "# plt.text(2.76, 13.4, 'These feature can\\n be an opportunity\\n to increase our\\n business !', fontsize=14, fontstyle='italic',\n",
    "        # color='blue', fontweight='bold')\n",
    "plt.title('Feature Importance',fontsize=22, fontweight='bold', fontname=\"Comic Sans MS\")\n",
    "# plt.ylim(6.5, 16)\n",
    "# plt.xlim(0,4)\n",
    "pyplot.show()"
   ]
  },
  {
   "cell_type": "markdown",
   "id": "925f0784-6b90-436e-94e8-88df5567cfdb",
   "metadata": {
    "id": "PDBAVfkFwtnZ"
   },
   "source": [
    "## SVM"
   ]
  },
  {
   "cell_type": "code",
   "execution_count": 49,
   "id": "360c11cc-4bbf-46f3-98d7-bff22c3c272b",
   "metadata": {
    "id": "90d1sbk35REY"
   },
   "outputs": [
    {
     "name": "stdout",
     "output_type": "stream",
     "text": [
      "Accuracy Test: 0.68\n",
      "Precision Train: 0.709\n",
      "Precision Test: 0.338\n",
      "Recall Train: 0.7193631393\n",
      "Recall Test: 0.6666666667\n",
      "F1-Score Train: 0.714\n",
      "F1-Score Test: 0.449\n",
      "AUC (Train): 0.768\n",
      "AUC (Test): 0.737\n",
      "roc_auc (crossval train):0.7676890484594445\n",
      "roc_auc (crossval test):0.7669690493810136\n"
     ]
    }
   ],
   "source": [
    "from sklearn import svm\n",
    "clf = svm.SVC(probability=True,  kernel='linear') #parameter hyper C=0.9990990001\n",
    "clf.fit(X_train, y_train)\n",
    "eval_classification(clf)"
   ]
  },
  {
   "cell_type": "code",
   "execution_count": 50,
   "id": "2101848e-8a10-4476-b2b8-72b3e5c4729d",
   "metadata": {
    "id": "VGIUtTAo6KXw"
   },
   "outputs": [
    {
     "name": "stdout",
     "output_type": "stream",
     "text": [
      "Predicton: [0 0 0 ... 0 1 0]\n"
     ]
    }
   ],
   "source": [
    "from sklearn import svm\n",
    "from sklearn.model_selection import RandomizedSearchCV, GridSearchCV\n",
    "clf = svm.SVC(probability=True,kernel='linear')\n",
    "clf.fit(X_train, y_train)\n",
    "clf_pred = clf.predict(X_test)\n",
    "clf_pred_train = clf.predict(X_train)\n",
    "print('Predicton:', clf_pred)"
   ]
  },
  {
   "cell_type": "code",
   "execution_count": 51,
   "id": "49b506ef-15a9-4146-8a99-e33044d475b8",
   "metadata": {
    "id": "HHbcyE-tZpFn"
   },
   "outputs": [
    {
     "name": "stdout",
     "output_type": "stream",
     "text": [
      "              precision    recall  f1-score   support\n",
      "\n",
      "           0       0.89      0.68      0.78      1610\n",
      "           1       0.34      0.67      0.45       390\n",
      "\n",
      "    accuracy                           0.68      2000\n",
      "   macro avg       0.62      0.68      0.61      2000\n",
      "weighted avg       0.79      0.68      0.71      2000\n",
      "\n",
      "              precision    recall  f1-score   support\n",
      "\n",
      "           0       0.72      0.70      0.71      6218\n",
      "           1       0.71      0.72      0.71      6218\n",
      "\n",
      "    accuracy                           0.71     12436\n",
      "   macro avg       0.71      0.71      0.71     12436\n",
      "weighted avg       0.71      0.71      0.71     12436\n",
      "\n"
     ]
    }
   ],
   "source": [
    "from sklearn.metrics import classification_report\n",
    "print(classification_report(y_test, clf_pred))#classification report for logistic model prediction\n",
    "print(classification_report(y_train, clf_pred_train))#classification report for logistic model prediction"
   ]
  },
  {
   "cell_type": "code",
   "execution_count": 52,
   "id": "79cfe23b-30ef-487d-870a-aaa813066015",
   "metadata": {
    "id": "3Ehqc03L6K6n"
   },
   "outputs": [
    {
     "name": "stdout",
     "output_type": "stream",
     "text": [
      "[[1101  509]\n",
      " [ 130  260]]\n"
     ]
    }
   ],
   "source": [
    "from sklearn.metrics import confusion_matrix\n",
    "clf_cm = confusion_matrix(y_test, clf_pred)\n",
    "print(clf_cm)"
   ]
  },
  {
   "cell_type": "code",
   "execution_count": 53,
   "id": "6b7753c1-99c5-429e-8cf6-b678dc5ef539",
   "metadata": {
    "id": "876Ns8ze6OII"
   },
   "outputs": [
    {
     "data": {
      "image/png": "[encoded data removed]",
      "text/plain": [
       "<Figure size 576x432 with 2 Axes>"
      ]
     },
     "metadata": {
      "needs_background": "light"
     },
     "output_type": "display_data"
    }
   ],
   "source": [
    "import seaborn as sns\n",
    "group_names = ['True Neg','False Pos','False Neg','True Pos']\n",
    "group_counts = ['{0:0.0f}'.format(value) for value in\n",
    "                clf_cm.flatten()]\n",
    "labels = [f\"{v1}\\n{v2}\" for v1, v2 in\n",
    "          zip(group_names,group_counts)]\n",
    "labels = np.asarray(labels).reshape(2,2)\n",
    "plt.figure(figsize=(8,6))\n",
    "plt.title('SVM Kernel=Linear After Tunning')\n",
    "sns.heatmap(clf_cm, annot=labels, fmt='', cmap='Blues')\n",
    "plt.show()"
   ]
  },
  {
   "cell_type": "code",
   "execution_count": 54,
   "id": "d6686de7-b4fd-4b1d-b5d6-b287fed40540",
   "metadata": {
    "id": "90d1sbk35REY"
   },
   "outputs": [
    {
     "name": "stdout",
     "output_type": "stream",
     "text": [
      "Accuracy Test: 0.806\n",
      "Precision Train: 0.82\n",
      "Precision Test: 0.502\n",
      "Recall Train: 0.7510453522\n",
      "Recall Test: 0.6743589744\n",
      "F1-Score Train: 0.784\n",
      "F1-Score Test: 0.575\n",
      "AUC (Train): 0.87\n",
      "AUC (Test): 0.838\n",
      "roc_auc (crossval train):0.8687084915708047\n",
      "roc_auc (crossval test):0.8596142163654019\n"
     ]
    }
   ],
   "source": [
    "from sklearn import svm\n",
    "clf = svm.SVC(probability=True,  kernel='rbf') #parameter hyper C=0.9990990001\n",
    "clf.fit(X_train, y_train)\n",
    "eval_classification(clf)"
   ]
  },
  {
   "cell_type": "code",
   "execution_count": 55,
   "id": "b745922e-d5d4-4825-9817-31e12c9441ce",
   "metadata": {
    "id": "VGIUtTAo6KXw"
   },
   "outputs": [
    {
     "name": "stdout",
     "output_type": "stream",
     "text": [
      "Predicton: [0 0 0 ... 0 0 0]\n"
     ]
    }
   ],
   "source": [
    "from sklearn import svm\n",
    "from sklearn.model_selection import RandomizedSearchCV, GridSearchCV\n",
    "clf = svm.SVC(probability=True,kernel='rbf')\n",
    "clf.fit(X_train, y_train)\n",
    "clf_pred = clf.predict(X_test)\n",
    "clf_pred_train = clf.predict(X_train)\n",
    "print('Predicton:', clf_pred)"
   ]
  },
  {
   "cell_type": "code",
   "execution_count": 56,
   "id": "64a1518a-b009-4049-a168-0246fb1b99bb",
   "metadata": {
    "id": "HHbcyE-tZpFn"
   },
   "outputs": [
    {
     "name": "stdout",
     "output_type": "stream",
     "text": [
      "              precision    recall  f1-score   support\n",
      "\n",
      "           0       0.91      0.84      0.87      1610\n",
      "           1       0.50      0.67      0.58       390\n",
      "\n",
      "    accuracy                           0.81      2000\n",
      "   macro avg       0.71      0.76      0.72      2000\n",
      "weighted avg       0.83      0.81      0.82      2000\n",
      "\n",
      "              precision    recall  f1-score   support\n",
      "\n",
      "           0       0.77      0.84      0.80      6218\n",
      "           1       0.82      0.75      0.78      6218\n",
      "\n",
      "    accuracy                           0.79     12436\n",
      "   macro avg       0.80      0.79      0.79     12436\n",
      "weighted avg       0.80      0.79      0.79     12436\n",
      "\n"
     ]
    }
   ],
   "source": [
    "from sklearn.metrics import classification_report\n",
    "print(classification_report(y_test, clf_pred))#classification report for logistic model prediction\n",
    "print(classification_report(y_train, clf_pred_train))#classification report for logistic model prediction"
   ]
  },
  {
   "cell_type": "code",
   "execution_count": 57,
   "id": "24b11c8b-fb0a-408e-8bde-ef1e8fc7446c",
   "metadata": {
    "id": "3Ehqc03L6K6n"
   },
   "outputs": [
    {
     "name": "stdout",
     "output_type": "stream",
     "text": [
      "[[1349  261]\n",
      " [ 127  263]]\n"
     ]
    }
   ],
   "source": [
    "from sklearn.metrics import confusion_matrix\n",
    "clf_cm = confusion_matrix(y_test, clf_pred)\n",
    "print(clf_cm)"
   ]
  },
  {
   "cell_type": "code",
   "execution_count": 58,
   "id": "b8f10cd9-62d5-4f8d-b15a-526ee37af498",
   "metadata": {
    "id": "876Ns8ze6OII"
   },
   "outputs": [
    {
     "data": {
      "image/png": "[encoded data removed]",
      "text/plain": [
       "<Figure size 576x432 with 2 Axes>"
      ]
     },
     "metadata": {
      "needs_background": "light"
     },
     "output_type": "display_data"
    }
   ],
   "source": [
    "import seaborn as sns\n",
    "group_names = ['True Neg','False Pos','False Neg','True Pos']\n",
    "group_counts = ['{0:0.0f}'.format(value) for value in\n",
    "                clf_cm.flatten()]\n",
    "labels = [f\"{v1}\\n{v2}\" for v1, v2 in\n",
    "          zip(group_names,group_counts)]\n",
    "labels = np.asarray(labels).reshape(2,2)\n",
    "plt.figure(figsize=(8,6))\n",
    "plt.title('SVM Kernel=RBF')\n",
    "sns.heatmap(clf_cm, annot=labels, fmt='', cmap='Blues')\n",
    "plt.show()"
   ]
  },
  {
   "cell_type": "code",
   "execution_count": 59,
   "id": "480fc2f6-3f20-4b0e-ab6b-38e3e5e36afd",
   "metadata": {},
   "outputs": [
    {
     "data": {
      "image/png": "[encoded data removed]",
      "text/plain": [
       "<Figure size 936x720 with 1 Axes>"
      ]
     },
     "metadata": {
      "needs_background": "light"
     },
     "output_type": "display_data"
    }
   ],
   "source": [
    "from sklearn.svm import SVC\n",
    "from sklearn.inspection import permutation_importance\n",
    "import numpy as np\n",
    "import matplotlib.pyplot as plt\n",
    "\n",
    "\n",
    "svm = SVC(probability=True, kernel='linear')\n",
    "svm.fit(X_train, y_train)\n",
    "\n",
    "perm_importance = permutation_importance(svm, X_train, y_train)\n",
    "\n",
    "# Making the sum of feature importance being equal to 1.0,\n",
    "# so feature importance can be understood as percentage\n",
    "perm_importance_normalized = perm_importance.importances_mean/perm_importance.importances_mean.sum()\n",
    "\n",
    "# Feature's name (considering your X a DataFrame)\n",
    "feature_names = X_train.columns\n",
    "features = np.array(feature_names)\n",
    "\n",
    "# Sort to plot in order of importance\n",
    "sorted_idx = perm_importance_normalized.argsort()\n",
    "\n",
    "# Plotting\n",
    "plt.figure(figsize=(13,10))\n",
    "plt.title(\"Feature Importance SVM\",fontsize=20)\n",
    "plt.barh(features[sorted_idx], perm_importance_normalized[sorted_idx], align='center', edgecolor='black')\n",
    "# ax=sns.barplot(features[sorted_idx], perm_importance_normalized[sorted_idx], align='center')\n",
    "plt.xlabel('Relative Importance', fontsize=15)\n",
    "plt.xticks(fontsize=15)\n",
    "plt.yticks(fontsize=15)\n",
    "\n",
    "for index, value in enumerate(perm_importance_normalized[sorted_idx]):\n",
    "    plt.text(value, index,\n",
    "             str(round(value,4)), fontsize=12,fontweight='bold')\n",
    "\n",
    "plt.show()"
   ]
  },
  {
   "cell_type": "markdown",
   "id": "361a7a6e-281f-4c03-8774-6f108afa95c9",
   "metadata": {
    "id": "GIgd9xeyHU3V"
   },
   "source": [
    "## AdaBoost"
   ]
  },
  {
   "cell_type": "code",
   "execution_count": 60,
   "id": "ba407f27-4dd8-470c-8601-c5f8a38135d7",
   "metadata": {
    "id": "-zfnWMjmHYfz"
   },
   "outputs": [
    {
     "name": "stdout",
     "output_type": "stream",
     "text": [
      "Accuracy Test: 0.77\n",
      "Precision Train: 0.775\n",
      "Precision Test: 0.445\n",
      "Recall Train: 0.7537793503\n",
      "Recall Test: 0.7358974359\n",
      "F1-Score Train: 0.764\n",
      "F1-Score Test: 0.555\n",
      "AUC (Train): 0.855\n",
      "AUC (Test): 0.831\n",
      "roc_auc (crossval train):0.8553616138555059\n",
      "roc_auc (crossval test):0.8509764936329003\n"
     ]
    }
   ],
   "source": [
    "from sklearn.ensemble import AdaBoostClassifier\n",
    "\n",
    "abc = AdaBoostClassifier()\n",
    "abc.fit(X_train, y_train)\n",
    "abc_pred = abc.predict(X_test)\n",
    "abc_pred_train = abc.predict(X_train)\n",
    "eval_classification(abc)"
   ]
  },
  {
   "cell_type": "code",
   "execution_count": 61,
   "id": "cd6e77e0-9ab7-41b3-bf80-3677d07120a8",
   "metadata": {
    "id": "9DRHef0SZpFe"
   },
   "outputs": [
    {
     "name": "stdout",
     "output_type": "stream",
     "text": [
      "              precision    recall  f1-score   support\n",
      "\n",
      "           0       0.92      0.78      0.84      1610\n",
      "           1       0.44      0.74      0.55       390\n",
      "\n",
      "    accuracy                           0.77      2000\n",
      "   macro avg       0.68      0.76      0.70      2000\n",
      "weighted avg       0.83      0.77      0.79      2000\n",
      "\n",
      "              precision    recall  f1-score   support\n",
      "\n",
      "           0       0.76      0.78      0.77      6218\n",
      "           1       0.78      0.75      0.76      6218\n",
      "\n",
      "    accuracy                           0.77     12436\n",
      "   macro avg       0.77      0.77      0.77     12436\n",
      "weighted avg       0.77      0.77      0.77     12436\n",
      "\n"
     ]
    }
   ],
   "source": [
    "from sklearn.metrics import classification_report\n",
    "print(classification_report(y_test, abc_pred))#classification report for logistic model prediction\n",
    "print(classification_report(y_train, abc_pred_train))#classification report for logistic model prediction"
   ]
  },
  {
   "cell_type": "code",
   "execution_count": 62,
   "id": "af26e29b-b457-46a2-9ed6-879e0270b57c",
   "metadata": {
    "id": "J0bBbb-dHl86"
   },
   "outputs": [
    {
     "name": "stdout",
     "output_type": "stream",
     "text": [
      "[[1349  261]\n",
      " [ 127  263]]\n"
     ]
    }
   ],
   "source": [
    "from sklearn.metrics import confusion_matrix\n",
    "abc_cm = confusion_matrix(y_test, clf_pred)\n",
    "print(abc_cm)"
   ]
  },
  {
   "cell_type": "code",
   "execution_count": 63,
   "id": "15bf5a9b-d25e-4502-b0d0-2d9c3e326508",
   "metadata": {
    "id": "q-DV2OpZKP2-"
   },
   "outputs": [
    {
     "data": {
      "image/png": "[encoded data removed]",
      "text/plain": [
       "<Figure size 576x432 with 2 Axes>"
      ]
     },
     "metadata": {
      "needs_background": "light"
     },
     "output_type": "display_data"
    }
   ],
   "source": [
    "import seaborn as sns\n",
    "group_names = ['True Neg','False Pos','False Neg','True Pos']\n",
    "group_counts = ['{0:0.0f}'.format(value) for value in\n",
    "                clf_cm.flatten()]\n",
    "labels = [f\"{v1}\\n{v2}\" for v1, v2 in\n",
    "          zip(group_names,group_counts)]\n",
    "labels = np.asarray(labels).reshape(2,2)\n",
    "plt.figure(figsize=(8,6))\n",
    "plt.title('AdaBoost Default')\n",
    "sns.heatmap(abc_cm, annot=labels, fmt='', cmap='Blues')\n",
    "plt.show()"
   ]
  },
  {
   "cell_type": "code",
   "execution_count": 64,
   "id": "e25fec9b-0f8c-4b27-8543-3bbe042389c7",
   "metadata": {},
   "outputs": [
    {
     "name": "stdout",
     "output_type": "stream",
     "text": [
      "Fitting 5 folds for each of 30 candidates, totalling 150 fits\n",
      "[CV 1/5] END algorithm=SAMME, learning_rate=0.01;, score=0.594 total time=   1.1s\n",
      "[CV 2/5] END algorithm=SAMME, learning_rate=0.01;, score=0.609 total time=   1.0s\n",
      "[CV 3/5] END algorithm=SAMME, learning_rate=0.01;, score=0.599 total time=   0.9s\n",
      "[CV 4/5] END algorithm=SAMME, learning_rate=0.01;, score=0.623 total time=   0.7s\n",
      "[CV 5/5] END algorithm=SAMME, learning_rate=0.01;, score=0.593 total time=   0.7s\n",
      "[CV 1/5] END algorithm=SAMME, learning_rate=0.08071428571428571;, score=0.620 total time=   0.9s\n",
      "[CV 2/5] END algorithm=SAMME, learning_rate=0.08071428571428571;, score=0.637 total time=   1.0s\n",
      "[CV 3/5] END algorithm=SAMME, learning_rate=0.08071428571428571;, score=0.628 total time=   1.0s\n",
      "[CV 4/5] END algorithm=SAMME, learning_rate=0.08071428571428571;, score=0.636 total time=   1.0s\n",
      "[CV 5/5] END algorithm=SAMME, learning_rate=0.08071428571428571;, score=0.611 total time=   1.2s\n",
      "[CV 1/5] END algorithm=SAMME, learning_rate=0.15142857142857144;, score=0.666 total time=   1.1s\n",
      "[CV 2/5] END algorithm=SAMME, learning_rate=0.15142857142857144;, score=0.681 total time=   0.9s\n",
      "[CV 3/5] END algorithm=SAMME, learning_rate=0.15142857142857144;, score=0.641 total time=   0.8s\n",
      "[CV 4/5] END algorithm=SAMME, learning_rate=0.15142857142857144;, score=0.660 total time=   0.8s\n",
      "[CV 5/5] END algorithm=SAMME, learning_rate=0.15142857142857144;, score=0.647 total time=   0.9s\n",
      "[CV 1/5] END algorithm=SAMME, learning_rate=0.22214285714285714;, score=0.696 total time=   1.0s\n",
      "[CV 2/5] END algorithm=SAMME, learning_rate=0.22214285714285714;, score=0.682 total time=   0.9s\n",
      "[CV 3/5] END algorithm=SAMME, learning_rate=0.22214285714285714;, score=0.719 total time=   0.8s\n",
      "[CV 4/5] END algorithm=SAMME, learning_rate=0.22214285714285714;, score=0.732 total time=   1.0s\n",
      "[CV 5/5] END algorithm=SAMME, learning_rate=0.22214285714285714;, score=0.671 total time=   1.0s\n",
      "[CV 1/5] END algorithm=SAMME, learning_rate=0.29285714285714287;, score=0.696 total time=   1.0s\n",
      "[CV 2/5] END algorithm=SAMME, learning_rate=0.29285714285714287;, score=0.678 total time=   1.0s\n",
      "[CV 3/5] END algorithm=SAMME, learning_rate=0.29285714285714287;, score=0.687 total time=   1.0s\n",
      "[CV 4/5] END algorithm=SAMME, learning_rate=0.29285714285714287;, score=0.686 total time=   1.0s\n",
      "[CV 5/5] END algorithm=SAMME, learning_rate=0.29285714285714287;, score=0.679 total time=   1.0s\n",
      "[CV 1/5] END algorithm=SAMME, learning_rate=0.3635714285714286;, score=0.686 total time=   1.0s\n",
      "[CV 2/5] END algorithm=SAMME, learning_rate=0.3635714285714286;, score=0.654 total time=   0.8s\n",
      "[CV 3/5] END algorithm=SAMME, learning_rate=0.3635714285714286;, score=0.695 total time=   0.8s\n",
      "[CV 4/5] END algorithm=SAMME, learning_rate=0.3635714285714286;, score=0.694 total time=   0.8s\n",
      "[CV 5/5] END algorithm=SAMME, learning_rate=0.3635714285714286;, score=0.661 total time=   1.1s\n",
      "[CV 1/5] END algorithm=SAMME, learning_rate=0.4342857142857143;, score=0.715 total time=   1.0s\n",
      "[CV 2/5] END algorithm=SAMME, learning_rate=0.4342857142857143;, score=0.683 total time=   1.2s\n",
      "[CV 3/5] END algorithm=SAMME, learning_rate=0.4342857142857143;, score=0.695 total time=   0.7s\n",
      "[CV 4/5] END algorithm=SAMME, learning_rate=0.4342857142857143;, score=0.709 total time=   0.7s\n",
      "[CV 5/5] END algorithm=SAMME, learning_rate=0.4342857142857143;, score=0.661 total time=   0.7s\n",
      "[CV 1/5] END algorithm=SAMME, learning_rate=0.505;, score=0.719 total time=   0.7s\n",
      "[CV 2/5] END algorithm=SAMME, learning_rate=0.505;, score=0.715 total time=   0.7s\n",
      "[CV 3/5] END algorithm=SAMME, learning_rate=0.505;, score=0.710 total time=   0.7s\n",
      "[CV 4/5] END algorithm=SAMME, learning_rate=0.505;, score=0.743 total time=   0.7s\n",
      "[CV 5/5] END algorithm=SAMME, learning_rate=0.505;, score=0.689 total time=   0.7s\n",
      "[CV 1/5] END algorithm=SAMME, learning_rate=0.5757142857142857;, score=0.702 total time=   0.9s\n",
      "[CV 2/5] END algorithm=SAMME, learning_rate=0.5757142857142857;, score=0.713 total time=   0.8s\n",
      "[CV 3/5] END algorithm=SAMME, learning_rate=0.5757142857142857;, score=0.710 total time=   0.8s\n",
      "[CV 4/5] END algorithm=SAMME, learning_rate=0.5757142857142857;, score=0.729 total time=   0.8s\n",
      "[CV 5/5] END algorithm=SAMME, learning_rate=0.5757142857142857;, score=0.675 total time=   0.8s\n",
      "[CV 1/5] END algorithm=SAMME, learning_rate=0.6464285714285715;, score=0.693 total time=   0.8s\n",
      "[CV 2/5] END algorithm=SAMME, learning_rate=0.6464285714285715;, score=0.683 total time=   1.1s\n",
      "[CV 3/5] END algorithm=SAMME, learning_rate=0.6464285714285715;, score=0.744 total time=   1.4s\n",
      "[CV 4/5] END algorithm=SAMME, learning_rate=0.6464285714285715;, score=0.729 total time=   1.1s\n",
      "[CV 5/5] END algorithm=SAMME, learning_rate=0.6464285714285715;, score=0.720 total time=   0.8s\n",
      "[CV 1/5] END algorithm=SAMME, learning_rate=0.7171428571428572;, score=0.742 total time=   0.7s\n",
      "[CV 2/5] END algorithm=SAMME, learning_rate=0.7171428571428572;, score=0.723 total time=   0.7s\n",
      "[CV 3/5] END algorithm=SAMME, learning_rate=0.7171428571428572;, score=0.744 total time=   1.0s\n",
      "[CV 4/5] END algorithm=SAMME, learning_rate=0.7171428571428572;, score=0.770 total time=   1.0s\n",
      "[CV 5/5] END algorithm=SAMME, learning_rate=0.7171428571428572;, score=0.718 total time=   1.0s\n",
      "[CV 1/5] END algorithm=SAMME, learning_rate=0.7878571428571429;, score=0.743 total time=   1.0s\n",
      "[CV 2/5] END algorithm=SAMME, learning_rate=0.7878571428571429;, score=0.744 total time=   1.0s\n",
      "[CV 3/5] END algorithm=SAMME, learning_rate=0.7878571428571429;, score=0.744 total time=   1.2s\n",
      "[CV 4/5] END algorithm=SAMME, learning_rate=0.7878571428571429;, score=0.756 total time=   1.0s\n",
      "[CV 5/5] END algorithm=SAMME, learning_rate=0.7878571428571429;, score=0.721 total time=   0.9s\n",
      "[CV 1/5] END algorithm=SAMME, learning_rate=0.8585714285714285;, score=0.740 total time=   0.9s\n",
      "[CV 2/5] END algorithm=SAMME, learning_rate=0.8585714285714285;, score=0.740 total time=   0.9s\n",
      "[CV 3/5] END algorithm=SAMME, learning_rate=0.8585714285714285;, score=0.740 total time=   1.1s\n",
      "[CV 4/5] END algorithm=SAMME, learning_rate=0.8585714285714285;, score=0.776 total time=   1.0s\n",
      "[CV 5/5] END algorithm=SAMME, learning_rate=0.8585714285714285;, score=0.714 total time=   0.9s\n",
      "[CV 1/5] END algorithm=SAMME, learning_rate=0.9292857142857143;, score=0.717 total time=   0.7s\n",
      "[CV 2/5] END algorithm=SAMME, learning_rate=0.9292857142857143;, score=0.721 total time=   0.7s\n",
      "[CV 3/5] END algorithm=SAMME, learning_rate=0.9292857142857143;, score=0.743 total time=   0.7s\n",
      "[CV 4/5] END algorithm=SAMME, learning_rate=0.9292857142857143;, score=0.779 total time=   0.7s\n",
      "[CV 5/5] END algorithm=SAMME, learning_rate=0.9292857142857143;, score=0.749 total time=   0.7s\n",
      "[CV 1/5] END algorithm=SAMME, learning_rate=1.0;, score=0.735 total time=   0.8s\n",
      "[CV 2/5] END algorithm=SAMME, learning_rate=1.0;, score=0.719 total time=   0.7s\n",
      "[CV 3/5] END algorithm=SAMME, learning_rate=1.0;, score=0.733 total time=   0.7s\n",
      "[CV 4/5] END algorithm=SAMME, learning_rate=1.0;, score=0.779 total time=   0.7s\n",
      "[CV 5/5] END algorithm=SAMME, learning_rate=1.0;, score=0.715 total time=   0.8s\n",
      "[CV 1/5] END algorithm=SAMME.R, learning_rate=0.01;, score=0.630 total time=   1.0s\n",
      "[CV 2/5] END algorithm=SAMME.R, learning_rate=0.01;, score=0.609 total time=   0.9s\n",
      "[CV 3/5] END algorithm=SAMME.R, learning_rate=0.01;, score=0.599 total time=   1.0s\n",
      "[CV 4/5] END algorithm=SAMME.R, learning_rate=0.01;, score=0.650 total time=   1.3s\n",
      "[CV 5/5] END algorithm=SAMME.R, learning_rate=0.01;, score=0.593 total time=   1.0s\n",
      "[CV 1/5] END algorithm=SAMME.R, learning_rate=0.08071428571428571;, score=0.723 total time=   1.1s\n",
      "[CV 2/5] END algorithm=SAMME.R, learning_rate=0.08071428571428571;, score=0.714 total time=   1.9s\n",
      "[CV 3/5] END algorithm=SAMME.R, learning_rate=0.08071428571428571;, score=0.717 total time=   1.2s\n",
      "[CV 4/5] END algorithm=SAMME.R, learning_rate=0.08071428571428571;, score=0.722 total time=   1.1s\n",
      "[CV 5/5] END algorithm=SAMME.R, learning_rate=0.08071428571428571;, score=0.685 total time=   1.1s\n",
      "[CV 1/5] END algorithm=SAMME.R, learning_rate=0.15142857142857144;, score=0.717 total time=   1.1s\n",
      "[CV 2/5] END algorithm=SAMME.R, learning_rate=0.15142857142857144;, score=0.710 total time=   1.2s\n",
      "[CV 3/5] END algorithm=SAMME.R, learning_rate=0.15142857142857144;, score=0.732 total time=   1.2s\n",
      "[CV 4/5] END algorithm=SAMME.R, learning_rate=0.15142857142857144;, score=0.747 total time=   1.1s\n",
      "[CV 5/5] END algorithm=SAMME.R, learning_rate=0.15142857142857144;, score=0.698 total time=   0.9s\n",
      "[CV 1/5] END algorithm=SAMME.R, learning_rate=0.22214285714285714;, score=0.718 total time=   0.9s\n",
      "[CV 2/5] END algorithm=SAMME.R, learning_rate=0.22214285714285714;, score=0.706 total time=   1.1s\n",
      "[CV 3/5] END algorithm=SAMME.R, learning_rate=0.22214285714285714;, score=0.740 total time=   1.0s\n",
      "[CV 4/5] END algorithm=SAMME.R, learning_rate=0.22214285714285714;, score=0.743 total time=   1.0s\n",
      "[CV 5/5] END algorithm=SAMME.R, learning_rate=0.22214285714285714;, score=0.712 total time=   0.9s\n",
      "[CV 1/5] END algorithm=SAMME.R, learning_rate=0.29285714285714287;, score=0.745 total time=   1.2s\n",
      "[CV 2/5] END algorithm=SAMME.R, learning_rate=0.29285714285714287;, score=0.732 total time=   1.2s\n",
      "[CV 3/5] END algorithm=SAMME.R, learning_rate=0.29285714285714287;, score=0.752 total time=   1.1s\n",
      "[CV 4/5] END algorithm=SAMME.R, learning_rate=0.29285714285714287;, score=0.772 total time=   1.2s\n",
      "[CV 5/5] END algorithm=SAMME.R, learning_rate=0.29285714285714287;, score=0.725 total time=   1.2s\n",
      "[CV 1/5] END algorithm=SAMME.R, learning_rate=0.3635714285714286;, score=0.744 total time=   1.3s\n",
      "[CV 2/5] END algorithm=SAMME.R, learning_rate=0.3635714285714286;, score=0.724 total time=   1.3s\n",
      "[CV 3/5] END algorithm=SAMME.R, learning_rate=0.3635714285714286;, score=0.752 total time=   1.0s\n",
      "[CV 4/5] END algorithm=SAMME.R, learning_rate=0.3635714285714286;, score=0.764 total time=   0.9s\n",
      "[CV 5/5] END algorithm=SAMME.R, learning_rate=0.3635714285714286;, score=0.735 total time=   1.2s\n",
      "[CV 1/5] END algorithm=SAMME.R, learning_rate=0.4342857142857143;, score=0.743 total time=   1.4s\n",
      "[CV 2/5] END algorithm=SAMME.R, learning_rate=0.4342857142857143;, score=0.734 total time=   1.5s\n",
      "[CV 3/5] END algorithm=SAMME.R, learning_rate=0.4342857142857143;, score=0.755 total time=   1.2s\n",
      "[CV 4/5] END algorithm=SAMME.R, learning_rate=0.4342857142857143;, score=0.772 total time=   1.2s\n",
      "[CV 5/5] END algorithm=SAMME.R, learning_rate=0.4342857142857143;, score=0.739 total time=   1.2s\n",
      "[CV 1/5] END algorithm=SAMME.R, learning_rate=0.505;, score=0.746 total time=   1.2s\n",
      "[CV 2/5] END algorithm=SAMME.R, learning_rate=0.505;, score=0.732 total time=   1.1s\n",
      "[CV 3/5] END algorithm=SAMME.R, learning_rate=0.505;, score=0.752 total time=   1.0s\n",
      "[CV 4/5] END algorithm=SAMME.R, learning_rate=0.505;, score=0.772 total time=   1.0s\n",
      "[CV 5/5] END algorithm=SAMME.R, learning_rate=0.505;, score=0.747 total time=   1.0s\n",
      "[CV 1/5] END algorithm=SAMME.R, learning_rate=0.5757142857142857;, score=0.752 total time=   1.0s\n",
      "[CV 2/5] END algorithm=SAMME.R, learning_rate=0.5757142857142857;, score=0.732 total time=   1.2s\n",
      "[CV 3/5] END algorithm=SAMME.R, learning_rate=0.5757142857142857;, score=0.754 total time=   1.7s\n",
      "[CV 4/5] END algorithm=SAMME.R, learning_rate=0.5757142857142857;, score=0.778 total time=   1.8s\n",
      "[CV 5/5] END algorithm=SAMME.R, learning_rate=0.5757142857142857;, score=0.747 total time=   1.4s\n",
      "[CV 1/5] END algorithm=SAMME.R, learning_rate=0.6464285714285715;, score=0.748 total time=   1.2s\n",
      "[CV 2/5] END algorithm=SAMME.R, learning_rate=0.6464285714285715;, score=0.736 total time=   0.9s\n",
      "[CV 3/5] END algorithm=SAMME.R, learning_rate=0.6464285714285715;, score=0.747 total time=   0.9s\n",
      "[CV 4/5] END algorithm=SAMME.R, learning_rate=0.6464285714285715;, score=0.775 total time=   1.1s\n",
      "[CV 5/5] END algorithm=SAMME.R, learning_rate=0.6464285714285715;, score=0.749 total time=   1.0s\n",
      "[CV 1/5] END algorithm=SAMME.R, learning_rate=0.7171428571428572;, score=0.752 total time=   1.3s\n",
      "[CV 2/5] END algorithm=SAMME.R, learning_rate=0.7171428571428572;, score=0.734 total time=   2.4s\n",
      "[CV 3/5] END algorithm=SAMME.R, learning_rate=0.7171428571428572;, score=0.759 total time=   2.5s\n",
      "[CV 4/5] END algorithm=SAMME.R, learning_rate=0.7171428571428572;, score=0.774 total time=   1.8s\n",
      "[CV 5/5] END algorithm=SAMME.R, learning_rate=0.7171428571428572;, score=0.759 total time=   1.7s\n",
      "[CV 1/5] END algorithm=SAMME.R, learning_rate=0.7878571428571429;, score=0.751 total time=   1.8s\n",
      "[CV 2/5] END algorithm=SAMME.R, learning_rate=0.7878571428571429;, score=0.729 total time=   1.5s\n",
      "[CV 3/5] END algorithm=SAMME.R, learning_rate=0.7878571428571429;, score=0.759 total time=   1.1s\n",
      "[CV 4/5] END algorithm=SAMME.R, learning_rate=0.7878571428571429;, score=0.772 total time=   0.8s\n",
      "[CV 5/5] END algorithm=SAMME.R, learning_rate=0.7878571428571429;, score=0.751 total time=   0.8s\n",
      "[CV 1/5] END algorithm=SAMME.R, learning_rate=0.8585714285714285;, score=0.748 total time=   0.9s\n",
      "[CV 2/5] END algorithm=SAMME.R, learning_rate=0.8585714285714285;, score=0.732 total time=   1.1s\n",
      "[CV 3/5] END algorithm=SAMME.R, learning_rate=0.8585714285714285;, score=0.758 total time=   1.5s\n",
      "[CV 4/5] END algorithm=SAMME.R, learning_rate=0.8585714285714285;, score=0.777 total time=   1.1s\n",
      "[CV 5/5] END algorithm=SAMME.R, learning_rate=0.8585714285714285;, score=0.759 total time=   1.2s\n",
      "[CV 1/5] END algorithm=SAMME.R, learning_rate=0.9292857142857143;, score=0.748 total time=   1.3s\n",
      "[CV 2/5] END algorithm=SAMME.R, learning_rate=0.9292857142857143;, score=0.733 total time=   1.4s\n",
      "[CV 3/5] END algorithm=SAMME.R, learning_rate=0.9292857142857143;, score=0.747 total time=   1.1s\n",
      "[CV 4/5] END algorithm=SAMME.R, learning_rate=0.9292857142857143;, score=0.772 total time=   1.2s\n",
      "[CV 5/5] END algorithm=SAMME.R, learning_rate=0.9292857142857143;, score=0.747 total time=   0.9s\n",
      "[CV 1/5] END algorithm=SAMME.R, learning_rate=1.0;, score=0.743 total time=   0.8s\n",
      "[CV 2/5] END algorithm=SAMME.R, learning_rate=1.0;, score=0.727 total time=   0.8s\n",
      "[CV 3/5] END algorithm=SAMME.R, learning_rate=1.0;, score=0.754 total time=   0.9s\n",
      "[CV 4/5] END algorithm=SAMME.R, learning_rate=1.0;, score=0.776 total time=   0.9s\n",
      "[CV 5/5] END algorithm=SAMME.R, learning_rate=1.0;, score=0.743 total time=   1.1s\n"
     ]
    },
    {
     "data": {
      "text/plain": [
       "GridSearchCV(estimator=AdaBoostClassifier(),\n",
       "             param_grid={'algorithm': ['SAMME', 'SAMME.R'],\n",
       "                         'learning_rate': array([0.01      , 0.08071429, 0.15142857, 0.22214286, 0.29285714,\n",
       "       0.36357143, 0.43428571, 0.505     , 0.57571429, 0.64642857,\n",
       "       0.71714286, 0.78785714, 0.85857143, 0.92928571, 1.        ])},\n",
       "             scoring='recall', verbose=3)"
      ]
     },
     "execution_count": 64,
     "metadata": {},
     "output_type": "execute_result"
    }
   ],
   "source": [
    "from sklearn.model_selection import GridSearchCV\n",
    "from sklearn.ensemble import AdaBoostClassifier\n",
    "# defining parameter range\n",
    "param_grid = {\n",
    "              'learning_rate': np.linspace(0.01, 1, 15),\n",
    "              'algorithm' : ['SAMME', 'SAMME.R']\n",
    "             } \n",
    "  \n",
    "grid = GridSearchCV(AdaBoostClassifier(), param_grid, refit = True, verbose = 3, scoring='recall')\n",
    "# random = RandomizedSearchCV  \n",
    "# fitting the model for grid search\n",
    "grid.fit(X_train, y_train)"
   ]
  },
  {
   "cell_type": "code",
   "execution_count": 65,
   "id": "901cd24f-990d-443d-be72-30579e112c80",
   "metadata": {},
   "outputs": [
    {
     "name": "stdout",
     "output_type": "stream",
     "text": [
      "{'algorithm': 'SAMME.R', 'learning_rate': 0.7171428571428572}\n",
      "AdaBoostClassifier(learning_rate=0.7171428571428572)\n"
     ]
    }
   ],
   "source": [
    "# print best parameter after tuning\n",
    "print(grid.best_params_)\n",
    "  \n",
    "# print how our model looks after hyper-parameter tuning\n",
    "print(grid.best_estimator_)"
   ]
  },
  {
   "cell_type": "code",
   "execution_count": 66,
   "id": "bd27ff87-c202-4d5a-8a8c-7bbd0a584563",
   "metadata": {},
   "outputs": [
    {
     "name": "stdout",
     "output_type": "stream",
     "text": [
      "Accuracy Test: 0.761\n",
      "Precision Train: 0.774\n",
      "Precision Test: 0.435\n",
      "Recall Train: 0.7550659376\n",
      "Recall Test: 0.758974359\n",
      "F1-Score Train: 0.764\n",
      "F1-Score Test: 0.553\n",
      "AUC (Train): 0.853\n",
      "AUC (Test): 0.832\n",
      "roc_auc (crossval train):0.853244841985773\n",
      "roc_auc (crossval test):0.8494727244105749\n"
     ]
    }
   ],
   "source": [
    "from sklearn.ensemble import AdaBoostClassifier\n",
    "\n",
    "abc = AdaBoostClassifier(algorithm='SAMME.R', learning_rate=0.7171428571428572)\n",
    "abc.fit(X_train, y_train)\n",
    "abc_pred = abc.predict(X_test)\n",
    "abc_pred_train = abc.predict(X_train)\n",
    "eval_classification(abc)"
   ]
  },
  {
   "cell_type": "code",
   "execution_count": 67,
   "id": "b98752f9-f5dd-42e7-82bf-e0f202cd4b59",
   "metadata": {
    "id": "Dby0n9VmZpFh"
   },
   "outputs": [
    {
     "name": "stdout",
     "output_type": "stream",
     "text": [
      "              precision    recall  f1-score   support\n",
      "\n",
      "           0       0.93      0.76      0.84      1610\n",
      "           1       0.44      0.76      0.55       390\n",
      "\n",
      "    accuracy                           0.76      2000\n",
      "   macro avg       0.68      0.76      0.70      2000\n",
      "weighted avg       0.83      0.76      0.78      2000\n",
      "\n",
      "              precision    recall  f1-score   support\n",
      "\n",
      "           0       0.76      0.78      0.77      6218\n",
      "           1       0.77      0.76      0.76      6218\n",
      "\n",
      "    accuracy                           0.77     12436\n",
      "   macro avg       0.77      0.77      0.77     12436\n",
      "weighted avg       0.77      0.77      0.77     12436\n",
      "\n"
     ]
    }
   ],
   "source": [
    "from sklearn.metrics import classification_report\n",
    "print(classification_report(y_test, abc_pred))#classification report for logistic model prediction\n",
    "print(classification_report(y_train, abc_pred_train))#classification report for logistic model prediction"
   ]
  },
  {
   "cell_type": "code",
   "execution_count": 68,
   "id": "932c351a-5269-4721-8044-5d9727e79ff1",
   "metadata": {
    "id": "TOgkMUEjH3rn"
   },
   "outputs": [
    {
     "name": "stdout",
     "output_type": "stream",
     "text": [
      "[[1226  384]\n",
      " [  94  296]]\n"
     ]
    }
   ],
   "source": [
    "from sklearn.metrics import confusion_matrix\n",
    "abc_cm = confusion_matrix(y_test, abc_pred)\n",
    "print(abc_cm)"
   ]
  },
  {
   "cell_type": "code",
   "execution_count": 69,
   "id": "65dfa476-ab04-4569-a7ec-cd34cb895e1f",
   "metadata": {
    "id": "OaDpPxoTKcAa"
   },
   "outputs": [
    {
     "data": {
      "image/png": "[encoded data removed]",
      "text/plain": [
       "<Figure size 576x432 with 2 Axes>"
      ]
     },
     "metadata": {
      "needs_background": "light"
     },
     "output_type": "display_data"
    }
   ],
   "source": [
    "import seaborn as sns\n",
    "group_names = ['True Neg','False Pos','False Neg','True Pos']\n",
    "group_counts = ['{0:0.0f}'.format(value) for value in\n",
    "                clf_cm.flatten()]\n",
    "labels = [f\"{v1}\\n{v2}\" for v1, v2 in\n",
    "          zip(group_names,group_counts)]\n",
    "labels = np.asarray(labels).reshape(2,2)\n",
    "plt.figure(figsize=(8,6))\n",
    "plt.title('AdaBoost Hyperparam')\n",
    "sns.heatmap(abc_cm, annot=labels, fmt='', cmap='Blues')\n",
    "plt.show()"
   ]
  },
  {
   "cell_type": "code",
   "execution_count": 70,
   "id": "85669235-7fe3-441d-ac52-dca17c5beb15",
   "metadata": {},
   "outputs": [
    {
     "data": {
      "image/png": "[encoded data removed]",
      "text/plain": [
       "<Figure size 576x576 with 1 Axes>"
      ]
     },
     "metadata": {
      "needs_background": "light"
     },
     "output_type": "display_data"
    }
   ],
   "source": [
    "plt.figure(figsize=(8,8))\n",
    "ftimp = pd.Series(abc.feature_importances_, index=X_train.columns)\n",
    "ax = ftimp.nlargest(20).plot(kind='barh')\n",
    "plt.title('Feature Importance - AdaBoost')\n",
    "plt.xlim(-0.4, 0.4)\n",
    "plt.tight_layout()\n",
    "# plt.savefig('Feature Importance - AdaBoost.png')"
   ]
  },
  {
   "cell_type": "markdown",
   "id": "45b145c3-7110-4fc8-9299-d47280297971",
   "metadata": {
    "id": "_zW_7thKFsF2",
    "tags": []
   },
   "source": [
    "## Decision Tree"
   ]
  },
  {
   "cell_type": "code",
   "execution_count": 71,
   "id": "2869fefd-3bbc-4d08-a1e0-3a3db67d3e66",
   "metadata": {
    "id": "m1-5jNZ7Fulj"
   },
   "outputs": [
    {
     "name": "stdout",
     "output_type": "stream",
     "text": [
      "Accuracy Test: 0.782\n",
      "Precision Train: 1.0\n",
      "Precision Test: 0.437\n",
      "Recall Train: 1.0\n",
      "Recall Test: 0.4205128205\n",
      "F1-Score Train: 1.0\n",
      "F1-Score Test: 0.429\n",
      "AUC (Train): 1.0\n",
      "AUC (Test): 0.645\n",
      "roc_auc (crossval train):1.0\n",
      "roc_auc (crossval test):0.918385207968482\n"
     ]
    }
   ],
   "source": [
    "from sklearn.tree import DecisionTreeClassifier\n",
    "\n",
    "dt = DecisionTreeClassifier()\n",
    "dt.fit(X_train, y_train)\n",
    "dt_pred = dt.predict(X_test)\n",
    "dt_pred_train = dt.predict(X_train)\n",
    "eval_classification(dt)"
   ]
  },
  {
   "cell_type": "code",
   "execution_count": 72,
   "id": "7d54f45f-f557-47d0-81d8-6c28d0833a4b",
   "metadata": {
    "id": "PYPm8ZE2ZpFK"
   },
   "outputs": [
    {
     "name": "stdout",
     "output_type": "stream",
     "text": [
      "              precision    recall  f1-score   support\n",
      "\n",
      "           0       0.86      0.87      0.86      1610\n",
      "           1       0.44      0.42      0.43       390\n",
      "\n",
      "    accuracy                           0.78      2000\n",
      "   macro avg       0.65      0.64      0.65      2000\n",
      "weighted avg       0.78      0.78      0.78      2000\n",
      "\n",
      "              precision    recall  f1-score   support\n",
      "\n",
      "           0       1.00      1.00      1.00      6218\n",
      "           1       1.00      1.00      1.00      6218\n",
      "\n",
      "    accuracy                           1.00     12436\n",
      "   macro avg       1.00      1.00      1.00     12436\n",
      "weighted avg       1.00      1.00      1.00     12436\n",
      "\n"
     ]
    }
   ],
   "source": [
    "from sklearn.metrics import classification_report\n",
    "print(classification_report(y_test, dt_pred))#classification report for logistic model prediction\n",
    "print(classification_report(y_train, dt_pred_train))#classification report for logistic model prediction"
   ]
  },
  {
   "cell_type": "code",
   "execution_count": 73,
   "id": "88cb3110-32b7-4c9c-aff6-86ec34cfa00b",
   "metadata": {
    "id": "AzSB4BCMHBCS"
   },
   "outputs": [
    {
     "name": "stdout",
     "output_type": "stream",
     "text": [
      "[[1399  211]\n",
      " [ 226  164]]\n"
     ]
    }
   ],
   "source": [
    "from sklearn.metrics import confusion_matrix\n",
    "dt_cm = confusion_matrix(y_test, dt_pred)\n",
    "print(dt_cm)"
   ]
  },
  {
   "cell_type": "code",
   "execution_count": 74,
   "id": "4af8bc75-6c4a-4a62-a809-7457724d6cdb",
   "metadata": {
    "id": "lu5cV0K_J9pz"
   },
   "outputs": [
    {
     "data": {
      "image/png": "[encoded data removed]",
      "text/plain": [
       "<Figure size 576x432 with 2 Axes>"
      ]
     },
     "metadata": {
      "needs_background": "light"
     },
     "output_type": "display_data"
    }
   ],
   "source": [
    "import seaborn as sns\n",
    "group_names = ['True Neg','False Pos','False Neg','True Pos']\n",
    "group_counts = ['{0:0.0f}'.format(value) for value in\n",
    "                dt_cm.flatten()]\n",
    "labels = [f\"{v1}\\n{v2}\" for v1, v2 in\n",
    "          zip(group_names,group_counts)]\n",
    "labels = np.asarray(labels).reshape(2,2)\n",
    "plt.figure(figsize=(8,6))\n",
    "plt.title('Decision Tree Default')\n",
    "sns.heatmap(dt_cm, annot=labels, fmt='', cmap='Blues')\n",
    "plt.show()"
   ]
  },
  {
   "cell_type": "code",
   "execution_count": 75,
   "id": "19b540a5-42c9-494a-b2d9-7819974de19d",
   "metadata": {
    "id": "jezhzZ9xF5Ht"
   },
   "outputs": [
    {
     "name": "stdout",
     "output_type": "stream",
     "text": [
      "Fitting 5 folds for each of 10 candidates, totalling 50 fits\n",
      "[CV 1/5] END class_weight=dict, criterion=gini, max_features=sqrt, splitter=random;, score=(train=nan, test=nan) total time=   0.0s\n",
      "[CV 2/5] END class_weight=dict, criterion=gini, max_features=sqrt, splitter=random;, score=(train=nan, test=nan) total time=   0.0s\n",
      "[CV 3/5] END class_weight=dict, criterion=gini, max_features=sqrt, splitter=random;, score=(train=nan, test=nan) total time=   0.0s\n",
      "[CV 4/5] END class_weight=dict, criterion=gini, max_features=sqrt, splitter=random;, score=(train=nan, test=nan) total time=   0.0s\n",
      "[CV 5/5] END class_weight=dict, criterion=gini, max_features=sqrt, splitter=random;, score=(train=nan, test=nan) total time=   0.0s\n",
      "[CV 1/5] END class_weight=dict, criterion=gini, max_features=log2, splitter=random;, score=(train=nan, test=nan) total time=   0.0s\n",
      "[CV 2/5] END class_weight=dict, criterion=gini, max_features=log2, splitter=random;, score=(train=nan, test=nan) total time=   0.0s\n",
      "[CV 3/5] END class_weight=dict, criterion=gini, max_features=log2, splitter=random;, score=(train=nan, test=nan) total time=   0.0s\n",
      "[CV 4/5] END class_weight=dict, criterion=gini, max_features=log2, splitter=random;, score=(train=nan, test=nan) total time=   0.0s\n",
      "[CV 5/5] END class_weight=dict, criterion=gini, max_features=log2, splitter=random;, score=(train=nan, test=nan) total time=   0.0s\n",
      "[CV 1/5] END class_weight=dict, criterion=gini, max_features=auto, splitter=best;, score=(train=nan, test=nan) total time=   0.0s\n",
      "[CV 2/5] END class_weight=dict, criterion=gini, max_features=auto, splitter=best;, score=(train=nan, test=nan) total time=   0.0s\n",
      "[CV 3/5] END class_weight=dict, criterion=gini, max_features=auto, splitter=best;, score=(train=nan, test=nan) total time=   0.0s\n",
      "[CV 4/5] END class_weight=dict, criterion=gini, max_features=auto, splitter=best;, score=(train=nan, test=nan) total time=   0.0s\n",
      "[CV 5/5] END class_weight=dict, criterion=gini, max_features=auto, splitter=best;, score=(train=nan, test=nan) total time=   0.0s\n",
      "[CV 1/5] END class_weight=balanced, criterion=log_loss, max_features=log2, splitter=random;, score=(train=nan, test=nan) total time=   0.0s\n",
      "[CV 2/5] END class_weight=balanced, criterion=log_loss, max_features=log2, splitter=random;, score=(train=nan, test=nan) total time=   0.0s\n",
      "[CV 3/5] END class_weight=balanced, criterion=log_loss, max_features=log2, splitter=random;, score=(train=nan, test=nan) total time=   0.0s\n",
      "[CV 4/5] END class_weight=balanced, criterion=log_loss, max_features=log2, splitter=random;, score=(train=nan, test=nan) total time=   0.0s\n",
      "[CV 5/5] END class_weight=balanced, criterion=log_loss, max_features=log2, splitter=random;, score=(train=nan, test=nan) total time=   0.0s\n",
      "[CV 1/5] END class_weight=balanced, criterion=entropy, max_features=auto, splitter=random;, score=(train=1.000, test=0.959) total time=   0.0s\n",
      "[CV 2/5] END class_weight=balanced, criterion=entropy, max_features=auto, splitter=random;, score=(train=1.000, test=0.979) total time=   0.0s\n",
      "[CV 3/5] END class_weight=balanced, criterion=entropy, max_features=auto, splitter=random;, score=(train=1.000, test=1.000) total time=   0.0s\n",
      "[CV 4/5] END class_weight=balanced, criterion=entropy, max_features=auto, splitter=random;, score=(train=1.000, test=1.000) total time=   0.0s\n",
      "[CV 5/5] END class_weight=balanced, criterion=entropy, max_features=auto, splitter=random;, score=(train=1.000, test=1.000) total time=   0.0s\n",
      "[CV 1/5] END class_weight=dict, criterion=log_loss, max_features=auto, splitter=best;, score=(train=nan, test=nan) total time=   0.0s\n",
      "[CV 2/5] END class_weight=dict, criterion=log_loss, max_features=auto, splitter=best;, score=(train=nan, test=nan) total time=   0.0s\n",
      "[CV 3/5] END class_weight=dict, criterion=log_loss, max_features=auto, splitter=best;, score=(train=nan, test=nan) total time=   0.0s\n",
      "[CV 4/5] END class_weight=dict, criterion=log_loss, max_features=auto, splitter=best;, score=(train=nan, test=nan) total time=   0.0s\n",
      "[CV 5/5] END class_weight=dict, criterion=log_loss, max_features=auto, splitter=best;, score=(train=nan, test=nan) total time=   0.0s\n",
      "[CV 1/5] END class_weight=balanced, criterion=log_loss, max_features=log2, splitter=best;, score=(train=nan, test=nan) total time=   0.0s\n",
      "[CV 2/5] END class_weight=balanced, criterion=log_loss, max_features=log2, splitter=best;, score=(train=nan, test=nan) total time=   0.0s\n",
      "[CV 3/5] END class_weight=balanced, criterion=log_loss, max_features=log2, splitter=best;, score=(train=nan, test=nan) total time=   0.0s\n",
      "[CV 4/5] END class_weight=balanced, criterion=log_loss, max_features=log2, splitter=best;, score=(train=nan, test=nan) total time=   0.0s\n",
      "[CV 5/5] END class_weight=balanced, criterion=log_loss, max_features=log2, splitter=best;, score=(train=nan, test=nan) total time=   0.0s\n",
      "[CV 1/5] END class_weight=balanced, criterion=gini, max_features=log2, splitter=best;, score=(train=1.000, test=0.959) total time=   0.0s\n",
      "[CV 2/5] END class_weight=balanced, criterion=gini, max_features=log2, splitter=best;, score=(train=1.000, test=0.981) total time=   0.0s\n",
      "[CV 3/5] END class_weight=balanced, criterion=gini, max_features=log2, splitter=best;, score=(train=1.000, test=1.000) total time=   0.0s\n",
      "[CV 4/5] END class_weight=balanced, criterion=gini, max_features=log2, splitter=best;, score=(train=1.000, test=1.000) total time=   0.0s\n",
      "[CV 5/5] END class_weight=balanced, criterion=gini, max_features=log2, splitter=best;, score=(train=1.000, test=1.000) total time=   0.0s\n",
      "[CV 1/5] END class_weight=balanced, criterion=log_loss, max_features=auto, splitter=best;, score=(train=nan, test=nan) total time=   0.0s\n",
      "[CV 2/5] END class_weight=balanced, criterion=log_loss, max_features=auto, splitter=best;, score=(train=nan, test=nan) total time=   0.0s\n",
      "[CV 3/5] END class_weight=balanced, criterion=log_loss, max_features=auto, splitter=best;, score=(train=nan, test=nan) total time=   0.0s\n",
      "[CV 4/5] END class_weight=balanced, criterion=log_loss, max_features=auto, splitter=best;, score=(train=nan, test=nan) total time=   0.0s\n",
      "[CV 5/5] END class_weight=balanced, criterion=log_loss, max_features=auto, splitter=best;, score=(train=nan, test=nan) total time=   0.0s\n",
      "[CV 1/5] END class_weight=dict, criterion=entropy, max_features=auto, splitter=random;, score=(train=nan, test=nan) total time=   0.0s\n",
      "[CV 2/5] END class_weight=dict, criterion=entropy, max_features=auto, splitter=random;, score=(train=nan, test=nan) total time=   0.0s\n",
      "[CV 3/5] END class_weight=dict, criterion=entropy, max_features=auto, splitter=random;, score=(train=nan, test=nan) total time=   0.0s\n",
      "[CV 4/5] END class_weight=dict, criterion=entropy, max_features=auto, splitter=random;, score=(train=nan, test=nan) total time=   0.0s\n",
      "[CV 5/5] END class_weight=dict, criterion=entropy, max_features=auto, splitter=random;, score=(train=nan, test=nan) total time=   0.0s\n"
     ]
    },
    {
     "data": {
      "text/plain": [
       "RandomizedSearchCV(estimator=DecisionTreeClassifier(),\n",
       "                   param_distributions={'class_weight': ['dict', 'balanced'],\n",
       "                                        'criterion': ['gini', 'entropy',\n",
       "                                                      'log_loss'],\n",
       "                                        'max_features': ['auto', 'sqrt',\n",
       "                                                         'log2'],\n",
       "                                        'splitter': ['best', 'random']},\n",
       "                   return_train_score=True, scoring='recall', verbose=3)"
      ]
     },
     "execution_count": 75,
     "metadata": {},
     "output_type": "execute_result"
    }
   ],
   "source": [
    "from sklearn.model_selection import RandomizedSearchCV\n",
    "from sklearn.tree import DecisionTreeClassifier\n",
    "# defining parameter range\n",
    "param_grid = {\n",
    "              'criterion' : ['gini', 'entropy', 'log_loss'],\n",
    "    'splitter' : ['best', 'random'],\n",
    "    'max_features' : ['auto', 'sqrt', 'log2'],\n",
    "    'class_weight' : ['dict', 'balanced']\n",
    "                  } \n",
    "  \n",
    "random = RandomizedSearchCV(DecisionTreeClassifier(), param_grid, refit = True, verbose = 3, scoring='recall', return_train_score=True)\n",
    "  \n",
    "# fitting the model for grid search\n",
    "random.fit(X_train, y_train)\n",
    "# random.fit(X_test1, y_test1)"
   ]
  },
  {
   "cell_type": "code",
   "execution_count": 76,
   "id": "b7e01d81-7039-4644-984b-6643ad9947a8",
   "metadata": {
    "id": "CC68HOcaGZ3J"
   },
   "outputs": [
    {
     "name": "stdout",
     "output_type": "stream",
     "text": [
      "{'splitter': 'best', 'max_features': 'log2', 'criterion': 'gini', 'class_weight': 'balanced'}\n",
      "DecisionTreeClassifier(class_weight='balanced', max_features='log2')\n"
     ]
    }
   ],
   "source": [
    "# print best parameter after tuning\n",
    "print(random.best_params_)\n",
    "  \n",
    "# print how our model looks after hyper-parameter tuning\n",
    "print(random.best_estimator_)"
   ]
  },
  {
   "cell_type": "code",
   "execution_count": 78,
   "id": "ce639738-6e96-429f-9f45-0e25f2d7fc53",
   "metadata": {
    "id": "H8v3FIMbGlKY"
   },
   "outputs": [
    {
     "name": "stdout",
     "output_type": "stream",
     "text": [
      "Accuracy Test: 0.784\n",
      "Precision Train: 1.0\n",
      "Precision Test: 0.449\n",
      "Recall Train: 1.0\n",
      "Recall Test: 0.4820512821\n",
      "F1-Score Train: 1.0\n",
      "F1-Score Test: 0.465\n",
      "AUC (Train): 1.0\n",
      "AUC (Test): 0.669\n",
      "roc_auc (crossval train):1.0\n",
      "roc_auc (crossval test):0.9197517674540124\n"
     ]
    }
   ],
   "source": [
    "from sklearn.tree import DecisionTreeClassifier\n",
    "\n",
    "dt = DecisionTreeClassifier(class_weight='balanced', criterion='gini',\n",
    "                       max_features='log2', splitter='best')\n",
    "dt.fit(X_train, y_train)\n",
    "dt_pred = dt.predict(X_test)\n",
    "dt_pred_train = dt.predict(X_train)\n",
    "eval_classification(dt)"
   ]
  },
  {
   "cell_type": "code",
   "execution_count": 79,
   "id": "4ab740d4-accd-4da6-adac-38ceb3eb3246",
   "metadata": {
    "id": "RCPgy8tWZpFN"
   },
   "outputs": [
    {
     "name": "stdout",
     "output_type": "stream",
     "text": [
      "              precision    recall  f1-score   support\n",
      "\n",
      "           0       0.87      0.86      0.86      1610\n",
      "           1       0.45      0.48      0.46       390\n",
      "\n",
      "    accuracy                           0.78      2000\n",
      "   macro avg       0.66      0.67      0.66      2000\n",
      "weighted avg       0.79      0.78      0.79      2000\n",
      "\n",
      "              precision    recall  f1-score   support\n",
      "\n",
      "           0       1.00      1.00      1.00      6218\n",
      "           1       1.00      1.00      1.00      6218\n",
      "\n",
      "    accuracy                           1.00     12436\n",
      "   macro avg       1.00      1.00      1.00     12436\n",
      "weighted avg       1.00      1.00      1.00     12436\n",
      "\n"
     ]
    }
   ],
   "source": [
    "from sklearn.metrics import classification_report\n",
    "print(classification_report(y_test, dt_pred))#classification report for logistic model prediction\n",
    "print(classification_report(y_train, dt_pred_train))#classification report for logistic model prediction"
   ]
  },
  {
   "cell_type": "code",
   "execution_count": 80,
   "id": "8ed9a20e-2e24-4cc1-8eac-4915f1bba454",
   "metadata": {
    "id": "XFO8wQisHIfY"
   },
   "outputs": [
    {
     "name": "stdout",
     "output_type": "stream",
     "text": [
      "[[1379  231]\n",
      " [ 202  188]]\n"
     ]
    }
   ],
   "source": [
    "from sklearn.metrics import confusion_matrix\n",
    "dt_cm = confusion_matrix(y_test, dt_pred)\n",
    "print(dt_cm)"
   ]
  },
  {
   "cell_type": "code",
   "execution_count": 932,
   "id": "4b60c365-dbdd-4117-8ef6-8de8ab6a7da9",
   "metadata": {
    "id": "1Pw0hCQKJ3Ge"
   },
   "outputs": [
    {
     "data": {
      "image/png": "[encoded data removed]",
      "text/plain": [
       "<Figure size 576x432 with 2 Axes>"
      ]
     },
     "metadata": {
      "needs_background": "light"
     },
     "output_type": "display_data"
    }
   ],
   "source": [
    "import seaborn as sns\n",
    "group_names = ['True Neg','False Pos','False Neg','True Pos']\n",
    "group_counts = ['{0:0.0f}'.format(value) for value in\n",
    "                dt_cm.flatten()]\n",
    "labels = [f\"{v1}\\n{v2}\" for v1, v2 in\n",
    "          zip(group_names,group_counts)]\n",
    "labels = np.asarray(labels).reshape(2,2)\n",
    "plt.figure(figsize=(8,6))\n",
    "plt.title('Decision Tree Hyperparam')\n",
    "sns.heatmap(dt_cm, annot=labels, fmt='', cmap='Blues')\n",
    "plt.show()"
   ]
  },
  {
   "cell_type": "code",
   "execution_count": 83,
   "id": "54e295cc-9e22-4bd0-b88e-d3a0afa8dfbe",
   "metadata": {},
   "outputs": [
    {
     "name": "stdout",
     "output_type": "stream",
     "text": [
      "Collecting pydotplusNote: you may need to restart the kernel to use updated packages.\n",
      "  Downloading pydotplus-2.0.2.tar.gz (278 kB)\n",
      "     -------------------------------------- 278.7/278.7 kB 1.2 MB/s eta 0:00:00\n",
      "  Preparing metadata (setup.py): started\n",
      "  Preparing metadata (setup.py): finished with status 'done'\n",
      "Requirement already satisfied: pyparsing>=2.0.1 in c:\\programdata\\anaconda3\\lib\\site-packages (from pydotplus) (3.0.4)\n",
      "Building wheels for collected packages: pydotplus\n",
      "  Building wheel for pydotplus (setup.py): started\n",
      "  Building wheel for pydotplus (setup.py): finished with status 'done'\n",
      "  Created wheel for pydotplus: filename=pydotplus-2.0.2-py3-none-any.whl size=24575 sha256=bb0cda2ba8924a852c8bb22da3846eb0b12eb1dcb658343f85839bf1c5ee3633\n",
      "  Stored in directory: c:\\users\\sihom\\appdata\\local\\pip\\cache\\wheels\\85\\58\\96\\6cba53da2c6e8690dd0a33f67a4a0e2e88f70798e9d4955812\n",
      "Successfully built pydotplus\n",
      "Installing collected packages: pydotplus\n",
      "Successfully installed pydotplus-2.0.2\n",
      "\n"
     ]
    }
   ],
   "source": [
    "# pip install pydotplus"
   ]
  },
  {
   "cell_type": "code",
   "execution_count": 89,
   "id": "9a01c724-9a1e-48c0-b26c-74d06235302a",
   "metadata": {},
   "outputs": [
    {
     "data": {
      "text/plain": [
       "[Text(0.4783158448034358, 0.98, 'X[3] <= 0.349\\ngini = 0.5\\nsamples = 12436\\nvalue = [6218, 6218]'),\n",
       " Text(0.1949160145397296, 0.94, 'X[1] <= 0.22\\ngini = 0.484\\nsamples = 4921\\nvalue = [2904, 2017]'),\n",
       " Text(0.12237364558251528, 0.9, 'X[3] <= 0.084\\ngini = 0.347\\nsamples = 2561\\nvalue = [1989, 572]'),\n",
       " Text(0.0840809640674199, 0.86, 'X[4] <= 1.5\\ngini = 0.33\\nsamples = 2050\\nvalue = [1623, 427]'),\n",
       " Text(0.05015975180588998, 0.82, 'X[0] <= -0.193\\ngini = 0.5\\nsamples = 564\\nvalue = [286, 278]'),\n",
       " Text(0.035006482681978146, 0.78, 'X[0] <= -0.614\\ngini = 0.487\\nsamples = 294\\nvalue = [123, 171]'),\n",
       " Text(0.021948508983145026, 0.74, 'X[1] <= -0.09\\ngini = 0.499\\nsamples = 188\\nvalue = [91, 97]'),\n",
       " Text(0.01278014447119837, 0.7, 'X[6] <= 0.5\\ngini = 0.456\\nsamples = 111\\nvalue = [72, 39]'),\n",
       " Text(0.0055565845526949435, 0.66, 'X[1] <= -1.384\\ngini = 0.493\\nsamples = 61\\nvalue = [34, 27]'),\n",
       " Text(0.0048157066123356174, 0.62, 'gini = 0.0\\nsamples = 6\\nvalue = [6, 0]'),\n",
       " Text(0.0062974624930542695, 0.62, 'X[8] <= 1.0\\ngini = 0.5\\nsamples = 55\\nvalue = [28, 27]'),\n",
       " Text(0.002222633821077977, 0.58, 'X[0] <= -0.795\\ngini = 0.475\\nsamples = 18\\nvalue = [7, 11]'),\n",
       " Text(0.0014817558807186516, 0.54, 'X[1] <= -0.808\\ngini = 0.5\\nsamples = 14\\nvalue = [7, 7]'),\n",
       " Text(0.0007408779403593258, 0.5, 'gini = 0.0\\nsamples = 2\\nvalue = [2, 0]'),\n",
       " Text(0.002222633821077977, 0.5, 'X[2] <= 0.0\\ngini = 0.486\\nsamples = 12\\nvalue = [5, 7]'),\n",
       " Text(0.0014817558807186516, 0.46, 'gini = 0.0\\nsamples = 2\\nvalue = [2, 0]'),\n",
       " Text(0.0029635117614373032, 0.46, 'X[0] <= -1.927\\ngini = 0.42\\nsamples = 10\\nvalue = [3, 7]'),\n",
       " Text(0.002222633821077977, 0.42, 'gini = 0.0\\nsamples = 1\\nvalue = [1, 0]'),\n",
       " Text(0.003704389701796629, 0.42, 'X[7] <= 0.359\\ngini = 0.346\\nsamples = 9\\nvalue = [2, 7]'),\n",
       " Text(0.0029635117614373032, 0.38, 'gini = 0.0\\nsamples = 2\\nvalue = [2, 0]'),\n",
       " Text(0.004445267642155954, 0.38, 'gini = 0.0\\nsamples = 7\\nvalue = [0, 7]'),\n",
       " Text(0.0029635117614373032, 0.54, 'gini = 0.0\\nsamples = 4\\nvalue = [0, 4]'),\n",
       " Text(0.010372291165030561, 0.58, 'X[1] <= -0.808\\ngini = 0.491\\nsamples = 37\\nvalue = [21, 16]'),\n",
       " Text(0.008890535284311909, 0.54, 'X[0] <= -0.858\\ngini = 0.475\\nsamples = 18\\nvalue = [7, 11]'),\n",
       " Text(0.008149657343952585, 0.5, 'X[0] <= -0.889\\ngini = 0.391\\nsamples = 15\\nvalue = [4, 11]'),\n",
       " Text(0.007408779403593258, 0.46, 'X[0] <= -1.263\\ngini = 0.48\\nsamples = 10\\nvalue = [4, 6]'),\n",
       " Text(0.0066679014632339325, 0.42, 'X[1] <= -1.159\\ngini = 0.245\\nsamples = 7\\nvalue = [1, 6]'),\n",
       " Text(0.0059270235228746065, 0.38, 'gini = 0.0\\nsamples = 4\\nvalue = [0, 4]'),\n",
       " Text(0.007408779403593258, 0.38, 'X[5] <= 0.5\\ngini = 0.444\\nsamples = 3\\nvalue = [1, 2]'),\n",
       " Text(0.0066679014632339325, 0.34, 'gini = 0.0\\nsamples = 2\\nvalue = [0, 2]'),\n",
       " Text(0.008149657343952585, 0.34, 'gini = 0.0\\nsamples = 1\\nvalue = [1, 0]'),\n",
       " Text(0.008149657343952585, 0.42, 'gini = 0.0\\nsamples = 3\\nvalue = [3, 0]'),\n",
       " Text(0.008890535284311909, 0.46, 'gini = 0.0\\nsamples = 5\\nvalue = [0, 5]'),\n",
       " Text(0.009631413224671235, 0.5, 'gini = 0.0\\nsamples = 3\\nvalue = [3, 0]'),\n",
       " Text(0.011854047045749213, 0.54, 'X[2] <= 0.625\\ngini = 0.388\\nsamples = 19\\nvalue = [14, 5]'),\n",
       " Text(0.011113169105389887, 0.5, 'gini = 0.0\\nsamples = 12\\nvalue = [12, 0]'),\n",
       " Text(0.012594924986108539, 0.5, 'X[7] <= 0.73\\ngini = 0.408\\nsamples = 7\\nvalue = [2, 5]'),\n",
       " Text(0.011854047045749213, 0.46, 'X[1] <= -0.372\\ngini = 0.444\\nsamples = 3\\nvalue = [2, 1]'),\n",
       " Text(0.011113169105389887, 0.42, 'gini = 0.0\\nsamples = 1\\nvalue = [1, 0]'),\n",
       " Text(0.012594924986108539, 0.42, 'X[2] <= 1.0\\ngini = 0.5\\nsamples = 2\\nvalue = [1, 1]'),\n",
       " Text(0.011854047045749213, 0.38, 'gini = 0.0\\nsamples = 1\\nvalue = [0, 1]'),\n",
       " Text(0.013335802926467865, 0.38, 'gini = 0.0\\nsamples = 1\\nvalue = [1, 0]'),\n",
       " Text(0.013335802926467865, 0.46, 'gini = 0.0\\nsamples = 4\\nvalue = [0, 4]'),\n",
       " Text(0.020003704389701796, 0.66, 'X[5] <= 0.5\\ngini = 0.365\\nsamples = 50\\nvalue = [38, 12]'),\n",
       " Text(0.017040192628264495, 0.62, 'X[1] <= -0.257\\ngini = 0.5\\nsamples = 18\\nvalue = [9, 9]'),\n",
       " Text(0.01629931468790517, 0.58, 'X[7] <= 0.462\\ngini = 0.459\\nsamples = 14\\nvalue = [9, 5]'),\n",
       " Text(0.014817558807186515, 0.54, 'X[7] <= 0.294\\ngini = 0.444\\nsamples = 6\\nvalue = [2, 4]'),\n",
       " Text(0.014076680866827191, 0.5, 'gini = 0.0\\nsamples = 2\\nvalue = [2, 0]'),\n",
       " Text(0.015558436747545841, 0.5, 'gini = 0.0\\nsamples = 4\\nvalue = [0, 4]'),\n",
       " Text(0.017781070568623818, 0.54, 'X[0] <= -1.076\\ngini = 0.219\\nsamples = 8\\nvalue = [7, 1]'),\n",
       " Text(0.017040192628264495, 0.5, 'X[1] <= -0.808\\ngini = 0.375\\nsamples = 4\\nvalue = [3, 1]'),\n",
       " Text(0.01629931468790517, 0.46, 'gini = 0.0\\nsamples = 3\\nvalue = [3, 0]'),\n",
       " Text(0.017781070568623818, 0.46, 'gini = 0.0\\nsamples = 1\\nvalue = [0, 1]'),\n",
       " Text(0.018521948508983144, 0.5, 'gini = 0.0\\nsamples = 4\\nvalue = [4, 0]'),\n",
       " Text(0.017781070568623818, 0.58, 'gini = 0.0\\nsamples = 4\\nvalue = [0, 4]'),\n",
       " Text(0.0229672161511391, 0.62, 'X[7] <= 0.864\\ngini = 0.17\\nsamples = 32\\nvalue = [29, 3]'),\n",
       " Text(0.021485460270420448, 0.58, 'X[7] <= 0.262\\ngini = 0.067\\nsamples = 29\\nvalue = [28, 1]'),\n",
       " Text(0.020744582330061122, 0.54, 'X[0] <= -0.707\\ngini = 0.198\\nsamples = 9\\nvalue = [8, 1]'),\n",
       " Text(0.020003704389701796, 0.5, 'gini = 0.0\\nsamples = 8\\nvalue = [8, 0]'),\n",
       " Text(0.021485460270420448, 0.5, 'gini = 0.0\\nsamples = 1\\nvalue = [0, 1]'),\n",
       " Text(0.022226338210779774, 0.54, 'gini = 0.0\\nsamples = 20\\nvalue = [20, 0]'),\n",
       " Text(0.024448972031857752, 0.58, 'X[7] <= 0.932\\ngini = 0.444\\nsamples = 3\\nvalue = [1, 2]'),\n",
       " Text(0.023708094091498426, 0.54, 'gini = 0.0\\nsamples = 2\\nvalue = [0, 2]'),\n",
       " Text(0.025189849972217078, 0.54, 'gini = 0.0\\nsamples = 1\\nvalue = [1, 0]'),\n",
       " Text(0.031116873495091683, 0.7, 'X[2] <= -1.125\\ngini = 0.372\\nsamples = 77\\nvalue = [19, 58]'),\n",
       " Text(0.030375995554732357, 0.66, 'gini = 0.0\\nsamples = 1\\nvalue = [1, 0]'),\n",
       " Text(0.03185775143545101, 0.66, 'X[5] <= 0.5\\ngini = 0.361\\nsamples = 76\\nvalue = [18, 58]'),\n",
       " Text(0.028894239674013705, 0.62, 'X[0] <= -1.122\\ngini = 0.211\\nsamples = 25\\nvalue = [3, 22]'),\n",
       " Text(0.028153361733654382, 0.58, 'X[1] <= 0.12\\ngini = 0.32\\nsamples = 15\\nvalue = [3, 12]'),\n",
       " Text(0.02667160585293573, 0.54, 'X[6] <= 0.5\\ngini = 0.298\\nsamples = 11\\nvalue = [2, 9]'),\n",
       " Text(0.025930727912576404, 0.5, 'X[7] <= 0.489\\ngini = 0.444\\nsamples = 6\\nvalue = [2, 4]'),\n",
       " Text(0.025189849972217078, 0.46, 'gini = 0.0\\nsamples = 4\\nvalue = [0, 4]'),\n",
       " Text(0.02667160585293573, 0.46, 'gini = 0.0\\nsamples = 2\\nvalue = [2, 0]'),\n",
       " Text(0.027412483793295056, 0.5, 'gini = 0.0\\nsamples = 5\\nvalue = [0, 5]'),\n",
       " Text(0.02963511761437303, 0.54, 'X[0] <= -1.185\\ngini = 0.375\\nsamples = 4\\nvalue = [1, 3]'),\n",
       " Text(0.028894239674013705, 0.5, 'gini = 0.0\\nsamples = 3\\nvalue = [0, 3]'),\n",
       " Text(0.030375995554732357, 0.5, 'gini = 0.0\\nsamples = 1\\nvalue = [1, 0]'),\n",
       " Text(0.02963511761437303, 0.58, 'gini = 0.0\\nsamples = 10\\nvalue = [0, 10]'),\n",
       " Text(0.03482126319688831, 0.62, 'X[0] <= -1.112\\ngini = 0.415\\nsamples = 51\\nvalue = [15, 36]'),\n",
       " Text(0.03408038525652899, 0.58, 'X[6] <= 0.5\\ngini = 0.214\\nsamples = 41\\nvalue = [5, 36]'),\n",
       " Text(0.03259862937581034, 0.54, 'X[7] <= 0.551\\ngini = 0.337\\nsamples = 14\\nvalue = [3, 11]'),\n",
       " Text(0.03185775143545101, 0.5, 'gini = 0.0\\nsamples = 2\\nvalue = [2, 0]'),\n",
       " Text(0.033339507316169664, 0.5, 'X[1] <= 0.12\\ngini = 0.153\\nsamples = 12\\nvalue = [1, 11]'),\n",
       " Text(0.03259862937581034, 0.46, 'gini = 0.0\\nsamples = 10\\nvalue = [0, 10]'),\n",
       " Text(0.03408038525652899, 0.46, 'X[7] <= 0.741\\ngini = 0.5\\nsamples = 2\\nvalue = [1, 1]'),\n",
       " Text(0.033339507316169664, 0.42, 'gini = 0.0\\nsamples = 1\\nvalue = [1, 0]'),\n",
       " Text(0.03482126319688831, 0.42, 'gini = 0.0\\nsamples = 1\\nvalue = [0, 1]'),\n",
       " Text(0.035562141137247635, 0.54, 'X[7] <= 0.179\\ngini = 0.137\\nsamples = 27\\nvalue = [2, 25]'),\n",
       " Text(0.03482126319688831, 0.5, 'gini = 0.0\\nsamples = 1\\nvalue = [1, 0]'),\n",
       " Text(0.03630301907760696, 0.5, 'X[0] <= -1.678\\ngini = 0.074\\nsamples = 26\\nvalue = [1, 25]'),\n",
       " Text(0.035562141137247635, 0.46, 'gini = 0.0\\nsamples = 20\\nvalue = [0, 20]'),\n",
       " Text(0.03704389701796629, 0.46, 'X[8] <= 1.0\\ngini = 0.278\\nsamples = 6\\nvalue = [1, 5]'),\n",
       " Text(0.03630301907760696, 0.42, 'gini = 0.0\\nsamples = 5\\nvalue = [0, 5]'),\n",
       " Text(0.03778477495832561, 0.42, 'gini = 0.0\\nsamples = 1\\nvalue = [1, 0]'),\n",
       " Text(0.035562141137247635, 0.58, 'gini = 0.0\\nsamples = 10\\nvalue = [10, 0]'),\n",
       " Text(0.04806445638081126, 0.74, 'X[7] <= 0.778\\ngini = 0.422\\nsamples = 106\\nvalue = [32, 74]'),\n",
       " Text(0.04574921281718837, 0.7, 'X[7] <= 0.601\\ngini = 0.38\\nsamples = 94\\nvalue = [24, 70]'),\n",
       " Text(0.04334135951102056, 0.66, 'X[1] <= -0.808\\ngini = 0.418\\nsamples = 74\\nvalue = [22, 52]'),\n",
       " Text(0.042600481570661236, 0.62, 'gini = 0.0\\nsamples = 6\\nvalue = [6, 0]'),\n",
       " Text(0.04408223745137989, 0.62, 'X[2] <= 0.625\\ngini = 0.36\\nsamples = 68\\nvalue = [16, 52]'),\n",
       " Text(0.041489164660122244, 0.58, 'X[7] <= 0.567\\ngini = 0.296\\nsamples = 61\\nvalue = [11, 50]'),\n",
       " Text(0.04074828671976292, 0.54, 'X[5] <= 0.5\\ngini = 0.259\\nsamples = 59\\nvalue = [9, 50]'),\n",
       " Text(0.04000740877940359, 0.5, 'gini = 0.0\\nsamples = 2\\nvalue = [2, 0]'),\n",
       " Text(0.041489164660122244, 0.5, 'X[8] <= 1.0\\ngini = 0.215\\nsamples = 57\\nvalue = [7, 50]'),\n",
       " Text(0.04000740877940359, 0.46, 'X[1] <= -0.313\\ngini = 0.142\\nsamples = 26\\nvalue = [2, 24]'),\n",
       " Text(0.039266530839044265, 0.42, 'gini = 0.0\\nsamples = 1\\nvalue = [1, 0]'),\n",
       " Text(0.04074828671976292, 0.42, 'X[7] <= 0.229\\ngini = 0.077\\nsamples = 25\\nvalue = [1, 24]'),\n",
       " Text(0.04000740877940359, 0.38, 'X[1] <= -0.037\\ngini = 0.375\\nsamples = 4\\nvalue = [1, 3]'),\n",
       " Text(0.039266530839044265, 0.34, 'gini = 0.0\\nsamples = 3\\nvalue = [0, 3]'),\n",
       " Text(0.04074828671976292, 0.34, 'gini = 0.0\\nsamples = 1\\nvalue = [1, 0]'),\n",
       " Text(0.041489164660122244, 0.38, 'gini = 0.0\\nsamples = 21\\nvalue = [0, 21]'),\n",
       " Text(0.042970920540840896, 0.46, 'X[2] <= -0.75\\ngini = 0.271\\nsamples = 31\\nvalue = [5, 26]'),\n",
       " Text(0.04223004260048157, 0.42, 'gini = 0.0\\nsamples = 2\\nvalue = [2, 0]'),\n",
       " Text(0.04371179848120022, 0.42, 'X[1] <= -0.037\\ngini = 0.185\\nsamples = 29\\nvalue = [3, 26]'),\n",
       " Text(0.042970920540840896, 0.38, 'X[2] <= -0.375\\ngini = 0.071\\nsamples = 27\\nvalue = [1, 26]'),\n",
       " Text(0.04223004260048157, 0.34, 'X[6] <= 0.5\\ngini = 0.219\\nsamples = 8\\nvalue = [1, 7]'),\n",
       " Text(0.041489164660122244, 0.3, 'gini = 0.0\\nsamples = 7\\nvalue = [0, 7]'),\n",
       " Text(0.042970920540840896, 0.3, 'gini = 0.0\\nsamples = 1\\nvalue = [1, 0]'),\n",
       " Text(0.04371179848120022, 0.34, 'gini = 0.0\\nsamples = 19\\nvalue = [0, 19]'),\n",
       " Text(0.04445267642155955, 0.38, 'gini = 0.0\\nsamples = 2\\nvalue = [2, 0]'),\n",
       " Text(0.04223004260048157, 0.54, 'gini = 0.0\\nsamples = 2\\nvalue = [2, 0]'),\n",
       " Text(0.046675310242637526, 0.58, 'X[5] <= 0.5\\ngini = 0.408\\nsamples = 7\\nvalue = [5, 2]'),\n",
       " Text(0.0459344323022782, 0.54, 'gini = 0.0\\nsamples = 3\\nvalue = [3, 0]'),\n",
       " Text(0.04741618818299685, 0.54, 'X[1] <= -0.042\\ngini = 0.5\\nsamples = 4\\nvalue = [2, 2]'),\n",
       " Text(0.046675310242637526, 0.5, 'X[2] <= 1.0\\ngini = 0.444\\nsamples = 3\\nvalue = [1, 2]'),\n",
       " Text(0.0459344323022782, 0.46, 'X[6] <= 0.5\\ngini = 0.5\\nsamples = 2\\nvalue = [1, 1]'),\n",
       " Text(0.045193554361918874, 0.42, 'gini = 0.0\\nsamples = 1\\nvalue = [0, 1]'),\n",
       " Text(0.046675310242637526, 0.42, 'gini = 0.0\\nsamples = 1\\nvalue = [1, 0]'),\n",
       " Text(0.04741618818299685, 0.46, 'gini = 0.0\\nsamples = 1\\nvalue = [0, 1]'),\n",
       " Text(0.04815706612335618, 0.5, 'gini = 0.0\\nsamples = 1\\nvalue = [1, 0]'),\n",
       " Text(0.04815706612335618, 0.66, 'X[1] <= -1.183\\ngini = 0.18\\nsamples = 20\\nvalue = [2, 18]'),\n",
       " Text(0.04741618818299685, 0.62, 'gini = 0.0\\nsamples = 1\\nvalue = [1, 0]'),\n",
       " Text(0.048897944063715504, 0.62, 'X[6] <= 0.5\\ngini = 0.1\\nsamples = 19\\nvalue = [1, 18]'),\n",
       " Text(0.04815706612335618, 0.58, 'gini = 0.0\\nsamples = 12\\nvalue = [0, 12]'),\n",
       " Text(0.04963882200407483, 0.58, 'X[2] <= -0.375\\ngini = 0.245\\nsamples = 7\\nvalue = [1, 6]'),\n",
       " Text(0.048897944063715504, 0.54, 'gini = 0.0\\nsamples = 6\\nvalue = [0, 6]'),\n",
       " Text(0.050379699944434156, 0.54, 'gini = 0.0\\nsamples = 1\\nvalue = [1, 0]'),\n",
       " Text(0.050379699944434156, 0.7, 'X[1] <= -0.145\\ngini = 0.444\\nsamples = 12\\nvalue = [8, 4]'),\n",
       " Text(0.04963882200407483, 0.66, 'gini = 0.0\\nsamples = 7\\nvalue = [7, 0]'),\n",
       " Text(0.05112057788479348, 0.66, 'X[7] <= 0.861\\ngini = 0.32\\nsamples = 5\\nvalue = [1, 4]'),\n",
       " Text(0.050379699944434156, 0.62, 'gini = 0.0\\nsamples = 1\\nvalue = [1, 0]'),\n",
       " Text(0.05186145582515281, 0.62, 'gini = 0.0\\nsamples = 4\\nvalue = [0, 4]'),\n",
       " Text(0.06531302092980182, 0.78, 'X[0] <= 0.383\\ngini = 0.478\\nsamples = 270\\nvalue = [163, 107]'),\n",
       " Text(0.056677162437488424, 0.74, 'X[7] <= 0.143\\ngini = 0.375\\nsamples = 88\\nvalue = [66, 22]'),\n",
       " Text(0.0559362844971291, 0.7, 'gini = 0.0\\nsamples = 11\\nvalue = [11, 0]'),\n",
       " Text(0.05741804037784775, 0.7, 'X[0] <= 0.207\\ngini = 0.408\\nsamples = 77\\nvalue = [55, 22]'),\n",
       " Text(0.056677162437488424, 0.66, 'X[7] <= 0.472\\ngini = 0.471\\nsamples = 58\\nvalue = [36, 22]'),\n",
       " Text(0.054084089646230786, 0.62, 'X[8] <= 1.0\\ngini = 0.498\\nsamples = 30\\nvalue = [14, 16]'),\n",
       " Text(0.052602333765512134, 0.58, 'X[1] <= -0.43\\ngini = 0.415\\nsamples = 17\\nvalue = [5, 12]'),\n",
       " Text(0.05186145582515281, 0.54, 'X[7] <= 0.199\\ngini = 0.142\\nsamples = 13\\nvalue = [1, 12]'),\n",
       " Text(0.05112057788479348, 0.5, 'X[7] <= 0.145\\ngini = 0.444\\nsamples = 3\\nvalue = [1, 2]'),\n",
       " Text(0.050379699944434156, 0.46, 'gini = 0.0\\nsamples = 2\\nvalue = [0, 2]'),\n",
       " Text(0.05186145582515281, 0.46, 'gini = 0.0\\nsamples = 1\\nvalue = [1, 0]'),\n",
       " Text(0.052602333765512134, 0.5, 'gini = 0.0\\nsamples = 10\\nvalue = [0, 10]'),\n",
       " Text(0.05334321170587146, 0.54, 'gini = 0.0\\nsamples = 4\\nvalue = [4, 0]'),\n",
       " Text(0.05556584552694944, 0.58, 'X[0] <= 0.16\\ngini = 0.426\\nsamples = 13\\nvalue = [9, 4]'),\n",
       " Text(0.05482496758659011, 0.54, 'gini = 0.0\\nsamples = 8\\nvalue = [8, 0]'),\n",
       " Text(0.056306723467308764, 0.54, 'X[2] <= 0.75\\ngini = 0.32\\nsamples = 5\\nvalue = [1, 4]'),\n",
       " Text(0.05556584552694944, 0.5, 'gini = 0.0\\nsamples = 4\\nvalue = [0, 4]'),\n",
       " Text(0.05704760140766809, 0.5, 'gini = 0.0\\nsamples = 1\\nvalue = [1, 0]'),\n",
       " Text(0.05927023522874606, 0.62, 'X[2] <= -0.375\\ngini = 0.337\\nsamples = 28\\nvalue = [22, 6]'),\n",
       " Text(0.058529357288386735, 0.58, 'X[7] <= 0.682\\ngini = 0.49\\nsamples = 14\\nvalue = [8, 6]'),\n",
       " Text(0.05778847934802741, 0.54, 'gini = 0.0\\nsamples = 6\\nvalue = [6, 0]'),\n",
       " Text(0.05927023522874606, 0.54, 'X[2] <= -0.875\\ngini = 0.375\\nsamples = 8\\nvalue = [2, 6]'),\n",
       " Text(0.058529357288386735, 0.5, 'gini = 0.0\\nsamples = 2\\nvalue = [2, 0]'),\n",
       " Text(0.06001111316910539, 0.5, 'gini = 0.0\\nsamples = 6\\nvalue = [0, 6]'),\n",
       " Text(0.06001111316910539, 0.58, 'gini = 0.0\\nsamples = 14\\nvalue = [14, 0]'),\n",
       " Text(0.058158918318207076, 0.66, 'gini = 0.0\\nsamples = 19\\nvalue = [19, 0]'),\n",
       " Text(0.07394887942211521, 0.74, 'X[7] <= 0.55\\ngini = 0.498\\nsamples = 182\\nvalue = [97, 85]'),\n",
       " Text(0.06723467308760882, 0.7, 'X[6] <= 0.5\\ngini = 0.431\\nsamples = 89\\nvalue = [61, 28]'),\n",
       " Text(0.06408594184108168, 0.66, 'X[5] <= 0.5\\ngini = 0.499\\nsamples = 52\\nvalue = [27, 25]'),\n",
       " Text(0.062233746990183365, 0.62, 'X[8] <= 1.0\\ngini = 0.473\\nsamples = 13\\nvalue = [8, 5]'),\n",
       " Text(0.06149286904982404, 0.58, 'X[0] <= 0.43\\ngini = 0.408\\nsamples = 7\\nvalue = [2, 5]'),\n",
       " Text(0.06075199110946471, 0.54, 'gini = 0.0\\nsamples = 5\\nvalue = [0, 5]'),\n",
       " Text(0.062233746990183365, 0.54, 'gini = 0.0\\nsamples = 2\\nvalue = [2, 0]'),\n",
       " Text(0.06297462493054269, 0.58, 'gini = 0.0\\nsamples = 6\\nvalue = [6, 0]'),\n",
       " Text(0.06593813669198, 0.62, 'X[2] <= -0.625\\ngini = 0.5\\nsamples = 39\\nvalue = [19, 20]'),\n",
       " Text(0.06445638081126134, 0.58, 'X[1] <= -0.093\\ngini = 0.346\\nsamples = 9\\nvalue = [2, 7]'),\n",
       " Text(0.06371550287090202, 0.54, 'X[1] <= -0.705\\ngini = 0.219\\nsamples = 8\\nvalue = [1, 7]'),\n",
       " Text(0.06297462493054269, 0.5, 'X[1] <= -1.476\\ngini = 0.375\\nsamples = 4\\nvalue = [1, 3]'),\n",
       " Text(0.062233746990183365, 0.46, 'gini = 0.0\\nsamples = 3\\nvalue = [0, 3]'),\n",
       " Text(0.06371550287090202, 0.46, 'gini = 0.0\\nsamples = 1\\nvalue = [1, 0]'),\n",
       " Text(0.06445638081126134, 0.5, 'gini = 0.0\\nsamples = 4\\nvalue = [0, 4]'),\n",
       " Text(0.06519725875162068, 0.54, 'gini = 0.0\\nsamples = 1\\nvalue = [1, 0]'),\n",
       " Text(0.06741989257269865, 0.58, 'X[7] <= 0.385\\ngini = 0.491\\nsamples = 30\\nvalue = [17, 13]'),\n",
       " Text(0.06667901463233933, 0.54, 'X[1] <= -1.084\\ngini = 0.491\\nsamples = 23\\nvalue = [10, 13]'),\n",
       " Text(0.06593813669198, 0.5, 'gini = 0.0\\nsamples = 6\\nvalue = [6, 0]'),\n",
       " Text(0.06741989257269865, 0.5, 'X[0] <= 0.841\\ngini = 0.36\\nsamples = 17\\nvalue = [4, 13]'),\n",
       " Text(0.06667901463233933, 0.46, 'X[2] <= 0.625\\ngini = 0.444\\nsamples = 12\\nvalue = [4, 8]'),\n",
       " Text(0.06593813669198, 0.42, 'X[1] <= -0.042\\ngini = 0.32\\nsamples = 10\\nvalue = [2, 8]'),\n",
       " Text(0.06519725875162068, 0.38, 'X[7] <= 0.148\\ngini = 0.198\\nsamples = 9\\nvalue = [1, 8]'),\n",
       " Text(0.06445638081126134, 0.34, 'gini = 0.0\\nsamples = 4\\nvalue = [0, 4]'),\n",
       " Text(0.06593813669198, 0.34, 'X[7] <= 0.276\\ngini = 0.32\\nsamples = 5\\nvalue = [1, 4]'),\n",
       " Text(0.06519725875162068, 0.3, 'gini = 0.0\\nsamples = 1\\nvalue = [1, 0]'),\n",
       " Text(0.06667901463233933, 0.3, 'gini = 0.0\\nsamples = 4\\nvalue = [0, 4]'),\n",
       " Text(0.06667901463233933, 0.38, 'gini = 0.0\\nsamples = 1\\nvalue = [1, 0]'),\n",
       " Text(0.06741989257269865, 0.42, 'gini = 0.0\\nsamples = 2\\nvalue = [2, 0]'),\n",
       " Text(0.06816077051305798, 0.46, 'gini = 0.0\\nsamples = 5\\nvalue = [0, 5]'),\n",
       " Text(0.06816077051305798, 0.54, 'gini = 0.0\\nsamples = 7\\nvalue = [7, 0]'),\n",
       " Text(0.07038340433413595, 0.66, 'X[1] <= -0.551\\ngini = 0.149\\nsamples = 37\\nvalue = [34, 3]'),\n",
       " Text(0.06964252639377662, 0.62, 'X[1] <= -0.813\\ngini = 0.375\\nsamples = 12\\nvalue = [9, 3]'),\n",
       " Text(0.0689016484534173, 0.58, 'gini = 0.0\\nsamples = 6\\nvalue = [6, 0]'),\n",
       " Text(0.07038340433413595, 0.58, 'X[7] <= 0.267\\ngini = 0.5\\nsamples = 6\\nvalue = [3, 3]'),\n",
       " Text(0.06964252639377662, 0.54, 'gini = 0.0\\nsamples = 3\\nvalue = [0, 3]'),\n",
       " Text(0.07112428227449527, 0.54, 'gini = 0.0\\nsamples = 3\\nvalue = [3, 0]'),\n",
       " Text(0.07112428227449527, 0.62, 'gini = 0.0\\nsamples = 25\\nvalue = [25, 0]'),\n",
       " Text(0.0806630857566216, 0.7, 'X[7] <= 0.705\\ngini = 0.475\\nsamples = 93\\nvalue = [36, 57]'),\n",
       " Text(0.0753843304315614, 0.66, 'X[2] <= -0.625\\ngini = 0.344\\nsamples = 59\\nvalue = [13, 46]'),\n",
       " Text(0.07260603815521392, 0.62, 'X[5] <= 0.5\\ngini = 0.48\\nsamples = 20\\nvalue = [8, 12]'),\n",
       " Text(0.0718651602148546, 0.58, 'gini = 0.0\\nsamples = 3\\nvalue = [3, 0]'),\n",
       " Text(0.07334691609557326, 0.58, 'X[6] <= 0.5\\ngini = 0.415\\nsamples = 17\\nvalue = [5, 12]'),\n",
       " Text(0.07260603815521392, 0.54, 'X[0] <= 0.752\\ngini = 0.32\\nsamples = 15\\nvalue = [3, 12]'),\n",
       " Text(0.0718651602148546, 0.5, 'gini = 0.0\\nsamples = 2\\nvalue = [2, 0]'),\n",
       " Text(0.07334691609557326, 0.5, 'X[1] <= -0.551\\ngini = 0.142\\nsamples = 13\\nvalue = [1, 12]'),\n",
       " Text(0.07260603815521392, 0.46, 'gini = 0.0\\nsamples = 7\\nvalue = [0, 7]'),\n",
       " Text(0.07408779403593257, 0.46, 'X[7] <= 0.666\\ngini = 0.278\\nsamples = 6\\nvalue = [1, 5]'),\n",
       " Text(0.07334691609557326, 0.42, 'gini = 0.0\\nsamples = 1\\nvalue = [1, 0]'),\n",
       " Text(0.07482867197629191, 0.42, 'gini = 0.0\\nsamples = 5\\nvalue = [0, 5]'),\n",
       " Text(0.07408779403593257, 0.54, 'gini = 0.0\\nsamples = 2\\nvalue = [2, 0]'),\n",
       " Text(0.07816262270790887, 0.62, 'X[0] <= 0.804\\ngini = 0.224\\nsamples = 39\\nvalue = [5, 34]'),\n",
       " Text(0.07631042785701056, 0.58, 'X[2] <= -0.25\\ngini = 0.067\\nsamples = 29\\nvalue = [1, 28]'),\n",
       " Text(0.07556954991665123, 0.54, 'X[7] <= 0.641\\ngini = 0.32\\nsamples = 5\\nvalue = [1, 4]'),\n",
       " Text(0.07482867197629191, 0.5, 'gini = 0.0\\nsamples = 4\\nvalue = [0, 4]'),\n",
       " Text(0.07631042785701056, 0.5, 'gini = 0.0\\nsamples = 1\\nvalue = [1, 0]'),\n",
       " Text(0.07705130579736988, 0.54, 'gini = 0.0\\nsamples = 24\\nvalue = [0, 24]'),\n",
       " Text(0.08001481755880718, 0.58, 'X[6] <= 0.5\\ngini = 0.48\\nsamples = 10\\nvalue = [4, 6]'),\n",
       " Text(0.07853306167808853, 0.54, 'X[1] <= -0.263\\ngini = 0.32\\nsamples = 5\\nvalue = [1, 4]'),\n",
       " Text(0.07779218373772921, 0.5, 'gini = 0.0\\nsamples = 1\\nvalue = [1, 0]'),\n",
       " Text(0.07927393961844786, 0.5, 'gini = 0.0\\nsamples = 4\\nvalue = [0, 4]'),\n",
       " Text(0.08149657343952584, 0.54, 'X[0] <= 1.054\\ngini = 0.48\\nsamples = 5\\nvalue = [3, 2]'),\n",
       " Text(0.08075569549916652, 0.5, 'gini = 0.0\\nsamples = 2\\nvalue = [0, 2]'),\n",
       " Text(0.08223745137988517, 0.5, 'gini = 0.0\\nsamples = 3\\nvalue = [3, 0]'),\n",
       " Text(0.08594184108168179, 0.66, 'X[2] <= -0.375\\ngini = 0.438\\nsamples = 34\\nvalue = [23, 11]'),\n",
       " Text(0.08520096314132247, 0.62, 'gini = 0.0\\nsamples = 9\\nvalue = [9, 0]'),\n",
       " Text(0.08668271902204112, 0.62, 'X[1] <= -0.199\\ngini = 0.493\\nsamples = 25\\nvalue = [14, 11]'),\n",
       " Text(0.08520096314132247, 0.58, 'X[7] <= 0.956\\ngini = 0.375\\nsamples = 16\\nvalue = [12, 4]'),\n",
       " Text(0.08446008520096314, 0.54, 'X[1] <= -1.641\\ngini = 0.142\\nsamples = 13\\nvalue = [12, 1]'),\n",
       " Text(0.08371920726060382, 0.5, 'X[8] <= 1.0\\ngini = 0.5\\nsamples = 2\\nvalue = [1, 1]'),\n",
       " Text(0.08297832932024449, 0.46, 'gini = 0.0\\nsamples = 1\\nvalue = [1, 0]'),\n",
       " Text(0.08446008520096314, 0.46, 'gini = 0.0\\nsamples = 1\\nvalue = [0, 1]'),\n",
       " Text(0.08520096314132247, 0.5, 'gini = 0.0\\nsamples = 11\\nvalue = [11, 0]'),\n",
       " Text(0.08594184108168179, 0.54, 'gini = 0.0\\nsamples = 3\\nvalue = [0, 3]'),\n",
       " Text(0.08816447490275978, 0.58, 'X[1] <= -0.09\\ngini = 0.346\\nsamples = 9\\nvalue = [2, 7]'),\n",
       " Text(0.08742359696240044, 0.54, 'X[2] <= 0.625\\ngini = 0.219\\nsamples = 8\\nvalue = [1, 7]'),\n",
       " Text(0.08668271902204112, 0.5, 'X[0] <= 0.633\\ngini = 0.375\\nsamples = 4\\nvalue = [1, 3]'),\n",
       " Text(0.08594184108168179, 0.46, 'gini = 0.0\\nsamples = 3\\nvalue = [0, 3]'),\n",
       " Text(0.08742359696240044, 0.46, 'gini = 0.0\\nsamples = 1\\nvalue = [1, 0]'),\n",
       " Text(0.08816447490275978, 0.5, 'gini = 0.0\\nsamples = 4\\nvalue = [0, 4]'),\n",
       " Text(0.0889053528431191, 0.54, 'gini = 0.0\\nsamples = 1\\nvalue = [1, 0]'),\n",
       " Text(0.11800217632894981, 0.82, 'X[4] <= 2.5\\ngini = 0.18\\nsamples = 1486\\nvalue = [1337, 149]'),\n",
       " Text(0.10079412854232266, 0.78, 'X[0] <= -0.448\\ngini = 0.123\\nsamples = 1411\\nvalue = [1318, 93]'),\n",
       " Text(0.09335062048527505, 0.74, 'X[6] <= 0.5\\ngini = 0.054\\nsamples = 469\\nvalue = [456, 13]'),\n",
       " Text(0.09260974254491572, 0.7, 'X[1] <= -0.551\\ngini = 0.099\\nsamples = 248\\nvalue = [235, 13]'),\n",
       " Text(0.09112798666419708, 0.66, 'X[0] <= -1.937\\ngini = 0.046\\nsamples = 126\\nvalue = [123, 3]'),\n",
       " Text(0.09038710872383775, 0.62, 'X[7] <= 0.726\\ngini = 0.49\\nsamples = 7\\nvalue = [4, 3]'),\n",
       " Text(0.08964623078347843, 0.58, 'gini = 0.0\\nsamples = 4\\nvalue = [4, 0]'),\n",
       " Text(0.09112798666419708, 0.58, 'gini = 0.0\\nsamples = 3\\nvalue = [0, 3]'),\n",
       " Text(0.0918688646045564, 0.62, 'gini = 0.0\\nsamples = 119\\nvalue = [119, 0]'),\n",
       " Text(0.09409149842563437, 0.66, 'X[7] <= 0.007\\ngini = 0.15\\nsamples = 122\\nvalue = [112, 10]'),\n",
       " Text(0.09335062048527505, 0.62, 'gini = 0.0\\nsamples = 2\\nvalue = [0, 2]'),\n",
       " Text(0.0948323763659937, 0.62, 'X[1] <= -0.43\\ngini = 0.124\\nsamples = 120\\nvalue = [112, 8]'),\n",
       " Text(0.09335062048527505, 0.58, 'X[0] <= -1.641\\ngini = 0.36\\nsamples = 17\\nvalue = [13, 4]'),\n",
       " Text(0.09260974254491572, 0.54, 'X[0] <= -1.88\\ngini = 0.494\\nsamples = 9\\nvalue = [5, 4]'),\n",
       " Text(0.0918688646045564, 0.5, 'gini = 0.0\\nsamples = 5\\nvalue = [5, 0]'),\n",
       " Text(0.09335062048527505, 0.5, 'gini = 0.0\\nsamples = 4\\nvalue = [0, 4]'),\n",
       " Text(0.09409149842563437, 0.54, 'gini = 0.0\\nsamples = 8\\nvalue = [8, 0]'),\n",
       " Text(0.09631413224671236, 0.58, 'X[0] <= -0.655\\ngini = 0.075\\nsamples = 103\\nvalue = [99, 4]'),\n",
       " Text(0.09557325430635302, 0.54, 'gini = 0.0\\nsamples = 78\\nvalue = [78, 0]'),\n",
       " Text(0.09705501018707167, 0.54, 'X[0] <= -0.645\\ngini = 0.269\\nsamples = 25\\nvalue = [21, 4]'),\n",
       " Text(0.09631413224671236, 0.5, 'X[2] <= 0.25\\ngini = 0.32\\nsamples = 5\\nvalue = [1, 4]'),\n",
       " Text(0.09557325430635302, 0.46, 'gini = 0.0\\nsamples = 4\\nvalue = [0, 4]'),\n",
       " Text(0.09705501018707167, 0.46, 'gini = 0.0\\nsamples = 1\\nvalue = [1, 0]'),\n",
       " Text(0.09779588812743101, 0.5, 'gini = 0.0\\nsamples = 20\\nvalue = [20, 0]'),\n",
       " Text(0.09409149842563437, 0.7, 'gini = 0.0\\nsamples = 221\\nvalue = [221, 0]'),\n",
       " Text(0.10823763659937026, 0.74, 'X[0] <= -0.437\\ngini = 0.155\\nsamples = 942\\nvalue = [862, 80]'),\n",
       " Text(0.10196332654195221, 0.7, 'X[2] <= 0.0\\ngini = 0.444\\nsamples = 9\\nvalue = [3, 6]'),\n",
       " Text(0.1012224486015929, 0.66, 'gini = 0.0\\nsamples = 6\\nvalue = [0, 6]'),\n",
       " Text(0.10270420448231155, 0.66, 'gini = 0.0\\nsamples = 3\\nvalue = [3, 0]'),\n",
       " Text(0.1145119466567883, 0.7, 'X[7] <= 0.46\\ngini = 0.146\\nsamples = 933\\nvalue = [859, 74]'),\n",
       " Text(0.1041859603630302, 0.66, 'X[1] <= -2.914\\ngini = 0.213\\nsamples = 454\\nvalue = [399, 55]'),\n",
       " Text(0.10196332654195221, 0.62, 'X[2] <= 0.375\\ngini = 0.496\\nsamples = 11\\nvalue = [5, 6]'),\n",
       " Text(0.1012224486015929, 0.58, 'gini = 0.0\\nsamples = 4\\nvalue = [4, 0]'),\n",
       " Text(0.10270420448231155, 0.58, 'X[5] <= 0.5\\ngini = 0.245\\nsamples = 7\\nvalue = [1, 6]'),\n",
       " Text(0.10196332654195221, 0.54, 'gini = 0.0\\nsamples = 1\\nvalue = [1, 0]'),\n",
       " Text(0.10344508242267086, 0.54, 'gini = 0.0\\nsamples = 6\\nvalue = [0, 6]'),\n",
       " Text(0.10640859418410817, 0.62, 'X[7] <= 0.457\\ngini = 0.197\\nsamples = 443\\nvalue = [394, 49]'),\n",
       " Text(0.10566771624374885, 0.58, 'X[0] <= 0.82\\ngini = 0.171\\nsamples = 435\\nvalue = [394, 41]'),\n",
       " Text(0.10492683830338952, 0.54, 'X[0] <= 0.81\\ngini = 0.237\\nsamples = 298\\nvalue = [257, 41]'),\n",
       " Text(0.10205593628449713, 0.5, 'X[1] <= -0.313\\ngini = 0.216\\nsamples = 292\\nvalue = [256, 36]'),\n",
       " Text(0.09853676606779033, 0.46, 'X[5] <= 0.5\\ngini = 0.084\\nsamples = 159\\nvalue = [152, 7]'),\n",
       " Text(0.09779588812743101, 0.42, 'gini = 0.0\\nsamples = 47\\nvalue = [47, 0]'),\n",
       " Text(0.09927764400814966, 0.42, 'X[7] <= 0.096\\ngini = 0.117\\nsamples = 112\\nvalue = [105, 7]'),\n",
       " Text(0.09853676606779033, 0.38, 'X[7] <= 0.094\\ngini = 0.301\\nsamples = 38\\nvalue = [31, 7]'),\n",
       " Text(0.09779588812743101, 0.34, 'X[0] <= -0.333\\ngini = 0.161\\nsamples = 34\\nvalue = [31, 3]'),\n",
       " Text(0.09705501018707167, 0.3, 'X[1] <= -0.884\\ngini = 0.48\\nsamples = 5\\nvalue = [2, 3]'),\n",
       " Text(0.09631413224671236, 0.26, 'gini = 0.0\\nsamples = 3\\nvalue = [0, 3]'),\n",
       " Text(0.09779588812743101, 0.26, 'gini = 0.0\\nsamples = 2\\nvalue = [2, 0]'),\n",
       " Text(0.09853676606779033, 0.3, 'gini = 0.0\\nsamples = 29\\nvalue = [29, 0]'),\n",
       " Text(0.09927764400814966, 0.34, 'gini = 0.0\\nsamples = 4\\nvalue = [0, 4]'),\n",
       " Text(0.10001852194850898, 0.38, 'gini = 0.0\\nsamples = 74\\nvalue = [74, 0]'),\n",
       " Text(0.10557510650120393, 0.46, 'X[7] <= 0.014\\ngini = 0.341\\nsamples = 133\\nvalue = [104, 29]'),\n",
       " Text(0.10224115576958696, 0.42, 'X[5] <= 0.5\\ngini = 0.469\\nsamples = 8\\nvalue = [3, 5]'),\n",
       " Text(0.10150027782922763, 0.38, 'gini = 0.0\\nsamples = 5\\nvalue = [0, 5]'),\n",
       " Text(0.10298203370994628, 0.38, 'gini = 0.0\\nsamples = 3\\nvalue = [3, 0]'),\n",
       " Text(0.10890905723282089, 0.42, 'X[1] <= 0.12\\ngini = 0.31\\nsamples = 125\\nvalue = [101, 24]'),\n",
       " Text(0.10446378959066493, 0.38, 'X[6] <= 0.5\\ngini = 0.258\\nsamples = 105\\nvalue = [89, 16]'),\n",
       " Text(0.10150027782922763, 0.34, 'X[5] <= 0.5\\ngini = 0.299\\nsamples = 60\\nvalue = [49, 11]'),\n",
       " Text(0.10001852194850898, 0.3, 'X[1] <= 0.017\\ngini = 0.401\\nsamples = 18\\nvalue = [13, 5]'),\n",
       " Text(0.09927764400814966, 0.26, 'gini = 0.0\\nsamples = 8\\nvalue = [8, 0]'),\n",
       " Text(0.10075939988886831, 0.26, 'X[2] <= -0.375\\ngini = 0.5\\nsamples = 10\\nvalue = [5, 5]'),\n",
       " Text(0.10001852194850898, 0.22, 'X[2] <= -0.75\\ngini = 0.278\\nsamples = 6\\nvalue = [1, 5]'),\n",
       " Text(0.09927764400814966, 0.18, 'gini = 0.0\\nsamples = 1\\nvalue = [1, 0]'),\n",
       " Text(0.10075939988886831, 0.18, 'gini = 0.0\\nsamples = 5\\nvalue = [0, 5]'),\n",
       " Text(0.10150027782922763, 0.22, 'gini = 0.0\\nsamples = 4\\nvalue = [4, 0]'),\n",
       " Text(0.10298203370994628, 0.3, 'X[0] <= 0.617\\ngini = 0.245\\nsamples = 42\\nvalue = [36, 6]'),\n",
       " Text(0.10224115576958696, 0.26, 'gini = 0.0\\nsamples = 30\\nvalue = [30, 0]'),\n",
       " Text(0.10372291165030562, 0.26, 'X[0] <= 0.664\\ngini = 0.5\\nsamples = 12\\nvalue = [6, 6]'),\n",
       " Text(0.10298203370994628, 0.22, 'X[1] <= -0.09\\ngini = 0.375\\nsamples = 8\\nvalue = [2, 6]'),\n",
       " Text(0.10224115576958696, 0.18, 'gini = 0.0\\nsamples = 1\\nvalue = [1, 0]'),\n",
       " Text(0.10372291165030562, 0.18, 'X[8] <= 1.0\\ngini = 0.245\\nsamples = 7\\nvalue = [1, 6]'),\n",
       " Text(0.10298203370994628, 0.14, 'gini = 0.0\\nsamples = 6\\nvalue = [0, 6]'),\n",
       " Text(0.10446378959066493, 0.14, 'gini = 0.0\\nsamples = 1\\nvalue = [1, 0]'),\n",
       " Text(0.10446378959066493, 0.22, 'gini = 0.0\\nsamples = 4\\nvalue = [4, 0]'),\n",
       " Text(0.10742730135210224, 0.34, 'X[7] <= 0.077\\ngini = 0.198\\nsamples = 45\\nvalue = [40, 5]'),\n",
       " Text(0.10594554547138359, 0.3, 'X[5] <= 0.5\\ngini = 0.463\\nsamples = 11\\nvalue = [7, 4]'),\n",
       " Text(0.10520466753102427, 0.26, 'gini = 0.0\\nsamples = 2\\nvalue = [2, 0]'),\n",
       " Text(0.10668642341174292, 0.26, 'X[2] <= 0.25\\ngini = 0.494\\nsamples = 9\\nvalue = [5, 4]'),\n",
       " Text(0.10594554547138359, 0.22, 'gini = 0.0\\nsamples = 5\\nvalue = [5, 0]'),\n",
       " Text(0.10742730135210224, 0.22, 'gini = 0.0\\nsamples = 4\\nvalue = [0, 4]'),\n",
       " Text(0.10890905723282089, 0.3, 'X[8] <= 1.0\\ngini = 0.057\\nsamples = 34\\nvalue = [33, 1]'),\n",
       " Text(0.10816817929246157, 0.26, 'gini = 0.0\\nsamples = 10\\nvalue = [10, 0]'),\n",
       " Text(0.10964993517318022, 0.26, 'X[0] <= 0.711\\ngini = 0.08\\nsamples = 24\\nvalue = [23, 1]'),\n",
       " Text(0.10890905723282089, 0.22, 'gini = 0.0\\nsamples = 21\\nvalue = [21, 0]'),\n",
       " Text(0.11039081311353954, 0.22, 'X[1] <= 0.017\\ngini = 0.444\\nsamples = 3\\nvalue = [2, 1]'),\n",
       " Text(0.10964993517318022, 0.18, 'gini = 0.0\\nsamples = 2\\nvalue = [2, 0]'),\n",
       " Text(0.11113169105389888, 0.18, 'gini = 0.0\\nsamples = 1\\nvalue = [0, 1]'),\n",
       " Text(0.11335432487497685, 0.38, 'X[6] <= 0.5\\ngini = 0.48\\nsamples = 20\\nvalue = [12, 8]'),\n",
       " Text(0.11261344693461753, 0.34, 'X[2] <= -0.375\\ngini = 0.5\\nsamples = 16\\nvalue = [8, 8]'),\n",
       " Text(0.1118725689942582, 0.3, 'X[2] <= -1.0\\ngini = 0.198\\nsamples = 9\\nvalue = [1, 8]'),\n",
       " Text(0.11113169105389888, 0.26, 'gini = 0.0\\nsamples = 4\\nvalue = [0, 4]'),\n",
       " Text(0.11261344693461753, 0.26, 'X[8] <= 1.0\\ngini = 0.32\\nsamples = 5\\nvalue = [1, 4]'),\n",
       " Text(0.1118725689942582, 0.22, 'gini = 0.0\\nsamples = 4\\nvalue = [0, 4]'),\n",
       " Text(0.11335432487497685, 0.22, 'gini = 0.0\\nsamples = 1\\nvalue = [1, 0]'),\n",
       " Text(0.11335432487497685, 0.3, 'gini = 0.0\\nsamples = 7\\nvalue = [7, 0]'),\n",
       " Text(0.11409520281533618, 0.34, 'gini = 0.0\\nsamples = 4\\nvalue = [4, 0]'),\n",
       " Text(0.1077977403222819, 0.5, 'X[8] <= 1.0\\ngini = 0.278\\nsamples = 6\\nvalue = [1, 5]'),\n",
       " Text(0.10705686238192258, 0.46, 'gini = 0.0\\nsamples = 5\\nvalue = [0, 5]'),\n",
       " Text(0.10853861826264123, 0.46, 'gini = 0.0\\nsamples = 1\\nvalue = [1, 0]'),\n",
       " Text(0.10640859418410817, 0.54, 'gini = 0.0\\nsamples = 137\\nvalue = [137, 0]'),\n",
       " Text(0.10714947212446749, 0.58, 'gini = 0.0\\nsamples = 8\\nvalue = [0, 8]'),\n",
       " Text(0.1248379329505464, 0.66, 'X[2] <= 0.875\\ngini = 0.076\\nsamples = 479\\nvalue = [460, 19]'),\n",
       " Text(0.12409705501018707, 0.62, 'X[5] <= 0.5\\ngini = 0.088\\nsamples = 413\\nvalue = [394, 19]'),\n",
       " Text(0.12039266530839045, 0.58, 'X[7] <= 0.633\\ngini = 0.126\\nsamples = 118\\nvalue = [110, 8]'),\n",
       " Text(0.11854047045749212, 0.54, 'X[2] <= 0.625\\ngini = 0.25\\nsamples = 41\\nvalue = [35, 6]'),\n",
       " Text(0.11705871457677347, 0.5, 'X[2] <= -0.625\\ngini = 0.061\\nsamples = 32\\nvalue = [31, 1]'),\n",
       " Text(0.11631783663641415, 0.46, 'X[7] <= 0.512\\ngini = 0.18\\nsamples = 10\\nvalue = [9, 1]'),\n",
       " Text(0.11557695869605482, 0.42, 'X[1] <= -1.015\\ngini = 0.5\\nsamples = 2\\nvalue = [1, 1]'),\n",
       " Text(0.1148360807556955, 0.38, 'gini = 0.0\\nsamples = 1\\nvalue = [1, 0]'),\n",
       " Text(0.11631783663641415, 0.38, 'gini = 0.0\\nsamples = 1\\nvalue = [0, 1]'),\n",
       " Text(0.11705871457677347, 0.42, 'gini = 0.0\\nsamples = 8\\nvalue = [8, 0]'),\n",
       " Text(0.1177995925171328, 0.46, 'gini = 0.0\\nsamples = 22\\nvalue = [22, 0]'),\n",
       " Text(0.12002222633821077, 0.5, 'X[6] <= 0.5\\ngini = 0.494\\nsamples = 9\\nvalue = [4, 5]'),\n",
       " Text(0.11928134839785146, 0.46, 'gini = 0.0\\nsamples = 4\\nvalue = [4, 0]'),\n",
       " Text(0.12076310427857011, 0.46, 'gini = 0.0\\nsamples = 5\\nvalue = [0, 5]'),\n",
       " Text(0.12224486015928876, 0.54, 'X[1] <= -0.09\\ngini = 0.051\\nsamples = 77\\nvalue = [75, 2]'),\n",
       " Text(0.12150398221892943, 0.5, 'gini = 0.0\\nsamples = 62\\nvalue = [62, 0]'),\n",
       " Text(0.12298573809964808, 0.5, 'X[2] <= -0.375\\ngini = 0.231\\nsamples = 15\\nvalue = [13, 2]'),\n",
       " Text(0.12224486015928876, 0.46, 'X[0] <= 1.043\\ngini = 0.375\\nsamples = 8\\nvalue = [6, 2]'),\n",
       " Text(0.12150398221892943, 0.42, 'gini = 0.0\\nsamples = 5\\nvalue = [5, 0]'),\n",
       " Text(0.12298573809964808, 0.42, 'X[0] <= 1.709\\ngini = 0.444\\nsamples = 3\\nvalue = [1, 2]'),\n",
       " Text(0.12224486015928876, 0.38, 'gini = 0.0\\nsamples = 2\\nvalue = [0, 2]'),\n",
       " Text(0.12372661604000741, 0.38, 'gini = 0.0\\nsamples = 1\\nvalue = [1, 0]'),\n",
       " Text(0.12372661604000741, 0.46, 'gini = 0.0\\nsamples = 7\\nvalue = [7, 0]'),\n",
       " Text(0.1278014447119837, 0.58, 'X[2] <= -1.125\\ngini = 0.072\\nsamples = 295\\nvalue = [284, 11]'),\n",
       " Text(0.12520837192072606, 0.54, 'X[8] <= 1.0\\ngini = 0.346\\nsamples = 9\\nvalue = [7, 2]'),\n",
       " Text(0.12446749398036673, 0.5, 'gini = 0.0\\nsamples = 4\\nvalue = [4, 0]'),\n",
       " Text(0.12594924986108538, 0.5, 'X[7] <= 0.675\\ngini = 0.48\\nsamples = 5\\nvalue = [3, 2]'),\n",
       " Text(0.12520837192072606, 0.46, 'gini = 0.0\\nsamples = 2\\nvalue = [0, 2]'),\n",
       " Text(0.1266901278014447, 0.46, 'gini = 0.0\\nsamples = 3\\nvalue = [3, 0]'),\n",
       " Text(0.13039451750324135, 0.54, 'X[8] <= 1.0\\ngini = 0.061\\nsamples = 286\\nvalue = [277, 9]'),\n",
       " Text(0.129653639562882, 0.5, 'gini = 0.0\\nsamples = 90\\nvalue = [90, 0]'),\n",
       " Text(0.13113539544360067, 0.5, 'X[7] <= 0.954\\ngini = 0.088\\nsamples = 196\\nvalue = [187, 9]'),\n",
       " Text(0.12817188368216337, 0.46, 'X[7] <= 0.726\\ngini = 0.034\\nsamples = 171\\nvalue = [168, 3]'),\n",
       " Text(0.12743100574180405, 0.42, 'gini = 0.0\\nsamples = 91\\nvalue = [91, 0]'),\n",
       " Text(0.1289127616225227, 0.42, 'X[6] <= 0.5\\ngini = 0.072\\nsamples = 80\\nvalue = [77, 3]'),\n",
       " Text(0.12817188368216337, 0.38, 'gini = 0.0\\nsamples = 45\\nvalue = [45, 0]'),\n",
       " Text(0.129653639562882, 0.38, 'X[1] <= -1.084\\ngini = 0.157\\nsamples = 35\\nvalue = [32, 3]'),\n",
       " Text(0.1289127616225227, 0.34, 'X[7] <= 0.74\\ngini = 0.444\\nsamples = 9\\nvalue = [6, 3]'),\n",
       " Text(0.12817188368216337, 0.3, 'gini = 0.0\\nsamples = 3\\nvalue = [0, 3]'),\n",
       " Text(0.129653639562882, 0.3, 'gini = 0.0\\nsamples = 6\\nvalue = [6, 0]'),\n",
       " Text(0.13039451750324135, 0.34, 'gini = 0.0\\nsamples = 26\\nvalue = [26, 0]'),\n",
       " Text(0.13409890720503798, 0.46, 'X[6] <= 0.5\\ngini = 0.365\\nsamples = 25\\nvalue = [19, 6]'),\n",
       " Text(0.13335802926467866, 0.42, 'X[7] <= 0.968\\ngini = 0.469\\nsamples = 16\\nvalue = [10, 6]'),\n",
       " Text(0.1326171513243193, 0.38, 'X[0] <= 0.399\\ngini = 0.375\\nsamples = 8\\nvalue = [2, 6]'),\n",
       " Text(0.13187627338396, 0.34, 'gini = 0.0\\nsamples = 1\\nvalue = [1, 0]'),\n",
       " Text(0.13335802926467866, 0.34, 'X[7] <= 0.96\\ngini = 0.245\\nsamples = 7\\nvalue = [1, 6]'),\n",
       " Text(0.1326171513243193, 0.3, 'gini = 0.0\\nsamples = 3\\nvalue = [0, 3]'),\n",
       " Text(0.13409890720503798, 0.3, 'X[1] <= -1.205\\ngini = 0.375\\nsamples = 4\\nvalue = [1, 3]'),\n",
       " Text(0.13335802926467866, 0.26, 'gini = 0.0\\nsamples = 1\\nvalue = [1, 0]'),\n",
       " Text(0.1348397851453973, 0.26, 'gini = 0.0\\nsamples = 3\\nvalue = [0, 3]'),\n",
       " Text(0.13409890720503798, 0.38, 'gini = 0.0\\nsamples = 8\\nvalue = [8, 0]'),\n",
       " Text(0.1348397851453973, 0.42, 'gini = 0.0\\nsamples = 9\\nvalue = [9, 0]'),\n",
       " Text(0.12557881089090572, 0.62, 'gini = 0.0\\nsamples = 66\\nvalue = [66, 0]'),\n",
       " Text(0.13521022411557695, 0.78, 'X[7] <= 0.665\\ngini = 0.378\\nsamples = 75\\nvalue = [19, 56]'),\n",
       " Text(0.13187627338396, 0.74, 'X[2] <= -0.875\\ngini = 0.494\\nsamples = 38\\nvalue = [17, 21]'),\n",
       " Text(0.13039451750324135, 0.7, 'X[1] <= -0.97\\ngini = 0.153\\nsamples = 12\\nvalue = [1, 11]'),\n",
       " Text(0.129653639562882, 0.66, 'gini = 0.0\\nsamples = 1\\nvalue = [1, 0]'),\n",
       " Text(0.13113539544360067, 0.66, 'gini = 0.0\\nsamples = 11\\nvalue = [0, 11]'),\n",
       " Text(0.13335802926467866, 0.7, 'X[2] <= -0.375\\ngini = 0.473\\nsamples = 26\\nvalue = [16, 10]'),\n",
       " Text(0.1326171513243193, 0.66, 'gini = 0.0\\nsamples = 7\\nvalue = [7, 0]'),\n",
       " Text(0.13409890720503798, 0.66, 'X[0] <= -0.489\\ngini = 0.499\\nsamples = 19\\nvalue = [9, 10]'),\n",
       " Text(0.13335802926467866, 0.62, 'X[7] <= 0.401\\ngini = 0.355\\nsamples = 13\\nvalue = [3, 10]'),\n",
       " Text(0.1326171513243193, 0.58, 'X[6] <= 0.5\\ngini = 0.165\\nsamples = 11\\nvalue = [1, 10]'),\n",
       " Text(0.13187627338396, 0.54, 'gini = 0.0\\nsamples = 7\\nvalue = [0, 7]'),\n",
       " Text(0.13335802926467866, 0.54, 'X[7] <= 0.208\\ngini = 0.375\\nsamples = 4\\nvalue = [1, 3]'),\n",
       " Text(0.1326171513243193, 0.5, 'gini = 0.0\\nsamples = 1\\nvalue = [1, 0]'),\n",
       " Text(0.13409890720503798, 0.5, 'gini = 0.0\\nsamples = 3\\nvalue = [0, 3]'),\n",
       " Text(0.13409890720503798, 0.58, 'gini = 0.0\\nsamples = 2\\nvalue = [2, 0]'),\n",
       " Text(0.1348397851453973, 0.62, 'gini = 0.0\\nsamples = 6\\nvalue = [6, 0]'),\n",
       " Text(0.13854417484719392, 0.74, 'X[1] <= -0.677\\ngini = 0.102\\nsamples = 37\\nvalue = [2, 35]'),\n",
       " Text(0.1378032969068346, 0.7, 'X[1] <= -0.808\\ngini = 0.18\\nsamples = 20\\nvalue = [2, 18]'),\n",
       " Text(0.13706241896647528, 0.66, 'X[8] <= 1.0\\ngini = 0.1\\nsamples = 19\\nvalue = [1, 18]'),\n",
       " Text(0.13632154102611596, 0.62, 'gini = 0.0\\nsamples = 5\\nvalue = [0, 5]'),\n",
       " Text(0.1378032969068346, 0.62, 'X[0] <= -0.686\\ngini = 0.133\\nsamples = 14\\nvalue = [1, 13]'),\n",
       " Text(0.13706241896647528, 0.58, 'X[1] <= -1.735\\ngini = 0.444\\nsamples = 3\\nvalue = [1, 2]'),\n",
       " Text(0.13632154102611596, 0.54, 'gini = 0.0\\nsamples = 2\\nvalue = [0, 2]'),\n",
       " Text(0.1378032969068346, 0.54, 'gini = 0.0\\nsamples = 1\\nvalue = [1, 0]'),\n",
       " Text(0.13854417484719392, 0.58, 'gini = 0.0\\nsamples = 11\\nvalue = [0, 11]'),\n",
       " Text(0.13854417484719392, 0.66, 'gini = 0.0\\nsamples = 1\\nvalue = [1, 0]'),\n",
       " Text(0.13928505278755324, 0.7, 'gini = 0.0\\nsamples = 17\\nvalue = [0, 17]'),\n",
       " Text(0.16066632709761067, 0.86, 'X[1] <= -0.313\\ngini = 0.406\\nsamples = 511\\nvalue = [366, 145]'),\n",
       " Text(0.1485228746064086, 0.82, 'X[8] <= 1.5\\ngini = 0.341\\nsamples = 316\\nvalue = [247, 69]'),\n",
       " Text(0.14335988145952955, 0.78, 'X[7] <= 0.102\\ngini = 0.25\\nsamples = 157\\nvalue = [134, 23]'),\n",
       " Text(0.14150768660863122, 0.74, 'X[3] <= 0.339\\ngini = 0.49\\nsamples = 21\\nvalue = [12, 9]'),\n",
       " Text(0.1407668086682719, 0.7, 'X[7] <= 0.098\\ngini = 0.415\\nsamples = 17\\nvalue = [12, 5]'),\n",
       " Text(0.14002593072791258, 0.66, 'X[1] <= -0.551\\ngini = 0.245\\nsamples = 14\\nvalue = [12, 2]'),\n",
       " Text(0.13928505278755324, 0.62, 'gini = 0.0\\nsamples = 10\\nvalue = [10, 0]'),\n",
       " Text(0.1407668086682719, 0.62, 'X[1] <= -0.43\\ngini = 0.5\\nsamples = 4\\nvalue = [2, 2]'),\n",
       " Text(0.14002593072791258, 0.58, 'gini = 0.0\\nsamples = 2\\nvalue = [0, 2]'),\n",
       " Text(0.14150768660863122, 0.58, 'gini = 0.0\\nsamples = 2\\nvalue = [2, 0]'),\n",
       " Text(0.14150768660863122, 0.66, 'gini = 0.0\\nsamples = 3\\nvalue = [0, 3]'),\n",
       " Text(0.14224856454899054, 0.7, 'gini = 0.0\\nsamples = 4\\nvalue = [0, 4]'),\n",
       " Text(0.14521207631042785, 0.74, 'X[1] <= -2.07\\ngini = 0.185\\nsamples = 136\\nvalue = [122, 14]'),\n",
       " Text(0.1437303204297092, 0.7, 'X[2] <= 0.625\\ngini = 0.496\\nsamples = 11\\nvalue = [6, 5]'),\n",
       " Text(0.1429894424893499, 0.66, 'gini = 0.0\\nsamples = 6\\nvalue = [6, 0]'),\n",
       " Text(0.14447119837006853, 0.66, 'gini = 0.0\\nsamples = 5\\nvalue = [0, 5]'),\n",
       " Text(0.1466938321911465, 0.7, 'X[3] <= 0.147\\ngini = 0.134\\nsamples = 125\\nvalue = [116, 9]'),\n",
       " Text(0.1459529542507872, 0.66, 'gini = 0.0\\nsamples = 5\\nvalue = [0, 5]'),\n",
       " Text(0.14743471013150583, 0.66, 'X[7] <= 0.554\\ngini = 0.064\\nsamples = 120\\nvalue = [116, 4]'),\n",
       " Text(0.1466938321911465, 0.62, 'gini = 0.0\\nsamples = 57\\nvalue = [57, 0]'),\n",
       " Text(0.14817558807186515, 0.62, 'X[7] <= 0.621\\ngini = 0.119\\nsamples = 63\\nvalue = [59, 4]'),\n",
       " Text(0.14743471013150583, 0.58, 'X[0] <= 0.711\\ngini = 0.444\\nsamples = 6\\nvalue = [2, 4]'),\n",
       " Text(0.1466938321911465, 0.54, 'X[7] <= 0.608\\ngini = 0.32\\nsamples = 5\\nvalue = [1, 4]'),\n",
       " Text(0.1459529542507872, 0.5, 'X[0] <= -0.12\\ngini = 0.5\\nsamples = 2\\nvalue = [1, 1]'),\n",
       " Text(0.14521207631042785, 0.46, 'gini = 0.0\\nsamples = 1\\nvalue = [0, 1]'),\n",
       " Text(0.1466938321911465, 0.46, 'gini = 0.0\\nsamples = 1\\nvalue = [1, 0]'),\n",
       " Text(0.14743471013150583, 0.5, 'gini = 0.0\\nsamples = 3\\nvalue = [0, 3]'),\n",
       " Text(0.14817558807186515, 0.54, 'gini = 0.0\\nsamples = 1\\nvalue = [1, 0]'),\n",
       " Text(0.1489164660122245, 0.58, 'gini = 0.0\\nsamples = 57\\nvalue = [57, 0]'),\n",
       " Text(0.15368586775328766, 0.78, 'X[3] <= 0.23\\ngini = 0.411\\nsamples = 159\\nvalue = [113, 46]'),\n",
       " Text(0.15039822189294313, 0.74, 'X[5] <= 0.5\\ngini = 0.412\\nsamples = 31\\nvalue = [9, 22]'),\n",
       " Text(0.14965734395258382, 0.7, 'gini = 0.0\\nsamples = 4\\nvalue = [4, 0]'),\n",
       " Text(0.15113909983330245, 0.7, 'X[2] <= 1.0\\ngini = 0.302\\nsamples = 27\\nvalue = [5, 22]'),\n",
       " Text(0.15039822189294313, 0.66, 'X[7] <= 0.08\\ngini = 0.26\\nsamples = 26\\nvalue = [4, 22]'),\n",
       " Text(0.14965734395258382, 0.62, 'gini = 0.0\\nsamples = 4\\nvalue = [4, 0]'),\n",
       " Text(0.15113909983330245, 0.62, 'gini = 0.0\\nsamples = 22\\nvalue = [0, 22]'),\n",
       " Text(0.1518799777736618, 0.66, 'gini = 0.0\\nsamples = 1\\nvalue = [1, 0]'),\n",
       " Text(0.15697351361363215, 0.74, 'X[0] <= -1.538\\ngini = 0.305\\nsamples = 128\\nvalue = [104, 24]'),\n",
       " Text(0.15410261159473976, 0.7, 'X[7] <= 0.287\\ngini = 0.498\\nsamples = 15\\nvalue = [7, 8]'),\n",
       " Text(0.15336173365438044, 0.66, 'gini = 0.0\\nsamples = 4\\nvalue = [4, 0]'),\n",
       " Text(0.1548434895350991, 0.66, 'X[3] <= 0.306\\ngini = 0.397\\nsamples = 11\\nvalue = [3, 8]'),\n",
       " Text(0.15410261159473976, 0.62, 'gini = 0.0\\nsamples = 2\\nvalue = [2, 0]'),\n",
       " Text(0.15558436747545842, 0.62, 'X[7] <= 0.877\\ngini = 0.198\\nsamples = 9\\nvalue = [1, 8]'),\n",
       " Text(0.1548434895350991, 0.58, 'gini = 0.0\\nsamples = 8\\nvalue = [0, 8]'),\n",
       " Text(0.15632524541581774, 0.58, 'gini = 0.0\\nsamples = 1\\nvalue = [1, 0]'),\n",
       " Text(0.15984441563252455, 0.7, 'X[2] <= -1.125\\ngini = 0.243\\nsamples = 113\\nvalue = [97, 16]'),\n",
       " Text(0.1578070012965364, 0.66, 'X[0] <= 1.314\\ngini = 0.494\\nsamples = 9\\nvalue = [5, 4]'),\n",
       " Text(0.15706612335617706, 0.62, 'gini = 0.0\\nsamples = 5\\nvalue = [5, 0]'),\n",
       " Text(0.15854787923689573, 0.62, 'gini = 0.0\\nsamples = 4\\nvalue = [0, 4]'),\n",
       " Text(0.1618818299685127, 0.66, 'X[3] <= 0.345\\ngini = 0.204\\nsamples = 104\\nvalue = [92, 12]'),\n",
       " Text(0.16002963511761437, 0.62, 'X[0] <= 1.958\\ngini = 0.122\\nsamples = 92\\nvalue = [86, 6]'),\n",
       " Text(0.15854787923689573, 0.58, 'X[2] <= 0.625\\ngini = 0.046\\nsamples = 84\\nvalue = [82, 2]'),\n",
       " Text(0.1578070012965364, 0.54, 'gini = 0.0\\nsamples = 61\\nvalue = [61, 0]'),\n",
       " Text(0.15928875717725505, 0.54, 'X[1] <= -0.43\\ngini = 0.159\\nsamples = 23\\nvalue = [21, 2]'),\n",
       " Text(0.15854787923689573, 0.5, 'gini = 0.0\\nsamples = 19\\nvalue = [19, 0]'),\n",
       " Text(0.16002963511761437, 0.5, 'X[5] <= 0.5\\ngini = 0.5\\nsamples = 4\\nvalue = [2, 2]'),\n",
       " Text(0.15928875717725505, 0.46, 'gini = 0.0\\nsamples = 1\\nvalue = [1, 0]'),\n",
       " Text(0.16077051305797369, 0.46, 'X[2] <= 0.875\\ngini = 0.444\\nsamples = 3\\nvalue = [1, 2]'),\n",
       " Text(0.16002963511761437, 0.42, 'gini = 0.0\\nsamples = 2\\nvalue = [0, 2]'),\n",
       " Text(0.16151139099833303, 0.42, 'gini = 0.0\\nsamples = 1\\nvalue = [1, 0]'),\n",
       " Text(0.16151139099833303, 0.58, 'X[1] <= -0.808\\ngini = 0.5\\nsamples = 8\\nvalue = [4, 4]'),\n",
       " Text(0.16077051305797369, 0.54, 'gini = 0.0\\nsamples = 3\\nvalue = [3, 0]'),\n",
       " Text(0.16225226893869235, 0.54, 'X[5] <= 0.5\\ngini = 0.32\\nsamples = 5\\nvalue = [1, 4]'),\n",
       " Text(0.16151139099833303, 0.5, 'gini = 0.0\\nsamples = 4\\nvalue = [0, 4]'),\n",
       " Text(0.16299314687905167, 0.5, 'gini = 0.0\\nsamples = 1\\nvalue = [1, 0]'),\n",
       " Text(0.163734024819411, 0.62, 'X[3] <= 0.346\\ngini = 0.5\\nsamples = 12\\nvalue = [6, 6]'),\n",
       " Text(0.16299314687905167, 0.58, 'gini = 0.0\\nsamples = 6\\nvalue = [0, 6]'),\n",
       " Text(0.16447490275977034, 0.58, 'gini = 0.0\\nsamples = 6\\nvalue = [6, 0]'),\n",
       " Text(0.17280977958881275, 0.82, 'X[7] <= 0.043\\ngini = 0.476\\nsamples = 195\\nvalue = [119, 76]'),\n",
       " Text(0.17132802370809408, 0.78, 'X[2] <= 0.125\\ngini = 0.298\\nsamples = 11\\nvalue = [2, 9]'),\n",
       " Text(0.17058714576773476, 0.74, 'gini = 0.0\\nsamples = 9\\nvalue = [0, 9]'),\n",
       " Text(0.17206890164845343, 0.74, 'gini = 0.0\\nsamples = 2\\nvalue = [2, 0]'),\n",
       " Text(0.17429153546953138, 0.78, 'X[7] <= 0.901\\ngini = 0.463\\nsamples = 184\\nvalue = [117, 67]'),\n",
       " Text(0.17355065752917206, 0.74, 'X[4] <= 2.5\\ngini = 0.476\\nsamples = 172\\nvalue = [105, 67]'),\n",
       " Text(0.17280977958881275, 0.7, 'X[4] <= 1.5\\ngini = 0.449\\nsamples = 159\\nvalue = [105, 54]'),\n",
       " Text(0.17003148731246528, 0.66, 'X[2] <= 1.125\\ngini = 0.495\\nsamples = 111\\nvalue = [61, 50]'),\n",
       " Text(0.16929060937210594, 0.62, 'X[3] <= 0.323\\ngini = 0.499\\nsamples = 104\\nvalue = [54, 50]'),\n",
       " Text(0.16854973143174662, 0.58, 'X[2] <= 0.125\\ngini = 0.472\\nsamples = 81\\nvalue = [31, 50]'),\n",
       " Text(0.16595665864048897, 0.54, 'X[3] <= 0.322\\ngini = 0.496\\nsamples = 44\\nvalue = [20, 24]'),\n",
       " Text(0.16521578070012966, 0.5, 'X[7] <= 0.544\\ngini = 0.5\\nsamples = 40\\nvalue = [20, 20]'),\n",
       " Text(0.163734024819411, 0.46, 'X[8] <= 0.5\\ngini = 0.386\\nsamples = 23\\nvalue = [17, 6]'),\n",
       " Text(0.16299314687905167, 0.42, 'X[7] <= 0.318\\ngini = 0.444\\nsamples = 9\\nvalue = [3, 6]'),\n",
       " Text(0.16225226893869235, 0.38, 'X[1] <= 0.017\\ngini = 0.245\\nsamples = 7\\nvalue = [1, 6]'),\n",
       " Text(0.16151139099833303, 0.34, 'gini = 0.0\\nsamples = 6\\nvalue = [0, 6]'),\n",
       " Text(0.16299314687905167, 0.34, 'gini = 0.0\\nsamples = 1\\nvalue = [1, 0]'),\n",
       " Text(0.163734024819411, 0.38, 'gini = 0.0\\nsamples = 2\\nvalue = [2, 0]'),\n",
       " Text(0.16447490275977034, 0.42, 'gini = 0.0\\nsamples = 14\\nvalue = [14, 0]'),\n",
       " Text(0.1666975365808483, 0.46, 'X[3] <= 0.32\\ngini = 0.291\\nsamples = 17\\nvalue = [3, 14]'),\n",
       " Text(0.16595665864048897, 0.42, 'X[7] <= 0.807\\ngini = 0.219\\nsamples = 16\\nvalue = [2, 14]'),\n",
       " Text(0.16521578070012966, 0.38, 'X[3] <= 0.28\\ngini = 0.375\\nsamples = 8\\nvalue = [2, 6]'),\n",
       " Text(0.16447490275977034, 0.34, 'gini = 0.0\\nsamples = 2\\nvalue = [2, 0]'),\n",
       " Text(0.16595665864048897, 0.34, 'gini = 0.0\\nsamples = 6\\nvalue = [0, 6]'),\n",
       " Text(0.1666975365808483, 0.38, 'gini = 0.0\\nsamples = 8\\nvalue = [0, 8]'),\n",
       " Text(0.16743841452120764, 0.42, 'gini = 0.0\\nsamples = 1\\nvalue = [1, 0]'),\n",
       " Text(0.1666975365808483, 0.5, 'gini = 0.0\\nsamples = 4\\nvalue = [0, 4]'),\n",
       " Text(0.17114280422300426, 0.54, 'X[7] <= 0.709\\ngini = 0.418\\nsamples = 37\\nvalue = [11, 26]'),\n",
       " Text(0.17040192628264494, 0.5, 'X[0] <= 0.285\\ngini = 0.271\\nsamples = 31\\nvalue = [5, 26]'),\n",
       " Text(0.1696610483422856, 0.46, 'X[1] <= 0.12\\ngini = 0.071\\nsamples = 27\\nvalue = [1, 26]'),\n",
       " Text(0.16892017040192628, 0.42, 'gini = 0.0\\nsamples = 21\\nvalue = [0, 21]'),\n",
       " Text(0.17040192628264494, 0.42, 'X[6] <= 0.5\\ngini = 0.278\\nsamples = 6\\nvalue = [1, 5]'),\n",
       " Text(0.1696610483422856, 0.38, 'gini = 0.0\\nsamples = 5\\nvalue = [0, 5]'),\n",
       " Text(0.17114280422300426, 0.38, 'gini = 0.0\\nsamples = 1\\nvalue = [1, 0]'),\n",
       " Text(0.17114280422300426, 0.46, 'gini = 0.0\\nsamples = 4\\nvalue = [4, 0]'),\n",
       " Text(0.17188368216336358, 0.5, 'gini = 0.0\\nsamples = 6\\nvalue = [6, 0]'),\n",
       " Text(0.17003148731246528, 0.58, 'gini = 0.0\\nsamples = 23\\nvalue = [23, 0]'),\n",
       " Text(0.1707723652528246, 0.62, 'gini = 0.0\\nsamples = 7\\nvalue = [7, 0]'),\n",
       " Text(0.1755880718651602, 0.66, 'X[1] <= -0.199\\ngini = 0.153\\nsamples = 48\\nvalue = [44, 4]'),\n",
       " Text(0.17410631598444157, 0.62, 'X[0] <= -0.11\\ngini = 0.49\\nsamples = 7\\nvalue = [4, 3]'),\n",
       " Text(0.17336543804408225, 0.58, 'X[2] <= -0.375\\ngini = 0.375\\nsamples = 4\\nvalue = [1, 3]'),\n",
       " Text(0.1726245601037229, 0.54, 'gini = 0.0\\nsamples = 1\\nvalue = [1, 0]'),\n",
       " Text(0.17410631598444157, 0.54, 'gini = 0.0\\nsamples = 3\\nvalue = [0, 3]'),\n",
       " Text(0.1748471939248009, 0.58, 'gini = 0.0\\nsamples = 3\\nvalue = [3, 0]'),\n",
       " Text(0.17706982774587887, 0.62, 'X[2] <= 0.625\\ngini = 0.048\\nsamples = 41\\nvalue = [40, 1]'),\n",
       " Text(0.17632894980551955, 0.58, 'gini = 0.0\\nsamples = 30\\nvalue = [30, 0]'),\n",
       " Text(0.1778107056862382, 0.58, 'X[0] <= -0.956\\ngini = 0.165\\nsamples = 11\\nvalue = [10, 1]'),\n",
       " Text(0.17706982774587887, 0.54, 'X[7] <= 0.249\\ngini = 0.5\\nsamples = 2\\nvalue = [1, 1]'),\n",
       " Text(0.17632894980551955, 0.5, 'gini = 0.0\\nsamples = 1\\nvalue = [1, 0]'),\n",
       " Text(0.1778107056862382, 0.5, 'gini = 0.0\\nsamples = 1\\nvalue = [0, 1]'),\n",
       " Text(0.1785515836265975, 0.54, 'gini = 0.0\\nsamples = 9\\nvalue = [9, 0]'),\n",
       " Text(0.17429153546953138, 0.7, 'gini = 0.0\\nsamples = 13\\nvalue = [0, 13]'),\n",
       " Text(0.17503241340989073, 0.74, 'gini = 0.0\\nsamples = 12\\nvalue = [12, 0]'),\n",
       " Text(0.2674583834969439, 0.9, 'X[1] <= 0.765\\ngini = 0.475\\nsamples = 2360\\nvalue = [915, 1445]'),\n",
       " Text(0.2052174013706242, 0.86, 'X[2] <= -1.125\\ngini = 0.5\\nsamples = 1036\\nvalue = [514, 522]'),\n",
       " Text(0.18003333950731618, 0.82, 'X[0] <= 0.316\\ngini = 0.47\\nsamples = 45\\nvalue = [28, 17]'),\n",
       " Text(0.1785515836265975, 0.78, 'X[4] <= 1.5\\ngini = 0.266\\nsamples = 19\\nvalue = [16, 3]'),\n",
       " Text(0.1778107056862382, 0.74, 'X[7] <= 0.832\\ngini = 0.49\\nsamples = 7\\nvalue = [4, 3]'),\n",
       " Text(0.17706982774587887, 0.7, 'gini = 0.0\\nsamples = 4\\nvalue = [4, 0]'),\n",
       " Text(0.1785515836265975, 0.7, 'gini = 0.0\\nsamples = 3\\nvalue = [0, 3]'),\n",
       " Text(0.17929246156695686, 0.74, 'gini = 0.0\\nsamples = 12\\nvalue = [12, 0]'),\n",
       " Text(0.18151509538803481, 0.78, 'X[0] <= 0.976\\ngini = 0.497\\nsamples = 26\\nvalue = [12, 14]'),\n",
       " Text(0.1807742174476755, 0.74, 'X[3] <= 0.321\\ngini = 0.388\\nsamples = 19\\nvalue = [5, 14]'),\n",
       " Text(0.18003333950731618, 0.7, 'X[7] <= 0.242\\ngini = 0.346\\nsamples = 18\\nvalue = [4, 14]'),\n",
       " Text(0.17929246156695686, 0.66, 'gini = 0.0\\nsamples = 7\\nvalue = [0, 7]'),\n",
       " Text(0.1807742174476755, 0.66, 'X[7] <= 0.384\\ngini = 0.463\\nsamples = 11\\nvalue = [4, 7]'),\n",
       " Text(0.18003333950731618, 0.62, 'gini = 0.0\\nsamples = 2\\nvalue = [2, 0]'),\n",
       " Text(0.18151509538803481, 0.62, 'X[3] <= 0.115\\ngini = 0.346\\nsamples = 9\\nvalue = [2, 7]'),\n",
       " Text(0.1807742174476755, 0.58, 'X[5] <= 0.5\\ngini = 0.48\\nsamples = 5\\nvalue = [2, 3]'),\n",
       " Text(0.18003333950731618, 0.54, 'gini = 0.0\\nsamples = 3\\nvalue = [0, 3]'),\n",
       " Text(0.18151509538803481, 0.54, 'gini = 0.0\\nsamples = 2\\nvalue = [2, 0]'),\n",
       " Text(0.18225597332839416, 0.58, 'gini = 0.0\\nsamples = 4\\nvalue = [0, 4]'),\n",
       " Text(0.18151509538803481, 0.7, 'gini = 0.0\\nsamples = 1\\nvalue = [1, 0]'),\n",
       " Text(0.18225597332839416, 0.74, 'gini = 0.0\\nsamples = 7\\nvalue = [7, 0]'),\n",
       " Text(0.2304014632339322, 0.82, 'X[6] <= 0.5\\ngini = 0.5\\nsamples = 991\\nvalue = [486, 505]'),\n",
       " Text(0.21011992961659567, 0.78, 'X[4] <= 1.5\\ngini = 0.489\\nsamples = 542\\nvalue = [230, 312]'),\n",
       " Text(0.19672624560103724, 0.74, 'X[0] <= 0.534\\ngini = 0.368\\nsamples = 259\\nvalue = [63, 196]'),\n",
       " Text(0.1898962770883497, 0.7, 'X[5] <= 0.5\\ngini = 0.404\\nsamples = 185\\nvalue = [52, 133]'),\n",
       " Text(0.18596036303019078, 0.66, 'X[0] <= -0.562\\ngini = 0.341\\nsamples = 55\\nvalue = [12, 43]'),\n",
       " Text(0.18447860714947212, 0.62, 'X[7] <= 0.239\\ngini = 0.245\\nsamples = 28\\nvalue = [4, 24]'),\n",
       " Text(0.1837377292091128, 0.58, 'gini = 0.0\\nsamples = 1\\nvalue = [1, 0]'),\n",
       " Text(0.18521948508983144, 0.58, 'X[1] <= 0.591\\ngini = 0.198\\nsamples = 27\\nvalue = [3, 24]'),\n",
       " Text(0.18447860714947212, 0.54, 'X[2] <= -0.125\\ngini = 0.375\\nsamples = 12\\nvalue = [3, 9]'),\n",
       " Text(0.1837377292091128, 0.5, 'gini = 0.0\\nsamples = 2\\nvalue = [2, 0]'),\n",
       " Text(0.18521948508983144, 0.5, 'X[3] <= 0.127\\ngini = 0.18\\nsamples = 10\\nvalue = [1, 9]'),\n",
       " Text(0.18447860714947212, 0.46, 'gini = 0.0\\nsamples = 1\\nvalue = [1, 0]'),\n",
       " Text(0.18596036303019078, 0.46, 'gini = 0.0\\nsamples = 9\\nvalue = [0, 9]'),\n",
       " Text(0.18596036303019078, 0.54, 'gini = 0.0\\nsamples = 15\\nvalue = [0, 15]'),\n",
       " Text(0.18744211891090942, 0.62, 'X[7] <= 0.758\\ngini = 0.417\\nsamples = 27\\nvalue = [8, 19]'),\n",
       " Text(0.1867012409705501, 0.58, 'gini = 0.0\\nsamples = 8\\nvalue = [8, 0]'),\n",
       " Text(0.18818299685126874, 0.58, 'gini = 0.0\\nsamples = 19\\nvalue = [0, 19]'),\n",
       " Text(0.19383219114650863, 0.66, 'X[0] <= 0.508\\ngini = 0.426\\nsamples = 130\\nvalue = [40, 90]'),\n",
       " Text(0.19309131320614928, 0.62, 'X[3] <= 0.325\\ngini = 0.413\\nsamples = 127\\nvalue = [37, 90]'),\n",
       " Text(0.19235043526578996, 0.58, 'X[0] <= -0.93\\ngini = 0.393\\nsamples = 123\\nvalue = [33, 90]'),\n",
       " Text(0.18744211891090942, 0.54, 'X[1] <= 0.504\\ngini = 0.488\\nsamples = 26\\nvalue = [11, 15]'),\n",
       " Text(0.1867012409705501, 0.5, 'gini = 0.0\\nsamples = 7\\nvalue = [7, 0]'),\n",
       " Text(0.18818299685126874, 0.5, 'X[7] <= 0.281\\ngini = 0.332\\nsamples = 19\\nvalue = [4, 15]'),\n",
       " Text(0.18744211891090942, 0.46, 'gini = 0.0\\nsamples = 2\\nvalue = [2, 0]'),\n",
       " Text(0.1889238747916281, 0.46, 'X[8] <= 1.0\\ngini = 0.208\\nsamples = 17\\nvalue = [2, 15]'),\n",
       " Text(0.18818299685126874, 0.42, 'gini = 0.0\\nsamples = 1\\nvalue = [1, 0]'),\n",
       " Text(0.1896647527319874, 0.42, 'X[7] <= 0.585\\ngini = 0.117\\nsamples = 16\\nvalue = [1, 15]'),\n",
       " Text(0.1889238747916281, 0.38, 'X[7] <= 0.499\\ngini = 0.278\\nsamples = 6\\nvalue = [1, 5]'),\n",
       " Text(0.18818299685126874, 0.34, 'gini = 0.0\\nsamples = 5\\nvalue = [0, 5]'),\n",
       " Text(0.1896647527319874, 0.34, 'gini = 0.0\\nsamples = 1\\nvalue = [1, 0]'),\n",
       " Text(0.19040563067234673, 0.38, 'gini = 0.0\\nsamples = 10\\nvalue = [0, 10]'),\n",
       " Text(0.1972587516206705, 0.54, 'X[3] <= 0.317\\ngini = 0.351\\nsamples = 97\\nvalue = [22, 75]'),\n",
       " Text(0.19651787368031118, 0.5, 'X[3] <= 0.303\\ngini = 0.384\\nsamples = 85\\nvalue = [22, 63]'),\n",
       " Text(0.19577699573995183, 0.46, 'X[8] <= 0.5\\ngini = 0.356\\nsamples = 82\\nvalue = [19, 63]'),\n",
       " Text(0.1926282644934247, 0.42, 'X[2] <= -0.625\\ngini = 0.301\\nsamples = 38\\nvalue = [7, 31]'),\n",
       " Text(0.1918873865530654, 0.38, 'gini = 0.0\\nsamples = 2\\nvalue = [2, 0]'),\n",
       " Text(0.19336914243378403, 0.38, 'X[7] <= 0.636\\ngini = 0.239\\nsamples = 36\\nvalue = [5, 31]'),\n",
       " Text(0.1926282644934247, 0.34, 'X[7] <= 0.483\\ngini = 0.161\\nsamples = 34\\nvalue = [3, 31]'),\n",
       " Text(0.1918873865530654, 0.3, 'X[0] <= -0.546\\ngini = 0.337\\nsamples = 14\\nvalue = [3, 11]'),\n",
       " Text(0.19114650861270605, 0.26, 'gini = 0.0\\nsamples = 2\\nvalue = [2, 0]'),\n",
       " Text(0.1926282644934247, 0.26, 'X[7] <= 0.36\\ngini = 0.153\\nsamples = 12\\nvalue = [1, 11]'),\n",
       " Text(0.1918873865530654, 0.22, 'gini = 0.0\\nsamples = 11\\nvalue = [0, 11]'),\n",
       " Text(0.19336914243378403, 0.22, 'gini = 0.0\\nsamples = 1\\nvalue = [1, 0]'),\n",
       " Text(0.19336914243378403, 0.3, 'gini = 0.0\\nsamples = 20\\nvalue = [0, 20]'),\n",
       " Text(0.19411002037414335, 0.34, 'gini = 0.0\\nsamples = 2\\nvalue = [2, 0]'),\n",
       " Text(0.19892572698647898, 0.42, 'X[7] <= 0.435\\ngini = 0.397\\nsamples = 44\\nvalue = [12, 32]'),\n",
       " Text(0.19633265419522133, 0.38, 'X[3] <= 0.09\\ngini = 0.204\\nsamples = 26\\nvalue = [3, 23]'),\n",
       " Text(0.19559177625486202, 0.34, 'X[7] <= 0.003\\ngini = 0.211\\nsamples = 25\\nvalue = [3, 22]'),\n",
       " Text(0.1948508983145027, 0.3, 'gini = 0.0\\nsamples = 1\\nvalue = [1, 0]'),\n",
       " Text(0.19633265419522133, 0.3, 'X[2] <= 0.0\\ngini = 0.153\\nsamples = 24\\nvalue = [2, 22]'),\n",
       " Text(0.19559177625486202, 0.26, 'gini = 0.0\\nsamples = 15\\nvalue = [0, 15]'),\n",
       " Text(0.19707353213558065, 0.26, 'X[0] <= -0.572\\ngini = 0.346\\nsamples = 9\\nvalue = [2, 7]'),\n",
       " Text(0.19633265419522133, 0.22, 'gini = 0.0\\nsamples = 2\\nvalue = [2, 0]'),\n",
       " Text(0.19781441007594, 0.22, 'gini = 0.0\\nsamples = 7\\nvalue = [0, 7]'),\n",
       " Text(0.19707353213558065, 0.34, 'gini = 0.0\\nsamples = 1\\nvalue = [0, 1]'),\n",
       " Text(0.20151879977773662, 0.38, 'X[2] <= 0.375\\ngini = 0.5\\nsamples = 18\\nvalue = [9, 9]'),\n",
       " Text(0.2007779218373773, 0.34, 'X[7] <= 0.783\\ngini = 0.426\\nsamples = 13\\nvalue = [4, 9]'),\n",
       " Text(0.19929616595665864, 0.3, 'X[2] <= 0.125\\ngini = 0.48\\nsamples = 5\\nvalue = [3, 2]'),\n",
       " Text(0.19855528801629932, 0.26, 'gini = 0.0\\nsamples = 2\\nvalue = [0, 2]'),\n",
       " Text(0.20003704389701796, 0.26, 'gini = 0.0\\nsamples = 3\\nvalue = [3, 0]'),\n",
       " Text(0.20225967771809594, 0.3, 'X[0] <= -0.707\\ngini = 0.219\\nsamples = 8\\nvalue = [1, 7]'),\n",
       " Text(0.20151879977773662, 0.26, 'gini = 0.0\\nsamples = 4\\nvalue = [0, 4]'),\n",
       " Text(0.20300055565845526, 0.26, 'X[3] <= 0.137\\ngini = 0.375\\nsamples = 4\\nvalue = [1, 3]'),\n",
       " Text(0.20225967771809594, 0.22, 'gini = 0.0\\nsamples = 1\\nvalue = [1, 0]'),\n",
       " Text(0.2037414335988146, 0.22, 'gini = 0.0\\nsamples = 3\\nvalue = [0, 3]'),\n",
       " Text(0.20225967771809594, 0.34, 'gini = 0.0\\nsamples = 5\\nvalue = [5, 0]'),\n",
       " Text(0.1972587516206705, 0.46, 'gini = 0.0\\nsamples = 3\\nvalue = [3, 0]'),\n",
       " Text(0.19799962956102982, 0.5, 'gini = 0.0\\nsamples = 12\\nvalue = [0, 12]'),\n",
       " Text(0.19383219114650863, 0.58, 'gini = 0.0\\nsamples = 4\\nvalue = [4, 0]'),\n",
       " Text(0.19457306908686794, 0.62, 'gini = 0.0\\nsamples = 3\\nvalue = [3, 0]'),\n",
       " Text(0.20355621411372476, 0.7, 'X[3] <= 0.121\\ngini = 0.253\\nsamples = 74\\nvalue = [11, 63]'),\n",
       " Text(0.20170401926282644, 0.66, 'X[1] <= 0.681\\ngini = 0.098\\nsamples = 58\\nvalue = [3, 55]'),\n",
       " Text(0.2002222633821078, 0.62, 'X[1] <= 0.317\\ngini = 0.073\\nsamples = 53\\nvalue = [2, 51]'),\n",
       " Text(0.19948138544174848, 0.58, 'gini = 0.0\\nsamples = 9\\nvalue = [0, 9]'),\n",
       " Text(0.20096314132246712, 0.58, 'X[2] <= -0.125\\ngini = 0.087\\nsamples = 44\\nvalue = [2, 42]'),\n",
       " Text(0.2002222633821078, 0.54, 'X[0] <= 1.293\\ngini = 0.188\\nsamples = 19\\nvalue = [2, 17]'),\n",
       " Text(0.19948138544174848, 0.5, 'gini = 0.0\\nsamples = 14\\nvalue = [0, 14]'),\n",
       " Text(0.20096314132246712, 0.5, 'X[2] <= -0.75\\ngini = 0.48\\nsamples = 5\\nvalue = [2, 3]'),\n",
       " Text(0.2002222633821078, 0.46, 'gini = 0.0\\nsamples = 3\\nvalue = [0, 3]'),\n",
       " Text(0.20170401926282644, 0.46, 'gini = 0.0\\nsamples = 2\\nvalue = [2, 0]'),\n",
       " Text(0.20170401926282644, 0.54, 'gini = 0.0\\nsamples = 25\\nvalue = [0, 25]'),\n",
       " Text(0.2031857751435451, 0.62, 'X[8] <= 1.0\\ngini = 0.32\\nsamples = 5\\nvalue = [1, 4]'),\n",
       " Text(0.2024448972031858, 0.58, 'gini = 0.0\\nsamples = 4\\nvalue = [0, 4]'),\n",
       " Text(0.20392665308390442, 0.58, 'gini = 0.0\\nsamples = 1\\nvalue = [1, 0]'),\n",
       " Text(0.2054084089646231, 0.66, 'X[1] <= 0.504\\ngini = 0.5\\nsamples = 16\\nvalue = [8, 8]'),\n",
       " Text(0.20466753102426374, 0.62, 'gini = 0.0\\nsamples = 6\\nvalue = [6, 0]'),\n",
       " Text(0.2061492869049824, 0.62, 'X[2] <= -0.75\\ngini = 0.32\\nsamples = 10\\nvalue = [2, 8]'),\n",
       " Text(0.2054084089646231, 0.58, 'gini = 0.0\\nsamples = 1\\nvalue = [1, 0]'),\n",
       " Text(0.20689016484534173, 0.58, 'X[7] <= 0.859\\ngini = 0.198\\nsamples = 9\\nvalue = [1, 8]'),\n",
       " Text(0.2061492869049824, 0.54, 'gini = 0.0\\nsamples = 7\\nvalue = [0, 7]'),\n",
       " Text(0.20763104278570105, 0.54, 'X[0] <= 0.887\\ngini = 0.5\\nsamples = 2\\nvalue = [1, 1]'),\n",
       " Text(0.20689016484534173, 0.5, 'gini = 0.0\\nsamples = 1\\nvalue = [0, 1]'),\n",
       " Text(0.2083719207260604, 0.5, 'gini = 0.0\\nsamples = 1\\nvalue = [1, 0]'),\n",
       " Text(0.2235136136321541, 0.74, 'X[4] <= 2.5\\ngini = 0.484\\nsamples = 283\\nvalue = [167, 116]'),\n",
       " Text(0.21716984626782737, 0.7, 'X[1] <= 0.504\\ngini = 0.382\\nsamples = 218\\nvalue = [162, 56]'),\n",
       " Text(0.2137432857936655, 0.66, 'X[3] <= 0.067\\ngini = 0.25\\nsamples = 123\\nvalue = [105, 18]'),\n",
       " Text(0.21170587145767736, 0.62, 'X[7] <= 0.691\\ngini = 0.196\\nsamples = 109\\nvalue = [97, 12]'),\n",
       " Text(0.20985367660677903, 0.58, 'X[0] <= 0.789\\ngini = 0.126\\nsamples = 74\\nvalue = [69, 5]'),\n",
       " Text(0.2091127986664197, 0.54, 'gini = 0.0\\nsamples = 53\\nvalue = [53, 0]'),\n",
       " Text(0.21059455454713835, 0.54, 'X[0] <= 0.825\\ngini = 0.363\\nsamples = 21\\nvalue = [16, 5]'),\n",
       " Text(0.20985367660677903, 0.5, 'gini = 0.0\\nsamples = 5\\nvalue = [0, 5]'),\n",
       " Text(0.2113354324874977, 0.5, 'gini = 0.0\\nsamples = 16\\nvalue = [16, 0]'),\n",
       " Text(0.21355806630857566, 0.58, 'X[7] <= 0.707\\ngini = 0.32\\nsamples = 35\\nvalue = [28, 7]'),\n",
       " Text(0.21281718836821634, 0.54, 'gini = 0.0\\nsamples = 3\\nvalue = [0, 3]'),\n",
       " Text(0.21429894424893497, 0.54, 'X[8] <= 1.0\\ngini = 0.219\\nsamples = 32\\nvalue = [28, 4]'),\n",
       " Text(0.21281718836821634, 0.5, 'X[7] <= 0.841\\ngini = 0.245\\nsamples = 7\\nvalue = [6, 1]'),\n",
       " Text(0.21207631042785702, 0.46, 'X[1] <= 0.412\\ngini = 0.444\\nsamples = 3\\nvalue = [2, 1]'),\n",
       " Text(0.2113354324874977, 0.42, 'gini = 0.0\\nsamples = 2\\nvalue = [2, 0]'),\n",
       " Text(0.21281718836821634, 0.42, 'gini = 0.0\\nsamples = 1\\nvalue = [0, 1]'),\n",
       " Text(0.21355806630857566, 0.46, 'gini = 0.0\\nsamples = 4\\nvalue = [4, 0]'),\n",
       " Text(0.21578070012965364, 0.5, 'X[2] <= 1.125\\ngini = 0.211\\nsamples = 25\\nvalue = [22, 3]'),\n",
       " Text(0.21503982218929432, 0.46, 'gini = 0.0\\nsamples = 20\\nvalue = [20, 0]'),\n",
       " Text(0.21652157807001296, 0.46, 'X[0] <= -0.562\\ngini = 0.48\\nsamples = 5\\nvalue = [2, 3]'),\n",
       " Text(0.21578070012965364, 0.42, 'gini = 0.0\\nsamples = 1\\nvalue = [1, 0]'),\n",
       " Text(0.21726245601037228, 0.42, 'X[1] <= 0.364\\ngini = 0.375\\nsamples = 4\\nvalue = [1, 3]'),\n",
       " Text(0.21652157807001296, 0.38, 'gini = 0.0\\nsamples = 1\\nvalue = [1, 0]'),\n",
       " Text(0.21800333395073163, 0.38, 'gini = 0.0\\nsamples = 3\\nvalue = [0, 3]'),\n",
       " Text(0.21578070012965364, 0.62, 'X[7] <= 0.409\\ngini = 0.49\\nsamples = 14\\nvalue = [8, 6]'),\n",
       " Text(0.21503982218929432, 0.58, 'gini = 0.0\\nsamples = 4\\nvalue = [4, 0]'),\n",
       " Text(0.21652157807001296, 0.58, 'X[3] <= 0.298\\ngini = 0.48\\nsamples = 10\\nvalue = [4, 6]'),\n",
       " Text(0.21578070012965364, 0.54, 'gini = 0.0\\nsamples = 6\\nvalue = [0, 6]'),\n",
       " Text(0.21726245601037228, 0.54, 'gini = 0.0\\nsamples = 4\\nvalue = [4, 0]'),\n",
       " Text(0.22059640674198927, 0.66, 'X[8] <= 1.5\\ngini = 0.48\\nsamples = 95\\nvalue = [57, 38]'),\n",
       " Text(0.21874421189109094, 0.62, 'X[0] <= 0.83\\ngini = 0.342\\nsamples = 32\\nvalue = [25, 7]'),\n",
       " Text(0.21800333395073163, 0.58, 'gini = 0.0\\nsamples = 24\\nvalue = [24, 0]'),\n",
       " Text(0.21948508983145026, 0.58, 'X[7] <= 0.547\\ngini = 0.219\\nsamples = 8\\nvalue = [1, 7]'),\n",
       " Text(0.21874421189109094, 0.54, 'gini = 0.0\\nsamples = 7\\nvalue = [0, 7]'),\n",
       " Text(0.22022596777180958, 0.54, 'gini = 0.0\\nsamples = 1\\nvalue = [1, 0]'),\n",
       " Text(0.22244860159288757, 0.62, 'X[7] <= 0.157\\ngini = 0.5\\nsamples = 63\\nvalue = [32, 31]'),\n",
       " Text(0.22170772365252825, 0.58, 'gini = 0.0\\nsamples = 10\\nvalue = [10, 0]'),\n",
       " Text(0.2231894795332469, 0.58, 'X[7] <= 0.255\\ngini = 0.486\\nsamples = 53\\nvalue = [22, 31]'),\n",
       " Text(0.22170772365252825, 0.54, 'X[7] <= 0.217\\ngini = 0.18\\nsamples = 10\\nvalue = [1, 9]'),\n",
       " Text(0.22096684571216893, 0.5, 'X[7] <= 0.187\\ngini = 0.375\\nsamples = 4\\nvalue = [1, 3]'),\n",
       " Text(0.22022596777180958, 0.46, 'gini = 0.0\\nsamples = 3\\nvalue = [0, 3]'),\n",
       " Text(0.22170772365252825, 0.46, 'gini = 0.0\\nsamples = 1\\nvalue = [1, 0]'),\n",
       " Text(0.22244860159288757, 0.5, 'gini = 0.0\\nsamples = 6\\nvalue = [0, 6]'),\n",
       " Text(0.22467123541396555, 0.54, 'X[3] <= 0.152\\ngini = 0.5\\nsamples = 43\\nvalue = [21, 22]'),\n",
       " Text(0.22393035747360623, 0.5, 'X[7] <= 0.85\\ngini = 0.499\\nsamples = 42\\nvalue = [20, 22]'),\n",
       " Text(0.2231894795332469, 0.46, 'X[0] <= 1.012\\ngini = 0.492\\nsamples = 39\\nvalue = [17, 22]'),\n",
       " Text(0.22244860159288757, 0.42, 'X[2] <= -0.375\\ngini = 0.482\\nsamples = 37\\nvalue = [15, 22]'),\n",
       " Text(0.22170772365252825, 0.38, 'gini = 0.0\\nsamples = 5\\nvalue = [5, 0]'),\n",
       " Text(0.2231894795332469, 0.38, 'X[1] <= 0.681\\ngini = 0.43\\nsamples = 32\\nvalue = [10, 22]'),\n",
       " Text(0.22170772365252825, 0.34, 'X[0] <= -1.216\\ngini = 0.417\\nsamples = 27\\nvalue = [8, 19]'),\n",
       " Text(0.22096684571216893, 0.3, 'gini = 0.0\\nsamples = 1\\nvalue = [1, 0]'),\n",
       " Text(0.22244860159288757, 0.3, 'X[2] <= -0.125\\ngini = 0.393\\nsamples = 26\\nvalue = [7, 19]'),\n",
       " Text(0.22170772365252825, 0.26, 'gini = 0.0\\nsamples = 1\\nvalue = [1, 0]'),\n",
       " Text(0.2231894795332469, 0.26, 'X[7] <= 0.295\\ngini = 0.365\\nsamples = 25\\nvalue = [6, 19]'),\n",
       " Text(0.22244860159288757, 0.22, 'gini = 0.0\\nsamples = 1\\nvalue = [1, 0]'),\n",
       " Text(0.22393035747360623, 0.22, 'X[7] <= 0.758\\ngini = 0.33\\nsamples = 24\\nvalue = [5, 19]'),\n",
       " Text(0.22244860159288757, 0.18, 'X[1] <= 0.593\\ngini = 0.255\\nsamples = 20\\nvalue = [3, 17]'),\n",
       " Text(0.22170772365252825, 0.14, 'X[5] <= 0.5\\ngini = 0.42\\nsamples = 10\\nvalue = [3, 7]'),\n",
       " Text(0.22096684571216893, 0.1, 'gini = 0.0\\nsamples = 3\\nvalue = [0, 3]'),\n",
       " Text(0.22244860159288757, 0.1, 'X[7] <= 0.705\\ngini = 0.49\\nsamples = 7\\nvalue = [3, 4]'),\n",
       " Text(0.22170772365252825, 0.06, 'gini = 0.0\\nsamples = 3\\nvalue = [3, 0]'),\n",
       " Text(0.2231894795332469, 0.06, 'gini = 0.0\\nsamples = 4\\nvalue = [0, 4]'),\n",
       " Text(0.2231894795332469, 0.14, 'gini = 0.0\\nsamples = 10\\nvalue = [0, 10]'),\n",
       " Text(0.22541211335432487, 0.18, 'X[7] <= 0.832\\ngini = 0.5\\nsamples = 4\\nvalue = [2, 2]'),\n",
       " Text(0.22467123541396555, 0.14, 'gini = 0.0\\nsamples = 2\\nvalue = [2, 0]'),\n",
       " Text(0.2261529912946842, 0.14, 'gini = 0.0\\nsamples = 2\\nvalue = [0, 2]'),\n",
       " Text(0.22467123541396555, 0.34, 'X[7] <= 0.736\\ngini = 0.48\\nsamples = 5\\nvalue = [2, 3]'),\n",
       " Text(0.22393035747360623, 0.3, 'gini = 0.0\\nsamples = 1\\nvalue = [1, 0]'),\n",
       " Text(0.22541211335432487, 0.3, 'X[5] <= 0.5\\ngini = 0.375\\nsamples = 4\\nvalue = [1, 3]'),\n",
       " Text(0.22467123541396555, 0.26, 'gini = 0.0\\nsamples = 1\\nvalue = [1, 0]'),\n",
       " Text(0.2261529912946842, 0.26, 'gini = 0.0\\nsamples = 3\\nvalue = [0, 3]'),\n",
       " Text(0.22393035747360623, 0.42, 'gini = 0.0\\nsamples = 2\\nvalue = [2, 0]'),\n",
       " Text(0.22467123541396555, 0.46, 'gini = 0.0\\nsamples = 3\\nvalue = [3, 0]'),\n",
       " Text(0.22541211335432487, 0.5, 'gini = 0.0\\nsamples = 1\\nvalue = [1, 0]'),\n",
       " Text(0.22985738099648084, 0.7, 'X[2] <= -0.875\\ngini = 0.142\\nsamples = 65\\nvalue = [5, 60]'),\n",
       " Text(0.2291165030561215, 0.66, 'gini = 0.0\\nsamples = 1\\nvalue = [1, 0]'),\n",
       " Text(0.23059825893684016, 0.66, 'X[7] <= 0.754\\ngini = 0.117\\nsamples = 64\\nvalue = [4, 60]'),\n",
       " Text(0.2291165030561215, 0.62, 'X[2] <= 1.0\\ngini = 0.094\\nsamples = 61\\nvalue = [3, 58]'),\n",
       " Text(0.22837562511576218, 0.58, 'X[7] <= 0.309\\ngini = 0.064\\nsamples = 60\\nvalue = [2, 58]'),\n",
       " Text(0.22763474717540286, 0.54, 'X[1] <= 0.317\\ngini = 0.208\\nsamples = 17\\nvalue = [2, 15]'),\n",
       " Text(0.22689386923504354, 0.5, 'gini = 0.0\\nsamples = 1\\nvalue = [1, 0]'),\n",
       " Text(0.22837562511576218, 0.5, 'X[0] <= 0.68\\ngini = 0.117\\nsamples = 16\\nvalue = [1, 15]'),\n",
       " Text(0.22763474717540286, 0.46, 'gini = 0.0\\nsamples = 10\\nvalue = [0, 10]'),\n",
       " Text(0.2291165030561215, 0.46, 'X[0] <= 1.626\\ngini = 0.278\\nsamples = 6\\nvalue = [1, 5]'),\n",
       " Text(0.22837562511576218, 0.42, 'gini = 0.0\\nsamples = 1\\nvalue = [1, 0]'),\n",
       " Text(0.22985738099648084, 0.42, 'gini = 0.0\\nsamples = 5\\nvalue = [0, 5]'),\n",
       " Text(0.2291165030561215, 0.54, 'gini = 0.0\\nsamples = 43\\nvalue = [0, 43]'),\n",
       " Text(0.22985738099648084, 0.58, 'gini = 0.0\\nsamples = 1\\nvalue = [1, 0]'),\n",
       " Text(0.2320800148175588, 0.62, 'X[8] <= 1.0\\ngini = 0.444\\nsamples = 3\\nvalue = [1, 2]'),\n",
       " Text(0.23133913687719948, 0.58, 'gini = 0.0\\nsamples = 2\\nvalue = [0, 2]'),\n",
       " Text(0.23282089275791815, 0.58, 'gini = 0.0\\nsamples = 1\\nvalue = [1, 0]'),\n",
       " Text(0.25068299685126877, 0.78, 'X[8] <= 0.5\\ngini = 0.49\\nsamples = 449\\nvalue = [256, 193]'),\n",
       " Text(0.24115576958696056, 0.74, 'X[4] <= 2.5\\ngini = 0.438\\nsamples = 114\\nvalue = [77, 37]'),\n",
       " Text(0.2404148916466012, 0.7, 'X[3] <= 0.105\\ngini = 0.37\\nsamples = 102\\nvalue = [77, 25]'),\n",
       " Text(0.23763659937025375, 0.66, 'X[1] <= 0.317\\ngini = 0.206\\nsamples = 77\\nvalue = [68, 9]'),\n",
       " Text(0.2350435265789961, 0.62, 'X[7] <= 0.601\\ngini = 0.401\\nsamples = 18\\nvalue = [13, 5]'),\n",
       " Text(0.23430264863863678, 0.58, 'gini = 0.0\\nsamples = 7\\nvalue = [7, 0]'),\n",
       " Text(0.23578440451935542, 0.58, 'X[7] <= 0.695\\ngini = 0.496\\nsamples = 11\\nvalue = [6, 5]'),\n",
       " Text(0.2350435265789961, 0.54, 'gini = 0.0\\nsamples = 5\\nvalue = [0, 5]'),\n",
       " Text(0.23652528245971477, 0.54, 'gini = 0.0\\nsamples = 6\\nvalue = [6, 0]'),\n",
       " Text(0.2402296721615114, 0.62, 'X[2] <= -0.875\\ngini = 0.126\\nsamples = 59\\nvalue = [55, 4]'),\n",
       " Text(0.23874791628079273, 0.58, 'X[7] <= 0.575\\ngini = 0.49\\nsamples = 7\\nvalue = [4, 3]'),\n",
       " Text(0.2380070383404334, 0.54, 'gini = 0.0\\nsamples = 3\\nvalue = [0, 3]'),\n",
       " Text(0.23948879422115207, 0.54, 'gini = 0.0\\nsamples = 4\\nvalue = [4, 0]'),\n",
       " Text(0.24171142804223003, 0.58, 'X[7] <= 0.868\\ngini = 0.038\\nsamples = 52\\nvalue = [51, 1]'),\n",
       " Text(0.2409705501018707, 0.54, 'gini = 0.0\\nsamples = 44\\nvalue = [44, 0]'),\n",
       " Text(0.24245230598258938, 0.54, 'X[0] <= -0.032\\ngini = 0.219\\nsamples = 8\\nvalue = [7, 1]'),\n",
       " Text(0.24171142804223003, 0.5, 'X[0] <= -0.531\\ngini = 0.444\\nsamples = 3\\nvalue = [2, 1]'),\n",
       " Text(0.2409705501018707, 0.46, 'gini = 0.0\\nsamples = 2\\nvalue = [2, 0]'),\n",
       " Text(0.24245230598258938, 0.46, 'gini = 0.0\\nsamples = 1\\nvalue = [0, 1]'),\n",
       " Text(0.2431931839229487, 0.5, 'gini = 0.0\\nsamples = 5\\nvalue = [5, 0]'),\n",
       " Text(0.2431931839229487, 0.66, 'X[1] <= 0.317\\ngini = 0.461\\nsamples = 25\\nvalue = [9, 16]'),\n",
       " Text(0.24245230598258938, 0.62, 'gini = 0.0\\nsamples = 9\\nvalue = [0, 9]'),\n",
       " Text(0.24393406186330802, 0.62, 'X[7] <= 0.439\\ngini = 0.492\\nsamples = 16\\nvalue = [9, 7]'),\n",
       " Text(0.2431931839229487, 0.58, 'gini = 0.0\\nsamples = 6\\nvalue = [6, 0]'),\n",
       " Text(0.24467493980366734, 0.58, 'X[3] <= 0.232\\ngini = 0.42\\nsamples = 10\\nvalue = [3, 7]'),\n",
       " Text(0.24393406186330802, 0.54, 'gini = 0.0\\nsamples = 6\\nvalue = [0, 6]'),\n",
       " Text(0.24541581774402668, 0.54, 'X[1] <= 0.593\\ngini = 0.375\\nsamples = 4\\nvalue = [3, 1]'),\n",
       " Text(0.24467493980366734, 0.5, 'X[5] <= 0.5\\ngini = 0.5\\nsamples = 2\\nvalue = [1, 1]'),\n",
       " Text(0.24393406186330802, 0.46, 'gini = 0.0\\nsamples = 1\\nvalue = [1, 0]'),\n",
       " Text(0.24541581774402668, 0.46, 'gini = 0.0\\nsamples = 1\\nvalue = [0, 1]'),\n",
       " Text(0.246156695684386, 0.5, 'gini = 0.0\\nsamples = 2\\nvalue = [2, 0]'),\n",
       " Text(0.24189664752731987, 0.7, 'gini = 0.0\\nsamples = 12\\nvalue = [0, 12]'),\n",
       " Text(0.260210224115577, 0.74, 'X[4] <= 1.5\\ngini = 0.498\\nsamples = 335\\nvalue = [179, 156]'),\n",
       " Text(0.2557418040377848, 0.7, 'X[3] <= 0.311\\ngini = 0.458\\nsamples = 152\\nvalue = [54, 98]'),\n",
       " Text(0.2550009260974255, 0.66, 'X[0] <= 0.804\\ngini = 0.424\\nsamples = 141\\nvalue = [43, 98]'),\n",
       " Text(0.25180588997962583, 0.62, 'X[3] <= 0.19\\ngini = 0.452\\nsamples = 116\\nvalue = [40, 76]'),\n",
       " Text(0.2510650120392665, 0.58, 'X[7] <= 0.722\\ngini = 0.417\\nsamples = 108\\nvalue = [32, 76]'),\n",
       " Text(0.24837932950546399, 0.54, 'X[3] <= 0.034\\ngini = 0.491\\nsamples = 53\\nvalue = [23, 30]'),\n",
       " Text(0.24763845156510464, 0.5, 'X[7] <= 0.565\\ngini = 0.475\\nsamples = 49\\nvalue = [19, 30]'),\n",
       " Text(0.24689757362474532, 0.46, 'X[1] <= 0.504\\ngini = 0.444\\nsamples = 45\\nvalue = [15, 30]'),\n",
       " Text(0.24523059825893684, 0.42, 'X[2] <= 0.625\\ngini = 0.368\\nsamples = 37\\nvalue = [9, 28]'),\n",
       " Text(0.24448972031857752, 0.38, 'X[2] <= -0.375\\ngini = 0.291\\nsamples = 34\\nvalue = [6, 28]'),\n",
       " Text(0.24189664752731987, 0.34, 'X[0] <= -0.016\\ngini = 0.111\\nsamples = 17\\nvalue = [1, 16]'),\n",
       " Text(0.24115576958696056, 0.3, 'gini = 0.0\\nsamples = 12\\nvalue = [0, 12]'),\n",
       " Text(0.2426375254676792, 0.3, 'X[2] <= -0.875\\ngini = 0.32\\nsamples = 5\\nvalue = [1, 4]'),\n",
       " Text(0.24189664752731987, 0.26, 'gini = 0.0\\nsamples = 1\\nvalue = [1, 0]'),\n",
       " Text(0.2433784034080385, 0.26, 'gini = 0.0\\nsamples = 4\\nvalue = [0, 4]'),\n",
       " Text(0.24708279310983516, 0.34, 'X[7] <= 0.341\\ngini = 0.415\\nsamples = 17\\nvalue = [5, 12]'),\n",
       " Text(0.2456010372291165, 0.3, 'X[7] <= 0.105\\ngini = 0.5\\nsamples = 8\\nvalue = [4, 4]'),\n",
       " Text(0.24486015928875718, 0.26, 'gini = 0.0\\nsamples = 4\\nvalue = [0, 4]'),\n",
       " Text(0.24634191516947582, 0.26, 'gini = 0.0\\nsamples = 4\\nvalue = [4, 0]'),\n",
       " Text(0.2485645489905538, 0.3, 'X[1] <= 0.412\\ngini = 0.198\\nsamples = 9\\nvalue = [1, 8]'),\n",
       " Text(0.24782367105019448, 0.26, 'gini = 0.0\\nsamples = 1\\nvalue = [1, 0]'),\n",
       " Text(0.24930542693091312, 0.26, 'gini = 0.0\\nsamples = 8\\nvalue = [0, 8]'),\n",
       " Text(0.24597147619929616, 0.38, 'gini = 0.0\\nsamples = 3\\nvalue = [3, 0]'),\n",
       " Text(0.2485645489905538, 0.42, 'X[1] <= 0.681\\ngini = 0.375\\nsamples = 8\\nvalue = [6, 2]'),\n",
       " Text(0.24782367105019448, 0.38, 'gini = 0.0\\nsamples = 5\\nvalue = [5, 0]'),\n",
       " Text(0.24930542693091312, 0.38, 'X[7] <= 0.258\\ngini = 0.444\\nsamples = 3\\nvalue = [1, 2]'),\n",
       " Text(0.2485645489905538, 0.34, 'gini = 0.0\\nsamples = 1\\nvalue = [1, 0]'),\n",
       " Text(0.25004630487127244, 0.34, 'gini = 0.0\\nsamples = 2\\nvalue = [0, 2]'),\n",
       " Text(0.24837932950546399, 0.46, 'gini = 0.0\\nsamples = 4\\nvalue = [4, 0]'),\n",
       " Text(0.2491202074458233, 0.5, 'gini = 0.0\\nsamples = 4\\nvalue = [4, 0]'),\n",
       " Text(0.2537506945730691, 0.54, 'X[0] <= -1.211\\ngini = 0.274\\nsamples = 55\\nvalue = [9, 46]'),\n",
       " Text(0.25300981663270977, 0.5, 'gini = 0.0\\nsamples = 2\\nvalue = [2, 0]'),\n",
       " Text(0.2544915725134284, 0.5, 'X[0] <= 0.591\\ngini = 0.229\\nsamples = 53\\nvalue = [7, 46]'),\n",
       " Text(0.2537506945730691, 0.46, 'X[0] <= -0.333\\ngini = 0.177\\nsamples = 51\\nvalue = [5, 46]'),\n",
       " Text(0.25300981663270977, 0.42, 'X[1] <= 0.412\\ngini = 0.415\\nsamples = 17\\nvalue = [5, 12]'),\n",
       " Text(0.25226893869235045, 0.38, 'X[1] <= 0.317\\ngini = 0.408\\nsamples = 7\\nvalue = [5, 2]'),\n",
       " Text(0.25152806075199113, 0.34, 'gini = 0.0\\nsamples = 3\\nvalue = [3, 0]'),\n",
       " Text(0.25300981663270977, 0.34, 'X[0] <= -0.868\\ngini = 0.5\\nsamples = 4\\nvalue = [2, 2]'),\n",
       " Text(0.25226893869235045, 0.3, 'gini = 0.0\\nsamples = 2\\nvalue = [0, 2]'),\n",
       " Text(0.2537506945730691, 0.3, 'gini = 0.0\\nsamples = 2\\nvalue = [2, 0]'),\n",
       " Text(0.2537506945730691, 0.38, 'gini = 0.0\\nsamples = 10\\nvalue = [0, 10]'),\n",
       " Text(0.2544915725134284, 0.42, 'gini = 0.0\\nsamples = 34\\nvalue = [0, 34]'),\n",
       " Text(0.25523245045378773, 0.46, 'gini = 0.0\\nsamples = 2\\nvalue = [2, 0]'),\n",
       " Text(0.2525467679199852, 0.58, 'gini = 0.0\\nsamples = 8\\nvalue = [8, 0]'),\n",
       " Text(0.25819596221522506, 0.62, 'X[1] <= 0.317\\ngini = 0.211\\nsamples = 25\\nvalue = [3, 22]'),\n",
       " Text(0.25745508427486574, 0.58, 'gini = 0.0\\nsamples = 1\\nvalue = [1, 0]'),\n",
       " Text(0.2589368401555844, 0.58, 'X[2] <= 0.375\\ngini = 0.153\\nsamples = 24\\nvalue = [2, 22]'),\n",
       " Text(0.25819596221522506, 0.54, 'X[3] <= 0.115\\ngini = 0.48\\nsamples = 5\\nvalue = [2, 3]'),\n",
       " Text(0.25745508427486574, 0.5, 'X[1] <= 0.457\\ngini = 0.375\\nsamples = 4\\nvalue = [1, 3]'),\n",
       " Text(0.25671420633450637, 0.46, 'gini = 0.0\\nsamples = 1\\nvalue = [1, 0]'),\n",
       " Text(0.25819596221522506, 0.46, 'gini = 0.0\\nsamples = 3\\nvalue = [0, 3]'),\n",
       " Text(0.2589368401555844, 0.5, 'gini = 0.0\\nsamples = 1\\nvalue = [1, 0]'),\n",
       " Text(0.2596777180959437, 0.54, 'gini = 0.0\\nsamples = 19\\nvalue = [0, 19]'),\n",
       " Text(0.2564826819781441, 0.66, 'gini = 0.0\\nsamples = 11\\nvalue = [11, 0]'),\n",
       " Text(0.2646786441933691, 0.7, 'X[7] <= 0.501\\ngini = 0.433\\nsamples = 183\\nvalue = [125, 58]'),\n",
       " Text(0.260418596036303, 0.66, 'X[3] <= 0.225\\ngini = 0.185\\nsamples = 68\\nvalue = [61, 7]'),\n",
       " Text(0.2596777180959437, 0.62, 'gini = 0.0\\nsamples = 56\\nvalue = [56, 0]'),\n",
       " Text(0.26115947397666234, 0.62, 'X[7] <= 0.216\\ngini = 0.486\\nsamples = 12\\nvalue = [5, 7]'),\n",
       " Text(0.260418596036303, 0.58, 'gini = 0.0\\nsamples = 3\\nvalue = [3, 0]'),\n",
       " Text(0.26190035191702166, 0.58, 'X[7] <= 0.347\\ngini = 0.346\\nsamples = 9\\nvalue = [2, 7]'),\n",
       " Text(0.26115947397666234, 0.54, 'gini = 0.0\\nsamples = 7\\nvalue = [0, 7]'),\n",
       " Text(0.262641229857381, 0.54, 'gini = 0.0\\nsamples = 2\\nvalue = [2, 0]'),\n",
       " Text(0.26893869235043527, 0.66, 'X[4] <= 2.5\\ngini = 0.494\\nsamples = 115\\nvalue = [64, 51]'),\n",
       " Text(0.26819781441007595, 0.62, 'X[3] <= 0.298\\ngini = 0.397\\nsamples = 88\\nvalue = [64, 24]'),\n",
       " Text(0.2656047416188183, 0.58, 'X[0] <= 1.444\\ngini = 0.262\\nsamples = 71\\nvalue = [60, 11]'),\n",
       " Text(0.26412298573809967, 0.54, 'X[1] <= 0.412\\ngini = 0.097\\nsamples = 59\\nvalue = [56, 3]'),\n",
       " Text(0.2633821077977403, 0.5, 'X[7] <= 0.681\\ngini = 0.185\\nsamples = 29\\nvalue = [26, 3]'),\n",
       " Text(0.262641229857381, 0.46, 'X[7] <= 0.665\\ngini = 0.42\\nsamples = 10\\nvalue = [7, 3]'),\n",
       " Text(0.26190035191702166, 0.42, 'gini = 0.0\\nsamples = 7\\nvalue = [7, 0]'),\n",
       " Text(0.2633821077977403, 0.42, 'gini = 0.0\\nsamples = 3\\nvalue = [0, 3]'),\n",
       " Text(0.26412298573809967, 0.46, 'gini = 0.0\\nsamples = 19\\nvalue = [19, 0]'),\n",
       " Text(0.264863863678459, 0.5, 'gini = 0.0\\nsamples = 30\\nvalue = [30, 0]'),\n",
       " Text(0.26708649749953695, 0.54, 'X[7] <= 0.864\\ngini = 0.444\\nsamples = 12\\nvalue = [4, 8]'),\n",
       " Text(0.2663456195591776, 0.5, 'X[7] <= 0.608\\ngini = 0.32\\nsamples = 10\\nvalue = [2, 8]'),\n",
       " Text(0.2656047416188183, 0.46, 'gini = 0.0\\nsamples = 1\\nvalue = [1, 0]'),\n",
       " Text(0.26708649749953695, 0.46, 'X[0] <= 1.865\\ngini = 0.198\\nsamples = 9\\nvalue = [1, 8]'),\n",
       " Text(0.2663456195591776, 0.42, 'X[1] <= 0.681\\ngini = 0.375\\nsamples = 4\\nvalue = [1, 3]'),\n",
       " Text(0.2656047416188183, 0.38, 'gini = 0.0\\nsamples = 3\\nvalue = [0, 3]'),\n",
       " Text(0.26708649749953695, 0.38, 'gini = 0.0\\nsamples = 1\\nvalue = [1, 0]'),\n",
       " Text(0.26782737543989626, 0.42, 'gini = 0.0\\nsamples = 5\\nvalue = [0, 5]'),\n",
       " Text(0.26782737543989626, 0.5, 'gini = 0.0\\nsamples = 2\\nvalue = [2, 0]'),\n",
       " Text(0.2707908872013336, 0.58, 'X[2] <= 0.625\\ngini = 0.36\\nsamples = 17\\nvalue = [4, 13]'),\n",
       " Text(0.2700500092609743, 0.54, 'X[2] <= -0.5\\ngini = 0.231\\nsamples = 15\\nvalue = [2, 13]'),\n",
       " Text(0.2693091313206149, 0.5, 'gini = 0.0\\nsamples = 1\\nvalue = [1, 0]'),\n",
       " Text(0.2707908872013336, 0.5, 'X[2] <= 0.375\\ngini = 0.133\\nsamples = 14\\nvalue = [1, 13]'),\n",
       " Text(0.2700500092609743, 0.46, 'X[7] <= 0.692\\ngini = 0.245\\nsamples = 7\\nvalue = [1, 6]'),\n",
       " Text(0.2693091313206149, 0.42, 'gini = 0.0\\nsamples = 6\\nvalue = [0, 6]'),\n",
       " Text(0.2707908872013336, 0.42, 'gini = 0.0\\nsamples = 1\\nvalue = [1, 0]'),\n",
       " Text(0.2715317651416929, 0.46, 'gini = 0.0\\nsamples = 7\\nvalue = [0, 7]'),\n",
       " Text(0.2715317651416929, 0.54, 'gini = 0.0\\nsamples = 2\\nvalue = [2, 0]'),\n",
       " Text(0.2696795702907946, 0.62, 'gini = 0.0\\nsamples = 27\\nvalue = [0, 27]'),\n",
       " Text(0.3296993656232636, 0.86, 'X[0] <= 1.329\\ngini = 0.422\\nsamples = 1324\\nvalue = [401, 923]'),\n",
       " Text(0.30618517318021854, 0.82, 'X[6] <= 0.5\\ngini = 0.435\\nsamples = 1156\\nvalue = [370, 786]'),\n",
       " Text(0.2852843119096129, 0.78, 'X[0] <= 1.298\\ngini = 0.244\\nsamples = 592\\nvalue = [84, 508]'),\n",
       " Text(0.2845434339692536, 0.74, 'X[4] <= 1.5\\ngini = 0.241\\nsamples = 591\\nvalue = [83, 508]'),\n",
       " Text(0.27644008149657345, 0.7, 'X[7] <= 0.007\\ngini = 0.107\\nsamples = 425\\nvalue = [24, 401]'),\n",
       " Text(0.27569920355621413, 0.66, 'gini = 0.0\\nsamples = 1\\nvalue = [1, 0]'),\n",
       " Text(0.2771809594369328, 0.66, 'X[2] <= -1.125\\ngini = 0.103\\nsamples = 424\\nvalue = [23, 401]'),\n",
       " Text(0.27644008149657345, 0.62, 'gini = 0.0\\nsamples = 1\\nvalue = [1, 0]'),\n",
       " Text(0.2779218373772921, 0.62, 'X[1] <= 2.373\\ngini = 0.099\\nsamples = 423\\nvalue = [22, 401]'),\n",
       " Text(0.2771809594369328, 0.58, 'X[8] <= 0.5\\ngini = 0.095\\nsamples = 422\\nvalue = [21, 401]'),\n",
       " Text(0.27301352102241155, 0.54, 'X[2] <= 0.375\\ngini = 0.04\\nsamples = 98\\nvalue = [2, 96]'),\n",
       " Text(0.27227264308205223, 0.5, 'gini = 0.0\\nsamples = 51\\nvalue = [0, 51]'),\n",
       " Text(0.2737543989627709, 0.5, 'X[7] <= 0.638\\ngini = 0.081\\nsamples = 47\\nvalue = [2, 45]'),\n",
       " Text(0.27301352102241155, 0.46, 'X[3] <= 0.301\\ngini = 0.188\\nsamples = 19\\nvalue = [2, 17]'),\n",
       " Text(0.27227264308205223, 0.42, 'X[1] <= 0.848\\ngini = 0.105\\nsamples = 18\\nvalue = [1, 17]'),\n",
       " Text(0.2715317651416929, 0.38, 'X[3] <= 0.133\\ngini = 0.245\\nsamples = 7\\nvalue = [1, 6]'),\n",
       " Text(0.2707908872013336, 0.34, 'gini = 0.0\\nsamples = 1\\nvalue = [1, 0]'),\n",
       " Text(0.27227264308205223, 0.34, 'gini = 0.0\\nsamples = 6\\nvalue = [0, 6]'),\n",
       " Text(0.27301352102241155, 0.38, 'gini = 0.0\\nsamples = 11\\nvalue = [0, 11]'),\n",
       " Text(0.2737543989627709, 0.42, 'gini = 0.0\\nsamples = 1\\nvalue = [1, 0]'),\n",
       " Text(0.2744952769031302, 0.46, 'gini = 0.0\\nsamples = 28\\nvalue = [0, 28]'),\n",
       " Text(0.281348397851454, 0.54, 'X[3] <= 0.344\\ngini = 0.11\\nsamples = 324\\nvalue = [19, 305]'),\n",
       " Text(0.28060751991109467, 0.5, 'X[3] <= 0.186\\ngini = 0.105\\nsamples = 323\\nvalue = [18, 305]'),\n",
       " Text(0.27708834969438784, 0.46, 'X[0] <= -2.041\\ngini = 0.066\\nsamples = 262\\nvalue = [9, 253]'),\n",
       " Text(0.2763474717540285, 0.42, 'gini = 0.0\\nsamples = 1\\nvalue = [1, 0]'),\n",
       " Text(0.27782922763474716, 0.42, 'X[2] <= -0.625\\ngini = 0.059\\nsamples = 261\\nvalue = [8, 253]'),\n",
       " Text(0.2744952769031302, 0.38, 'X[1] <= 1.233\\ngini = 0.112\\nsamples = 67\\nvalue = [4, 63]'),\n",
       " Text(0.2737543989627709, 0.34, 'X[5] <= 0.5\\ngini = 0.245\\nsamples = 28\\nvalue = [4, 24]'),\n",
       " Text(0.27301352102241155, 0.3, 'gini = 0.0\\nsamples = 2\\nvalue = [2, 0]'),\n",
       " Text(0.2744952769031302, 0.3, 'X[2] <= -0.875\\ngini = 0.142\\nsamples = 26\\nvalue = [2, 24]'),\n",
       " Text(0.27301352102241155, 0.26, 'X[1] <= 0.968\\ngini = 0.083\\nsamples = 23\\nvalue = [1, 22]'),\n",
       " Text(0.27227264308205223, 0.22, 'X[7] <= 0.416\\ngini = 0.142\\nsamples = 13\\nvalue = [1, 12]'),\n",
       " Text(0.2715317651416929, 0.18, 'gini = 0.0\\nsamples = 8\\nvalue = [0, 8]'),\n",
       " Text(0.27301352102241155, 0.18, 'X[1] <= 0.848\\ngini = 0.32\\nsamples = 5\\nvalue = [1, 4]'),\n",
       " Text(0.27227264308205223, 0.14, 'gini = 0.0\\nsamples = 4\\nvalue = [0, 4]'),\n",
       " Text(0.2737543989627709, 0.14, 'gini = 0.0\\nsamples = 1\\nvalue = [1, 0]'),\n",
       " Text(0.2737543989627709, 0.22, 'gini = 0.0\\nsamples = 10\\nvalue = [0, 10]'),\n",
       " Text(0.2759770327838489, 0.26, 'X[1] <= 0.929\\ngini = 0.444\\nsamples = 3\\nvalue = [1, 2]'),\n",
       " Text(0.2752361548434895, 0.22, 'gini = 0.0\\nsamples = 2\\nvalue = [0, 2]'),\n",
       " Text(0.2767179107242082, 0.22, 'gini = 0.0\\nsamples = 1\\nvalue = [1, 0]'),\n",
       " Text(0.2752361548434895, 0.34, 'gini = 0.0\\nsamples = 39\\nvalue = [0, 39]'),\n",
       " Text(0.2811631783663641, 0.38, 'X[7] <= 0.377\\ngini = 0.04\\nsamples = 194\\nvalue = [4, 190]'),\n",
       " Text(0.2804223004260048, 0.34, 'X[7] <= 0.369\\ngini = 0.095\\nsamples = 80\\nvalue = [4, 76]'),\n",
       " Text(0.2796814224856455, 0.3, 'X[1] <= 1.512\\ngini = 0.073\\nsamples = 79\\nvalue = [3, 76]'),\n",
       " Text(0.27894054454528616, 0.26, 'X[5] <= 0.5\\ngini = 0.113\\nsamples = 50\\nvalue = [3, 47]'),\n",
       " Text(0.27819966660492684, 0.22, 'gini = 0.0\\nsamples = 8\\nvalue = [0, 8]'),\n",
       " Text(0.2796814224856455, 0.22, 'X[1] <= 0.929\\ngini = 0.133\\nsamples = 42\\nvalue = [3, 39]'),\n",
       " Text(0.27894054454528616, 0.18, 'gini = 0.0\\nsamples = 15\\nvalue = [0, 15]'),\n",
       " Text(0.2804223004260048, 0.18, 'X[0] <= -0.624\\ngini = 0.198\\nsamples = 27\\nvalue = [3, 24]'),\n",
       " Text(0.27894054454528616, 0.14, 'X[7] <= 0.169\\ngini = 0.5\\nsamples = 4\\nvalue = [2, 2]'),\n",
       " Text(0.27819966660492684, 0.1, 'gini = 0.0\\nsamples = 2\\nvalue = [0, 2]'),\n",
       " Text(0.2796814224856455, 0.1, 'gini = 0.0\\nsamples = 2\\nvalue = [2, 0]'),\n",
       " Text(0.2819040563067235, 0.14, 'X[0] <= 0.347\\ngini = 0.083\\nsamples = 23\\nvalue = [1, 22]'),\n",
       " Text(0.2811631783663641, 0.1, 'X[1] <= 1.232\\ngini = 0.198\\nsamples = 9\\nvalue = [1, 8]'),\n",
       " Text(0.2804223004260048, 0.06, 'X[1] <= 1.046\\ngini = 0.444\\nsamples = 3\\nvalue = [1, 2]'),\n",
       " Text(0.2796814224856455, 0.02, 'gini = 0.0\\nsamples = 2\\nvalue = [0, 2]'),\n",
       " Text(0.2811631783663641, 0.02, 'gini = 0.0\\nsamples = 1\\nvalue = [1, 0]'),\n",
       " Text(0.2819040563067235, 0.06, 'gini = 0.0\\nsamples = 6\\nvalue = [0, 6]'),\n",
       " Text(0.2826449342470828, 0.1, 'gini = 0.0\\nsamples = 14\\nvalue = [0, 14]'),\n",
       " Text(0.2804223004260048, 0.26, 'gini = 0.0\\nsamples = 29\\nvalue = [0, 29]'),\n",
       " Text(0.2811631783663641, 0.3, 'gini = 0.0\\nsamples = 1\\nvalue = [1, 0]'),\n",
       " Text(0.2819040563067235, 0.34, 'gini = 0.0\\nsamples = 114\\nvalue = [0, 114]'),\n",
       " Text(0.28412669012780145, 0.46, 'X[1] <= 1.305\\ngini = 0.252\\nsamples = 61\\nvalue = [9, 52]'),\n",
       " Text(0.28338581218744213, 0.42, 'X[2] <= -0.875\\ngini = 0.412\\nsamples = 31\\nvalue = [9, 22]'),\n",
       " Text(0.2826449342470828, 0.38, 'gini = 0.0\\nsamples = 2\\nvalue = [2, 0]'),\n",
       " Text(0.28412669012780145, 0.38, 'X[3] <= 0.211\\ngini = 0.366\\nsamples = 29\\nvalue = [7, 22]'),\n",
       " Text(0.28338581218744213, 0.34, 'gini = 0.0\\nsamples = 2\\nvalue = [2, 0]'),\n",
       " Text(0.28486756806816077, 0.34, 'X[1] <= 1.122\\ngini = 0.302\\nsamples = 27\\nvalue = [5, 22]'),\n",
       " Text(0.28412669012780145, 0.3, 'X[1] <= 1.008\\ngini = 0.401\\nsamples = 18\\nvalue = [5, 13]'),\n",
       " Text(0.28338581218744213, 0.26, 'X[0] <= 0.103\\ngini = 0.231\\nsamples = 15\\nvalue = [2, 13]'),\n",
       " Text(0.2826449342470828, 0.22, 'gini = 0.0\\nsamples = 10\\nvalue = [0, 10]'),\n",
       " Text(0.28412669012780145, 0.22, 'X[7] <= 0.195\\ngini = 0.48\\nsamples = 5\\nvalue = [2, 3]'),\n",
       " Text(0.28338581218744213, 0.18, 'gini = 0.0\\nsamples = 3\\nvalue = [0, 3]'),\n",
       " Text(0.28486756806816077, 0.18, 'gini = 0.0\\nsamples = 2\\nvalue = [2, 0]'),\n",
       " Text(0.28486756806816077, 0.26, 'gini = 0.0\\nsamples = 3\\nvalue = [3, 0]'),\n",
       " Text(0.2856084460085201, 0.3, 'gini = 0.0\\nsamples = 9\\nvalue = [0, 9]'),\n",
       " Text(0.28486756806816077, 0.42, 'gini = 0.0\\nsamples = 30\\nvalue = [0, 30]'),\n",
       " Text(0.2820892757918133, 0.5, 'gini = 0.0\\nsamples = 1\\nvalue = [1, 0]'),\n",
       " Text(0.2786627153176514, 0.58, 'gini = 0.0\\nsamples = 1\\nvalue = [1, 0]'),\n",
       " Text(0.2926467864419337, 0.7, 'X[1] <= 1.16\\ngini = 0.458\\nsamples = 166\\nvalue = [59, 107]'),\n",
       " Text(0.29005371365067606, 0.66, 'X[4] <= 2.5\\ngini = 0.482\\nsamples = 89\\nvalue = [53, 36]'),\n",
       " Text(0.28931283571031674, 0.62, 'X[8] <= 1.5\\ngini = 0.316\\nsamples = 66\\nvalue = [53, 13]'),\n",
       " Text(0.28783107982959805, 0.58, 'X[0] <= -0.546\\ngini = 0.397\\nsamples = 33\\nvalue = [24, 9]'),\n",
       " Text(0.2870902018892387, 0.54, 'X[3] <= 0.323\\ngini = 0.48\\nsamples = 15\\nvalue = [6, 9]'),\n",
       " Text(0.2863493239488794, 0.5, 'X[0] <= -0.64\\ngini = 0.444\\nsamples = 9\\nvalue = [6, 3]'),\n",
       " Text(0.2856084460085201, 0.46, 'gini = 0.0\\nsamples = 6\\nvalue = [6, 0]'),\n",
       " Text(0.2870902018892387, 0.46, 'gini = 0.0\\nsamples = 3\\nvalue = [0, 3]'),\n",
       " Text(0.28783107982959805, 0.5, 'gini = 0.0\\nsamples = 6\\nvalue = [0, 6]'),\n",
       " Text(0.2885719577699574, 0.54, 'gini = 0.0\\nsamples = 18\\nvalue = [18, 0]'),\n",
       " Text(0.2907945915910354, 0.58, 'X[2] <= 1.125\\ngini = 0.213\\nsamples = 33\\nvalue = [29, 4]'),\n",
       " Text(0.29005371365067606, 0.54, 'gini = 0.0\\nsamples = 26\\nvalue = [26, 0]'),\n",
       " Text(0.2915354695313947, 0.54, 'X[0] <= -1.403\\ngini = 0.49\\nsamples = 7\\nvalue = [3, 4]'),\n",
       " Text(0.2907945915910354, 0.5, 'gini = 0.0\\nsamples = 4\\nvalue = [0, 4]'),\n",
       " Text(0.292276347471754, 0.5, 'gini = 0.0\\nsamples = 3\\nvalue = [3, 0]'),\n",
       " Text(0.2907945915910354, 0.62, 'gini = 0.0\\nsamples = 23\\nvalue = [0, 23]'),\n",
       " Text(0.29523985923319135, 0.66, 'X[1] <= 2.53\\ngini = 0.144\\nsamples = 77\\nvalue = [6, 71]'),\n",
       " Text(0.29449898129283203, 0.62, 'X[0] <= -1.605\\ngini = 0.101\\nsamples = 75\\nvalue = [4, 71]'),\n",
       " Text(0.29375810335247265, 0.58, 'gini = 0.0\\nsamples = 1\\nvalue = [1, 0]'),\n",
       " Text(0.29523985923319135, 0.58, 'X[8] <= 1.0\\ngini = 0.078\\nsamples = 74\\nvalue = [3, 71]'),\n",
       " Text(0.29449898129283203, 0.54, 'X[1] <= 2.304\\ngini = 0.17\\nsamples = 32\\nvalue = [3, 29]'),\n",
       " Text(0.29375810335247265, 0.5, 'X[4] <= 2.5\\ngini = 0.121\\nsamples = 31\\nvalue = [2, 29]'),\n",
       " Text(0.29301722541211334, 0.46, 'X[7] <= 0.41\\ngini = 0.26\\nsamples = 13\\nvalue = [2, 11]'),\n",
       " Text(0.292276347471754, 0.42, 'gini = 0.0\\nsamples = 1\\nvalue = [1, 0]'),\n",
       " Text(0.29375810335247265, 0.42, 'X[2] <= 0.5\\ngini = 0.153\\nsamples = 12\\nvalue = [1, 11]'),\n",
       " Text(0.29301722541211334, 0.38, 'X[7] <= 0.73\\ngini = 0.32\\nsamples = 5\\nvalue = [1, 4]'),\n",
       " Text(0.292276347471754, 0.34, 'gini = 0.0\\nsamples = 4\\nvalue = [0, 4]'),\n",
       " Text(0.29375810335247265, 0.34, 'gini = 0.0\\nsamples = 1\\nvalue = [1, 0]'),\n",
       " Text(0.29449898129283203, 0.38, 'gini = 0.0\\nsamples = 7\\nvalue = [0, 7]'),\n",
       " Text(0.29449898129283203, 0.46, 'gini = 0.0\\nsamples = 18\\nvalue = [0, 18]'),\n",
       " Text(0.29523985923319135, 0.5, 'gini = 0.0\\nsamples = 1\\nvalue = [1, 0]'),\n",
       " Text(0.29598073717355067, 0.54, 'gini = 0.0\\nsamples = 42\\nvalue = [0, 42]'),\n",
       " Text(0.29598073717355067, 0.62, 'gini = 0.0\\nsamples = 2\\nvalue = [2, 0]'),\n",
       " Text(0.2860251898499722, 0.74, 'gini = 0.0\\nsamples = 1\\nvalue = [1, 0]'),\n",
       " Text(0.32708603445082424, 0.78, 'X[4] <= 1.5\\ngini = 0.5\\nsamples = 564\\nvalue = [286, 278]'),\n",
       " Text(0.3188321911465086, 0.74, 'X[7] <= 0.912\\ngini = 0.449\\nsamples = 259\\nvalue = [88, 171]'),\n",
       " Text(0.31167808853491386, 0.7, 'X[2] <= -0.875\\ngini = 0.467\\nsamples = 232\\nvalue = [86, 146]'),\n",
       " Text(0.3033895165771439, 0.66, 'X[8] <= 1.5\\ngini = 0.346\\nsamples = 63\\nvalue = [14, 49]'),\n",
       " Text(0.29968512687534726, 0.62, 'X[5] <= 0.5\\ngini = 0.404\\nsamples = 32\\nvalue = [9, 23]'),\n",
       " Text(0.2982033709946286, 0.58, 'X[8] <= 0.5\\ngini = 0.426\\nsamples = 13\\nvalue = [4, 9]'),\n",
       " Text(0.2974624930542693, 0.54, 'X[7] <= 0.838\\ngini = 0.298\\nsamples = 11\\nvalue = [2, 9]'),\n",
       " Text(0.29672161511391, 0.5, 'X[1] <= 1.574\\ngini = 0.18\\nsamples = 10\\nvalue = [1, 9]'),\n",
       " ...]"
      ]
     },
     "execution_count": 89,
     "metadata": {},
     "output_type": "execute_result"
    },
    {
     "data": {
      "image/png": "[encoded data removed]",
      "text/plain": [
       "<Figure size 864x576 with 1 Axes>"
      ]
     },
     "metadata": {
      "needs_background": "light"
     },
     "output_type": "display_data"
    }
   ],
   "source": [
    "plt.figure(figsize=(12,8))\n",
    "\n",
    "from sklearn import tree\n",
    "\n",
    "tree.plot_tree(dt.fit(X_train, y_train)) "
   ]
  },
  {
   "cell_type": "markdown",
   "id": "c2eb80af-4af8-4f2c-ba78-31c8b4396d3c",
   "metadata": {
    "id": "D4tysd02vosk"
   },
   "source": [
    "## K-Nearest Neighbor\n"
   ]
  },
  {
   "cell_type": "code",
   "execution_count": 90,
   "id": "3e91a19a-c680-459d-aeb6-59152c2fd81d",
   "metadata": {
    "id": "c5A7m4RpxMZ3"
   },
   "outputs": [
    {
     "name": "stdout",
     "output_type": "stream",
     "text": [
      "Accuracy Test: 0.758\n",
      "Precision Train: 0.893\n",
      "Precision Test: 0.413\n",
      "Recall Train: 0.9940495336\n",
      "Recall Test: 0.5769230769\n",
      "F1-Score Train: 0.941\n",
      "F1-Score Test: 0.481\n",
      "AUC (Train): 0.996\n",
      "AUC (Test): 0.719\n",
      "roc_auc (crossval train):0.9914017337010792\n",
      "roc_auc (crossval test):0.9157308433144697\n"
     ]
    }
   ],
   "source": [
    "#KNN TANPA TUNING\n",
    "\n",
    "from sklearn.neighbors import KNeighborsClassifier\n",
    "knn = KNeighborsClassifier(n_neighbors=3)\n",
    "knn.fit(X_train, y_train)\n",
    "knn_pred = knn.predict(X_test)\n",
    "knn_pred_train = knn.predict(X_train)\n",
    "eval_classification(knn)"
   ]
  },
  {
   "cell_type": "code",
   "execution_count": 91,
   "id": "45eba42b-f45b-4bae-a451-2c2d7a445fe2",
   "metadata": {
    "id": "dZyLEnBpZpFP"
   },
   "outputs": [
    {
     "name": "stdout",
     "output_type": "stream",
     "text": [
      "              precision    recall  f1-score   support\n",
      "\n",
      "           0       0.89      0.80      0.84      1610\n",
      "           1       0.41      0.58      0.48       390\n",
      "\n",
      "    accuracy                           0.76      2000\n",
      "   macro avg       0.65      0.69      0.66      2000\n",
      "weighted avg       0.79      0.76      0.77      2000\n",
      "\n",
      "              precision    recall  f1-score   support\n",
      "\n",
      "           0       0.99      0.88      0.93      6218\n",
      "           1       0.89      0.99      0.94      6218\n",
      "\n",
      "    accuracy                           0.94     12436\n",
      "   macro avg       0.94      0.94      0.94     12436\n",
      "weighted avg       0.94      0.94      0.94     12436\n",
      "\n"
     ]
    }
   ],
   "source": [
    "from sklearn.metrics import classification_report\n",
    "print(classification_report(y_test, knn_pred))#classification report for logistic model prediction\n",
    "print(classification_report(y_train, knn_pred_train))#classification report for logistic model prediction"
   ]
  },
  {
   "cell_type": "code",
   "execution_count": 92,
   "id": "b7a0c827-db7c-4477-8672-79990cab2c7e",
   "metadata": {
    "id": "IpZX43Gzv0D6"
   },
   "outputs": [
    {
     "name": "stdout",
     "output_type": "stream",
     "text": [
      "[[1290  320]\n",
      " [ 165  225]]\n"
     ]
    }
   ],
   "source": [
    "from sklearn.metrics import confusion_matrix\n",
    "knn_cm = confusion_matrix(y_test, knn_pred)\n",
    "print(knn_cm)"
   ]
  },
  {
   "cell_type": "code",
   "execution_count": 93,
   "id": "a1201c6d-e16c-44cb-ba17-d9a88e054534",
   "metadata": {
    "id": "CkoWBmaVjMGA"
   },
   "outputs": [
    {
     "data": {
      "text/plain": [
       "Text(51.0, 0.5, 'Actual Values')"
      ]
     },
     "execution_count": 93,
     "metadata": {},
     "output_type": "execute_result"
    },
    {
     "data": {
      "image/png": "[encoded data removed]",
      "text/plain": [
       "<Figure size 576x432 with 2 Axes>"
      ]
     },
     "metadata": {
      "needs_background": "light"
     },
     "output_type": "display_data"
    }
   ],
   "source": [
    "import seaborn as sns\n",
    "group_names = ['True Neg','False Pos','False Neg','True Pos']\n",
    "group_counts = ['{0:0.0f}'.format(value) for value in\n",
    "                knn_cm.flatten()]\n",
    "labels = [f\"{v1}\\n{v2}\" for v1, v2 in\n",
    "          zip(group_names,group_counts)]\n",
    "labels = np.asarray(labels).reshape(2,2)\n",
    "plt.figure(figsize=(8,6))\n",
    "cm_plot = sns.heatmap(knn_cm, annot=labels, fmt='', cmap='Blues_r')\n",
    "cm_plot.set_xlabel('Predicted Values')\n",
    "cm_plot.set_ylabel('Actual Values')"
   ]
  },
  {
   "cell_type": "code",
   "execution_count": 94,
   "id": "8e8a2580-435d-4481-a602-3d9d97e35b93",
   "metadata": {},
   "outputs": [
    {
     "name": "stdout",
     "output_type": "stream",
     "text": [
      "Fitting 5 folds for each of 10 candidates, totalling 50 fits\n",
      "[CV 1/5] END n_neighbors=73;, score=(train=0.849, test=0.840) total time=   1.1s\n",
      "[CV 2/5] END n_neighbors=73;, score=(train=0.851, test=0.836) total time=   1.1s\n",
      "[CV 3/5] END n_neighbors=73;, score=(train=0.848, test=0.845) total time=   0.5s\n",
      "[CV 4/5] END n_neighbors=73;, score=(train=0.849, test=0.842) total time=   0.7s\n",
      "[CV 5/5] END n_neighbors=73;, score=(train=0.849, test=0.841) total time=   0.8s\n",
      "[CV 1/5] END .n_neighbors=5;, score=(train=0.967, test=0.894) total time=   0.3s\n",
      "[CV 2/5] END .n_neighbors=5;, score=(train=0.964, test=0.887) total time=   0.3s\n",
      "[CV 3/5] END .n_neighbors=5;, score=(train=0.963, test=0.903) total time=   0.3s\n",
      "[CV 4/5] END .n_neighbors=5;, score=(train=0.963, test=0.908) total time=   0.2s\n",
      "[CV 5/5] END .n_neighbors=5;, score=(train=0.963, test=0.902) total time=   0.1s\n",
      "[CV 1/5] END n_neighbors=62;, score=(train=0.852, test=0.840) total time=   0.5s\n",
      "[CV 2/5] END n_neighbors=62;, score=(train=0.854, test=0.836) total time=   0.7s\n",
      "[CV 3/5] END n_neighbors=62;, score=(train=0.850, test=0.846) total time=   1.0s\n",
      "[CV 4/5] END n_neighbors=62;, score=(train=0.851, test=0.844) total time=   0.7s\n",
      "[CV 5/5] END n_neighbors=62;, score=(train=0.851, test=0.845) total time=   0.5s\n",
      "[CV 1/5] END n_neighbors=38;, score=(train=0.866, test=0.845) total time=   0.7s\n",
      "[CV 2/5] END n_neighbors=38;, score=(train=0.866, test=0.844) total time=   0.6s\n",
      "[CV 3/5] END n_neighbors=38;, score=(train=0.861, test=0.855) total time=   0.7s\n",
      "[CV 4/5] END n_neighbors=38;, score=(train=0.864, test=0.852) total time=   0.5s\n",
      "[CV 5/5] END n_neighbors=38;, score=(train=0.864, test=0.847) total time=   0.4s\n",
      "[CV 1/5] END .....n_neighbors=0;, score=(train=nan, test=nan) total time=   0.0s\n",
      "[CV 2/5] END .....n_neighbors=0;, score=(train=nan, test=nan) total time=   0.0s\n",
      "[CV 3/5] END .....n_neighbors=0;, score=(train=nan, test=nan) total time=   0.0s\n",
      "[CV 4/5] END .....n_neighbors=0;, score=(train=nan, test=nan) total time=   0.0s\n",
      "[CV 5/5] END .....n_neighbors=0;, score=(train=nan, test=nan) total time=   0.0s\n",
      "[CV 1/5] END n_neighbors=82;, score=(train=0.848, test=0.839) total time=   0.8s\n",
      "[CV 2/5] END n_neighbors=82;, score=(train=0.848, test=0.834) total time=   1.1s\n",
      "[CV 3/5] END n_neighbors=82;, score=(train=0.845, test=0.843) total time=   0.9s\n",
      "[CV 4/5] END n_neighbors=82;, score=(train=0.847, test=0.842) total time=   0.6s\n",
      "[CV 5/5] END n_neighbors=82;, score=(train=0.847, test=0.840) total time=   0.9s\n",
      "[CV 1/5] END n_neighbors=71;, score=(train=0.850, test=0.841) total time=   1.1s\n",
      "[CV 2/5] END n_neighbors=71;, score=(train=0.851, test=0.836) total time=   1.1s\n",
      "[CV 3/5] END n_neighbors=71;, score=(train=0.848, test=0.846) total time=   0.6s\n",
      "[CV 4/5] END n_neighbors=71;, score=(train=0.849, test=0.842) total time=   0.5s\n",
      "[CV 5/5] END n_neighbors=71;, score=(train=0.850, test=0.842) total time=   0.8s\n",
      "[CV 1/5] END n_neighbors=42;, score=(train=0.863, test=0.843) total time=   0.7s\n",
      "[CV 2/5] END n_neighbors=42;, score=(train=0.863, test=0.843) total time=   0.5s\n",
      "[CV 3/5] END n_neighbors=42;, score=(train=0.859, test=0.853) total time=   0.5s\n",
      "[CV 4/5] END n_neighbors=42;, score=(train=0.860, test=0.850) total time=   0.6s\n",
      "[CV 5/5] END n_neighbors=42;, score=(train=0.861, test=0.847) total time=   0.7s\n",
      "[CV 1/5] END .n_neighbors=7;, score=(train=0.943, test=0.883) total time=   0.2s\n",
      "[CV 2/5] END .n_neighbors=7;, score=(train=0.942, test=0.878) total time=   0.3s\n",
      "[CV 3/5] END .n_neighbors=7;, score=(train=0.939, test=0.887) total time=   0.2s\n",
      "[CV 4/5] END .n_neighbors=7;, score=(train=0.941, test=0.895) total time=   0.2s\n",
      "[CV 5/5] END .n_neighbors=7;, score=(train=0.939, test=0.889) total time=   0.1s\n",
      "[CV 1/5] END n_neighbors=18;, score=(train=0.892, test=0.862) total time=   0.2s\n",
      "[CV 2/5] END n_neighbors=18;, score=(train=0.893, test=0.854) total time=   0.2s\n",
      "[CV 3/5] END n_neighbors=18;, score=(train=0.889, test=0.871) total time=   0.4s\n",
      "[CV 4/5] END n_neighbors=18;, score=(train=0.891, test=0.868) total time=   0.4s\n",
      "[CV 5/5] END n_neighbors=18;, score=(train=0.889, test=0.863) total time=   0.4s\n"
     ]
    },
    {
     "data": {
      "text/plain": [
       "RandomizedSearchCV(estimator=KNeighborsClassifier(),\n",
       "                   param_distributions={'n_neighbors': [0, 1, 3, 5, 7, 9, 11,\n",
       "                                                        12, 14, 16, 18, 20, 22,\n",
       "                                                        23, 25, 27, 29, 31, 33,\n",
       "                                                        34, 36, 38, 40, 42, 44,\n",
       "                                                        45, 47, 49, 51, 53, ...]},\n",
       "                   return_train_score=True, scoring='roc_auc', verbose=3)"
      ]
     },
     "execution_count": 94,
     "metadata": {},
     "output_type": "execute_result"
    }
   ],
   "source": [
    "from sklearn.model_selection import RandomizedSearchCV\n",
    "from sklearn.tree import DecisionTreeClassifier\n",
    "# defining parameter range\n",
    "param_grid = {'n_neighbors' : [int (x) for x in np.linspace(0,90)]} \n",
    "  \n",
    "random = RandomizedSearchCV(KNeighborsClassifier(), param_grid, refit = True, verbose = 3, scoring='roc_auc', return_train_score=True)\n",
    "  \n",
    "# fitting the model for grid search\n",
    "random.fit(X_train, y_train)\n",
    "# random.fit(X_test1, y_test1)"
   ]
  },
  {
   "cell_type": "code",
   "execution_count": 95,
   "id": "e4e2cb42-ec40-48ac-a6bd-4947e56e0cf6",
   "metadata": {},
   "outputs": [
    {
     "name": "stdout",
     "output_type": "stream",
     "text": [
      "{'n_neighbors': 5}\n",
      "KNeighborsClassifier()\n"
     ]
    }
   ],
   "source": [
    "# print best parameter after tuning\n",
    "print(random.best_params_)\n",
    "  \n",
    "# print how our model looks after hyper-parameter tuning\n",
    "print(random.best_estimator_)"
   ]
  },
  {
   "cell_type": "code",
   "execution_count": 103,
   "id": "ef569a40-f975-43e2-8c5a-6bf8f562349a",
   "metadata": {
    "id": "c5A7m4RpxMZ3"
   },
   "outputs": [
    {
     "name": "stdout",
     "output_type": "stream",
     "text": [
      "Accuracy Test: 0.774\n",
      "Precision Train: 0.786\n",
      "Precision Test: 0.449\n",
      "Recall Train: 0.7484721775\n",
      "Recall Test: 0.6846153846\n",
      "F1-Score Train: 0.767\n",
      "F1-Score Test: 0.542\n",
      "AUC (Train): 0.856\n",
      "AUC (Test): 0.814\n",
      "roc_auc (crossval train):0.8510302180918622\n",
      "roc_auc (crossval test):0.8418759311716959\n"
     ]
    }
   ],
   "source": [
    "#KNN TANPA TUNING\n",
    "\n",
    "from sklearn.neighbors import KNeighborsClassifier\n",
    "knn = KNeighborsClassifier(n_neighbors=63)\n",
    "knn.fit(X_train, y_train)\n",
    "knn_pred = knn.predict(X_test)\n",
    "knn_pred_train = knn.predict(X_train)\n",
    "eval_classification(knn)"
   ]
  },
  {
   "cell_type": "code",
   "execution_count": 104,
   "id": "04c46ffa-c859-4471-adb5-6ce87a65ea74",
   "metadata": {
    "id": "dZyLEnBpZpFP"
   },
   "outputs": [
    {
     "name": "stdout",
     "output_type": "stream",
     "text": [
      "              precision    recall  f1-score   support\n",
      "\n",
      "           0       0.91      0.80      0.85      1610\n",
      "           1       0.45      0.68      0.54       390\n",
      "\n",
      "    accuracy                           0.77      2000\n",
      "   macro avg       0.68      0.74      0.70      2000\n",
      "weighted avg       0.82      0.77      0.79      2000\n",
      "\n",
      "              precision    recall  f1-score   support\n",
      "\n",
      "           0       0.76      0.80      0.78      6218\n",
      "           1       0.79      0.75      0.77      6218\n",
      "\n",
      "    accuracy                           0.77     12436\n",
      "   macro avg       0.77      0.77      0.77     12436\n",
      "weighted avg       0.77      0.77      0.77     12436\n",
      "\n"
     ]
    }
   ],
   "source": [
    "from sklearn.metrics import classification_report\n",
    "print(classification_report(y_test, knn_pred))#classification report for logistic model prediction\n",
    "print(classification_report(y_train, knn_pred_train))#classification report for logistic model prediction"
   ]
  },
  {
   "cell_type": "code",
   "execution_count": 105,
   "id": "e9adbc2e-373a-4173-9be4-4ce80f59914f",
   "metadata": {
    "id": "IpZX43Gzv0D6"
   },
   "outputs": [
    {
     "name": "stdout",
     "output_type": "stream",
     "text": [
      "[[1282  328]\n",
      " [ 123  267]]\n"
     ]
    }
   ],
   "source": [
    "from sklearn.metrics import confusion_matrix\n",
    "knn_cm = confusion_matrix(y_test, knn_pred)\n",
    "print(knn_cm)"
   ]
  },
  {
   "cell_type": "code",
   "execution_count": 106,
   "id": "c8e31ba3-d9bf-44ac-9368-c5a59d0216d9",
   "metadata": {
    "id": "CkoWBmaVjMGA"
   },
   "outputs": [
    {
     "data": {
      "text/plain": [
       "Text(51.0, 0.5, 'Actual Values')"
      ]
     },
     "execution_count": 106,
     "metadata": {},
     "output_type": "execute_result"
    },
    {
     "data": {
      "image/png": "[encoded data removed]",
      "text/plain": [
       "<Figure size 576x432 with 2 Axes>"
      ]
     },
     "metadata": {
      "needs_background": "light"
     },
     "output_type": "display_data"
    }
   ],
   "source": [
    "import seaborn as sns\n",
    "group_names = ['True Neg','False Pos','False Neg','True Pos']\n",
    "group_counts = ['{0:0.0f}'.format(value) for value in\n",
    "                knn_cm.flatten()]\n",
    "labels = [f\"{v1}\\n{v2}\" for v1, v2 in\n",
    "          zip(group_names,group_counts)]\n",
    "labels = np.asarray(labels).reshape(2,2)\n",
    "plt.figure(figsize=(8,6))\n",
    "cm_plot = sns.heatmap(knn_cm, annot=labels, fmt='', cmap='Blues_r')\n",
    "cm_plot.set_xlabel('Predicted Values')\n",
    "cm_plot.set_ylabel('Actual Values')"
   ]
  },
  {
   "cell_type": "markdown",
   "id": "4e9e21f2-2c6c-4cee-ad64-1220b4656d98",
   "metadata": {
    "id": "S7rvGpDrEpku"
   },
   "source": [
    "## Random Forest Classifier"
   ]
  },
  {
   "cell_type": "code",
   "execution_count": 107,
   "id": "a3f8724a-916c-4a61-b94e-b33e09f08ceb",
   "metadata": {
    "id": "gx0koqVxE9ZE"
   },
   "outputs": [
    {
     "name": "stdout",
     "output_type": "stream",
     "text": [
      "Predicton: [0 0 0 ... 0 0 0]\n"
     ]
    }
   ],
   "source": [
    "from sklearn.ensemble import RandomForestClassifier\n",
    "rf = RandomForestClassifier() #hyper=class_weight='balanced', criterion='entropy',\n",
    "                       # max_depth=40.0, max_features=4, normal=default\n",
    "rf.fit(X_train, y_train)\n",
    "rf_pred = rf.predict(X_test)\n",
    "rf_pred_train = rf.predict(X_train)\n",
    "print('Predicton:', rf_pred)"
   ]
  },
  {
   "cell_type": "code",
   "execution_count": 108,
   "id": "3c065613-01ca-4509-9120-c0ea64fd0e48",
   "metadata": {
    "id": "D2DH3ViAZpFt"
   },
   "outputs": [
    {
     "name": "stdout",
     "output_type": "stream",
     "text": [
      "              precision    recall  f1-score   support\n",
      "\n",
      "           0       0.88      0.94      0.91      1610\n",
      "           1       0.66      0.49      0.56       390\n",
      "\n",
      "    accuracy                           0.85      2000\n",
      "   macro avg       0.77      0.71      0.74      2000\n",
      "weighted avg       0.84      0.85      0.84      2000\n",
      "\n",
      "              precision    recall  f1-score   support\n",
      "\n",
      "           0       1.00      1.00      1.00      6218\n",
      "           1       1.00      1.00      1.00      6218\n",
      "\n",
      "    accuracy                           1.00     12436\n",
      "   macro avg       1.00      1.00      1.00     12436\n",
      "weighted avg       1.00      1.00      1.00     12436\n",
      "\n"
     ]
    }
   ],
   "source": [
    "from sklearn.metrics import classification_report\n",
    "print(classification_report(y_test, rf_pred))#classification report for logistic model prediction\n",
    "print(classification_report(y_train, rf_pred_train))#classification report for logistic model prediction"
   ]
  },
  {
   "cell_type": "code",
   "execution_count": 109,
   "id": "6e33e7d9-4d29-4db1-8225-030b538cbf0f",
   "metadata": {
    "id": "dtytcInp8nve"
   },
   "outputs": [
    {
     "name": "stdout",
     "output_type": "stream",
     "text": [
      "Accuracy Test: 0.85\n",
      "Precision Train: 1.0\n",
      "Precision Test: 0.65\n",
      "Recall Train: 1.0\n",
      "Recall Test: 0.4948717949\n",
      "F1-Score Train: 1.0\n",
      "F1-Score Test: 0.562\n",
      "AUC (Train): 1.0\n",
      "AUC (Test): 0.826\n",
      "roc_auc (crossval train):1.0\n",
      "roc_auc (crossval test):0.9939815009628301\n"
     ]
    }
   ],
   "source": [
    "from sklearn.ensemble import RandomForestClassifier\n",
    "from sklearn.model_selection import RandomizedSearchCV, GridSearchCV\n",
    "from sklearn import metrics\n",
    "\n",
    "rf = RandomForestClassifier()\n",
    "rf.fit(X_train, y_train)\n",
    "eval_classification(rf)"
   ]
  },
  {
   "cell_type": "code",
   "execution_count": 110,
   "id": "bb7db815-3742-408d-817e-43378f68c780",
   "metadata": {
    "id": "VbDGvTUgFZW9"
   },
   "outputs": [
    {
     "name": "stdout",
     "output_type": "stream",
     "text": [
      "[[1514   96]\n",
      " [ 200  190]]\n"
     ]
    }
   ],
   "source": [
    "from sklearn.metrics import confusion_matrix\n",
    "rf_cm = confusion_matrix(y_test, rf_pred)\n",
    "print(rf_cm)"
   ]
  },
  {
   "cell_type": "code",
   "execution_count": 112,
   "id": "ecbb9bee-db00-4f53-8c8e-e07c389da1a7",
   "metadata": {
    "id": "DWL1KsYGFgJh"
   },
   "outputs": [
    {
     "data": {
      "image/png": "[encoded data removed]",
      "text/plain": [
       "<Figure size 288x288 with 2 Axes>"
      ]
     },
     "metadata": {
      "needs_background": "light"
     },
     "output_type": "display_data"
    }
   ],
   "source": [
    "import seaborn as sns\n",
    "group_names = ['True Neg','False Pos','False Neg','True Pos']\n",
    "group_counts = ['{0:0.0f}'.format(value) for value in\n",
    "                rf_cm.flatten()]\n",
    "labels = [f\"{v1}\\n{v2}\" for v1, v2 in\n",
    "          zip(group_names,group_counts)]\n",
    "labels = np.asarray(labels).reshape(2,2)\n",
    "plt.figure(figsize=(4,4))\n",
    "sns.heatmap(rf_cm, annot=labels, fmt='', cmap='Blues')\n",
    "plt.title('Random Forest After Tunning')\n",
    "plt.show()\n",
    "# plt.savefig('Confusion Matrix random forest classifier.png')"
   ]
  },
  {
   "cell_type": "code",
   "execution_count": 113,
   "id": "1f1bd480-4119-4c88-9d36-78fba2f4e8fd",
   "metadata": {},
   "outputs": [
    {
     "name": "stdout",
     "output_type": "stream",
     "text": [
      "Fitting 5 folds for each of 20 candidates, totalling 100 fits\n",
      "[CV 1/5] END ......max_depth=70, max_features=9;, score=0.965 total time=   5.7s\n",
      "[CV 2/5] END ......max_depth=70, max_features=9;, score=0.986 total time=   5.9s\n",
      "[CV 3/5] END ......max_depth=70, max_features=9;, score=1.000 total time=   5.6s\n",
      "[CV 4/5] END ......max_depth=70, max_features=9;, score=1.000 total time=   7.7s\n",
      "[CV 5/5] END ......max_depth=70, max_features=9;, score=1.000 total time=   5.7s\n",
      "[CV 1/5] END ......max_depth=10, max_features=1;, score=0.835 total time=   1.1s\n",
      "[CV 2/5] END ......max_depth=10, max_features=1;, score=0.807 total time=   1.3s\n",
      "[CV 3/5] END ......max_depth=10, max_features=1;, score=0.816 total time=   1.7s\n",
      "[CV 4/5] END ......max_depth=10, max_features=1;, score=0.858 total time=   1.7s\n",
      "[CV 5/5] END ......max_depth=10, max_features=1;, score=0.834 total time=   1.7s\n",
      "[CV 1/5] END .......max_depth=1, max_features=5;, score=0.650 total time=   1.0s\n",
      "[CV 2/5] END .......max_depth=1, max_features=5;, score=0.628 total time=   1.1s\n",
      "[CV 3/5] END .......max_depth=1, max_features=5;, score=0.609 total time=   0.9s\n",
      "[CV 4/5] END .......max_depth=1, max_features=5;, score=0.689 total time=   0.8s\n",
      "[CV 5/5] END .......max_depth=1, max_features=5;, score=0.611 total time=   0.8s\n",
      "[CV 1/5] END ......max_depth=80, max_features=5;, score=0.963 total time=   3.4s\n",
      "[CV 2/5] END ......max_depth=80, max_features=5;, score=0.986 total time=   3.4s\n",
      "[CV 3/5] END ......max_depth=80, max_features=5;, score=1.000 total time=   5.2s\n",
      "[CV 4/5] END ......max_depth=80, max_features=5;, score=1.000 total time=   5.5s\n",
      "[CV 5/5] END ......max_depth=80, max_features=5;, score=1.000 total time=   3.6s\n",
      "[CV 1/5] END ......max_depth=60, max_features=5;, score=0.964 total time=   3.9s\n",
      "[CV 2/5] END ......max_depth=60, max_features=5;, score=0.983 total time=   5.0s\n",
      "[CV 3/5] END ......max_depth=60, max_features=5;, score=1.000 total time=   3.7s\n",
      "[CV 4/5] END ......max_depth=60, max_features=5;, score=1.000 total time=   3.7s\n",
      "[CV 5/5] END ......max_depth=60, max_features=5;, score=1.000 total time=   5.0s\n",
      "[CV 1/5] END ......max_depth=60, max_features=9;, score=0.964 total time=   6.6s\n",
      "[CV 2/5] END ......max_depth=60, max_features=9;, score=0.985 total time=   6.3s\n",
      "[CV 3/5] END ......max_depth=60, max_features=9;, score=1.000 total time=   7.6s\n",
      "[CV 4/5] END ......max_depth=60, max_features=9;, score=1.000 total time=   5.5s\n",
      "[CV 5/5] END ......max_depth=60, max_features=9;, score=1.000 total time=   5.6s\n",
      "[CV 1/5] END ......max_depth=30, max_features=1;, score=0.962 total time=   2.3s\n",
      "[CV 2/5] END ......max_depth=30, max_features=1;, score=0.982 total time=   2.2s\n",
      "[CV 3/5] END ......max_depth=30, max_features=1;, score=1.000 total time=   2.1s\n",
      "[CV 4/5] END ......max_depth=30, max_features=1;, score=1.000 total time=   1.6s\n",
      "[CV 5/5] END ......max_depth=30, max_features=1;, score=1.000 total time=   2.4s\n",
      "[CV 1/5] END ......max_depth=40, max_features=6;, score=0.965 total time=   6.4s\n",
      "[CV 2/5] END ......max_depth=40, max_features=6;, score=0.983 total time=   4.3s\n",
      "[CV 3/5] END ......max_depth=40, max_features=6;, score=1.000 total time=   3.8s\n",
      "[CV 4/5] END ......max_depth=40, max_features=6;, score=1.000 total time=   3.8s\n",
      "[CV 5/5] END ......max_depth=40, max_features=6;, score=1.000 total time=   4.4s\n",
      "[CV 1/5] END ......max_depth=90, max_features=7;, score=0.963 total time=   6.0s\n",
      "[CV 2/5] END ......max_depth=90, max_features=7;, score=0.983 total time=   4.9s\n",
      "[CV 3/5] END ......max_depth=90, max_features=7;, score=1.000 total time=   7.4s\n",
      "[CV 4/5] END ......max_depth=90, max_features=7;, score=1.000 total time=   5.1s\n",
      "[CV 5/5] END ......max_depth=90, max_features=7;, score=1.000 total time=   5.9s\n",
      "[CV 1/5] END ......max_depth=10, max_features=2;, score=0.831 total time=   2.2s\n",
      "[CV 2/5] END ......max_depth=10, max_features=2;, score=0.811 total time=   2.1s\n",
      "[CV 3/5] END ......max_depth=10, max_features=2;, score=0.834 total time=   1.9s\n",
      "[CV 4/5] END ......max_depth=10, max_features=2;, score=0.862 total time=   1.5s\n",
      "[CV 5/5] END ......max_depth=10, max_features=2;, score=0.834 total time=   1.5s\n",
      "[CV 1/5] END .......max_depth=70, max_features=10;, score=nan total time=   0.0s\n",
      "[CV 2/5] END .......max_depth=70, max_features=10;, score=nan total time=   0.0s\n",
      "[CV 3/5] END .......max_depth=70, max_features=10;, score=nan total time=   0.0s\n",
      "[CV 4/5] END .......max_depth=70, max_features=10;, score=nan total time=   0.0s\n",
      "[CV 5/5] END .......max_depth=70, max_features=10;, score=nan total time=   0.0s\n",
      "[CV 1/5] END ......max_depth=80, max_features=1;, score=0.962 total time=   2.1s\n",
      "[CV 2/5] END ......max_depth=80, max_features=1;, score=0.985 total time=   2.3s\n",
      "[CV 3/5] END ......max_depth=80, max_features=1;, score=0.998 total time=   2.3s\n",
      "[CV 4/5] END ......max_depth=80, max_features=1;, score=1.000 total time=   2.3s\n",
      "[CV 5/5] END ......max_depth=80, max_features=1;, score=1.000 total time=   1.7s\n",
      "[CV 1/5] END .......max_depth=1, max_features=1;, score=0.714 total time=   0.5s\n",
      "[CV 2/5] END .......max_depth=1, max_features=1;, score=0.706 total time=   0.5s\n",
      "[CV 3/5] END .......max_depth=1, max_features=1;, score=0.648 total time=   0.5s\n",
      "[CV 4/5] END .......max_depth=1, max_features=1;, score=0.681 total time=   0.5s\n",
      "[CV 5/5] END .......max_depth=1, max_features=1;, score=0.658 total time=   0.5s\n",
      "[CV 1/5] END ......max_depth=80, max_features=2;, score=0.963 total time=   1.9s\n",
      "[CV 2/5] END ......max_depth=80, max_features=2;, score=0.987 total time=   2.2s\n",
      "[CV 3/5] END ......max_depth=80, max_features=2;, score=1.000 total time=   3.0s\n",
      "[CV 4/5] END ......max_depth=80, max_features=2;, score=1.000 total time=   2.8s\n",
      "[CV 5/5] END ......max_depth=80, max_features=2;, score=1.000 total time=   2.6s\n",
      "[CV 1/5] END ......max_depth=10, max_features=9;, score=0.873 total time=   4.7s\n",
      "[CV 2/5] END ......max_depth=10, max_features=9;, score=0.877 total time=   6.2s\n",
      "[CV 3/5] END ......max_depth=10, max_features=9;, score=0.890 total time=   5.0s\n",
      "[CV 4/5] END ......max_depth=10, max_features=9;, score=0.905 total time=   4.3s\n",
      "[CV 5/5] END ......max_depth=10, max_features=9;, score=0.913 total time=   5.9s\n",
      "[CV 1/5] END ......max_depth=70, max_features=1;, score=0.960 total time=   2.3s\n",
      "[CV 2/5] END ......max_depth=70, max_features=1;, score=0.982 total time=   2.0s\n",
      "[CV 3/5] END ......max_depth=70, max_features=1;, score=1.000 total time=   1.8s\n",
      "[CV 4/5] END ......max_depth=70, max_features=1;, score=1.000 total time=   1.6s\n",
      "[CV 5/5] END ......max_depth=70, max_features=1;, score=1.000 total time=   2.1s\n",
      "[CV 1/5] END ......max_depth=50, max_features=7;, score=0.963 total time=   5.7s\n",
      "[CV 2/5] END ......max_depth=50, max_features=7;, score=0.983 total time=   4.6s\n",
      "[CV 3/5] END ......max_depth=50, max_features=7;, score=1.000 total time=   5.6s\n",
      "[CV 4/5] END ......max_depth=50, max_features=7;, score=1.000 total time=   6.2s\n",
      "[CV 5/5] END ......max_depth=50, max_features=7;, score=1.000 total time=   6.3s\n",
      "[CV 1/5] END ......max_depth=70, max_features=3;, score=0.961 total time=   3.2s\n",
      "[CV 2/5] END ......max_depth=70, max_features=3;, score=0.982 total time=   3.1s\n",
      "[CV 3/5] END ......max_depth=70, max_features=3;, score=1.000 total time=   2.7s\n",
      "[CV 4/5] END ......max_depth=70, max_features=3;, score=1.000 total time=   2.6s\n",
      "[CV 5/5] END ......max_depth=70, max_features=3;, score=1.000 total time=   3.0s\n",
      "[CV 1/5] END .....max_depth=100, max_features=9;, score=0.961 total time=   6.9s\n",
      "[CV 2/5] END .....max_depth=100, max_features=9;, score=0.986 total time=   5.7s\n",
      "[CV 3/5] END .....max_depth=100, max_features=9;, score=1.000 total time=   7.2s\n",
      "[CV 4/5] END .....max_depth=100, max_features=9;, score=1.000 total time=   5.8s\n",
      "[CV 5/5] END .....max_depth=100, max_features=9;, score=1.000 total time=   5.9s\n",
      "[CV 1/5] END ......max_depth=40, max_features=3;, score=0.965 total time=   3.3s\n",
      "[CV 2/5] END ......max_depth=40, max_features=3;, score=0.986 total time=   3.0s\n",
      "[CV 3/5] END ......max_depth=40, max_features=3;, score=1.000 total time=   3.0s\n",
      "[CV 4/5] END ......max_depth=40, max_features=3;, score=1.000 total time=   3.3s\n",
      "[CV 5/5] END ......max_depth=40, max_features=3;, score=1.000 total time=   2.7s\n"
     ]
    },
    {
     "data": {
      "text/plain": [
       "RandomizedSearchCV(cv=5, estimator=RandomForestClassifier(), n_iter=20,\n",
       "                   param_distributions={'max_depth': [1, 10, 20, 30, 40, 50, 60,\n",
       "                                                      70, 80, 90, 100],\n",
       "                                        'max_features': [1, 2, 3, 4, 5, 6, 7, 8,\n",
       "                                                         9, 10]},\n",
       "                   random_state=42, scoring='recall', verbose=3)"
      ]
     },
     "execution_count": 113,
     "metadata": {},
     "output_type": "execute_result"
    }
   ],
   "source": [
    "from sklearn.model_selection import RandomizedSearchCV\n",
    "from xgboost import XGBClassifier\n",
    "# defining parameter range\n",
    "param_grid = {'max_depth': [int(x) for x in np.linspace(1.0,100.0, 11)],\n",
    "             'max_features':[int(x) for x in np.linspace(1,10,10)]}\n",
    "  \n",
    "random = RandomizedSearchCV(RandomForestClassifier(), param_grid, refit = True, verbose = 3, scoring='recall', \n",
    "                            cv=5,n_iter=20, random_state=42)\n",
    "# random = RandomizedSearchCV(XGBClassifier(), param_grid, scoring='recall',\n",
    "                            # random_state=42, n_iter=10, cv=5, verbose=1, n_jobs=1, return_train_score=True)\n",
    " \n",
    "# fitting the model for grid search\n",
    "random.fit(X_train, y_train)"
   ]
  },
  {
   "cell_type": "code",
   "execution_count": 114,
   "id": "011a523d-79dc-4094-ba2d-78f3149aff11",
   "metadata": {},
   "outputs": [
    {
     "name": "stdout",
     "output_type": "stream",
     "text": [
      "RandomForestClassifier(max_depth=40, max_features=3) {'max_depth': [1, 10, 20, 30, 40, 50, 60, 70, 80, 90, 100], 'max_features': [1, 2, 3, 4, 5, 6, 7, 8, 9, 10]}\n"
     ]
    }
   ],
   "source": [
    "print(random.best_estimator_, param_grid)"
   ]
  },
  {
   "cell_type": "code",
   "execution_count": 115,
   "id": "9f8b4c72-1c43-4490-9698-e0b7a1121235",
   "metadata": {
    "colab": {
     "base_uri": "https://localhost:8080/"
    },
    "id": "OdcMB8hTFyyw",
    "outputId": "f90ae819-5dfd-4578-8730-5dc1486bd832"
   },
   "outputs": [
    {
     "name": "stdout",
     "output_type": "stream",
     "text": [
      "{'max_features': 3, 'max_depth': 40}\n",
      "RandomForestClassifier(max_depth=40, max_features=3)\n"
     ]
    }
   ],
   "source": [
    "# print best parameter after tuning\n",
    "print(random.best_params_)\n",
    "  \n",
    "# print how our model looks after hyper-parameter tuning\n",
    "print(random.best_estimator_)"
   ]
  },
  {
   "cell_type": "code",
   "execution_count": 116,
   "id": "19b3ddc9-d5f3-4b0e-b9ab-19f5d9dfcb41",
   "metadata": {
    "id": "oOg3LPteFo2o"
   },
   "outputs": [
    {
     "name": "stdout",
     "output_type": "stream",
     "text": [
      "Accuracy Test: 0.85\n",
      "Precision Train: 1.0\n",
      "Precision Test: 0.655\n",
      "Recall Train: 1.0\n",
      "Recall Test: 0.4871794872\n",
      "F1-Score Train: 1.0\n",
      "F1-Score Test: 0.559\n",
      "AUC (Train): 1.0\n",
      "AUC (Test): 0.832\n",
      "roc_auc (crossval train):1.0\n",
      "roc_auc (crossval test):0.9942503712210096\n"
     ]
    }
   ],
   "source": [
    "from sklearn.ensemble import RandomForestClassifier\n",
    "from sklearn.model_selection import RandomizedSearchCV, GridSearchCV\n",
    "from sklearn import metrics\n",
    "rf = RandomForestClassifier(class_weight='balanced', criterion='entropy',\n",
    "                       max_depth=40, max_features=3)\n",
    "rf.fit(X_train, y_train)\n",
    "rf_pred = rf.predict(X_test)\n",
    "rf_pred_train = rf.predict(X_train)\n",
    "eval_classification(rf)"
   ]
  },
  {
   "cell_type": "code",
   "execution_count": 118,
   "id": "dc7e7e94-106e-4491-b191-73c1bc913dbc",
   "metadata": {
    "id": "Z26GmUXTZpFv"
   },
   "outputs": [
    {
     "name": "stdout",
     "output_type": "stream",
     "text": [
      "              precision    recall  f1-score   support\n",
      "\n",
      "           0       0.91      0.84      0.87      1610\n",
      "           1       0.50      0.67      0.58       390\n",
      "\n",
      "    accuracy                           0.81      2000\n",
      "   macro avg       0.71      0.76      0.72      2000\n",
      "weighted avg       0.83      0.81      0.82      2000\n",
      "\n",
      "              precision    recall  f1-score   support\n",
      "\n",
      "           0       0.77      0.84      0.80      6218\n",
      "           1       0.82      0.75      0.78      6218\n",
      "\n",
      "    accuracy                           0.79     12436\n",
      "   macro avg       0.80      0.79      0.79     12436\n",
      "weighted avg       0.80      0.79      0.79     12436\n",
      "\n"
     ]
    }
   ],
   "source": [
    "from sklearn.metrics import classification_report\n",
    "print(classification_report(y_test, clf_pred))#classification report for logistic model prediction\n",
    "print(classification_report(y_train, clf_pred_train))#classification report for logistic model prediction"
   ]
  },
  {
   "cell_type": "code",
   "execution_count": 119,
   "id": "776ca042-8f8e-45eb-a494-f29876374130",
   "metadata": {
    "id": "jyXrkbSeGWnW"
   },
   "outputs": [
    {
     "name": "stdout",
     "output_type": "stream",
     "text": [
      "[[1510  100]\n",
      " [ 200  190]]\n"
     ]
    }
   ],
   "source": [
    "from sklearn.metrics import confusion_matrix\n",
    "rf_cm = confusion_matrix(y_test, rf_pred)\n",
    "print(rf_cm)"
   ]
  },
  {
   "cell_type": "code",
   "execution_count": 120,
   "id": "cd3d2d47-fe5b-497d-a61a-028d504ad148",
   "metadata": {
    "id": "dEOgQSNiGQGk"
   },
   "outputs": [
    {
     "data": {
      "image/png": "[encoded data removed]",
      "text/plain": [
       "<Figure size 288x288 with 2 Axes>"
      ]
     },
     "metadata": {
      "needs_background": "light"
     },
     "output_type": "display_data"
    }
   ],
   "source": [
    "import seaborn as sns\n",
    "group_names = ['True Neg','False Pos','False Neg','True Pos']\n",
    "group_counts = ['{0:0.0f}'.format(value) for value in\n",
    "                rf_cm.flatten()]\n",
    "labels = [f\"{v1}\\n{v2}\" for v1, v2 in\n",
    "          zip(group_names,group_counts)]\n",
    "labels = np.asarray(labels).reshape(2,2)\n",
    "plt.figure(figsize=(4,4))\n",
    "sns.heatmap(rf_cm, annot=labels, fmt='', cmap='Blues')\n",
    "plt.title('Confusion Matrix random forest classifier Tunning')\n",
    "# plt.savefig('Confusion Matrix random forest classifier.png')\n",
    "plt.show()"
   ]
  },
  {
   "cell_type": "markdown",
   "id": "57888b42-38bb-4412-82e5-fec57ab7a16a",
   "metadata": {
    "id": "beOtI4h2YAUx"
   },
   "source": [
    "## Naive Bayes"
   ]
  },
  {
   "cell_type": "code",
   "execution_count": 121,
   "id": "64180c6f-07ed-4f9f-8416-a72e00b2224a",
   "metadata": {
    "colab": {
     "base_uri": "https://localhost:8080/"
    },
    "id": "o6jm03UoImVJ",
    "outputId": "922e6b0f-febc-4a3a-ab9e-7f2367b22ec1"
   },
   "outputs": [
    {
     "name": "stdout",
     "output_type": "stream",
     "text": [
      "[0 0 0 ... 0 1 0]\n",
      "Accuracy Test: 0.719\n",
      "Precision Train: 0.732\n",
      "Precision Test: 0.383\n",
      "Recall Train: 0.7349630106\n",
      "Recall Test: 0.7230769231\n",
      "F1-Score Train: 0.733\n",
      "F1-Score Test: 0.501\n",
      "AUC (Train): 0.808\n",
      "AUC (Test): 0.79\n",
      "roc_auc (crossval train):0.8085456800918358\n",
      "roc_auc (crossval test):0.8077982893760585\n"
     ]
    }
   ],
   "source": [
    "from sklearn.datasets import load_iris\n",
    "from sklearn.naive_bayes import GaussianNB\n",
    "gnb = GaussianNB()\n",
    "nb_pred = gnb.fit(X_train, y_train).predict(X_test)\n",
    "nb_pred_train = gnb.fit(X_train, y_train).predict(X_train)\n",
    "\n",
    "print(nb_pred)\n",
    "eval_classification(gnb)"
   ]
  },
  {
   "cell_type": "code",
   "execution_count": 122,
   "id": "99c731cf-ead2-4b32-96da-2e3ef9de3a6e",
   "metadata": {
    "colab": {
     "base_uri": "https://localhost:8080/"
    },
    "id": "_SlwllFjZpFz",
    "outputId": "cfbf7157-6a95-469d-c38c-d3f83b4c4835"
   },
   "outputs": [
    {
     "name": "stdout",
     "output_type": "stream",
     "text": [
      "              precision    recall  f1-score   support\n",
      "\n",
      "           0       0.91      0.72      0.80      1610\n",
      "           1       0.38      0.72      0.50       390\n",
      "\n",
      "    accuracy                           0.72      2000\n",
      "   macro avg       0.65      0.72      0.65      2000\n",
      "weighted avg       0.81      0.72      0.75      2000\n",
      "\n",
      "              precision    recall  f1-score   support\n",
      "\n",
      "           0       0.73      0.73      0.73      6218\n",
      "           1       0.73      0.73      0.73      6218\n",
      "\n",
      "    accuracy                           0.73     12436\n",
      "   macro avg       0.73      0.73      0.73     12436\n",
      "weighted avg       0.73      0.73      0.73     12436\n",
      "\n"
     ]
    }
   ],
   "source": [
    "from sklearn.metrics import classification_report\n",
    "print(classification_report(y_test, nb_pred))#classification report for logistic model prediction\n",
    "print(classification_report(y_train, nb_pred_train))#classification report for logistic model prediction"
   ]
  },
  {
   "cell_type": "code",
   "execution_count": 124,
   "id": "ee794bba-ea9f-49e4-9372-03b6e996e03f",
   "metadata": {
    "colab": {
     "base_uri": "https://localhost:8080/"
    },
    "id": "xCLO7bDYYUWT",
    "outputId": "68a686f1-b3e1-470a-8f27-5a31d5d8f66b"
   },
   "outputs": [
    {
     "name": "stdout",
     "output_type": "stream",
     "text": [
      "[[1156  454]\n",
      " [ 108  282]]\n"
     ]
    }
   ],
   "source": [
    "from sklearn.metrics import confusion_matrix\n",
    "nb_cm = confusion_matrix(y_test, nb_pred)\n",
    "print(nb_cm)"
   ]
  },
  {
   "cell_type": "code",
   "execution_count": 125,
   "id": "ef4bb21a-1b27-4177-b2f9-45f60f2642d9",
   "metadata": {
    "colab": {
     "base_uri": "https://localhost:8080/",
     "height": 394
    },
    "id": "zKWhnUZ2YdrQ",
    "outputId": "b30f5183-8648-4c89-bb36-3798f4132f79"
   },
   "outputs": [
    {
     "data": {
      "image/png": "[encoded data removed]",
      "text/plain": [
       "<Figure size 576x432 with 2 Axes>"
      ]
     },
     "metadata": {
      "needs_background": "light"
     },
     "output_type": "display_data"
    }
   ],
   "source": [
    "# Confusion Matrix\n",
    "\n",
    "import seaborn as sns\n",
    "group_names = ['True Neg','False Pos','False Neg','True Pos']\n",
    "group_counts = ['{0:0.0f}'.format(value) for value in\n",
    "                nb_cm.flatten()]\n",
    "labels = [f\"{v1}\\n{v2}\" for v1, v2 in\n",
    "          zip(group_names,group_counts)]\n",
    "labels = np.asarray(labels).reshape(2,2)\n",
    "plt.figure(figsize=(8,6))\n",
    "sns.heatmap(nb_cm, annot=labels, fmt='', cmap='Blues', annot_kws={\"size\": 13})\n",
    "plt.title(\"Naive Bayes\")\n",
    "plt.show()"
   ]
  },
  {
   "cell_type": "code",
   "execution_count": 126,
   "id": "1f5aa6f3-82d7-443b-ad3e-8dd3d407127f",
   "metadata": {
    "colab": {
     "base_uri": "https://localhost:8080/"
    },
    "id": "CwqYmCa3eGrg",
    "outputId": "29f7e675-024f-4014-b13b-9a3af58a7a7c"
   },
   "outputs": [
    {
     "name": "stdout",
     "output_type": "stream",
     "text": [
      "Fitting 10 folds for each of 20 candidates, totalling 200 fits\n"
     ]
    },
    {
     "data": {
      "text/plain": [
       "RandomizedSearchCV(cv=10, estimator=GaussianNB(), n_iter=20, n_jobs=-1,\n",
       "                   param_distributions={'var_smoothing': array([1.00230524e+000, 1.02586664e+001, 1.04998191e+002, 1.07466407e+003,\n",
       "       1.09992643e+004, 1.12578263e+005, 1.15224665e+006, 1.17933276e+007,\n",
       "       1.20705559e+008, 1.23543011e+009, 1.26447163e+010, 1.29419584e+011,\n",
       "       1.32461878e+012, 1.35575688e+013, 1.38762695e+01...\n",
       "       6.43091438e+080, 6.58208727e+081, 6.73681382e+082, 6.89517756e+083,\n",
       "       7.05726400e+084, 7.22316063e+085, 7.39295703e+086, 7.56674487e+087,\n",
       "       7.74461798e+088, 7.92667239e+089, 8.11300639e+090, 8.30372059e+091,\n",
       "       8.49891795e+092, 8.69870385e+093, 8.90318617e+094, 9.11247529e+095,\n",
       "       9.32668422e+096, 9.54592860e+097, 9.77032681e+098, 1.00000000e+100])},\n",
       "                   random_state=42, scoring='recall', verbose=3)"
      ]
     },
     "execution_count": 126,
     "metadata": {},
     "output_type": "execute_result"
    }
   ],
   "source": [
    "# Hyperparameter tuning\n",
    "\n",
    "from sklearn.model_selection import RandomizedSearchCV, GridSearchCV\n",
    "import numpy as np\n",
    "from sklearn.model_selection import RepeatedStratifiedKFold\n",
    "from sklearn.datasets import load_iris\n",
    "from sklearn.naive_bayes import GaussianNB\n",
    "from sklearn.preprocessing import PowerTransformer\n",
    "\n",
    "param_grid = { 'var_smoothing': np.logspace(0.001,100, num=100)}\n",
    "\n",
    "random_search = RandomizedSearchCV(GaussianNB(), param_grid, scoring='recall', cv= 10, n_jobs=-1, \n",
    "                                   refit = True, verbose = 3,n_iter=20, random_state=42) \n",
    "random_search.fit(X_train, y_train)\n",
    "# eval_classification(random_search)"
   ]
  },
  {
   "cell_type": "code",
   "execution_count": 127,
   "id": "a7b8b80b-af89-4cd2-9de8-86cc59616a00",
   "metadata": {},
   "outputs": [
    {
     "name": "stdout",
     "output_type": "stream",
     "text": [
      "{'var_smoothing': 1.0023052380778996}\n",
      "GaussianNB(var_smoothing=1.0023052380778996)\n"
     ]
    }
   ],
   "source": [
    "# print best parameter after tuning\n",
    "print(random_search.best_params_)\n",
    "  \n",
    "# print how our model looks after hyper-parameter tuning\n",
    "print(random_search.best_estimator_)"
   ]
  },
  {
   "cell_type": "code",
   "execution_count": 128,
   "id": "5ac4e28e-4000-4a66-8b3e-d7166063c21b",
   "metadata": {},
   "outputs": [
    {
     "name": "stdout",
     "output_type": "stream",
     "text": [
      "[0 0 0 ... 0 1 0]\n",
      "Accuracy Test: 0.718\n",
      "Precision Train: 0.73\n",
      "Precision Test: 0.375\n",
      "Recall Train: 0.7055323255\n",
      "Recall Test: 0.6717948718\n",
      "F1-Score Train: 0.718\n",
      "F1-Score Test: 0.482\n",
      "AUC (Train): 0.779\n",
      "AUC (Test): 0.75\n",
      "roc_auc (crossval train):0.778920149684921\n",
      "roc_auc (crossval test):0.7786290964224566\n"
     ]
    }
   ],
   "source": [
    "from sklearn.datasets import load_iris\n",
    "from sklearn.naive_bayes import GaussianNB\n",
    "gnb = GaussianNB(var_smoothing=1.0023052380778996)\n",
    "nb_pred = gnb.fit(X_train, y_train).predict(X_test)\n",
    "nb_pred_train = gnb.fit(X_train, y_train).predict(X_train)\n",
    "\n",
    "print(nb_pred)\n",
    "eval_classification(gnb)"
   ]
  },
  {
   "cell_type": "code",
   "execution_count": 129,
   "id": "542d0594-7903-420d-9c94-0bab8d7c6822",
   "metadata": {},
   "outputs": [
    {
     "name": "stdout",
     "output_type": "stream",
     "text": [
      "[[1174  436]\n",
      " [ 128  262]]\n"
     ]
    }
   ],
   "source": [
    "from sklearn.metrics import confusion_matrix\n",
    "nb_cm = confusion_matrix(y_test, nb_pred)\n",
    "print(nb_cm)"
   ]
  },
  {
   "cell_type": "code",
   "execution_count": 130,
   "id": "d8f1d5d3-8c35-44bb-9aa6-a9b797977ad4",
   "metadata": {
    "colab": {
     "base_uri": "https://localhost:8080/",
     "height": 394
    },
    "id": "zKWhnUZ2YdrQ",
    "outputId": "b30f5183-8648-4c89-bb36-3798f4132f79"
   },
   "outputs": [
    {
     "data": {
      "image/png": "[encoded data removed]",
      "text/plain": [
       "<Figure size 576x432 with 2 Axes>"
      ]
     },
     "metadata": {
      "needs_background": "light"
     },
     "output_type": "display_data"
    }
   ],
   "source": [
    "# Confusion Matrix\n",
    "\n",
    "import seaborn as sns\n",
    "group_names = ['True Neg','False Pos','False Neg','True Pos']\n",
    "group_counts = ['{0:0.0f}'.format(value) for value in\n",
    "                nb_cm.flatten()]\n",
    "labels = [f\"{v1}\\n{v2}\" for v1, v2 in\n",
    "          zip(group_names,group_counts)]\n",
    "labels = np.asarray(labels).reshape(2,2)\n",
    "plt.figure(figsize=(8,6))\n",
    "sns.heatmap(nb_cm, annot=labels, fmt='', cmap='Blues', annot_kws={\"size\": 13})\n",
    "plt.title(\"Naive Bayes\")\n",
    "plt.show()"
   ]
  },
  {
   "cell_type": "code",
   "execution_count": 132,
   "id": "99dfcf44-fdf3-46f2-975a-6c21fa87a31c",
   "metadata": {},
   "outputs": [
    {
     "name": "stdout",
     "output_type": "stream",
     "text": [
      "[ 0.0032  0.0691 -0.0014  0.0103  0.0292  0.0012  0.0067 -0.0003  0.0026]\n"
     ]
    }
   ],
   "source": [
    "from sklearn.inspection import permutation_importance\n",
    "from sklearn.naive_bayes import GaussianNB\n",
    "from sklearn.model_selection import train_test_split\n",
    "\n",
    "gaussian_nb = GaussianNB()\n",
    "gaussian_nb.fit(X_train, y_train)\n",
    "\n",
    "imps = permutation_importance(gaussian_nb, X_test, y_test)\n",
    "print(imps.importances_mean)"
   ]
  },
  {
   "cell_type": "code",
   "execution_count": 133,
   "id": "a15100d1-20a8-4772-9ba5-469108d61a89",
   "metadata": {
    "id": "9HpvZv7haw5o"
   },
   "outputs": [
    {
     "data": {
      "text/plain": [
       "Index(['credit_score', 'age', 'tenure', 'balance', 'products_number',\n",
       "       'credit_card', 'active_member', 'estimated_salary', 'country'],\n",
       "      dtype='object')"
      ]
     },
     "execution_count": 133,
     "metadata": {},
     "output_type": "execute_result"
    }
   ],
   "source": [
    "features=X_train.columns\n",
    "features\n"
   ]
  },
  {
   "cell_type": "code",
   "execution_count": 134,
   "id": "c394a1d4-dbc9-4028-bb76-ce919b8d9129",
   "metadata": {
    "id": "p_wfxYUrbrcK"
   },
   "outputs": [],
   "source": [
    "\n",
    "df3 = pd.DataFrame(data=imps.importances_mean, index=features).reset_index(drop=False)\n",
    "df3.columns=['Feature','Score']\n",
    "df3 = df3.sort_values('Score',ascending=False)"
   ]
  },
  {
   "cell_type": "code",
   "execution_count": 139,
   "id": "2e1e571f-5871-4b84-bbe1-f77d33f3819b",
   "metadata": {},
   "outputs": [
    {
     "data": {
      "image/png": "[encoded data removed]",
      "text/plain": [
       "<Figure size 576x432 with 1 Axes>"
      ]
     },
     "metadata": {
      "needs_background": "light"
     },
     "output_type": "display_data"
    }
   ],
   "source": [
    "import matplotlib.patches as mpatches\n",
    "plt.figure(figsize=(8, 6))\n",
    "ax=sns.barplot(x=df3['Score'], y=df3['Feature'],edgecolor='black', palette = \"coolwarm\")\n",
    "plt.xticks(fontsize=12)\n",
    "plt.yticks(fontsize=12)\n",
    "# plt.ylim(7.5, -0.5)\n",
    "plt.xlim(-0.01,0.07)\n",
    "plt.title('Feature Importance Naive Bayes',fontsize=24, fontweight='bold', fontname=\"serif\")\n",
    "\n",
    "# left, bottom, width, height = (0,-0.5, 7.55 , 4.1)\n",
    "# rect = mpatches.Rectangle((left,bottom),width,height, fill=True, \n",
    "#                           alpha=0.2, facecolor='red', edgecolor='black', linewidth=12)\n",
    "# plt.gca().add_patch(rect)\n",
    "for label in ax.containers:\n",
    "    ax.bar_label(label, fontweight='bold')\n",
    "# plt.text(4.0, 2.05, 'These feature can be\\n an opportunity to\\n increase our business!', fontsize=13, fontstyle='italic',\n",
    "#         color='green', fontweight='bold')\n",
    "plt.xlabel('Score',fontsize=14,fontweight='bold')\n",
    "plt.ylabel('Feature',fontsize=14, fontweight='bold')\n",
    "ax.xaxis.label.set_size(14)\n",
    "ax.yaxis.label.set_size(14)\n",
    "# plt.savefig('Feature Importance Xgboost.png', dpi=300, bbox_inches = \"tight\")\n",
    "plt.show()"
   ]
  },
  {
   "cell_type": "code",
   "execution_count": null,
   "id": "39c0b117-bc14-45b4-aea1-e2768ffcccfc",
   "metadata": {},
   "outputs": [],
   "source": []
  }
 ],
 "metadata": {
  "kernelspec": {
   "display_name": "Python 3 (ipykernel)",
   "language": "python",
   "name": "python3"
  },
  "language_info": {
   "codemirror_mode": {
    "name": "ipython",
    "version": 3
   },
   "file_extension": ".py",
   "mimetype": "text/x-python",
   "name": "python",
   "nbconvert_exporter": "python",
   "pygments_lexer": "ipython3",
   "version": "3.9.12"
  }
 },
 "nbformat": 4,
 "nbformat_minor": 5
}
